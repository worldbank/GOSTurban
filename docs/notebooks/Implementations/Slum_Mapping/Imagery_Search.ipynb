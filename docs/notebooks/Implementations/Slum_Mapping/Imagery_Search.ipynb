{
 "cells": [
  {
   "cell_type": "code",
   "execution_count": 11,
   "metadata": {},
   "outputs": [],
   "source": [
    "import sys\n",
    "import os\n",
    "\n",
    "import geopandas as gpd\n",
    "\n",
    "\n",
    "sys.path.insert(0, \"/home/wb411133/Code/gostrocks/src\")"
   ]
  },
  {
   "cell_type": "code",
   "execution_count": 12,
   "metadata": {},
   "outputs": [],
   "source": [
    "input_folder = \"/home/wb411133/projects/URB_slum_mapping/data/\"\n",
    "boundary_folder = os.path.join(input_folder, \"boundary\")\n",
    "wb_footprints = os.path.join(input_folder, \"WB_outlines_footgeo.geojson\")\n",
    "\n",
    "in_shps = []\n",
    "for root, folder, files in os.walk(boundary_folder):\n",
    "    for f in files:\n",
    "        if f.endswith(\".shp\"):\n",
    "            in_shps.append(os.path.join(root, f))\n",
    "in_wb = gpd.read_file(wb_footprints)\n",
    "in_wb[\"geometry\"] = in_wb[\"geometry\"].apply(lambda x: x.buffer(0))"
   ]
  },
  {
   "cell_type": "code",
   "execution_count": 16,
   "metadata": {},
   "outputs": [
    {
     "data": {
      "text/plain": [
       "['/home/wb411133/projects/URB_slum_mapping/data/boundary/Ahmedabad/Ahmedabad.shp',\n",
       " '/home/wb411133/projects/URB_slum_mapping/data/boundary/Bobo/combined_wards.shp',\n",
       " '/home/wb411133/projects/URB_slum_mapping/data/boundary/Cape Town/capetw.shp',\n",
       " '/home/wb411133/projects/URB_slum_mapping/data/boundary/Durban/Durban1.shp',\n",
       " '/home/wb411133/projects/URB_slum_mapping/data/boundary/Freetown/Sequencing_Maps_APP.shp',\n",
       " '/home/wb411133/projects/URB_slum_mapping/data/boundary/KAYA/combined_wards.shp',\n",
       " '/home/wb411133/projects/URB_slum_mapping/data/boundary/kigali/Kigali.shp',\n",
       " '/home/wb411133/projects/URB_slum_mapping/data/boundary/Lagos_state/lagos.shp',\n",
       " '/home/wb411133/projects/URB_slum_mapping/data/boundary/Lusaka/Lusaka.shp',\n",
       " '/home/wb411133/projects/URB_slum_mapping/data/boundary/Ouagadougou/combined_wards.shp',\n",
       " '/home/wb411133/projects/URB_slum_mapping/data/boundary/PCMC/combined_wards.shp',\n",
       " '/home/wb411133/projects/URB_slum_mapping/data/boundary/monrovia/greater_monrovia.shp',\n",
       " '/home/wb411133/projects/URB_slum_mapping/data/boundary/Burkina_Faso/banfora/Banfora.shp',\n",
       " '/home/wb411133/projects/URB_slum_mapping/data/boundary/Burkina_Faso/Bobo/combined_wards.shp',\n",
       " '/home/wb411133/projects/URB_slum_mapping/data/boundary/Burkina_Faso/dedougou/dedougou.shp',\n",
       " '/home/wb411133/projects/URB_slum_mapping/data/boundary/Burkina_Faso/fada/fada.shp',\n",
       " '/home/wb411133/projects/URB_slum_mapping/data/boundary/Burkina_Faso/gaoua/gaoua.shp',\n",
       " '/home/wb411133/projects/URB_slum_mapping/data/boundary/Burkina_Faso/KAYA/combined_wards.shp',\n",
       " '/home/wb411133/projects/URB_slum_mapping/data/boundary/Burkina_Faso/manga/manga.shp',\n",
       " '/home/wb411133/projects/URB_slum_mapping/data/boundary/Burkina_Faso/ohahigouya/ohahigouya.shp',\n",
       " '/home/wb411133/projects/URB_slum_mapping/data/boundary/Burkina_Faso/Ouagadougou/combined_wards.shp',\n",
       " '/home/wb411133/projects/URB_slum_mapping/data/boundary/Burkina_Faso/tenkodogo/tenkodogo.shp',\n",
       " '/home/wb411133/projects/URB_slum_mapping/data/boundary/Mumbai/MS/combined_wards.shp',\n",
       " '/home/wb411133/projects/URB_slum_mapping/data/boundary/Mumbai/MD/combined_wards.shp',\n",
       " '/home/wb411133/projects/URB_slum_mapping/data/boundary/delhi_combined_shapefile/delhi_combined_shapefile.shp']"
      ]
     },
     "execution_count": 16,
     "metadata": {},
     "output_type": "execute_result"
    }
   ],
   "source": [
    "in_shps"
   ]
  },
  {
   "cell_type": "code",
   "execution_count": 13,
   "metadata": {},
   "outputs": [],
   "source": [
    "good_res = {}\n",
    "for cur_shp in in_shps:\n",
    "    inD = gpd.read_file(cur_shp)\n",
    "    if inD.crs != in_wb.crs:\n",
    "        inD = inD.to_crs(in_wb.crs)\n",
    "    if in_wb.unary_union.intersects(inD.unary_union):\n",
    "        sel_wb = in_wb.loc[in_wb.intersects(inD.unary_union)]\n",
    "        good_res[cur_shp] = sel_wb.copy()"
   ]
  },
  {
   "cell_type": "code",
   "execution_count": 14,
   "metadata": {
    "scrolled": true
   },
   "outputs": [
    {
     "name": "stdout",
     "output_type": "stream",
     "text": [
      "I:/wbimgrepository/IND/20050903/IND_ts5e5w5f3cck_1_0.6_20050903.zip\n",
      "I:/wbimgrepository/IND/20050903/IND_ts5e4cdfen4f_4_2.4_20050903.zip\n",
      "I:/wbimgrepository/IND/20150914/IND_ts5ek8735vr0_1_0.5_20150914.zip\n",
      "I:/wbimgrepository/IND/20190403/IND_ts5e4cdfeprj_1_0.5_20190403.zip\n",
      "I:/wbimgrepository/IND/20150327/IND_ts5e4cdfeprj_4_2.0_20150327.zip\n",
      "I:/wbimgrepository/IND/20051004/IND_ts5ek873hjq3_1_0.6_20051004.zip\n",
      "I:/wbimgrepository/IND/20150905/IND_ts5e5w5f3fs6_1_0.5_20150905.zip\n",
      "I:/wbimgrepository/IND/20150914/IND_ts5eh04q1hkj_4_2.0_20150914.zip\n",
      "I:/wbimgrepository/IND/20190403/IND_ts5e5w5f3fs6_1_0.5_20190403.zip\n",
      "I:/wbimgrepository/IND/20150327/IND_ts5e4cdfeprj_1_0.5_20150327.zip\n",
      "I:/wbimgrepository/IND/20190414/IND_ts5ek8735vr0_1_0.5_20190414.zip\n",
      "I:/wbimgrepository/IND/20150905/IND_ts5e5w5f3fs6_4_2.0_20150905.zip\n",
      "I:/wbimgrepository/IND/20051004/IND_ts5ek873hjq3_4_2.4_20051004.zip\n",
      "I:/wbimgrepository/IND/20100531/IND_ts5e5w5f3fs6_4_2.0_20100531.zip\n",
      "I:/wbimgrepository/IND/20100509/IND_ts5ehxgms749_1_0.5_20100509.zip\n",
      "I:/wbimgrepository/IND/20100321/IND_ts5eh04q1hkj_1_0.5_20100321.zip\n",
      "I:/wbimgrepository/IND/20100926/IND_ts5e4cdfeprj_1_0.5_20100926.zip\n",
      "I:/wbimgrepository/IND/20190403/IND_ts5e5w5f3fs6_4_2.0_20190403.zip\n",
      "I:/wbimgrepository/IND/20100926/IND_ts5e4cdfeprj_4_2.0_20100926.zip\n",
      "I:/wbimgrepository/IND/20190414/IND_ts5ek8735vr0_4_2.0_20190414.zip\n",
      "I:/wbimgrepository/IND/20100509/IND_ts5ehxgms749_4_2.0_20100509.zip\n",
      "I:/wbimgrepository/IND/20150914/IND_ts5ek8735vr0_4_2.0_20150914.zip\n",
      "I:/wbimgrepository/IND/20190403/IND_ts5e4cdfeprj_4_2.0_20190403.zip\n",
      "I:/wbimgrepository/IND/20190403/IND_ts5eh04q1hkj_1_0.5_20190403.zip\n",
      "I:/wbimgrepository/IND/20190403/IND_ts5eh04q1hkj_4_2.0_20190403.zip\n",
      "I:/wbimgrepository/IND/20100531/IND_ts5e5w5f3fs6_1_0.5_20100531.zip\n",
      "I:/wbimgrepository/IND/20100321/IND_ts5eh04q1hkj_4_2.0_20100321.zip\n",
      "I:/wbimgrepository/IND/20150914/IND_ts5eh04q1hkj_1_0.5_20150914.zip\n",
      "I:/wbimgrepository/IND/20050903/IND_ts5eh04q0gxw_4_2.4_20050903.zip\n",
      "I:/wbimgrepository/IND/20050903/IND_ts5e5w5f3cck_4_2.4_20050903.zip\n",
      "I:/wbimgrepository/IND/20050903/IND_ts5eh04q0gxw_1_0.6_20050903.zip\n",
      "I:/wbimgrepository/IND/20050903/IND_ts5e4cdfen4f_1_0.6_20050903.zip\n",
      "I:/wbimgrepository/SLE/20161219/SLE_e9qxurxcr1ub_8_1.2_20161219.zip\n",
      "I:/wbimgrepository/SLE/20170310/SLE_e9w84ttjre1s_1_0.3_20170310.zip\n",
      "I:/wbimgrepository/SLE/20161219/SLE_e9qxurxcr1m8_1_0.3_20161219.zip\n",
      "I:/wbimgrepository/SLE/20170310/SLE_e9w84ttjre66_8_1.2_20170310.zip\n",
      "I:/wbimgrepository/RWA/19910723/RWA_kxtk97kdrwdp_1_10.0_19910723.zip\n",
      "I:/wbimgrepository/RWA/20100707/RWA_kxtkv14qnpet_4_0.5_20100707.zip\n",
      "I:/wbimgrepository/RWA/SPOT5/RWA_kxtksg5wydzd_1_5.0_SPOT5.zip\n",
      "I:/wbimgrepository/RWA/SPOT4/RWA_kxtkeduzytvg_1_10.0_SPOT4.zip\n",
      "I:/wbimgrepository/RWA/23Jul199/RWA_kxtk97kdrwdp_1_10.0_23Jul199.zip\n",
      "I:/wbimgrepository/RWA/07Mar201/RWA_kxthtg2f8uzt_1_5.0_07Mar201.zip\n",
      "I:/wbimgrepository/RWA/20031219/RWA_kxtkv15j0qvp_4_0.6_20031219.zip\n",
      "I:/wbimgrepository/RWA/20100801/RWA_kxtmj31udfpy_4_0.5_20100801.zip\n",
      "I:/wbimgrepository/NGA/20200203/NGA_s14mkdsc9vzc_4_2.0_20200203.zip\n",
      "I:/wbimgrepository/NGA/20200203/NGA_s14mkdsc9vzc_1_0.5_20200203.zip\n",
      "I:/wbimgrepository/NGA/20200215/NGA_s14kszrhn2v8_1_0.5_20200215.zip\n",
      "I:/wbimgrepository/NGA/20200211/NGA_s14kujvyr6r3_4_2.0_20200211.zip\n",
      "I:/wbimgrepository/NGA/20191116/NGA_s14kmtd677xw_1_0.5_20191116.zip\n",
      "I:/wbimgrepository/NGA/20200104/NGA_s14kw73u81hq_4_2.0_20200104.zip\n",
      "I:/wbimgrepository/NGA/20200104/NGA_s14kw73u81hq_1_0.5_20200104.zip\n",
      "I:/wbimgrepository/NGA/20200211/NGA_s14kujvyr6r3_1_0.5_20200211.zip\n",
      "I:/wbimgrepository/NGA/20191116/NGA_s14kmtd677xw_4_2.0_20191116.zip\n",
      "I:/wbimgrepository/NGA/20200215/NGA_s14kszrhn2v8_4_2.0_20200215.zip\n",
      "I:/wbimgrepository/NGA/20200105/NGA_s14kuqc22sxh_1_0.5_20200105.zip\n",
      "I:/wbimgrepository/NGA/20200105/NGA_s14kuqc22sxh_4_2.0_20200105.zip\n",
      "I:/wbimgrepository/LBR/20150104/LBR_ec07gtmp6146_4_0.6_20150104.zip\n"
     ]
    }
   ],
   "source": [
    "all_size = 0\n",
    "for shp, images in good_res.items():\n",
    "    city = os.path.basename(os.path.dirname(shp))\n",
    "    for idx, row in images.iterrows():\n",
    "        print(f\"{row['location']}\")\n",
    "        all_size += float(row[\"zippedSize\"])"
   ]
  },
  {
   "cell_type": "code",
   "execution_count": 15,
   "metadata": {},
   "outputs": [
    {
     "data": {
      "text/plain": [
       "dict_keys(['/home/wb411133/projects/URB_slum_mapping/data/boundary/Ahmedabad/Ahmedabad.shp', '/home/wb411133/projects/URB_slum_mapping/data/boundary/Freetown/Sequencing_Maps_APP.shp', '/home/wb411133/projects/URB_slum_mapping/data/boundary/kigali/Kigali.shp', '/home/wb411133/projects/URB_slum_mapping/data/boundary/Lagos_state/lagos.shp', '/home/wb411133/projects/URB_slum_mapping/data/boundary/monrovia/greater_monrovia.shp'])"
      ]
     },
     "execution_count": 15,
     "metadata": {},
     "output_type": "execute_result"
    }
   ],
   "source": [
    "good_res.keys()"
   ]
  },
  {
   "cell_type": "code",
   "execution_count": 26,
   "metadata": {},
   "outputs": [
    {
     "data": {
      "text/plain": [
       "73.86456565652043"
      ]
     },
     "execution_count": 26,
     "metadata": {},
     "output_type": "execute_result"
    }
   ],
   "source": [
    "all_size / 1024 / 1024 / 1024"
   ]
  },
  {
   "cell_type": "code",
   "execution_count": null,
   "metadata": {},
   "outputs": [],
   "source": []
  }
 ],
 "metadata": {
  "kernelspec": {
   "display_name": "Earth Engine",
   "language": "python",
   "name": "ee"
  },
  "language_info": {
   "codemirror_mode": {
    "name": "ipython",
    "version": 3
   },
   "file_extension": ".py",
   "mimetype": "text/x-python",
   "name": "python",
   "nbconvert_exporter": "python",
   "pygments_lexer": "ipython3",
   "version": "3.9.4"
  }
 },
 "nbformat": 4,
 "nbformat_minor": 2
}
