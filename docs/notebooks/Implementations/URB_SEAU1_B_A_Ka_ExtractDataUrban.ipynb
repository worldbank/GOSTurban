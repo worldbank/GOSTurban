{
 "cells": [
  {
   "cell_type": "markdown",
   "metadata": {},
   "source": [
    "# Extract data for urban calculations\n",
    "\n",
    "Test input for Tanzania\n",
    "\n",
    "0. Select focal ADM, buffer by 1km, rasterize as [0, 1]\n",
    "1. Download DEM data from ASTER, mosaick\n",
    "2. Calculate slope of DEM\n",
    "3. Extract water layer from Globcover\n",
    "4. Rasterize building footprints\n",
    "5. Select population layer\n",
    "6. Standardize all rasters to population layer  \n",
    "   a. Set area outside of focal admin to NoData  \n",
    "   b. Set everything to 16bit  \n",
    "   \n",
    "   \n"
   ]
  },
  {
   "cell_type": "code",
   "execution_count": 1,
   "metadata": {},
   "outputs": [],
   "source": [
    "import sys\n",
    "import os\n",
    "import importlib\n",
    "import rasterio\n",
    "import rasterio.warp\n",
    "\n",
    "import geopandas as gpd\n",
    "\n",
    "\n",
    "# Import raster helpers\n",
    "sys.path.append(\"../../../gostrocks/src\")\n",
    "\n",
    "import GOSTRocks.rasterMisc as rMisc\n",
    "from GOSTRocks.misc import tPrint\n",
    "\n",
    "# Import GOST urban functions\n",
    "sys.path.append(\"../../\")\n",
    "import src.UrbanRaster as urban\n",
    "import src.urban_helper as helper"
   ]
  },
  {
   "cell_type": "code",
   "execution_count": 2,
   "metadata": {},
   "outputs": [],
   "source": [
    "global_bounds = \"/home/public/Data/GLOBAL/ADMIN/Admin0_Polys.shp\"\n",
    "global_bounds_adm2 = \"/home/public/Data/GLOBAL/ADMIN/Admin2_Polys.shp\"\n",
    "\n",
    "inG = gpd.read_file(global_bounds)\n",
    "inG2 = gpd.read_file(global_bounds_adm2)\n",
    "\n",
    "runSmall = True\n",
    "runLarge = True"
   ]
  },
  {
   "cell_type": "code",
   "execution_count": 3,
   "metadata": {},
   "outputs": [],
   "source": [
    "importlib.reload(helper)\n",
    "importlib.reload(rMisc)\n",
    "\n",
    "\n",
    "def calculate_urban(iso3, inG, inG2, pop_files, ea_file, km=True, small=True):\n",
    "    global_landcover = \"/home/public/Data/GLOBAL/LANDCOVER/GLOBCOVER/2015/ESACCI-LC-L4-LCCS-Map-300m-P1Y-2015-v2.0.7.tif\"\n",
    "    global_ghspop = \"/home/public/Data/GLOBAL/Population/GHS/250/GHS_POP_E2015_GLOBE_R2019A_54009_250_V1_0.tif\"\n",
    "    global_ghspop_1k = \"/home/public/Data/GLOBAL/Population/GHS/GHS_POP_E2015_GLOBE_R2019A_54009_1K_V1_0.tif\"\n",
    "    global_ghbuilt = \"/home/public/Data/GLOBAL/URBAN/GHS/GHS_1K_BUILT/GHS_BUILT_LDS2014_GLOBE_R2018A_54009_1K_V1_0.tif\"\n",
    "    global_dem_1k = \"/home/public/Data/GLOBAL/ELEV/noaa_1km.tif\"\n",
    "    ghs_smod = \"/home/public/Data/GLOBAL/URBAN/GHS/GHS_SMOD/GHS_SMOD_POP2015_GLOBE_R2019A_54009_1K_V2_0.tif\"\n",
    "    ghsl_vrt = \"/home/public/Data/GLOBAL/GHSL/ghsl.vrt\"\n",
    "\n",
    "    output_folder = \"/home/wb411133/temp/%s_URBAN_DATA_new_naming\" % iso3\n",
    "    inD = inG.loc[inG[\"ISO3\"] == iso3]\n",
    "    inD[\"geometry\"] = inD[\"geometry\"].apply(lambda x: x.buffer(500))\n",
    "    inD = inD.to_crs({\"init\": \"epsg:4326\"})\n",
    "\n",
    "    inD2 = inG2.loc[inG2[\"ISO3\"] == iso3]\n",
    "    inD2 = inD2.to_crs({\"init\": \"epsg:4326\"})\n",
    "\n",
    "    ### Process 1km data\n",
    "    if km:\n",
    "        xx = helper.urban_country(\n",
    "            iso3,\n",
    "            output_folder,\n",
    "            inD,\n",
    "            pop_files,\n",
    "            final_folder=\"FINAL_STANDARD_1KM\",\n",
    "            ghspop_suffix=\"1k\",\n",
    "        )\n",
    "        adm2_res = os.path.join(xx.final_folder, \"URBAN_ADMIN2_STATS_COMPILED.csv\")\n",
    "        ea_res = os.path.join(xx.final_folder, \"URBAN_COMMUNE_STATS_COMPILED.csv\")\n",
    "        tPrint(\"***** Extracting Global Layers %s\" % iso3)\n",
    "        xx.extract_layers(\n",
    "            global_landcover,\n",
    "            global_ghspop,\n",
    "            global_ghspop_1k,\n",
    "            global_ghbuilt,\n",
    "            ghsl_vrt,\n",
    "            ghs_smod,\n",
    "        )\n",
    "        tPrint(\"***** Downloading and processing elevation %s\" % iso3)\n",
    "        xx.process_dem(global_dem=global_dem_1k)\n",
    "        tPrint(\"***** Standardizing rasters\")\n",
    "        xx.standardize_rasters()\n",
    "        tPrint(\"***** Calculating Urban\")\n",
    "        xx.calculate_urban()\n",
    "        tPrint(\"***** Evaluating Data\")\n",
    "        xx.evaluateOutput()\n",
    "\n",
    "    ### Process 250m data\n",
    "    if small:\n",
    "        xx = helper.urban_country(iso3, output_folder, inD, pop_files)\n",
    "        tPrint(\"***** Extracting Global Layers %s\" % iso3)\n",
    "        xx.extract_layers(\n",
    "            global_landcover,\n",
    "            global_ghspop,\n",
    "            global_ghspop_1k,\n",
    "            global_ghbuilt,\n",
    "            ghsl_vrt,\n",
    "            ghs_smod,\n",
    "        )\n",
    "        tPrint(\"***** Downloading and processing elevation %s\" % iso3)\n",
    "        xx.process_dem(global_dem=global_dem_1k)\n",
    "        tPrint(\"***** Standardizing rasters\")\n",
    "        xx.standardize_rasters()\n",
    "        tPrint(\"***** Calculating Urban\")\n",
    "        xx.calculate_urban()\n",
    "        xx.evaluateOutput()\n",
    "        tPrint(\"***** Calculating Zonal admin2\")\n",
    "        if os.path.exists(ea_file):\n",
    "            if not os.path.exists(\n",
    "                os.path.join(output_folder, \"URBAN_ADMIN2_STATS_COMPILED.csv\")\n",
    "            ):\n",
    "                zonal_adm2 = xx.pop_zonal_admin(inD2)\n",
    "                zonal_adm2.to_csv(\n",
    "                    os.path.join(output_folder, \"URBAN_ADMIN2_STATS_COMPILED.csv\")\n",
    "                )\n",
    "            tPrint(\"***** Calculating Zonal communes\")\n",
    "            if not os.path.exists(\n",
    "                os.path.join(output_folder, \"URBAN_COMMUNE_STATS_COMPILED.csv\")\n",
    "            ):\n",
    "                inEA = gpd.read_file(ea_file)\n",
    "                zonal_ea = xx.pop_zonal_admin(inEA)\n",
    "                zonal_ea.to_csv(\n",
    "                    os.path.join(output_folder, \"URBAN_COMMUNE_STATS_COMPILED.csv\")\n",
    "                )"
   ]
  },
  {
   "cell_type": "code",
   "execution_count": null,
   "metadata": {},
   "outputs": [],
   "source": [
    "# Process ETH\n",
    "iso3 = \"ETH\"\n",
    "local_path = \"/home/public/Data/COUNTRY/{country}/WORLDPOP/\".format(country=iso3)\n",
    "pop_2015_un = os.path.join(local_path, \"%s_ppp_2015_UNadj.tif\" % iso3.lower())\n",
    "pop_2018_un = os.path.join(local_path, \"%s_ppp_2016_UNadj.tif\" % iso3.lower())\n",
    "pop_files = [\n",
    "    [pop_2015_un, \"%s_upo15.tif\" % iso3.lower()],\n",
    "    [pop_2018_un, \"%s_upo16.tif\" % iso3.lower()],\n",
    "]\n",
    "output_folder = \"/home/wb411133/temp/%s_URBAN_DATA_new_naming\" % iso3\n",
    "ea_file = \"\"\n",
    "\n",
    "calculate_urban(iso3, inG, inG2, pop_files, ea_file, small=runSmall, km=runLarge)"
   ]
  },
  {
   "cell_type": "code",
   "execution_count": 9,
   "metadata": {},
   "outputs": [
    {
     "name": "stderr",
     "output_type": "stream",
     "text": [
      "/home/wb411133/.conda/envs/geog/lib/python3.7/site-packages/ipykernel_launcher.py:15: SettingWithCopyWarning: \n",
      "A value is trying to be set on a copy of a slice from a DataFrame.\n",
      "Try using .loc[row_indexer,col_indexer] = value instead\n",
      "\n",
      "See the caveats in the documentation: http://pandas.pydata.org/pandas-docs/stable/indexing.html#indexing-view-versus-copy\n",
      "  from ipykernel import kernelapp as app\n"
     ]
    },
    {
     "name": "stdout",
     "output_type": "stream",
     "text": [
      "08:29:05\t***** Extracting Global Layers EGY\n",
      "08:29:05\t***** Downloading and processing elevation EGY\n",
      "08:29:05\t***** Standardizing rasters\n",
      "/home/wb411133/temp/EGY_URBAN_DATA_new_naming/egy_adm.tif\n",
      "/home/wb411133/temp/EGY_URBAN_DATA_new_naming/egy_gpo.tif\n",
      "/home/wb411133/temp/EGY_URBAN_DATA_new_naming/egy_wat_lc.tif\n",
      "/home/wb411133/temp/EGY_URBAN_DATA_new_naming/egy_wat.tif\n",
      "/home/wb411133/temp/EGY_URBAN_DATA_new_naming/egy_slo.tif\n",
      "/home/wb411133/temp/EGY_URBAN_DATA_new_naming/egy_ele.tif\n",
      "/home/wb411133/temp/EGY_URBAN_DATA_new_naming/egy_gsmod.tif\n",
      "/home/wb411133/temp/EGY_URBAN_DATA_new_naming/egy_gbu.tif\n",
      "/home/wb411133/temp/EGY_URBAN_DATA_new_naming/egy_upo15.tif\n",
      "/home/wb411133/temp/EGY_URBAN_DATA_new_naming/egy_upo16.tif\n",
      "/home/wb411133/temp/EGY_URBAN_DATA_new_naming/egy1k_gpo.tif\n",
      "08:29:05\t***** Calculating Urban\n",
      "/home/wb411133/temp/EGY_URBAN_DATA_new_naming/FINAL_STANDARD_1KM/egy1k_upo15.tif\n",
      "/home/wb411133/temp/EGY_URBAN_DATA_new_naming/FINAL_STANDARD_1KM/egy1k_upo16.tif\n",
      "/home/wb411133/temp/EGY_URBAN_DATA_new_naming/FINAL_STANDARD_1KM/egy1k_gpo.tif\n",
      "08:29:05\t***** Evaluating Data\n",
      "08:29:10\t***** Extracting Global Layers EGY\n",
      "08:29:10\t***** Downloading and processing elevation EGY\n",
      "08:29:10\t***** Standardizing rasters\n",
      "/home/wb411133/temp/EGY_URBAN_DATA_new_naming/egy_adm.tif\n",
      "/home/wb411133/temp/EGY_URBAN_DATA_new_naming/egy_gpo.tif\n",
      "/home/wb411133/temp/EGY_URBAN_DATA_new_naming/egy_wat_lc.tif\n",
      "/home/wb411133/temp/EGY_URBAN_DATA_new_naming/egy_wat.tif\n",
      "/home/wb411133/temp/EGY_URBAN_DATA_new_naming/egy_slo.tif\n",
      "/home/wb411133/temp/EGY_URBAN_DATA_new_naming/egy_ele.tif\n",
      "/home/wb411133/temp/EGY_URBAN_DATA_new_naming/egy_gsmod.tif\n",
      "/home/wb411133/temp/EGY_URBAN_DATA_new_naming/egy_gbu.tif\n",
      "/home/wb411133/temp/EGY_URBAN_DATA_new_naming/egy_upo15.tif\n",
      "/home/wb411133/temp/EGY_URBAN_DATA_new_naming/egy_upo16.tif\n",
      "/home/wb411133/temp/EGY_URBAN_DATA_new_naming/egy_gpo.tif\n",
      "08:31:01\t***** Calculating Urban\n",
      "/home/wb411133/temp/EGY_URBAN_DATA_new_naming/FINAL_STANDARD/egy_upo15.tif\n",
      "/home/wb411133/temp/EGY_URBAN_DATA_new_naming/FINAL_STANDARD/egy_upo16.tif\n",
      "/home/wb411133/temp/EGY_URBAN_DATA_new_naming/FINAL_STANDARD/egy_gpo.tif\n",
      "09:57:59\t***** Calculating Zonal admin2\n"
     ]
    }
   ],
   "source": [
    "importlib.reload(helper)\n",
    "# Process EGY\n",
    "iso3 = \"EGY\"\n",
    "local_path = \"/home/public/Data/COUNTRY/{country}/POPULATION/WORLDPOP/\".format(\n",
    "    country=iso3\n",
    ")\n",
    "pop_2015_un = os.path.join(local_path, \"%s_ppp_2015_UNadj.tif\" % iso3.lower())\n",
    "pop_2018_un = os.path.join(local_path, \"%s_ppp_2013_UNadj.tif\" % iso3.lower())\n",
    "pop_files = [\n",
    "    [pop_2015_un, \"%s_upo15.tif\" % iso3.lower()],\n",
    "    [pop_2018_un, \"%s_upo16.tif\" % iso3.lower()],\n",
    "]\n",
    "output_folder = \"/home/wb411133/temp/%s_URBAN_DATA_new_naming\" % iso3\n",
    "ea_file = \"\"\n",
    "\n",
    "calculate_urban(iso3, inG, inG2, pop_files, ea_file, small=runSmall, km=runLarge)"
   ]
  },
  {
   "cell_type": "code",
   "execution_count": null,
   "metadata": {},
   "outputs": [
    {
     "name": "stderr",
     "output_type": "stream",
     "text": [
      "/home/wb411133/.conda/envs/geog/lib/python3.7/site-packages/ipykernel_launcher.py:15: SettingWithCopyWarning: \n",
      "A value is trying to be set on a copy of a slice from a DataFrame.\n",
      "Try using .loc[row_indexer,col_indexer] = value instead\n",
      "\n",
      "See the caveats in the documentation: http://pandas.pydata.org/pandas-docs/stable/indexing.html#indexing-view-versus-copy\n",
      "  from ipykernel import kernelapp as app\n"
     ]
    },
    {
     "name": "stdout",
     "output_type": "stream",
     "text": [
      "11:50:15\t***** Extracting Global Layers COL\n",
      "11:50:15\tExtracting water\n"
     ]
    }
   ],
   "source": [
    "# Process COL\n",
    "iso3 = \"COL\"\n",
    "local_path = \"/home/public/Data/COUNTRY/{country}/POPULATION/WORLDPOP/\".format(\n",
    "    country=iso3\n",
    ")\n",
    "pop_2015_un = os.path.join(local_path, \"%s_ppp_2015_UNadj.tif\" % iso3.lower())\n",
    "pop_files = [[pop_2015_un, \"%s_upo15.tif\" % iso3.lower()]]\n",
    "output_folder = \"/home/wb411133/temp/%s_URBAN_DATA_new_naming\" % iso3\n",
    "ea_file = \"\"\n",
    "\n",
    "calculate_urban(iso3, inG, inG2, pop_files, ea_file, small=runSmall, km=runLarge)"
   ]
  },
  {
   "cell_type": "code",
   "execution_count": null,
   "metadata": {
    "scrolled": true
   },
   "outputs": [],
   "source": [
    "importlib.reload(helper)\n",
    "# Process GHA\n",
    "iso3 = \"GHA\"\n",
    "local_path = \"/home/public/Data/COUNTRY/{country}/POPULATION/WORLDPOP/\".format(\n",
    "    country=iso3\n",
    ")\n",
    "pop_2015_un = os.path.join(local_path, \"%s_ppp_2015_UNadj.tif\" % iso3.lower())\n",
    "pop_2018_un = os.path.join(local_path, \"%s_ppp_2017_UNadj.tif\" % iso3.lower())\n",
    "pop_2015_con = os.path.join(local_path, \"ppp_prj_2015_%s_UNadj.tif\" % iso3)\n",
    "pop_2018_con = os.path.join(local_path, \"ppp_prj_2017_%s_UNadj.tif\" % iso3)\n",
    "\n",
    "pop_files = [\n",
    "    [pop_2015_un, \"%s_upo15.tif\" % iso3.lower()],\n",
    "    [pop_2018_un, \"%s_upo17.tif\" % iso3.lower()],\n",
    "    [pop_2015_con, \"%s_cpo15.tif\" % iso3.lower()],\n",
    "    [pop_2018_con, \"%s_cpo17.tif\" % iso3.lower()],\n",
    "]\n",
    "output_folder = \"/home/wb411133/temp/%s_URBAN_DATA_new_naming\" % iso3\n",
    "ea_file = os.path.join(output_folder, \"FINAL_EAS.shp\")\n",
    "\n",
    "calculate_urban(iso3, inG, inG2, pop_files, ea_file, small=runsmall, km=runLarge)"
   ]
  },
  {
   "cell_type": "code",
   "execution_count": null,
   "metadata": {
    "scrolled": true
   },
   "outputs": [],
   "source": [
    "importlib.reload(helper)\n",
    "# Process BGD\n",
    "iso3 = \"BGD\"\n",
    "local_path = \"/home/public/Data/COUNTRY/{country}/POPULATION/WORLDPOP/\".format(\n",
    "    country=iso3\n",
    ")\n",
    "ea_file = os.path.join(output_folder, \"mauza11_reprojected.shp\")\n",
    "pop_2015_un = os.path.join(local_path, \"%s_ppp_2015_UNadj.tif\" % iso3.lower())\n",
    "pop_2018_un = os.path.join(local_path, \"%s_ppp_2018_UNadj.tif\" % iso3.lower())\n",
    "\n",
    "pop_files = [\n",
    "    [pop_2015_un, \"%s_upo15.tif\" % iso3.lower()],\n",
    "    [pop_2018_un, \"%s_upo18.tif\" % iso3.lower()],\n",
    "]\n",
    "\n",
    "output_folder = \"/home/wb411133/temp/%s_URBAN_DATA_new_naming\" % iso3\n",
    "calculate_urban(iso3, inG, inG2, pop_files, ea_file, small=runSmall, km=runLarge)"
   ]
  },
  {
   "cell_type": "code",
   "execution_count": null,
   "metadata": {
    "scrolled": true
   },
   "outputs": [],
   "source": [
    "# Process TZA\n",
    "iso3 = \"TZA\"\n",
    "local_path = (\n",
    "    \"/home/public/Data/COUNTRY/{country}/POPULATION/WORLDPOP/TZA_2015_2018\".format(\n",
    "        country=iso3\n",
    "    )\n",
    ")\n",
    "pop_2015_un = os.path.join(local_path, \"%s_ppp_2015_UNadj.tif\" % iso3.lower())\n",
    "pop_2018_un = os.path.join(local_path, \"%s_ppp_2018_UNadj.tif\" % iso3.lower())\n",
    "pop_2015_con = os.path.join(local_path, \"ppp_prj_2015_%s_UNadj.tif\" % iso3)\n",
    "pop_2018_con = os.path.join(local_path, \"ppp_prj_2018_%s_UNadj.tif\" % iso3)\n",
    "\n",
    "pop_files = [\n",
    "    [pop_2015_un, \"%s_upo15.tif\" % iso3.lower()],\n",
    "    [pop_2018_un, \"%s_upo18.tif\" % iso3.lower()],\n",
    "    [pop_2015_con, \"%s_cpo15.tif\" % iso3.lower()],\n",
    "    [pop_2018_con, \"%s_cpo18.tif\" % iso3.lower()],\n",
    "]\n",
    "\n",
    "output_folder = \"/home/wb411133/temp/%s_URBAN_DATA_new_naming\" % iso3\n",
    "ea_file = os.path.join(output_folder, \"FINAL_EAS.shp\")\n",
    "\n",
    "calculate_urban(iso3, inG, inG2, pop_files, ea_file, small=runSmall, km=runLarge)"
   ]
  },
  {
   "cell_type": "code",
   "execution_count": null,
   "metadata": {
    "scrolled": true
   },
   "outputs": [],
   "source": [
    "# Process VNM\n",
    "iso3 = \"VNM\"\n",
    "local_path = \"/home/public/Data/COUNTRY/{country}/POPULATION/WORLDPOP/\".format(\n",
    "    country=iso3\n",
    ")\n",
    "pop_2015_un = os.path.join(local_path, \"%s_ppp_2015_UNadj.tif\" % iso3.lower())\n",
    "pop_2018_un = os.path.join(local_path, \"%s_ppp_2018_UNadj.tif\" % iso3.lower())\n",
    "pop_files = [\n",
    "    [pop_2015_un, \"%s_upo15.tif\" % iso3.lower()],\n",
    "    [pop_2018_un, \"%s_upo18.tif\" % iso3.lower()],\n",
    "    [pop_2015_con, \"%s_cpo15.tif\" % iso3.lower()],\n",
    "    [pop_2018_con, \"%s_cpo18.tif\" % iso3.lower()],\n",
    "]\n",
    "output_folder = \"/home/wb411133/temp/%s_URBAN_DATA_new_naming\" % iso3\n",
    "ea_file = os.path.join(output_folder, \"Commune shapefiles\", \"VN_communes2008.shp\")\n",
    "\n",
    "calculate_urban(iso3, inG, inG2, pop_files, ea_file, small=runSmall, km=runLarge)"
   ]
  },
  {
   "cell_type": "code",
   "execution_count": null,
   "metadata": {},
   "outputs": [],
   "source": []
  },
  {
   "cell_type": "code",
   "execution_count": null,
   "metadata": {},
   "outputs": [],
   "source": []
  },
  {
   "cell_type": "code",
   "execution_count": null,
   "metadata": {},
   "outputs": [],
   "source": []
  },
  {
   "cell_type": "code",
   "execution_count": null,
   "metadata": {},
   "outputs": [],
   "source": []
  },
  {
   "cell_type": "markdown",
   "metadata": {},
   "source": [
    "# Debugging"
   ]
  },
  {
   "cell_type": "code",
   "execution_count": null,
   "metadata": {},
   "outputs": [],
   "source": [
    "importlib.reload(urban)\n",
    "pop_file = (\n",
    "    \"/home/wb411133/temp/BGD_URBAN_DATA_new_naming/FINAL_STANDARD_1KM/bgd1k1k_gpo.tif\"\n",
    ")\n",
    "urban_shp = urban.urbanGriddedPop(pop_file)\n",
    "shps = urban_shp.calculateUrban(\n",
    "    raster=out_file, densVal=1500, totalPopThresh=50000, smooth=True, queen=True\n",
    ")"
   ]
  },
  {
   "cell_type": "code",
   "execution_count": null,
   "metadata": {},
   "outputs": [],
   "source": [
    "# Comparing complete GHS-SMOD classification with\n",
    "ghs_smod = \"/home/public/Data/GLOBAL/URBAN/GHS/GHS_SMOD/GHS_SMOD_POP2015_GLOBE_R2019A_54009_1K_V2_0.tif\"\n",
    "in_bounds = (\n",
    "    \"/home/wb411133/temp/BGD_URBAN_DATA_new_naming/FINAL_STANDARD_1KM/bgd_adm.shp\"\n",
    ")\n",
    "out_file = (\n",
    "    \"/home/wb411133/temp/BGD_URBAN_DATA_new_naming/FINAL_STANDARD_1KM/bgd1k_smod.tif\"\n",
    ")\n",
    "\n",
    "inR = rasterio.open(ghs_smod)\n",
    "inB = gpd.read_file(in_bounds)\n",
    "rMisc.clipRaster(inR, inB, out_file)"
   ]
  },
  {
   "cell_type": "code",
   "execution_count": null,
   "metadata": {},
   "outputs": [],
   "source": [
    "inS = rasterio.open(out_file)\n",
    "inP = rasterio.open(pop_file)\n",
    "smod = inS.read()\n",
    "pop = inP.read()\n",
    "pop[pop < 0] = 0"
   ]
  },
  {
   "cell_type": "code",
   "execution_count": null,
   "metadata": {},
   "outputs": [],
   "source": [
    "smod_vals = [10, 11, 12, 13, 21, 22, 23, 30]\n",
    "total_pop = pop.sum()\n",
    "for val in smod_vals:\n",
    "    cur_smod = (smod == val).astype(int)\n",
    "    cur_pop = pop * cur_smod\n",
    "    total_curpop = cur_pop.sum()\n",
    "    print(f\"{val}: {(total_curpop.sum()/total_pop*100)}\")"
   ]
  },
  {
   "cell_type": "code",
   "execution_count": null,
   "metadata": {},
   "outputs": [],
   "source": [
    "54.1 + 17.6 + 0.3 + 17"
   ]
  },
  {
   "cell_type": "code",
   "execution_count": null,
   "metadata": {},
   "outputs": [],
   "source": []
  }
 ],
 "metadata": {
  "kernelspec": {
   "display_name": "Python (geog)",
   "language": "python",
   "name": "geog"
  },
  "language_info": {
   "codemirror_mode": {
    "name": "ipython",
    "version": 3
   },
   "file_extension": ".py",
   "mimetype": "text/x-python",
   "name": "python",
   "nbconvert_exporter": "python",
   "pygments_lexer": "ipython3",
   "version": "3.7.1"
  }
 },
 "nbformat": 4,
 "nbformat_minor": 2
}
