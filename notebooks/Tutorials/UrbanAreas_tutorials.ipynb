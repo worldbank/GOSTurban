{
 "cells": [
  {
   "cell_type": "markdown",
   "metadata": {},
   "source": [
    "# Degree of Urbanization\n",
    "\n",
    "The Degree of Urbanization (DoU) is a method for quantifying urbanization using thresholds applied to gridded population data. More information on the DoU can be [found here](https://ghsl.jrc.ec.europa.eu/degurbaDefinitions.php)."
   ]
  },
  {
   "cell_type": "code",
   "execution_count": null,
   "metadata": {},
   "outputs": [],
   "source": [
    "import sys\n",
    "import os\n",
    "import rasterio\n",
    "\n",
    "import geopandas as gpd\n",
    "import pandas as pd\n",
    "\n",
    "import GOSTurban.UrbanRaster as urban\n",
    "import GOSTrocks.mapMisc as mapMisc"
   ]
  },
  {
   "cell_type": "code",
   "execution_count": null,
   "metadata": {},
   "outputs": [],
   "source": [
    "# Define input population raster\n",
    "tutorial_folder = \"../../data/tutorial_data\"\n",
    "aoi_file = os.path.join(tutorial_folder, \"AOI.geojson\")\n",
    "pop_file = os.path.join(tutorial_folder, \"wp_2020_1k_AOI.tif\")\n",
    "\n",
    "# Define output files\n",
    "out_urban = os.path.join(tutorial_folder, \"urban_extents.geojson\")\n",
    "out_hd_urban = os.path.join(tutorial_folder, \"hd_urban_extents.geojson\")\n",
    "\n",
    "inAOI = gpd.read_file(aoi_file)\n",
    "\n",
    "# Shouldn't need to execute this unless you change your AOI;\n",
    "#    you will need to find a global population to extract from\n",
    "if not os.path.exists(pop_file):\n",
    "    sys.path.append(\"../../../gostrocks/src\")\n",
    "    import GOSTrocks.rasterMisc as rMisc\n",
    "\n",
    "    global_population = \"/path/to/global/pop_layer/ppp_2020_1km_Aggregated.tif\"\n",
    "    inR = rasterio.open(global_population)\n",
    "    rMisc.clipRaster(inR, inAOI, pop_file)\n",
    "\n",
    "inR = rasterio.open(pop_file)\n",
    "# Initiate the urban calculator\n",
    "urban_calculator = urban.urbanGriddedPop(inR)"
   ]
  },
  {
   "cell_type": "markdown",
   "metadata": {},
   "source": [
    "## Map of population density in study area"
   ]
  },
  {
   "cell_type": "code",
   "execution_count": null,
   "metadata": {},
   "outputs": [],
   "source": [
    "mapMisc.static_map_raster(inR, thresh=[1, 5, 50, 100, 300, 1000, 3000])"
   ]
  },
  {
   "cell_type": "markdown",
   "metadata": {},
   "source": [
    "# Extract and map urban clusters"
   ]
  },
  {
   "cell_type": "code",
   "execution_count": null,
   "metadata": {},
   "outputs": [],
   "source": [
    "# Extract the urban extents (minimum density 300/km2, minimum total population 5000)\n",
    "urban_extents = urban_calculator.calculateUrban(\n",
    "    densVal=300, totalPopThresh=5000, smooth=False, queen=False, verbose=True\n",
    ")\n",
    "urban_extents[\"Type\"] = 1\n",
    "urban_extents.head()"
   ]
  },
  {
   "cell_type": "code",
   "execution_count": null,
   "metadata": {},
   "outputs": [],
   "source": [
    "# Map of urban extents\n",
    "mapMisc.static_map_vector(urban_extents, \"Type\")"
   ]
  },
  {
   "cell_type": "markdown",
   "metadata": {},
   "source": [
    "# Extract and map high-density urban extents"
   ]
  },
  {
   "cell_type": "code",
   "execution_count": null,
   "metadata": {},
   "outputs": [],
   "source": [
    "# Extract the high density urban extents (minimum density 1500/km2, minimum total population 50000)\n",
    "hd_urban_extents = urban_calculator.calculateUrban(\n",
    "    densVal=1500,\n",
    "    totalPopThresh=50000,\n",
    "    smooth=True,\n",
    "    queen=True,  # high density extents use queen's case contiguity, and\n",
    "    verbose=True,\n",
    ")  # High density extents have hole smoothing applied.\n",
    "hd_urban_extents[\"Type\"] = 2\n",
    "hd_urban_extents.head()"
   ]
  },
  {
   "cell_type": "code",
   "execution_count": null,
   "metadata": {},
   "outputs": [],
   "source": [
    "mapMisc.static_map_vector(hd_urban_extents, \"Type\", colormap=\"Blues\")"
   ]
  },
  {
   "cell_type": "markdown",
   "metadata": {},
   "source": [
    "## Map combined extents and write output"
   ]
  },
  {
   "cell_type": "code",
   "execution_count": null,
   "metadata": {},
   "outputs": [],
   "source": [
    "combo_extents = pd.concat([urban_extents, hd_urban_extents])\n",
    "mapMisc.static_map_vector(combo_extents, \"Type\", colormap=\"magma\")"
   ]
  },
  {
   "cell_type": "code",
   "execution_count": null,
   "metadata": {},
   "outputs": [],
   "source": [
    "urban_extents.to_file(out_urban, driver=\"GeoJSON\")\n",
    "hd_urban_extents.to_file(out_hd_urban, driver=\"GeoJSON\")"
   ]
  }
 ],
 "metadata": {
  "language_info": {
   "name": "python"
  }
 },
 "nbformat": 4,
 "nbformat_minor": 2
}
