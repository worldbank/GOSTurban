{
 "cells": [
  {
   "cell_type": "markdown",
   "metadata": {},
   "source": [
    "# Run simple urban extent calculation based on 1km gridded population data"
   ]
  },
  {
   "cell_type": "code",
   "execution_count": 1,
   "metadata": {},
   "outputs": [],
   "source": [
    "import sys\n",
    "import os\n",
    "import rasterio\n",
    "\n",
    "import geopandas as gpd\n",
    "\n",
    "import GOST_Urban.UrbanRaster as urban"
   ]
  },
  {
   "cell_type": "code",
   "execution_count": 2,
   "metadata": {},
   "outputs": [
    {
     "name": "stderr",
     "output_type": "stream",
     "text": [
      "Cannot find header.dxf (GDAL_DATA is not defined)\n"
     ]
    }
   ],
   "source": [
    "# Define input population raster\n",
    "tutorial_folder = \"../../data/tutorial_data\"\n",
    "aoi_file = os.path.join(tutorial_folder, \"AOI.geojson\")\n",
    "pop_file = os.path.join(tutorial_folder, \"wp_2020_1k_AOI.tif\")\n",
    "\n",
    "# Define output files\n",
    "out_urban = os.path.join(tutorial_folder, \"urban_extents.geojson\")\n",
    "out_hd_urban = os.path.join(tutorial_folder, \"hd_urban_extents.geojson\")\n",
    "\n",
    "inAOI = gpd.read_file(aoi_file)\n",
    "\n",
    "# Shouldn't need to execute this unless you change your AOI;\n",
    "#    you will need to find a global population to extract from\n",
    "if not os.path.exists(pop_file):\n",
    "    sys.path.append(\"../../../gostrocks/src\")\n",
    "    import GOSTRocks.rasterMisc as rMisc\n",
    "\n",
    "    global_population = \"/path/to/global/pop_layer/ppp_2020_1km_Aggregated.tif\"\n",
    "    inR = rasterio.open(global_population)\n",
    "    rMisc.clipRaster(inR, inAOI, pop_file)\n",
    "\n",
    "inR = rasterio.open(pop_file)"
   ]
  },
  {
   "cell_type": "code",
   "execution_count": 4,
   "metadata": {},
   "outputs": [],
   "source": [
    "# Initiate the urban calculator\n",
    "urban_calculator = urban.urbanGriddedPop(inR)\n",
    "# urban_calculator.calculateUrban?"
   ]
  },
  {
   "cell_type": "code",
   "execution_count": null,
   "metadata": {},
   "outputs": [],
   "source": [
    "# Extract the urban extents (minimum density 300/km2, minimum total population 5000)\n",
    "urban_extents = urban_calculator.calculateUrban(\n",
    "    densVal=300, totalPopThresh=5000, smooth=False, queen=False, verbose=True\n",
    ")"
   ]
  },
  {
   "cell_type": "code",
   "execution_count": 5,
   "metadata": {
    "scrolled": true
   },
   "outputs": [
    {
     "name": "stdout",
     "output_type": "stream",
     "text": [
      "15:11:38\t: Read in urban data\n",
      "15:11:38\t: Creating Shape 0\n",
      "15:11:44\t: Creating Shape 1000\n"
     ]
    },
    {
     "name": "stderr",
     "output_type": "stream",
     "text": [
      "C:\\wbg\\Anaconda3\\envs\\test\\Lib\\site-packages\\numpy\\core\\_methods.py:49: RuntimeWarning: overflow encountered in reduce\n",
      "  return umr_sum(a, axis, dtype, out, keepdims, initial, where)\n",
      "C:\\wbg\\Anaconda3\\envs\\test\\Lib\\site-packages\\GOST_Urban\\UrbanRaster.py:322: UserWarning: Geometry is in a geographic CRS. Results from 'buffer' are likely incorrect. Use 'GeoSeries.to_crs()' to re-project geometries to a projected CRS before this operation.\n",
      "\n",
      "  xxGeom['geometry'] = xxGeom.buffer((popRaster.res[0] / 2))\n"
     ]
    }
   ],
   "source": [
    "# Extract the high density urban extents (minimum density 1500/km2, minimum total population 50000)\n",
    "hd_urban_extents = urban_calculator.calculateUrban(\n",
    "    densVal=1500,\n",
    "    totalPopThresh=50000,\n",
    "    smooth=True,\n",
    "    queen=True,  # high density extents use queen's case contiguity, and\n",
    "    verbose=True,\n",
    ")  # High density extents have hole smoothing applied."
   ]
  },
  {
   "cell_type": "code",
   "execution_count": null,
   "metadata": {},
   "outputs": [],
   "source": [
    "urban_extents.to_file(out_urban, driver=\"GeoJSON\")\n",
    "hd_urban_extents.to_file(out_hd_urban, driver=\"GeoJSON\")"
   ]
  }
 ],
 "metadata": {
  "kernelspec": {
   "display_name": "urban_test",
   "language": "python",
   "name": "urban_test"
  },
  "language_info": {
   "codemirror_mode": {
    "name": "ipython",
    "version": 3
   },
   "file_extension": ".py",
   "mimetype": "text/x-python",
   "name": "python",
   "nbconvert_exporter": "python",
   "pygments_lexer": "ipython3",
   "version": "3.12.1"
  }
 },
 "nbformat": 4,
 "nbformat_minor": 2
}
