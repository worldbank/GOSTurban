{
 "cells": [
  {
   "cell_type": "markdown",
   "metadata": {},
   "source": [
    "# Calculate urban areas from gridded population data"
   ]
  },
  {
   "cell_type": "code",
   "execution_count": 2,
   "metadata": {},
   "outputs": [
    {
     "ename": "ModuleNotFoundError",
     "evalue": "No module named 'GOSTRocks'",
     "output_type": "error",
     "traceback": [
      "\u001b[1;31m---------------------------------------------------------------------------\u001b[0m",
      "\u001b[1;31mModuleNotFoundError\u001b[0m                       Traceback (most recent call last)",
      "Cell \u001b[1;32mIn[2], line 17\u001b[0m\n\u001b[0;32m     10\u001b[0m \u001b[38;5;66;03m#Import raster helpers\u001b[39;00m\n\u001b[0;32m     11\u001b[0m \u001b[38;5;66;03m#sys.path.append(\"../../../gostrocks/src\")\u001b[39;00m\n\u001b[0;32m     12\u001b[0m \u001b[38;5;66;03m#import GOSTRocks.rasterMisc as rMisc\u001b[39;00m\n\u001b[0;32m     13\u001b[0m \u001b[38;5;66;03m#from GOSTRocks.misc import tPrint\u001b[39;00m\n\u001b[0;32m     14\u001b[0m \n\u001b[0;32m     15\u001b[0m \u001b[38;5;66;03m#Import GOST urban functions\u001b[39;00m\n\u001b[0;32m     16\u001b[0m \u001b[38;5;28;01mimport\u001b[39;00m \u001b[38;5;21;01mGOST_Urban\u001b[39;00m\u001b[38;5;21;01m.\u001b[39;00m\u001b[38;5;21;01mUrbanRaster\u001b[39;00m \u001b[38;5;28;01mas\u001b[39;00m \u001b[38;5;21;01murban\u001b[39;00m\n\u001b[1;32m---> 17\u001b[0m \u001b[38;5;28;01mimport\u001b[39;00m \u001b[38;5;21;01mGOST_Urban\u001b[39;00m\u001b[38;5;21;01m.\u001b[39;00m\u001b[38;5;21;01murban_helper\u001b[39;00m \u001b[38;5;28;01mas\u001b[39;00m \u001b[38;5;21;01mhelper\u001b[39;00m\n",
      "File \u001b[1;32mC:\\wbg\\Anaconda3\\envs\\test\\Lib\\site-packages\\GOST_Urban\\urban_helper.py:18\u001b[0m\n\u001b[0;32m     15\u001b[0m sys\u001b[38;5;241m.\u001b[39mpath\u001b[38;5;241m.\u001b[39mappend(\u001b[38;5;124m\"\u001b[39m\u001b[38;5;124m../\u001b[39m\u001b[38;5;124m\"\u001b[39m)\n\u001b[0;32m     16\u001b[0m \u001b[38;5;28;01mimport\u001b[39;00m \u001b[38;5;21;01mGOST_Urban\u001b[39;00m\u001b[38;5;21;01m.\u001b[39;00m\u001b[38;5;21;01mUrbanRaster\u001b[39;00m \u001b[38;5;28;01mas\u001b[39;00m \u001b[38;5;21;01murban\u001b[39;00m\n\u001b[1;32m---> 18\u001b[0m \u001b[38;5;28;01mimport\u001b[39;00m \u001b[38;5;21;01mGOSTRocks\u001b[39;00m\u001b[38;5;21;01m.\u001b[39;00m\u001b[38;5;21;01mrasterMisc\u001b[39;00m \u001b[38;5;28;01mas\u001b[39;00m \u001b[38;5;21;01mrMisc\u001b[39;00m\n\u001b[0;32m     19\u001b[0m \u001b[38;5;28;01mfrom\u001b[39;00m \u001b[38;5;21;01mGOSTRocks\u001b[39;00m\u001b[38;5;21;01m.\u001b[39;00m\u001b[38;5;21;01mmisc\u001b[39;00m \u001b[38;5;28;01mimport\u001b[39;00m tPrint\n\u001b[0;32m     21\u001b[0m \u001b[38;5;28;01mclass\u001b[39;00m \u001b[38;5;21;01msummarize_population\u001b[39;00m(\u001b[38;5;28mobject\u001b[39m):\n",
      "\u001b[1;31mModuleNotFoundError\u001b[0m: No module named 'GOSTRocks'"
     ]
    }
   ],
   "source": [
    "import os\n",
    "import json\n",
    "import rasterio\n",
    "import geojson\n",
    "\n",
    "import pandas as pd\n",
    "import geopandas as gpd\n",
    "import numpy as np\n",
    "\n",
    "from shapely.geometry import shape\n",
    "\n",
    "# Import raster helpers\n",
    "# sys.path.append(\"../../../gostrocks/src\")\n",
    "# import GOSTRocks.rasterMisc as rMisc\n",
    "# from GOSTRocks.misc import tPrint\n",
    "\n",
    "# Import GOST urban functions\n",
    "import GOST_Urban.UrbanRaster as urban"
   ]
  },
  {
   "cell_type": "code",
   "execution_count": 58,
   "metadata": {},
   "outputs": [],
   "source": [
    "iso3 = \"HTI\"\n",
    "out_folder = \"/home/wb411133/temp/%s_URBAN\" % iso3\n",
    "if not os.path.exists(out_folder):\n",
    "    os.makedirs(out_folder)\n",
    "pop_file = os.path.join(out_folder, \"WP_POP.tif\")\n",
    "urban_file = os.path.join(out_folder, \"URBAN.tif\")\n",
    "\n",
    "global_bounds = \"/home/public/Data/GLOBAL/ADMIN/Admin0_Polys.shp\"\n",
    "global_pop = (\n",
    "    \"/home/public/Data/GLOBAL/Population/WorldPop_PPP_2020/ppp_2020_1km_Aggregated.tif\"\n",
    ")\n",
    "\n",
    "inG = gpd.read_file(global_bounds)\n",
    "selG = inG.loc[inG[\"ISO3\"] == iso3]\n",
    "inPop_raster = rasterio.open(global_pop)\n",
    "\n",
    "if selG.crs != inPop_raster.crs:\n",
    "    selG = selG.to_crs(inPop_raster.crs)\n",
    "\n",
    "if not os.path.exists(pop_file):\n",
    "    rMisc.clipRaster(inPop_raster, selG, pop_file)"
   ]
  },
  {
   "cell_type": "code",
   "execution_count": 59,
   "metadata": {},
   "outputs": [],
   "source": [
    "urban_calc = urban.urbanGriddedPop(pop_file)\n",
    "urban_extents = urban_calc.calculateUrban(raster=urban_file)"
   ]
  },
  {
   "cell_type": "markdown",
   "metadata": {},
   "source": [
    "# Calculate Rural Extents\n",
    "This is not commonly used, but there are times when having rural extents can be useful. This will generate a rural raster and a rural vector dataset"
   ]
  },
  {
   "cell_type": "code",
   "execution_count": 60,
   "metadata": {},
   "outputs": [],
   "source": [
    "urban_raster = rasterio.open(urban_file)\n",
    "urban_d = urban_raster.read()\n",
    "rural_d = np.absolute(urban_d - 1)"
   ]
  },
  {
   "cell_type": "code",
   "execution_count": 61,
   "metadata": {},
   "outputs": [],
   "source": [
    "rural_file = os.path.join(out_folder, \"RURAL.tif\")\n",
    "with rMisc.create_rasterio_inmemory(urban_raster.profile, rural_d) as ruralR:\n",
    "    rMisc.clipRaster(ruralR, selG, rural_file)"
   ]
  },
  {
   "cell_type": "code",
   "execution_count": 62,
   "metadata": {},
   "outputs": [],
   "source": [
    "inR = rasterio.open(rural_file)\n",
    "inD = inR.read()\n",
    "all_features = []\n",
    "# create vector results\n",
    "for cShape, value in features.shapes(\n",
    "    inD, transform=urban_raster.transform, connectivity=8\n",
    "):\n",
    "    if value > 0:\n",
    "        all_features.append([value, shape(geojson.loads(json.dumps(cShape)))])"
   ]
  },
  {
   "cell_type": "code",
   "execution_count": 63,
   "metadata": {},
   "outputs": [],
   "source": [
    "geoms = gpd.GeoDataFrame(\n",
    "    pd.DataFrame(all_features, columns=[\"VALUE\", \"geometry\"]),\n",
    "    geometry=\"geometry\",\n",
    "    crs=urban_raster.crs,\n",
    ")\n",
    "geoms[\"area\"] = geoms[\"geometry\"].apply(lambda x: x.area)\n",
    "# Limit rural areas to those larger than 2 pixels\n",
    "geoms = geoms.loc[geoms[\"area\"] >= (urban_raster.res[0] * urban_raster.res[1]) * 2]"
   ]
  },
  {
   "cell_type": "code",
   "execution_count": 64,
   "metadata": {},
   "outputs": [],
   "source": [
    "geoms.to_file(rural_file.replace(\".tif\", \".geojson\"), driver=\"GeoJSON\")"
   ]
  },
  {
   "cell_type": "code",
   "execution_count": null,
   "metadata": {},
   "outputs": [],
   "source": []
  }
 ],
 "metadata": {
  "kernelspec": {
   "display_name": "urban_test",
   "language": "python",
   "name": "urban_test"
  },
  "language_info": {
   "codemirror_mode": {
    "name": "ipython",
    "version": 3
   },
   "file_extension": ".py",
   "mimetype": "text/x-python",
   "name": "python",
   "nbconvert_exporter": "python",
   "pygments_lexer": "ipython3",
   "version": "3.12.1"
  }
 },
 "nbformat": 4,
 "nbformat_minor": 2
}
