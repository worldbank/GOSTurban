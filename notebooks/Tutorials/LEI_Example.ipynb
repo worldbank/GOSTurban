{
 "cells": [
  {
   "attachments": {},
   "cell_type": "markdown",
   "metadata": {},
   "source": [
    "# Landscape Expansion Index\n",
    "\n",
    "More details on the wiki - https://github.com/worldbank/GOST_Urban/wiki/Landscape-Expansion-Index"
   ]
  },
  {
   "cell_type": "code",
   "execution_count": 3,
   "metadata": {},
   "outputs": [],
   "source": [
    "import os\n",
    "import sys\n",
    "import importlib\n",
    "import rasterio\n",
    "import rasterio.features\n",
    "\n",
    "import geopandas as gpd\n",
    "import pandas as pd\n",
    "\n",
    "sys.path.append(\"../../../gostrocks/src/\")\n",
    "import GOSTRocks.rasterMisc as rMisc\n",
    "\n",
    "# Import GOST urban functions\n",
    "sys.path.append(\"../../src/GOST_Urban\")\n",
    "import LEI as lei\n",
    "\n",
    "%load_ext autoreload\n",
    "%autoreload 2"
   ]
  },
  {
   "cell_type": "code",
   "execution_count": 7,
   "metadata": {},
   "outputs": [
    {
     "name": "stdout",
     "output_type": "stream",
     "text": [
      "\u001b[1;31mSignature:\u001b[0m\n",
      "\u001b[0mlei\u001b[0m\u001b[1;33m.\u001b[0m\u001b[0mcalculate_LEI\u001b[0m\u001b[1;33m(\u001b[0m\u001b[1;33m\n",
      "\u001b[0m    \u001b[0minputGHSL\u001b[0m\u001b[1;33m,\u001b[0m\u001b[1;33m\n",
      "\u001b[0m    \u001b[0mold_list\u001b[0m\u001b[1;33m,\u001b[0m\u001b[1;33m\n",
      "\u001b[0m    \u001b[0mnew_list\u001b[0m\u001b[1;33m,\u001b[0m\u001b[1;33m\n",
      "\u001b[0m    \u001b[0mbuffer_dist\u001b[0m\u001b[1;33m=\u001b[0m\u001b[1;36m300\u001b[0m\u001b[1;33m,\u001b[0m\u001b[1;33m\n",
      "\u001b[0m    \u001b[0mtransform\u001b[0m\u001b[1;33m=\u001b[0m\u001b[1;34m''\u001b[0m\u001b[1;33m,\u001b[0m\u001b[1;33m\n",
      "\u001b[0m\u001b[1;33m)\u001b[0m\u001b[1;33m\u001b[0m\u001b[1;33m\u001b[0m\u001b[0m\n",
      "\u001b[1;31mDocstring:\u001b[0m\n",
      "Generate urban, feature-level LEI; generate area calculations of new and old extents\n",
      "\n",
      ":param inputGHSL: Path to a geotiff or a rasterio object, or a numpy array containing the categorical\n",
      "    data used to calculate LEI\n",
      ":type inputGHSL: rasterio.DatasetReader\n",
      ":param old_list: Values in built area raster to consider old urban.\n",
      ":type old_list: list of ints\n",
      ":param new_list: Values in built area raster to consider new urban\n",
      ":type new_list: list of ints\n",
      ":param buffer_dist: distance to buffer new urban areas for comparison to old urban extents, defaults to 300 (m)\n",
      ":type buffer_dist: int, optional\n",
      ":param transform: rasterio transformation object. Required if inputGHSL is a numpy array, defaults to ''\n",
      ":type transform: str, optional\n",
      ":returns: individual vectors of new built areas with LEI results. Each item is a single new built feature with three columns: \n",
      "            1. geometry of the new built area feature\n",
      "            2. number of pixels in new built area donut from old built area\n",
      "            3. area of new built area buffer\n",
      "\n",
      ":example:\n",
      "    # This calculates the LEI between 1990 and 2000 in the categorical GHSL\n",
      "    lei_raw = calculate_LEI(input_ghsl, old_list = [5,6], new_list=[4])\n",
      "    lei_90_00 = pd.DataFrame(lei_raw, columns=['geometry', 'old', 'total'])\n",
      "    lei_90_00['LEI'] = lei_90_00['old'] / lei_90_00['total']      \n",
      "    lei_90_00.head()   \n",
      "\u001b[1;31mFile:\u001b[0m      c:\\wbg\\work\\code\\gost_urban\\src\\gost_urban\\lei.py\n",
      "\u001b[1;31mType:\u001b[0m      function"
     ]
    }
   ],
   "source": [
    "lei.calculate_LEI?"
   ]
  },
  {
   "cell_type": "code",
   "execution_count": null,
   "metadata": {},
   "outputs": [],
   "source": [
    "# Define input variables\n",
    "input_folder = \"/home/wb411133/temp/LOME\"\n",
    "if not os.path.exists(input_folder):\n",
    "    os.makedirs(input_folder)\n",
    "input_ghsl = os.path.join(input_folder, \"GHSL.tif\")\n",
    "\n",
    "# This section will extract GHSL data from the global file, if you have the GHSL for the AOI extracted\n",
    "#    define above as input_ghsl\n",
    "if not os.path.exists(input_ghsl):\n",
    "    # clip from global GHSL file\n",
    "    ghsl_vrt = \"/home/public/Data/GLOBAL/GHSL/ghsl.vrt\"\n",
    "    aoi = os.path.join(input_folder, \"Grand_lome_dissolve.shp\")\n",
    "    in_ghsl = rasterio.open(ghsl_vrt)\n",
    "    inA = gpd.read_file(aoi)\n",
    "    if not inA.crs == in_ghsl.crs:\n",
    "        inA = inA.to_crs(in_ghsl.crs)\n",
    "    rMisc.clipRaster(in_ghsl, inA, input_ghsl)"
   ]
  },
  {
   "cell_type": "code",
   "execution_count": 4,
   "metadata": {},
   "outputs": [
    {
     "name": "stdout",
     "output_type": "stream",
     "text": [
      "\u001b[1;31mSignature:\u001b[0m\n",
      "\u001b[0mlei\u001b[0m\u001b[1;33m.\u001b[0m\u001b[0mcalculate_LEI\u001b[0m\u001b[1;33m(\u001b[0m\u001b[1;33m\n",
      "\u001b[0m    \u001b[0minputGHSL\u001b[0m\u001b[1;33m,\u001b[0m\u001b[1;33m\n",
      "\u001b[0m    \u001b[0mold_list\u001b[0m\u001b[1;33m=\u001b[0m\u001b[1;33m[\u001b[0m\u001b[1;36m4\u001b[0m\u001b[1;33m,\u001b[0m \u001b[1;36m5\u001b[0m\u001b[1;33m,\u001b[0m \u001b[1;36m6\u001b[0m\u001b[1;33m]\u001b[0m\u001b[1;33m,\u001b[0m\u001b[1;33m\n",
      "\u001b[0m    \u001b[0mnew_list\u001b[0m\u001b[1;33m=\u001b[0m\u001b[1;33m[\u001b[0m\u001b[1;36m3\u001b[0m\u001b[1;33m]\u001b[0m\u001b[1;33m,\u001b[0m\u001b[1;33m\n",
      "\u001b[0m    \u001b[0mbuffer_dist\u001b[0m\u001b[1;33m=\u001b[0m\u001b[1;36m300\u001b[0m\u001b[1;33m,\u001b[0m\u001b[1;33m\n",
      "\u001b[0m\u001b[1;33m)\u001b[0m\u001b[1;33m\u001b[0m\u001b[1;33m\u001b[0m\u001b[0m\n",
      "\u001b[1;31mDocstring:\u001b[0m\n",
      "Calculate LEI using vector objects in rasterio\n",
      "\n",
      "INPUT\n",
      "inputGHSL [string] - path the GHSL raster object\n",
      "[optional] old_list [list of numbers] - values in GHSL to consider old urban. 4, 5, 6 indicates change from 2000\n",
      "[optional] new_list [int] - value in GHSL to consider new urban. 3 indicates 2014\n",
      "\n",
      "RETURNS\n",
      "[array] - individual new built areas with LEI results. Each item is a single new built feature with three columns: \n",
      "            1. geometry of the new built area feature\n",
      "            2. number of pixels in new built area donut from old built area\n",
      "            3. area of new built area buffer\n",
      "            \n",
      "EXAMPLE\n",
      "    # This calculates the change from 1990 and 2000\n",
      "    lei_raw = calculate_LEI(input_ghsl, old_list = [5,6], new_list=[4])\n",
      "    lei_90_00 = pd.DataFrame(lei_raw, columns=['geometry', 'old', 'total'])\n",
      "    lei_90_00['LEI'] = lei_90_00['old'] / lei_90_00['total']      \n",
      "    lei_90_00.head()    \n",
      "\u001b[1;31mFile:\u001b[0m      c:\\wbg\\work\\code\\gost_urban\\src\\lei.py\n",
      "\u001b[1;31mType:\u001b[0m      function"
     ]
    }
   ],
   "source": [
    "lei.calculate_LEI?"
   ]
  },
  {
   "cell_type": "code",
   "execution_count": null,
   "metadata": {},
   "outputs": [],
   "source": [
    "# This calculates the change from 1990 and 2000\n",
    "lei_raw = lei.calculate_LEI(input_ghsl, old_list=[5, 6], new_list=[4])\n",
    "lei_90_00 = pd.DataFrame(lei_raw, columns=[\"geometry\", \"old\", \"total\"])\n",
    "lei_90_00[\"LEI\"] = lei_90_00[\"old\"] / lei_90_00[\"total\"]\n",
    "lei_90_00.head()"
   ]
  },
  {
   "cell_type": "code",
   "execution_count": null,
   "metadata": {},
   "outputs": [],
   "source": [
    "# This calculates the change from 2000 and 2014\n",
    "lei_raw = lei.calculate_LEI(input_ghsl, old_list=[4, 5, 6], new_list=[3])\n",
    "lei_00_14 = pd.DataFrame(lei_raw, columns=[\"geometry\", \"old\", \"total\"])\n",
    "lei_00_14[\"LEI\"] = lei_00_14[\"old\"] / lei_00_14[\"total\"]\n",
    "lei_00_14.head()"
   ]
  },
  {
   "cell_type": "code",
   "execution_count": null,
   "metadata": {},
   "outputs": [],
   "source": [
    "importlib.reload(lei)\n",
    "# Calculate summaries of lei\n",
    "lei.summarize_LEI(lei_90_00, leap_val=0.05, exp_val=0.75) / 1000000"
   ]
  },
  {
   "cell_type": "code",
   "execution_count": null,
   "metadata": {},
   "outputs": [],
   "source": [
    "# Calculate summaries of lei\n",
    "lei.summarize_LEI(lei_00_14, leap_val=0.05, exp_val=0.75) / 1000000"
   ]
  },
  {
   "cell_type": "code",
   "execution_count": null,
   "metadata": {},
   "outputs": [],
   "source": [
    "# write raw LEI results to file\n",
    "lei_90_00.to_csv(os.path.join(input_folder, \"GHSL_LEI_90_00.csv\"))\n",
    "lei_00_14.to_csv(os.path.join(input_folder, \"GHSL_LEI_00_14.csv\"))"
   ]
  },
  {
   "attachments": {},
   "cell_type": "markdown",
   "metadata": {},
   "source": [
    "# Re-run analysis using the World Settlement Footprint"
   ]
  },
  {
   "cell_type": "code",
   "execution_count": 2,
   "metadata": {},
   "outputs": [],
   "source": [
    "# Define input variables\n",
    "input_folder = \"/home/wb411133/temp/LOME\"\n",
    "if not os.path.exists(input_folder):\n",
    "    os.makedirs(input_folder)\n",
    "input_WSF = os.path.join(input_folder, \"LOME_WSF.tif\")\n",
    "input_WSF_proj = os.path.join(input_folder, \"LOME_WSF_PROJ.tif\")\n",
    "\n",
    "# This section will extract GHSL data from the global file, if you have the GHSL for the AOI extracted\n",
    "#    define above as input_ghsl\n",
    "if not os.path.exists(input_WSF_proj):\n",
    "    # clip from global GHSL file\n",
    "    wsf = \"/home/public/Data/GLOBAL/WSF/Togo/Togo_WSF_evolution.tif\"\n",
    "    aoi = os.path.join(input_folder, \"Grand_lome_dissolve.shp\")\n",
    "    in_ghsl = rasterio.open(wsf)\n",
    "    inA = gpd.read_file(aoi)\n",
    "    if not inA.crs == in_ghsl.crs:\n",
    "        inA = inA.to_crs(in_ghsl.crs)\n",
    "    rMisc.clipRaster(in_ghsl, inA, input_WSF)\n",
    "    # WSF is stored in WGS84, making buffering and area calculations impossible.\n",
    "    #    Instead we will standardize to the GHSL raster\n",
    "    ghsl_raster = os.path.join(input_folder, \"GHSL.tif\")\n",
    "    in_wsf = rasterio.open(input_WSF)\n",
    "    in_ghsl = rasterio.open(ghsl_raster)\n",
    "    rMisc.standardizeInputRasters(in_wsf, in_ghsl, input_WSF_proj, \"C\")"
   ]
  },
  {
   "cell_type": "code",
   "execution_count": 3,
   "metadata": {},
   "outputs": [
    {
     "data": {
      "text/html": [
       "<div>\n",
       "<style scoped>\n",
       "    .dataframe tbody tr th:only-of-type {\n",
       "        vertical-align: middle;\n",
       "    }\n",
       "\n",
       "    .dataframe tbody tr th {\n",
       "        vertical-align: top;\n",
       "    }\n",
       "\n",
       "    .dataframe thead th {\n",
       "        text-align: right;\n",
       "    }\n",
       "</style>\n",
       "<table border=\"1\" class=\"dataframe\">\n",
       "  <thead>\n",
       "    <tr style=\"text-align: right;\">\n",
       "      <th></th>\n",
       "      <th>geometry</th>\n",
       "      <th>old</th>\n",
       "      <th>total</th>\n",
       "      <th>LEI</th>\n",
       "    </tr>\n",
       "  </thead>\n",
       "  <tbody>\n",
       "    <tr>\n",
       "      <th>0</th>\n",
       "      <td>POLYGON ((131490 702030, 131490 701970, 131520...</td>\n",
       "      <td>7</td>\n",
       "      <td>376</td>\n",
       "      <td>0.018617</td>\n",
       "    </tr>\n",
       "    <tr>\n",
       "      <th>1</th>\n",
       "      <td>POLYGON ((131400 701970, 131400 701940, 131430...</td>\n",
       "      <td>7</td>\n",
       "      <td>356</td>\n",
       "      <td>0.019663</td>\n",
       "    </tr>\n",
       "    <tr>\n",
       "      <th>2</th>\n",
       "      <td>POLYGON ((131460 701970, 131460 701940, 131490...</td>\n",
       "      <td>7</td>\n",
       "      <td>356</td>\n",
       "      <td>0.019663</td>\n",
       "    </tr>\n",
       "    <tr>\n",
       "      <th>3</th>\n",
       "      <td>POLYGON ((131400 701880, 131400 701850, 131460...</td>\n",
       "      <td>7</td>\n",
       "      <td>376</td>\n",
       "      <td>0.018617</td>\n",
       "    </tr>\n",
       "    <tr>\n",
       "      <th>4</th>\n",
       "      <td>POLYGON ((132510 701370, 132510 701340, 132540...</td>\n",
       "      <td>6</td>\n",
       "      <td>356</td>\n",
       "      <td>0.016854</td>\n",
       "    </tr>\n",
       "  </tbody>\n",
       "</table>\n",
       "</div>"
      ],
      "text/plain": [
       "                                            geometry  old  total       LEI\n",
       "0  POLYGON ((131490 702030, 131490 701970, 131520...    7    376  0.018617\n",
       "1  POLYGON ((131400 701970, 131400 701940, 131430...    7    356  0.019663\n",
       "2  POLYGON ((131460 701970, 131460 701940, 131490...    7    356  0.019663\n",
       "3  POLYGON ((131400 701880, 131400 701850, 131460...    7    376  0.018617\n",
       "4  POLYGON ((132510 701370, 132510 701340, 132540...    6    356  0.016854"
      ]
     },
     "execution_count": 3,
     "metadata": {},
     "output_type": "execute_result"
    }
   ],
   "source": [
    "# This calculates the change from 1990 and 2000\n",
    "lei_raw = lei.calculate_LEI(\n",
    "    input_WSF_proj, old_list=list(range(1985, 1991)), new_list=list(range(1991, 2001))\n",
    ")\n",
    "lei_90_00 = pd.DataFrame(lei_raw, columns=[\"geometry\", \"old\", \"total\"])\n",
    "lei_90_00[\"LEI\"] = lei_90_00[\"old\"] / lei_90_00[\"total\"]\n",
    "lei_90_00.head()"
   ]
  },
  {
   "cell_type": "code",
   "execution_count": 4,
   "metadata": {},
   "outputs": [
    {
     "data": {
      "text/html": [
       "<div>\n",
       "<style scoped>\n",
       "    .dataframe tbody tr th:only-of-type {\n",
       "        vertical-align: middle;\n",
       "    }\n",
       "\n",
       "    .dataframe tbody tr th {\n",
       "        vertical-align: top;\n",
       "    }\n",
       "\n",
       "    .dataframe thead th {\n",
       "        text-align: right;\n",
       "    }\n",
       "</style>\n",
       "<table border=\"1\" class=\"dataframe\">\n",
       "  <thead>\n",
       "    <tr style=\"text-align: right;\">\n",
       "      <th></th>\n",
       "      <th>geometry</th>\n",
       "      <th>old</th>\n",
       "      <th>total</th>\n",
       "      <th>LEI</th>\n",
       "    </tr>\n",
       "  </thead>\n",
       "  <tbody>\n",
       "    <tr>\n",
       "      <th>0</th>\n",
       "      <td>POLYGON ((131430 702030, 131430 701970, 131460...</td>\n",
       "      <td>13</td>\n",
       "      <td>376</td>\n",
       "      <td>0.034574</td>\n",
       "    </tr>\n",
       "    <tr>\n",
       "      <th>1</th>\n",
       "      <td>POLYGON ((131370 701970, 131370 701850, 131400...</td>\n",
       "      <td>13</td>\n",
       "      <td>416</td>\n",
       "      <td>0.031250</td>\n",
       "    </tr>\n",
       "    <tr>\n",
       "      <th>2</th>\n",
       "      <td>POLYGON ((131490 701970, 131490 701940, 131520...</td>\n",
       "      <td>13</td>\n",
       "      <td>356</td>\n",
       "      <td>0.036517</td>\n",
       "    </tr>\n",
       "    <tr>\n",
       "      <th>3</th>\n",
       "      <td>POLYGON ((132480 701400, 132480 701370, 132540...</td>\n",
       "      <td>10</td>\n",
       "      <td>376</td>\n",
       "      <td>0.026596</td>\n",
       "    </tr>\n",
       "    <tr>\n",
       "      <th>4</th>\n",
       "      <td>POLYGON ((132540 701370, 132540 701310, 132570...</td>\n",
       "      <td>10</td>\n",
       "      <td>457</td>\n",
       "      <td>0.021882</td>\n",
       "    </tr>\n",
       "  </tbody>\n",
       "</table>\n",
       "</div>"
      ],
      "text/plain": [
       "                                            geometry  old  total       LEI\n",
       "0  POLYGON ((131430 702030, 131430 701970, 131460...   13    376  0.034574\n",
       "1  POLYGON ((131370 701970, 131370 701850, 131400...   13    416  0.031250\n",
       "2  POLYGON ((131490 701970, 131490 701940, 131520...   13    356  0.036517\n",
       "3  POLYGON ((132480 701400, 132480 701370, 132540...   10    376  0.026596\n",
       "4  POLYGON ((132540 701370, 132540 701310, 132570...   10    457  0.021882"
      ]
     },
     "execution_count": 4,
     "metadata": {},
     "output_type": "execute_result"
    }
   ],
   "source": [
    "# This calculates the change from 2000 and 2015\n",
    "lei_raw = lei.calculate_LEI(\n",
    "    input_WSF_proj, old_list=list(range(1985, 2001)), new_list=list(range(2001, 2016))\n",
    ")\n",
    "lei_00_14 = pd.DataFrame(lei_raw, columns=[\"geometry\", \"old\", \"total\"])\n",
    "lei_00_14[\"LEI\"] = lei_00_14[\"old\"] / lei_00_14[\"total\"]\n",
    "lei_00_14.head()"
   ]
  },
  {
   "cell_type": "code",
   "execution_count": 5,
   "metadata": {},
   "outputs": [
    {
     "data": {
      "text/plain": [
       "class\n",
       "Expansion    6.6150\n",
       "Infill       5.6961\n",
       "Leapfrog     0.0108\n",
       "Name: area, dtype: float64"
      ]
     },
     "execution_count": 5,
     "metadata": {},
     "output_type": "execute_result"
    }
   ],
   "source": [
    "# Calculate summaries of lei\n",
    "lei.summarize_LEI(lei_90_00, leap_val=0.001, exp_val=0.5) / 1000000"
   ]
  },
  {
   "cell_type": "code",
   "execution_count": 6,
   "metadata": {},
   "outputs": [
    {
     "data": {
      "text/plain": [
       "class\n",
       "Expansion    23.0148\n",
       "Infill       19.2915\n",
       "Leapfrog      0.1269\n",
       "Name: area, dtype: float64"
      ]
     },
     "execution_count": 6,
     "metadata": {},
     "output_type": "execute_result"
    }
   ],
   "source": [
    "# Calculate summaries of lei\n",
    "lei.summarize_LEI(lei_00_14, leap_val=0.001, exp_val=0.5) / 1000000"
   ]
  },
  {
   "cell_type": "code",
   "execution_count": null,
   "metadata": {},
   "outputs": [],
   "source": [
    "# write raw LEI results to file\n",
    "lei_90_00.to_csv(os.path.join(input_folder, \"WSF_LEI_90_00.csv\"))\n",
    "lei_00_14.to_csv(os.path.join(input_folder, \"WSF_LEI_00_14.csv\"))"
   ]
  },
  {
   "cell_type": "code",
   "execution_count": null,
   "metadata": {},
   "outputs": [],
   "source": []
  },
  {
   "cell_type": "code",
   "execution_count": null,
   "metadata": {},
   "outputs": [],
   "source": []
  },
  {
   "cell_type": "code",
   "execution_count": 20,
   "metadata": {},
   "outputs": [
    {
     "name": "stdout",
     "output_type": "stream",
     "text": [
      "zip -r BGD_1KM.zip BGD_URBAN_DATA_new_naming/FINAL_STANDARD_1KM\n",
      "zip -r BGD_STANDARD.zip BGD_URBAN_DATA_new_naming/FINAL_STANDARD\n",
      "zip -r TZA_1KM.zip TZA_URBAN_DATA_new_naming/FINAL_STANDARD_1KM\n",
      "zip -r TZA_STANDARD.zip TZA_URBAN_DATA_new_naming/FINAL_STANDARD\n",
      "zip -r GHA_1KM.zip GHA_URBAN_DATA_new_naming/FINAL_STANDARD_1KM\n",
      "zip -r GHA_STANDARD.zip GHA_URBAN_DATA_new_naming/FINAL_STANDARD\n",
      "zip -r ETH_1KM.zip ETH_URBAN_DATA_new_naming/FINAL_STANDARD_1KM\n",
      "zip -r ETH_STANDARD.zip ETH_URBAN_DATA_new_naming/FINAL_STANDARD\n",
      "zip -r EGY_1KM.zip EGY_URBAN_DATA_new_naming/FINAL_STANDARD_1KM\n",
      "zip -r EGY_STANDARD.zip EGY_URBAN_DATA_new_naming/FINAL_STANDARD\n",
      "zip -r COL_1KM.zip COL_URBAN_DATA_new_naming/FINAL_STANDARD_1KM\n",
      "zip -r COL_STANDARD.zip COL_URBAN_DATA_new_naming/FINAL_STANDARD\n",
      "zip -r AGO_1KM.zip AGO_URBAN_DATA_new_naming/FINAL_STANDARD_1KM\n",
      "zip -r AGO_STANDARD.zip AGO_URBAN_DATA_new_naming/FINAL_STANDARD\n",
      "zip -r VNM_1KM.zip VNM_URBAN_DATA_new_naming/FINAL_STANDARD_1KM\n",
      "zip -r VNM_STANDARD.zip VNM_URBAN_DATA_new_naming/FINAL_STANDARD\n"
     ]
    }
   ],
   "source": []
  },
  {
   "cell_type": "code",
   "execution_count": 13,
   "metadata": {},
   "outputs": [
    {
     "data": {
      "text/plain": [
       "'VNM_STANDARD.zip'"
      ]
     },
     "execution_count": 13,
     "metadata": {},
     "output_type": "execute_result"
    }
   ],
   "source": [
    "\"%s_%s.zip\" % (cur_dir.split(\"/\")[-2].split(\"_\")[0], cur_dir.split(\"_\")[-1])"
   ]
  },
  {
   "cell_type": "code",
   "execution_count": 12,
   "metadata": {},
   "outputs": [
    {
     "data": {
      "text/plain": [
       "'STANDARD'"
      ]
     },
     "execution_count": 12,
     "metadata": {},
     "output_type": "execute_result"
    }
   ],
   "source": [
    "cur_dir.split(\"_\")[-1]"
   ]
  },
  {
   "cell_type": "code",
   "execution_count": null,
   "metadata": {},
   "outputs": [],
   "source": []
  }
 ],
 "metadata": {
  "kernelspec": {
   "display_name": "geog",
   "language": "python",
   "name": "python3"
  },
  "language_info": {
   "codemirror_mode": {
    "name": "ipython",
    "version": 3
   },
   "file_extension": ".py",
   "mimetype": "text/x-python",
   "name": "python",
   "nbconvert_exporter": "python",
   "pygments_lexer": "ipython3",
   "version": "3.9.16"
  }
 },
 "nbformat": 4,
 "nbformat_minor": 2
}
