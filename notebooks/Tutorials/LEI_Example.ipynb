{
 "cells": [
  {
   "cell_type": "markdown",
   "metadata": {},
   "source": [
    "# Landscape Expansion Index\n",
    "\n",
    "More details on the wiki - https://github.com/worldbank/GOST_Urban/wiki/Landscape-Expansion-Index\n",
    "\n",
    "The Landscape Expansion Index measures the nature of urbanization, quantifying the new urban landscape as one of the following three categories. The process works by isolating the areas of new urban footprint in your study area, buffering those by a set amount (300 m) and intersecting the buffer donut with the original urban area. LEI is calculated as the ratio of the area of the buffer to the area of the old built area within the buffer (the threshold for each class is customizable). \n",
    "\n",
    "| Expansion Type | Description | \n",
    "| --- | --- |\n",
    "| Infill | > 80% of the donut is in the old urban area |\n",
    "| Expansion | > 20% and < 80% of the donut is in the old urban area |\n",
    "| Leapfrog | < 20% of the donut is in the old urban area |"
   ]
  },
  {
   "cell_type": "code",
   "execution_count": null,
   "metadata": {},
   "outputs": [],
   "source": [
    "import os\n",
    "import rasterio\n",
    "import rasterio.features\n",
    "\n",
    "import geopandas as gpd\n",
    "import pandas as pd\n",
    "\n",
    "import GOSTRocks.rasterMisc as rMisc\n",
    "import GOSTRocks.ghslMisc as ghslMisc\n",
    "import GOSTurban.LEI as lei\n",
    "import GOSTRocks.mapMisc as mapMisc\n",
    "\n",
    "%load_ext autoreload\n",
    "%autoreload 2"
   ]
  },
  {
   "cell_type": "code",
   "execution_count": null,
   "metadata": {},
   "outputs": [],
   "source": [
    "# Define input variables\n",
    "tutorial_folder = \"../../data/tutorial_data\"\n",
    "aoi_file = os.path.join(tutorial_folder, \"AOI_GHSL.geojson\")\n",
    "input_ghsl = os.path.join(tutorial_folder, \"GHSL.tif\")"
   ]
  },
  {
   "cell_type": "code",
   "execution_count": null,
   "metadata": {},
   "outputs": [],
   "source": [
    "# This section will extract GHSL data from global data, if you have the GHSL for the AOI extracted\n",
    "#    define above as input_ghsl\n",
    "if not os.path.exists(input_ghsl):\n",
    "    temp_folder = \"C:/Temp\"\n",
    "    # clip from global GHSL file\n",
    "    ghsl_folder = \"J:/Data/GLOBAL/GHSL/built\"\n",
    "    ghsl_files = [\n",
    "        os.path.join(ghsl_folder, x)\n",
    "        for x in os.listdir(ghsl_folder)\n",
    "        if x.endswith(\".tif\")\n",
    "    ]\n",
    "    inA = gpd.read_file(aoi_file)\n",
    "\n",
    "    temp_ghsl_files = []\n",
    "    for ghsl_file in ghsl_files:\n",
    "        temp_file = os.path.join(temp_folder, os.path.basename(ghsl_file))\n",
    "        temp_ghsl_files.append(temp_file)\n",
    "        if not os.path.exists(temp_file):\n",
    "            rMisc.clipRaster(rasterio.open(ghsl_file), inA, temp_file)\n",
    "\n",
    "    ghsl_res, ghsl_profile = ghslMisc.combine_ghsl_annual(temp_ghsl_files)\n",
    "    with rasterio.open(input_ghsl, \"w\", **ghsl_profile) as outR:\n",
    "        outR.write_band(1, ghsl_res)"
   ]
  },
  {
   "cell_type": "markdown",
   "metadata": {},
   "source": [
    "# GHSL data\n",
    "\n",
    "This tutorial relies on the Global Human Settlement Layer (GHSL) produced by the European Commission ([download the data here])(https://ghsl.jrc.ec.europa.eu/download.php).\n",
    "\n",
    "The current release of the data provides individual layers ber annum of fractional area built per 1 hectare cell. For the LEI examples, we need binary data of existing built and new built. We leverage a function from the [GOSTrocks library](https://github.com/worldbank/GOSTrocks) to combine these multiple yearly layers into a single geotiff with each pixel labelled with the year it was built. "
   ]
  },
  {
   "cell_type": "code",
   "execution_count": null,
   "metadata": {},
   "outputs": [],
   "source": [
    "ghsl_r = rasterio.open(input_ghsl)\n",
    "ghsl_d = ghsl_r.read()\n",
    "ghsl_d[ghsl_d == ghsl_r.meta[\"nodata\"]] = 0\n",
    "\n",
    "thresh = list(range(1975, 2031, 5))\n",
    "with rMisc.create_rasterio_inmemory(ghsl_r.profile, ghsl_d) as temp_ghsl:\n",
    "    mapMisc.static_map_raster(temp_ghsl, thresh=thresh)"
   ]
  },
  {
   "cell_type": "markdown",
   "metadata": {},
   "source": [
    "## Calculate LEI between 1990 and 2000"
   ]
  },
  {
   "cell_type": "code",
   "execution_count": null,
   "metadata": {},
   "outputs": [],
   "source": [
    "# This calculates the change from 1990 and 2000\n",
    "lei_raw = lei.calculate_LEI(\n",
    "    input_ghsl, old_list=list(range(1975, 1991, 5)), new_list=list(range(1995, 2001, 5))\n",
    ")\n",
    "lei_90_00 = gpd.GeoDataFrame(\n",
    "    pd.DataFrame(lei_raw, columns=[\"geometry\", \"old\", \"total\"]),\n",
    "    geometry=\"geometry\",\n",
    "    crs=ghsl_r.crs,\n",
    ")\n",
    "lei_90_00[\"LEI\"] = lei_90_00[\"old\"] / lei_90_00[\"total\"]\n",
    "\n",
    "lei_90_00.head()"
   ]
  },
  {
   "cell_type": "code",
   "execution_count": null,
   "metadata": {},
   "outputs": [],
   "source": [
    "# Map LEI results\n",
    "leap_val = 0.30\n",
    "exp_val = 0.70\n",
    "lei_90_00[\"area\"] = lei_90_00[\"geometry\"].apply(lambda x: x.area)\n",
    "\n",
    "\n",
    "def calculate_LEI(val, leap_val, exp_val):\n",
    "    if val <= leap_val:\n",
    "        return 3\n",
    "    elif val < exp_val:\n",
    "        return 2\n",
    "    else:\n",
    "        return 1\n",
    "\n",
    "\n",
    "lei_90_00[\"class\"] = lei_90_00[\"LEI\"].apply(\n",
    "    lambda x: calculate_LEI(x, leap_val, exp_val)\n",
    ")\n",
    "mapMisc.static_map_vector(\n",
    "    lei_90_00, \"class\", edgecolor=\"match\", colormap=\"Dark2\"\n",
    ")  # , basemap=ctx.providers.CartoDB.Voyager)"
   ]
  },
  {
   "cell_type": "code",
   "execution_count": null,
   "metadata": {},
   "outputs": [],
   "source": [
    "# Calculate summaries of lei as area (km2) in each class\n",
    "lei.summarize_LEI(lei_90_00, leap_val=0.05, exp_val=0.75) / 1000000"
   ]
  },
  {
   "cell_type": "markdown",
   "metadata": {},
   "source": [
    "## Calculate LEI between 2000 and 2030"
   ]
  },
  {
   "cell_type": "code",
   "execution_count": null,
   "metadata": {},
   "outputs": [],
   "source": [
    "# This calculates the change from 2000 and 2014\n",
    "lei_raw = lei.calculate_LEI(\n",
    "    input_ghsl, old_list=list(range(1975, 2011, 5)), new_list=list(range(2015, 2030, 5))\n",
    ")\n",
    "lei_00_14 = pd.DataFrame(lei_raw, columns=[\"geometry\", \"old\", \"total\"])\n",
    "lei_00_14[\"LEI\"] = lei_00_14[\"old\"] / lei_00_14[\"total\"]\n",
    "lei_00_14.head()"
   ]
  },
  {
   "cell_type": "code",
   "execution_count": null,
   "metadata": {},
   "outputs": [],
   "source": [
    "# Map LEI results\n",
    "leap_val = 0.30\n",
    "exp_val = 0.70\n",
    "lei_90_00[\"area\"] = lei_90_00[\"geometry\"].apply(lambda x: x.area)\n",
    "\n",
    "\n",
    "# def calculate_LEI(val, leap_val, exp_val):\n",
    "#     if val <= leap_val:\n",
    "#         return 3\n",
    "#     elif val < exp_val:\n",
    "#         return 2\n",
    "#     else:\n",
    "#         return 1\n",
    "\n",
    "\n",
    "lei_90_00[\"class\"] = lei_90_00[\"LEI\"].apply(\n",
    "    lambda x: calculate_LEI(x, leap_val, exp_val)\n",
    ")\n",
    "mapMisc.static_map_vector(\n",
    "    lei_90_00, \"class\", edgecolor=\"match\", colormap=\"Dark2\"\n",
    ")  # , basemap=ctx.providers.CartoDB.Voyager)"
   ]
  },
  {
   "cell_type": "code",
   "execution_count": null,
   "metadata": {},
   "outputs": [],
   "source": [
    "# Calculate summaries of lei\n",
    "lei.summarize_LEI(lei_00_14, leap_val=0.05, exp_val=0.75) / 1000000"
   ]
  },
  {
   "cell_type": "code",
   "execution_count": null,
   "metadata": {},
   "outputs": [],
   "source": [
    "# write raw LEI results to file\n",
    "input_folder = \".\"\n",
    "lei_90_00.to_csv(os.path.join(input_folder, \"GHSL_LEI_90_00.csv\"))\n",
    "lei_00_14.to_csv(os.path.join(input_folder, \"GHSL_LEI_00_14.csv\"))"
   ]
  },
  {
   "cell_type": "code",
   "execution_count": null,
   "metadata": {},
   "outputs": [],
   "source": []
  }
 ],
 "metadata": {
  "kernelspec": {
   "display_name": "worldbank",
   "language": "python",
   "name": "python3"
  },
  "language_info": {
   "name": "python",
   "version": "3.10.13"
  }
 },
 "nbformat": 4,
 "nbformat_minor": 2
}
