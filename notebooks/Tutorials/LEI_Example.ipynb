{
 "cells": [
  {
   "cell_type": "markdown",
   "metadata": {},
   "source": [
    "# Landscape Expansion Index\n",
    "\n",
    "More details on the wiki - https://github.com/worldbank/GOST_Urban/wiki/Landscape-Expansion-Index\n",
    "\n",
    "The Landscape Expansion Index measures the nature of urbanization, quantifying the new urban landscape as one of the following three categories. The process works by isolating the areas of new urban footprint in your study area, buffering those by a set amount (300 m) and intersecting the buffer donut with the original urban area. LEI is calculated as the ratio of the area of the buffer to the area of the old built area within the buffer (the threshold for each class is customizeable). \n",
    "\n",
    "| Expansion Type | Description | \n",
    "| --- | --- |\n",
    "| Infill | > 80% of the donut is in the old urban area |\n",
    "| Expansion | > 20% and < 80% of the donut is in the old urban area |\n",
    "| Leapfrog | < 20% of the donut is in the old urban area |"
   ]
  },
  {
   "cell_type": "code",
   "execution_count": 1,
   "metadata": {},
   "outputs": [],
   "source": [
    "import os\n",
    "import sys\n",
    "import importlib\n",
    "import rasterio\n",
    "import rasterio.features\n",
    "\n",
    "import geopandas as gpd\n",
    "import pandas as pd\n",
    "import numpy as np\n",
    "\n",
    "import GOSTrocks.rasterMisc as rMisc\n",
    "import GOSTrocks.ghslMisc as ghslMisc\n",
    "import GOSTurban.LEI as lei\n",
    "\n",
    "%load_ext autoreload\n",
    "%autoreload 2"
   ]
  },
  {
   "cell_type": "code",
   "execution_count": 2,
   "metadata": {
    "scrolled": true
   },
   "outputs": [],
   "source": [
    "# Define input variables\n",
    "tutorial_folder = \"../../data/tutorial_data\"\n",
    "aoi_file = os.path.join(tutorial_folder, \"AOI_GHSL.geojson\")\n",
    "input_ghsl = os.path.join(tutorial_folder, \"GHSL.tif\")"
   ]
  },
  {
   "cell_type": "code",
   "execution_count": 3,
   "metadata": {
    "scrolled": true
   },
   "outputs": [],
   "source": [
    "# This section will extract GHSL data from global data, if you have the GHSL for the AOI extracted\n",
    "#    define above as input_ghsl\n",
    "if not os.path.exists(input_ghsl):\n",
    "    temp_folder = \"C:/Temp\"\n",
    "    # clip from global GHSL file\n",
    "    ghsl_folder = \"J:/Data/GLOBAL/GHSL/built\"\n",
    "    ghsl_files = [os.path.join(ghsl_folder, x) for x in os.listdir(ghsl_folder) if x.endswith(\".tif\")]    \n",
    "    inA = gpd.read_file(aoi_file)\n",
    "    \n",
    "    temp_ghsl_files = []\n",
    "    for ghsl_file in ghsl_files:\n",
    "        temp_file = os.path.join(temp_folder, os.path.basename(ghsl_file))\n",
    "        temp_ghsl_files.append(temp_file)\n",
    "        if not os.path.exists(temp_file):\n",
    "            rMisc.clipRaster(rasterio.open(ghsl_file), inA, temp_file)\n",
    "            \n",
    "    ghsl_res, ghsl_profile = ghslMisc.combine_ghsl_annual(temp_ghsl_files)\n",
    "    with rasterio.open(input_ghsl, 'w', **ghsl_profile) as outR:\n",
    "        outR.write_band(1, ghsl_res)"
   ]
  },
  {
   "cell_type": "markdown",
   "metadata": {},
   "source": [
    "# GHSL data\n",
    "\n",
    "This tutorial relies on the Global Human Settlement Layer (GHSL) produced by the European Commission ([download the data here])(https://ghsl.jrc.ec.europa.eu/download.php).\n",
    "\n",
    "The current release of the data provides individual layers ber annum of fractional area built per 1 hectare cell. For the LEI examples, we need binary data of existing built and new built. We leverage a function from the [GOSTrocks library](https://github.com/worldbank/GOSTrocks) to combine these multiple yearly layers into a single geotiff with each pixel labelled with the year it was built. "
   ]
  },
  {
   "cell_type": "code",
   "execution_count": 4,
   "metadata": {},
   "outputs": [
    {
     "data": {
      "text/html": [
       "<div>\n",
       "<style scoped>\n",
       "    .dataframe tbody tr th:only-of-type {\n",
       "        vertical-align: middle;\n",
       "    }\n",
       "\n",
       "    .dataframe tbody tr th {\n",
       "        vertical-align: top;\n",
       "    }\n",
       "\n",
       "    .dataframe thead th {\n",
       "        text-align: right;\n",
       "    }\n",
       "</style>\n",
       "<table border=\"1\" class=\"dataframe\">\n",
       "  <thead>\n",
       "    <tr style=\"text-align: right;\">\n",
       "      <th></th>\n",
       "      <th>geometry</th>\n",
       "      <th>old</th>\n",
       "      <th>total</th>\n",
       "      <th>LEI</th>\n",
       "    </tr>\n",
       "  </thead>\n",
       "  <tbody>\n",
       "    <tr>\n",
       "      <th>0</th>\n",
       "      <td>POLYGON ((-6568500 4707300, -6568500 4707200, ...</td>\n",
       "      <td>23</td>\n",
       "      <td>25</td>\n",
       "      <td>0.92</td>\n",
       "    </tr>\n",
       "    <tr>\n",
       "      <th>1</th>\n",
       "      <td>POLYGON ((-6568200 4707300, -6568200 4707200, ...</td>\n",
       "      <td>23</td>\n",
       "      <td>25</td>\n",
       "      <td>0.92</td>\n",
       "    </tr>\n",
       "    <tr>\n",
       "      <th>2</th>\n",
       "      <td>POLYGON ((-6565700 4707300, -6565700 4707200, ...</td>\n",
       "      <td>22</td>\n",
       "      <td>25</td>\n",
       "      <td>0.88</td>\n",
       "    </tr>\n",
       "    <tr>\n",
       "      <th>3</th>\n",
       "      <td>POLYGON ((-6563800 4707300, -6563800 4707200, ...</td>\n",
       "      <td>16</td>\n",
       "      <td>25</td>\n",
       "      <td>0.64</td>\n",
       "    </tr>\n",
       "    <tr>\n",
       "      <th>4</th>\n",
       "      <td>POLYGON ((-6560800 4707300, -6560800 4707200, ...</td>\n",
       "      <td>23</td>\n",
       "      <td>25</td>\n",
       "      <td>0.92</td>\n",
       "    </tr>\n",
       "  </tbody>\n",
       "</table>\n",
       "</div>"
      ],
      "text/plain": [
       "                                            geometry  old  total   LEI\n",
       "0  POLYGON ((-6568500 4707300, -6568500 4707200, ...   23     25  0.92\n",
       "1  POLYGON ((-6568200 4707300, -6568200 4707200, ...   23     25  0.92\n",
       "2  POLYGON ((-6565700 4707300, -6565700 4707200, ...   22     25  0.88\n",
       "3  POLYGON ((-6563800 4707300, -6563800 4707200, ...   16     25  0.64\n",
       "4  POLYGON ((-6560800 4707300, -6560800 4707200, ...   23     25  0.92"
      ]
     },
     "execution_count": 4,
     "metadata": {},
     "output_type": "execute_result"
    }
   ],
   "source": [
    "# This calculates the change from 1990 and 2000\n",
    "lei_raw = lei.calculate_LEI(input_ghsl, old_list=list(range(1975,1991,5)), new_list=list(range(1995,2001,5)))\n",
    "lei_90_00 = pd.DataFrame(lei_raw, columns=[\"geometry\", \"old\", \"total\"])\n",
    "lei_90_00[\"LEI\"] = lei_90_00[\"old\"] / lei_90_00[\"total\"]\n",
    "lei_90_00.head()"
   ]
  },
  {
   "cell_type": "code",
   "execution_count": 10,
   "metadata": {},
   "outputs": [
    {
     "data": {
      "text/plain": [
       "class\n",
       "Expansion    242.40\n",
       "Infill        75.35\n",
       "Leapfrog       0.38\n",
       "Name: area, dtype: float64"
      ]
     },
     "execution_count": 10,
     "metadata": {},
     "output_type": "execute_result"
    }
   ],
   "source": [
    "# Calculate summaries of lei\n",
    "lei.summarize_LEI(lei_90_00, leap_val=0.05, exp_val=0.75) / 1000000"
   ]
  },
  {
   "cell_type": "code",
   "execution_count": 8,
   "metadata": {},
   "outputs": [
    {
     "data": {
      "text/html": [
       "<div>\n",
       "<style scoped>\n",
       "    .dataframe tbody tr th:only-of-type {\n",
       "        vertical-align: middle;\n",
       "    }\n",
       "\n",
       "    .dataframe tbody tr th {\n",
       "        vertical-align: top;\n",
       "    }\n",
       "\n",
       "    .dataframe thead th {\n",
       "        text-align: right;\n",
       "    }\n",
       "</style>\n",
       "<table border=\"1\" class=\"dataframe\">\n",
       "  <thead>\n",
       "    <tr style=\"text-align: right;\">\n",
       "      <th></th>\n",
       "      <th>geometry</th>\n",
       "      <th>old</th>\n",
       "      <th>total</th>\n",
       "      <th>LEI</th>\n",
       "    </tr>\n",
       "  </thead>\n",
       "  <tbody>\n",
       "    <tr>\n",
       "      <th>0</th>\n",
       "      <td>POLYGON ((-6566200 4707300, -6566200 4707200, ...</td>\n",
       "      <td>16</td>\n",
       "      <td>25</td>\n",
       "      <td>0.640000</td>\n",
       "    </tr>\n",
       "    <tr>\n",
       "      <th>1</th>\n",
       "      <td>POLYGON ((-6564500 4707300, -6564500 4707200, ...</td>\n",
       "      <td>16</td>\n",
       "      <td>28</td>\n",
       "      <td>0.571429</td>\n",
       "    </tr>\n",
       "    <tr>\n",
       "      <th>2</th>\n",
       "      <td>POLYGON ((-6564100 4707300, -6564100 4707200, ...</td>\n",
       "      <td>22</td>\n",
       "      <td>25</td>\n",
       "      <td>0.880000</td>\n",
       "    </tr>\n",
       "    <tr>\n",
       "      <th>3</th>\n",
       "      <td>POLYGON ((-6558000 4707300, -6558000 4707200, ...</td>\n",
       "      <td>17</td>\n",
       "      <td>18</td>\n",
       "      <td>0.944444</td>\n",
       "    </tr>\n",
       "    <tr>\n",
       "      <th>4</th>\n",
       "      <td>POLYGON ((-6599900 4707200, -6599900 4707100, ...</td>\n",
       "      <td>17</td>\n",
       "      <td>32</td>\n",
       "      <td>0.531250</td>\n",
       "    </tr>\n",
       "  </tbody>\n",
       "</table>\n",
       "</div>"
      ],
      "text/plain": [
       "                                            geometry  old  total       LEI\n",
       "0  POLYGON ((-6566200 4707300, -6566200 4707200, ...   16     25  0.640000\n",
       "1  POLYGON ((-6564500 4707300, -6564500 4707200, ...   16     28  0.571429\n",
       "2  POLYGON ((-6564100 4707300, -6564100 4707200, ...   22     25  0.880000\n",
       "3  POLYGON ((-6558000 4707300, -6558000 4707200, ...   17     18  0.944444\n",
       "4  POLYGON ((-6599900 4707200, -6599900 4707100, ...   17     32  0.531250"
      ]
     },
     "execution_count": 8,
     "metadata": {},
     "output_type": "execute_result"
    }
   ],
   "source": [
    "# This calculates the change from 2000 and 2014\n",
    "lei_raw = lei.calculate_LEI(input_ghsl, old_list=list(range(1975,2011,5)), new_list=list(range(2015,2030,5)))\n",
    "lei_00_14 = pd.DataFrame(lei_raw, columns=[\"geometry\", \"old\", \"total\"])\n",
    "lei_00_14[\"LEI\"] = lei_00_14[\"old\"] / lei_00_14[\"total\"]\n",
    "lei_00_14.head()"
   ]
  },
  {
   "cell_type": "code",
   "execution_count": 9,
   "metadata": {},
   "outputs": [
    {
     "data": {
      "text/plain": [
       "class\n",
       "Expansion    284.73\n",
       "Infill       143.53\n",
       "Leapfrog       0.85\n",
       "Name: area, dtype: float64"
      ]
     },
     "execution_count": 9,
     "metadata": {},
     "output_type": "execute_result"
    }
   ],
   "source": [
    "# Calculate summaries of lei\n",
    "lei.summarize_LEI(lei_00_14, leap_val=0.05, exp_val=0.75) / 1000000"
   ]
  },
  {
   "cell_type": "code",
   "execution_count": null,
   "metadata": {},
   "outputs": [],
   "source": [
    "# write raw LEI results to file\n",
    "lei_90_00.to_csv(os.path.join(input_folder, \"GHSL_LEI_90_00.csv\"))\n",
    "lei_00_14.to_csv(os.path.join(input_folder, \"GHSL_LEI_00_14.csv\"))"
   ]
  }
 ],
 "metadata": {
  "kernelspec": {
   "display_name": "urban_test",
   "language": "python",
   "name": "urban_test"
  },
  "language_info": {
   "codemirror_mode": {
    "name": "ipython",
    "version": 3
   },
   "file_extension": ".py",
   "mimetype": "text/x-python",
   "name": "python",
   "nbconvert_exporter": "python",
   "pygments_lexer": "ipython3",
   "version": "3.12.2"
  }
 },
 "nbformat": 4,
 "nbformat_minor": 2
}
