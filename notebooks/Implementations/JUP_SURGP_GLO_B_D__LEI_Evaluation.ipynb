{
 "cells": [
  {
   "attachments": {},
   "cell_type": "markdown",
   "metadata": {},
   "source": [
    "# Calculating LEI\n",
    "\n",
    "This script is used for exploring LEI methods - in order to calculate LEI proper, look for the LEIFast.py script in GOST_Rocks/Urban; this implements multi-threading."
   ]
  },
  {
   "cell_type": "code",
   "execution_count": 1,
   "metadata": {},
   "outputs": [
    {
     "ename": "ModuleNotFoundError",
     "evalue": "No module named 'src.LEI'",
     "output_type": "error",
     "traceback": [
      "\u001b[0;31m---------------------------------------------------------------------------\u001b[0m",
      "\u001b[0;31mModuleNotFoundError\u001b[0m                       Traceback (most recent call last)",
      "\u001b[0;32m/tmp/ipykernel_81457/3673388608.py\u001b[0m in \u001b[0;36m<module>\u001b[0;34m\u001b[0m\n\u001b[1;32m     14\u001b[0m \u001b[0;31m#Import GOST urban functions\u001b[0m\u001b[0;34m\u001b[0m\u001b[0;34m\u001b[0m\u001b[0m\n\u001b[1;32m     15\u001b[0m \u001b[0msys\u001b[0m\u001b[0;34m.\u001b[0m\u001b[0mpath\u001b[0m\u001b[0;34m.\u001b[0m\u001b[0mappend\u001b[0m\u001b[0;34m(\u001b[0m\u001b[0;34m\"../../\"\u001b[0m\u001b[0;34m)\u001b[0m\u001b[0;34m\u001b[0m\u001b[0;34m\u001b[0m\u001b[0m\n\u001b[0;32m---> 16\u001b[0;31m \u001b[0;32mfrom\u001b[0m \u001b[0msrc\u001b[0m\u001b[0;34m.\u001b[0m\u001b[0mLEI\u001b[0m \u001b[0;32mimport\u001b[0m \u001b[0;34m*\u001b[0m\u001b[0;34m\u001b[0m\u001b[0;34m\u001b[0m\u001b[0m\n\u001b[0m",
      "\u001b[0;31mModuleNotFoundError\u001b[0m: No module named 'src.LEI'"
     ]
    }
   ],
   "source": [
    "import os\n",
    "import sys\n",
    "\n",
    "import rasterio\n",
    "import rasterio.features\n",
    "\n",
    "import pandas as pd\n",
    "import numpy as np\n",
    "\n",
    "from matplotlib import pyplot\n",
    "from rasterio.plot import show\n",
    "\n",
    "# Import GOST urban functions\n",
    "sys.path.append(\"../../\")\n",
    "from src.LEI import *"
   ]
  },
  {
   "cell_type": "code",
   "execution_count": null,
   "metadata": {
    "scrolled": true
   },
   "outputs": [],
   "source": [
    "LEI_folder = \"/home/wb411133/data/Projects/LEI\"\n",
    "results = {}\n",
    "GHSL_files = []\n",
    "for root, dirs, files in os.walk(LEI_folder):\n",
    "    if os.path.exists(os.path.join(root, \"GHSL.tif\")):\n",
    "        GHSL_files.append(os.path.join(root, \"GHSL.tif\"))\n",
    "    try:\n",
    "        results[os.path.basename(root)] = [\n",
    "            len(files),\n",
    "            os.stat(os.path.join(root, \"GHSL.tif\")).st_size,\n",
    "        ]\n",
    "        if len(files) != 6:\n",
    "            print(\n",
    "                \"%s - %s\"\n",
    "                % (\n",
    "                    os.path.basename(root),\n",
    "                    os.stat(os.path.join(root, \"GHSL.tif\")).st_size,\n",
    "                )\n",
    "            )\n",
    "    except:\n",
    "        pass"
   ]
  },
  {
   "attachments": {},
   "cell_type": "markdown",
   "metadata": {},
   "source": [
    "# Vizualize raster data - GHSL"
   ]
  },
  {
   "cell_type": "code",
   "execution_count": null,
   "metadata": {},
   "outputs": [],
   "source": [
    "root = \"/home/wb411133/data/Projects/LEI/634/\"\n",
    "inputGHSL = os.path.join(root, \"GHSL.tif\")\n",
    "inRaster = rasterio.open(inputGHSL)\n",
    "inR = inRaster.read()\n",
    "\n",
    "newR = (inR == 3).astype(\"int\")\n",
    "oldR = (np.isin(inR, [4, 5, 6])).astype(\"int\")"
   ]
  },
  {
   "cell_type": "code",
   "execution_count": null,
   "metadata": {},
   "outputs": [],
   "source": [
    "fig, (axr, axg) = pyplot.subplots(1, 2, figsize=(20, 20))\n",
    "show(oldR, ax=axr, title=\"OLD\")\n",
    "show(newR, ax=axg, title=\"NEW\")"
   ]
  },
  {
   "cell_type": "code",
   "execution_count": null,
   "metadata": {},
   "outputs": [],
   "source": [
    "# write out raster to file\n",
    "outProperties = inRaster.profile\n",
    "outRaster = outRaster.astype(\"int32\")\n",
    "outProperties[\"dtype\"] = \"int32\"\n",
    "with rasterio.open(inputGHSL.replace(\".tif\", \"_LEI.tif\"), \"w\", **outProperties) as out:\n",
    "    out.write(outRaster)"
   ]
  },
  {
   "attachments": {},
   "cell_type": "markdown",
   "metadata": {},
   "source": [
    "# Calculate LEI"
   ]
  },
  {
   "cell_type": "code",
   "execution_count": null,
   "metadata": {
    "scrolled": true
   },
   "outputs": [],
   "source": [
    "for ghsl_file in GHSL_files:\n",
    "    print(f\"{ghsl_file}\")\n",
    "    out_file = ghsl_file.replace(\".tif\", \"new_LEI_90_00.csv\")\n",
    "    if not os.path.exists(out_file):\n",
    "        lei = calculate_LEI(ghsl_file, old_list=[5, 6], new_list=[4])\n",
    "        xx = pd.DataFrame(lei, columns=[\"geometry\", \"old\", \"total\"])\n",
    "        xx[\"LEI\"] = xx[\"old\"] / xx[\"total\"]\n",
    "        xx.to_csv(out_file)"
   ]
  },
  {
   "cell_type": "code",
   "execution_count": null,
   "metadata": {},
   "outputs": [],
   "source": [
    "# Process LEI results\n",
    "base_folder = \"/home/wb411133/data/Projects/LEI\"\n",
    "all_results_files = []\n",
    "for root, folders, files in os.walk(base_folder):\n",
    "    for f in files:\n",
    "        if \"GHSLnew_LEI_90_00\" in f:\n",
    "            all_results_files.append(os.path.join(root, f))"
   ]
  },
  {
   "cell_type": "code",
   "execution_count": null,
   "metadata": {},
   "outputs": [],
   "source": [
    "summarized_results = {}\n",
    "for res_file in all_results_files:\n",
    "    res = summarize_LEI(res_file)\n",
    "    baseName = os.path.basename(os.path.dirname(res_file))\n",
    "    summarized_results[baseName] = res"
   ]
  },
  {
   "cell_type": "code",
   "execution_count": null,
   "metadata": {},
   "outputs": [],
   "source": [
    "all_results = pd.DataFrame(summarized_results).transpose()\n",
    "# Old test to determine which files were not processed correctly\n",
    "# bas_res = all_results[all_results['Expansion'] == 123282000.0].index\n",
    "all_results.head()"
   ]
  },
  {
   "cell_type": "code",
   "execution_count": null,
   "metadata": {},
   "outputs": [],
   "source": [
    "all_results.to_csv(os.path.join(LEI_folder, \"Summarized_LEI_Results_90_00.csv\"))"
   ]
  },
  {
   "attachments": {},
   "cell_type": "markdown",
   "metadata": {},
   "source": [
    "# Summarize total built per city"
   ]
  },
  {
   "cell_type": "code",
   "execution_count": null,
   "metadata": {},
   "outputs": [],
   "source": [
    "all_res = {}\n",
    "for g_file in GHSL_files:\n",
    "    city = os.path.basename(os.path.dirname(g_file))\n",
    "    inR = rasterio.open(g_file)\n",
    "    inD = inR.read()\n",
    "    built2014 = (inD >= 3).sum() * (30 * 30)\n",
    "    built2000 = (inD >= 4).sum() * (30 * 30)\n",
    "    built1990 = (inD >= 5).sum() * (30 * 30)\n",
    "    built1975 = (inD >= 6).sum() * (30 * 30)\n",
    "    all_res[city] = [built1975, built1990, built2000, built2014]\n",
    "    print(city)"
   ]
  },
  {
   "cell_type": "code",
   "execution_count": null,
   "metadata": {},
   "outputs": [],
   "source": [
    "xx = pd.DataFrame(all_res).head().transpose()\n",
    "xx.columns = [\"built75\", \"built90\", \"built00\", \"built14\"]\n",
    "# xx[xx.index.isin(['1'])]\n",
    "xx.head()"
   ]
  },
  {
   "cell_type": "code",
   "execution_count": null,
   "metadata": {},
   "outputs": [],
   "source": [
    "xx.to_csv(\"/home/wb411133/temp/LEI_cities_built.csv\")"
   ]
  },
  {
   "attachments": {},
   "cell_type": "markdown",
   "metadata": {},
   "source": [
    "# Combining results"
   ]
  },
  {
   "cell_type": "code",
   "execution_count": null,
   "metadata": {},
   "outputs": [],
   "source": [
    "csv_files = [x for x in os.listdir(LEI_folder) if x[-4:] == \".csv\"]\n",
    "lei0014 = pd.read_csv(\n",
    "    os.path.join(LEI_folder, \"Summarized_LEI_Results.csv\"), index_col=0\n",
    ")\n",
    "lei0014.columns = [\"%s_0014\" % x for x in lei0014.columns]\n",
    "\n",
    "lei9014 = pd.read_csv(\n",
    "    os.path.join(LEI_folder, \"Summarized_LEI_Results_90_0014.csv\"), index_col=0\n",
    ")\n",
    "lei9014.columns = [\"%s_9014\" % x for x in lei9014.columns]\n",
    "\n",
    "lei9000 = pd.read_csv(\n",
    "    os.path.join(LEI_folder, \"Summarized_LEI_Results_90_00.csv\"), index_col=0\n",
    ")\n",
    "lei9000.columns = [\"%s_9000\" % x for x in lei9000.columns]\n",
    "\n",
    "built_area = pd.read_csv(\"/home/wb411133/temp/LEI_cities_built.csv\", index_col=0)\n",
    "built_area.columns = [\"%s_BUILT\" % x for x in built_area.columns]"
   ]
  },
  {
   "cell_type": "code",
   "execution_count": null,
   "metadata": {},
   "outputs": [],
   "source": [
    "combined_results = lei0014.join(lei9014).join(lei9000).join(built_area)"
   ]
  },
  {
   "cell_type": "code",
   "execution_count": null,
   "metadata": {},
   "outputs": [],
   "source": [
    "combined_results.to_csv(os.path.join(LEI_folder, \"LEI_COMBINED.csv\"))"
   ]
  },
  {
   "cell_type": "code",
   "execution_count": null,
   "metadata": {},
   "outputs": [],
   "source": [
    "(\n",
    "    combined_results[\"Expansion_0014\"]\n",
    "    + combined_results[\"Infill_0014\"]\n",
    "    + combined_results[\"Leapfrog_0014\"]\n",
    "    - (combined_results[\"built14_BUILT\"] - combined_results[\"built00_BUILT\"])\n",
    ")"
   ]
  },
  {
   "cell_type": "code",
   "execution_count": null,
   "metadata": {},
   "outputs": [],
   "source": [
    "built_area.head()"
   ]
  },
  {
   "attachments": {},
   "cell_type": "markdown",
   "metadata": {},
   "source": [
    "# Summarizing methods"
   ]
  },
  {
   "cell_type": "code",
   "execution_count": null,
   "metadata": {},
   "outputs": [],
   "source": [
    "in_ghsl = \"/home/wb411133/data/Projects/LEI/1/GHSL.tif\"\n",
    "inR = rasterio.open(in_ghsl)\n",
    "inD = inR.read()"
   ]
  },
  {
   "cell_type": "code",
   "execution_count": null,
   "metadata": {},
   "outputs": [],
   "source": [
    "# Get cell counts of each built category\n",
    "built2014 = (inD >= 3).sum()\n",
    "built2000 = (inD >= 4).sum()\n",
    "built1990 = (inD >= 5).sum()\n",
    "built1975 = (inD >= 6).sum()"
   ]
  },
  {
   "cell_type": "code",
   "execution_count": null,
   "metadata": {},
   "outputs": [],
   "source": [
    "print(\"%s\\n%s\\n%s\\n%s\" % (built2014, built2000, built1990, built1975))"
   ]
  },
  {
   "cell_type": "code",
   "execution_count": null,
   "metadata": {},
   "outputs": [],
   "source": []
  },
  {
   "cell_type": "code",
   "execution_count": null,
   "metadata": {},
   "outputs": [],
   "source": [
    "lei_2000_2014 = calculate_LEI(in_ghsl, old_list=[4, 5, 6], new_list=[3])\n",
    "lei_1990_2000 = calculate_LEI(in_ghsl, old_list=[5, 6], new_list=[4])"
   ]
  },
  {
   "cell_type": "code",
   "execution_count": null,
   "metadata": {},
   "outputs": [],
   "source": [
    "xx = pd.DataFrame(lei, columns=[\"geometry\", \"old\", \"total\"])\n",
    "xx[\"LEI\"] = xx[\"old\"] / xx[\"total\"]"
   ]
  },
  {
   "cell_type": "code",
   "execution_count": null,
   "metadata": {},
   "outputs": [],
   "source": [
    "in_file = \"/home/wb411133/data/Projects/LEI/1/GHSLnew_LEI_90_00.csv\"\n",
    "inD = pd.read_csv(in_file, index_col=0)\n",
    "inD.head()"
   ]
  },
  {
   "cell_type": "code",
   "execution_count": null,
   "metadata": {},
   "outputs": [],
   "source": [
    "summarize_LEI(in_file)"
   ]
  }
 ],
 "metadata": {
  "kernelspec": {
   "display_name": "Python (geog)",
   "language": "python",
   "name": "geog"
  },
  "language_info": {
   "codemirror_mode": {
    "name": "ipython",
    "version": 3
   },
   "file_extension": ".py",
   "mimetype": "text/x-python",
   "name": "python",
   "nbconvert_exporter": "python",
   "pygments_lexer": "ipython3",
   "version": "3.9.7"
  }
 },
 "nbformat": 4,
 "nbformat_minor": 2
}
