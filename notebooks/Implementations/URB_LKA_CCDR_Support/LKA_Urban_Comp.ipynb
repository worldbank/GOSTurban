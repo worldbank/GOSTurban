{
 "cells": [
  {
   "cell_type": "markdown",
   "id": "0",
   "metadata": {},
   "source": [
    "# Urbanization comparison\n",
    "\n",
    "Compare the multiple urban extents in the project\n",
    "\n",
    "1. Official administrative boundaries provided by the project team.  \n",
    "  a. Need to get metadata on these boundaries from Swati  \n",
    "2. Official administrative boundaries with buffers  \n",
    "  a. Why these specific buffer distances?  \n",
    "3. DoU boundaries  \n",
    "  a. Which population source  \n"
   ]
  },
  {
   "cell_type": "code",
   "execution_count": null,
   "id": "1",
   "metadata": {},
   "outputs": [],
   "source": [
    "import os\n",
    "import rasterio\n",
    "\n",
    "import pandas as pd\n",
    "import geopandas as gpd\n",
    "\n",
    "import GOSTurban.UrbanRaster as urban\n",
    "import GOSTurban"
   ]
  },
  {
   "cell_type": "code",
   "execution_count": null,
   "id": "2",
   "metadata": {},
   "outputs": [],
   "source": [
    "base_folder = \"C:/WBG/Work/LKA_URB_CCDR/Data\"\n",
    "urban_folder = os.path.join(base_folder, \"Urban_extents\")\n",
    "population_folder = os.path.join(base_folder, \"Population\")\n",
    "\n",
    "worldpop_file = os.path.join(population_folder, \"lka_ppp_2020_UNadj.tif\")\n",
    "combo_extents = os.path.join(urban_folder, \"combo_extents.shp\")"
   ]
  },
  {
   "cell_type": "code",
   "execution_count": null,
   "id": "3",
   "metadata": {},
   "outputs": [],
   "source": [
    "# Combine all the urban extents into a single file\n",
    "if not os.path.exists(combo_extents):\n",
    "    urban_extents = [\n",
    "        x\n",
    "        for x in os.listdir(os.path.join(urban_folder, \"Final_AoI\"))\n",
    "        if x.endswith(\".shp\")\n",
    "    ]\n",
    "    all_extents = []\n",
    "    for urban_extent in urban_extents:\n",
    "        urban_extent_gdf = gpd.read_file(\n",
    "            os.path.join(urban_folder, \"Final_AoI\", urban_extent)\n",
    "        )\n",
    "        type = urban_extent.split(\"_\")[1].replace(\".shp\", \"\").lower()\n",
    "        if type == \"colombo\":\n",
    "            type = \"city\"\n",
    "            if \"buffer\" in urban_extent:\n",
    "                type = \"20km\"\n",
    "        urban_extent_gdf[\"Type\"] = type\n",
    "        all_extents.append(urban_extent_gdf)\n",
    "\n",
    "    all_extents_gdf = gpd.GeoDataFrame(pd.concat(all_extents, ignore_index=True))\n",
    "    all_extents_gdf.to_file(combo_extents)\n",
    "else:\n",
    "    all_extents_gdf = gpd.read_file(combo_extents)"
   ]
  },
  {
   "cell_type": "code",
   "execution_count": null,
   "id": "4",
   "metadata": {},
   "outputs": [],
   "source": [
    "# extract urban extents from population grids\n",
    "for pop_layer, name in [[worldpop_file, \"WorldPop\"]]:\n",
    "    urb_out_file = os.path.join(urban_folder, \"DOU_urb_extent_%s.shp\" % name)\n",
    "    hd_out_file = os.path.join(urban_folder, \"DOU_hd_extent_%s.shp\" % name)\n",
    "    if not os.path.exists(hd_out_file):\n",
    "        curPop = rasterio.open(pop_layer)\n",
    "        urban_calculator = urban.urbanGriddedPop(curPop)\n",
    "        urban_extents = urban_calculator.calculateUrban(\n",
    "            densVal=3, totalPopThresh=5000, smooth=False, queen=False, verbose=True\n",
    "        )\n",
    "        urban_extents[\"Type\"] = name\n",
    "        urban_extents.to_file(urb_out_file)\n",
    "\n",
    "        hd_urban_extents = urban_calculator.calculateUrban(\n",
    "            densVal=15,\n",
    "            totalPopThresh=50000,\n",
    "            smooth=True,\n",
    "            queen=True,  # high density extents use queen's case contiguity, and\n",
    "            verbose=True,\n",
    "        )  # High density extents have hole smoothing applied.\n",
    "        hd_urban_extents[\"Type\"] = name\n",
    "        hd_urban_extents.to_file(hd_out_file)"
   ]
  },
  {
   "cell_type": "code",
   "execution_count": null,
   "id": "5",
   "metadata": {},
   "outputs": [],
   "source": [
    "dir(GOSTurban)"
   ]
  },
  {
   "cell_type": "code",
   "execution_count": null,
   "id": "6",
   "metadata": {},
   "outputs": [],
   "source": []
  }
 ],
 "metadata": {
  "language_info": {
   "name": "python"
  }
 },
 "nbformat": 4,
 "nbformat_minor": 5
}
