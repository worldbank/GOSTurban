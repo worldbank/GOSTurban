{
 "cells": [
  {
   "cell_type": "markdown",
   "id": "9fd5e3dd",
   "metadata": {},
   "source": [
    "# Urbanization comparison\n",
    "\n",
    "Compare the multiple urban extents in the project\n",
    "\n",
    "1. Official administrative boundaries provided by the project team.  \n",
    "  a. Need to get metadata on these boundaries from Swati  \n",
    "2. Official administrative boundaries with buffers  \n",
    "  a. Why these specific buffer distances?  \n",
    "3. DoU boundaries  \n",
    "  a. Which population source  \n"
   ]
  },
  {
   "cell_type": "code",
   "execution_count": 28,
   "id": "9c6da02f",
   "metadata": {},
   "outputs": [],
   "source": [
    "import sys, os\n",
    "import rasterio\n",
    "\n",
    "import pandas as pd\n",
    "import geopandas as gpd\n",
    "\n",
    "import GOSTurban.UrbanRaster as urban\n"
   ]
  },
  {
   "cell_type": "code",
   "execution_count": 24,
   "id": "df1bf2ed",
   "metadata": {},
   "outputs": [],
   "source": [
    "base_folder = \"C:/WBG/Work/LKA_URB_CCDR/Data\"\n",
    "urban_folder = os.path.join(base_folder, \"Urban_extents\")\n",
    "population_folder = os.path.join(base_folder, \"Population\")\n",
    "\n",
    "worldpop_file = os.path.join(population_folder, \"lka_ppp_2020_UNadj.tif\")\n",
    "combo_extents = os.path.join(urban_folder, \"combo_extents.shp\")"
   ]
  },
  {
   "cell_type": "code",
   "execution_count": 18,
   "id": "b135cd57",
   "metadata": {},
   "outputs": [],
   "source": [
    "# Combine all the urban extents into a single file\n",
    "if not os.path.exists(combo_extents):\n",
    "    urban_extents = [x for x in os.listdir(os.path.join(urban_folder, \"Final_AoI\")) if x.endswith(\".shp\")]\n",
    "    all_extents = []\n",
    "    for urban_extent in urban_extents:\n",
    "        urban_extent_gdf = gpd.read_file(os.path.join(urban_folder, \"Final_AoI\", urban_extent))\n",
    "        type = urban_extent.split(\"_\")[1].replace(\".shp\", \"\").lower()\n",
    "        if type == \"colombo\":\n",
    "            type = \"city\"\n",
    "            if \"buffer\" in urban_extent:\n",
    "                type = \"20km\"\n",
    "        urban_extent_gdf[\"Type\"] = type\n",
    "        all_extents.append(urban_extent_gdf)\n",
    "\n",
    "    all_extents_gdf = gpd.GeoDataFrame(pd.concat(all_extents, ignore_index=True))\n",
    "    all_extents_gdf.to_file(combo_extents)\n",
    "else:\n",
    "    all_extents_gdf = gpd.read_file(combo_extents)"
   ]
  },
  {
   "cell_type": "code",
   "execution_count": 29,
   "id": "97add9be",
   "metadata": {},
   "outputs": [
    {
     "name": "stdout",
     "output_type": "stream",
     "text": [
      "13:19:42\t: Read in urban data\n",
      "13:19:42\t: Creating Shape 0\n",
      "13:19:45\t: Read in urban data\n",
      "13:19:45\t: Creating Shape 0\n"
     ]
    },
    {
     "name": "stderr",
     "output_type": "stream",
     "text": [
      "c:\\wbg\\Anaconda3\\envs\\urban_test\\Lib\\site-packages\\GOSTurban\\UrbanRaster.py:404: UserWarning: Geometry is in a geographic CRS. Results from 'buffer' are likely incorrect. Use 'GeoSeries.to_crs()' to re-project geometries to a projected CRS before this operation.\n",
      "\n",
      "  xxGeom[\"geometry\"] = xxGeom.buffer((popRaster.res[0] / 2))\n"
     ]
    },
    {
     "ename": "ValueError",
     "evalue": "graph should have two dimensions",
     "output_type": "error",
     "traceback": [
      "\u001b[1;31m---------------------------------------------------------------------------\u001b[0m",
      "\u001b[1;31mValueError\u001b[0m                                Traceback (most recent call last)",
      "Cell \u001b[1;32mIn[29], line 14\u001b[0m\n\u001b[0;32m     11\u001b[0m urban_extents[\u001b[38;5;124m'\u001b[39m\u001b[38;5;124mType\u001b[39m\u001b[38;5;124m'\u001b[39m] \u001b[38;5;241m=\u001b[39m name\n\u001b[0;32m     12\u001b[0m urban_extents\u001b[38;5;241m.\u001b[39mto_file(urb_out_file)\n\u001b[1;32m---> 14\u001b[0m hd_urban_extents \u001b[38;5;241m=\u001b[39m urban_calculator\u001b[38;5;241m.\u001b[39mcalculateUrban(\n\u001b[0;32m     15\u001b[0m     densVal\u001b[38;5;241m=\u001b[39m\u001b[38;5;241m1500\u001b[39m,\n\u001b[0;32m     16\u001b[0m     totalPopThresh\u001b[38;5;241m=\u001b[39m\u001b[38;5;241m50000\u001b[39m,\n\u001b[0;32m     17\u001b[0m     smooth\u001b[38;5;241m=\u001b[39m\u001b[38;5;28;01mTrue\u001b[39;00m,\n\u001b[0;32m     18\u001b[0m     queen\u001b[38;5;241m=\u001b[39m\u001b[38;5;28;01mTrue\u001b[39;00m,  \u001b[38;5;66;03m# high density extents use queen's case contiguity, and\u001b[39;00m\n\u001b[0;32m     19\u001b[0m     verbose\u001b[38;5;241m=\u001b[39m\u001b[38;5;28;01mTrue\u001b[39;00m,\n\u001b[0;32m     20\u001b[0m )  \u001b[38;5;66;03m# High density extents have hole smoothing applied.\u001b[39;00m\n\u001b[0;32m     21\u001b[0m hd_urban_extents[\u001b[38;5;124m'\u001b[39m\u001b[38;5;124mType\u001b[39m\u001b[38;5;124m'\u001b[39m] \u001b[38;5;241m=\u001b[39m name\n\u001b[0;32m     22\u001b[0m hd_urban_extents\u001b[38;5;241m.\u001b[39mto_file(hd_out_file)\n",
      "File \u001b[1;32mc:\\wbg\\Anaconda3\\envs\\urban_test\\Lib\\site-packages\\GOSTurban\\UrbanRaster.py:407\u001b[0m, in \u001b[0;36murbanGriddedPop.calculateUrban\u001b[1;34m(self, densVal, totalPopThresh, smooth, verbose, queen, raster, raster_pop, print_message)\u001b[0m\n\u001b[0;32m    405\u001b[0m s \u001b[38;5;241m=\u001b[39m xxGeom[\u001b[38;5;124m\"\u001b[39m\u001b[38;5;124mgeometry\u001b[39m\u001b[38;5;124m\"\u001b[39m]\n\u001b[0;32m    406\u001b[0m overlap_matrix \u001b[38;5;241m=\u001b[39m s\u001b[38;5;241m.\u001b[39mapply(\u001b[38;5;28;01mlambda\u001b[39;00m x: s\u001b[38;5;241m.\u001b[39mintersects(x))\u001b[38;5;241m.\u001b[39mvalues\u001b[38;5;241m.\u001b[39mastype(\u001b[38;5;28mint\u001b[39m)\n\u001b[1;32m--> 407\u001b[0m n, ids \u001b[38;5;241m=\u001b[39m connected_components(overlap_matrix)\n\u001b[0;32m    408\u001b[0m xxGeom[\u001b[38;5;124m\"\u001b[39m\u001b[38;5;124mgroup\u001b[39m\u001b[38;5;124m\"\u001b[39m] \u001b[38;5;241m=\u001b[39m ids\n\u001b[0;32m    409\u001b[0m xxGeom \u001b[38;5;241m=\u001b[39m xxGeom\u001b[38;5;241m.\u001b[39mdissolve(by\u001b[38;5;241m=\u001b[39m\u001b[38;5;124m\"\u001b[39m\u001b[38;5;124mgroup\u001b[39m\u001b[38;5;124m\"\u001b[39m, aggfunc\u001b[38;5;241m=\u001b[39m\u001b[38;5;124m\"\u001b[39m\u001b[38;5;124msum\u001b[39m\u001b[38;5;124m\"\u001b[39m)\n",
      "File \u001b[1;32m_traversal.pyx:97\u001b[0m, in \u001b[0;36mscipy.sparse.csgraph._traversal.connected_components\u001b[1;34m()\u001b[0m\n",
      "File \u001b[1;32mc:\\wbg\\Anaconda3\\envs\\urban_test\\Lib\\site-packages\\scipy\\sparse\\csgraph\\_validation.py:46\u001b[0m, in \u001b[0;36mvalidate_graph\u001b[1;34m(csgraph, directed, dtype, csr_output, dense_output, copy_if_dense, copy_if_sparse, null_value_in, null_value_out, infinity_null, nan_null)\u001b[0m\n\u001b[0;32m     44\u001b[0m         csgraph[mask] \u001b[38;5;241m=\u001b[39m null_value_out\n\u001b[0;32m     45\u001b[0m     \u001b[38;5;28;01melse\u001b[39;00m:\n\u001b[1;32m---> 46\u001b[0m         csgraph \u001b[38;5;241m=\u001b[39m csgraph_from_dense(csgraph, null_value\u001b[38;5;241m=\u001b[39mnull_value_in,\n\u001b[0;32m     47\u001b[0m                                      infinity_null\u001b[38;5;241m=\u001b[39minfinity_null,\n\u001b[0;32m     48\u001b[0m                                      nan_null\u001b[38;5;241m=\u001b[39mnan_null)\n\u001b[0;32m     50\u001b[0m \u001b[38;5;28;01mif\u001b[39;00m csgraph\u001b[38;5;241m.\u001b[39mndim \u001b[38;5;241m!=\u001b[39m \u001b[38;5;241m2\u001b[39m:\n\u001b[0;32m     51\u001b[0m     \u001b[38;5;28;01mraise\u001b[39;00m \u001b[38;5;167;01mValueError\u001b[39;00m(\u001b[38;5;124m\"\u001b[39m\u001b[38;5;124mcompressed-sparse graph must be 2-D\u001b[39m\u001b[38;5;124m\"\u001b[39m)\n",
      "File \u001b[1;32m_tools.pyx:215\u001b[0m, in \u001b[0;36mscipy.sparse.csgraph._tools.csgraph_from_dense\u001b[1;34m()\u001b[0m\n",
      "File \u001b[1;32m_tools.pyx:140\u001b[0m, in \u001b[0;36mscipy.sparse.csgraph._tools.csgraph_masked_from_dense\u001b[1;34m()\u001b[0m\n",
      "\u001b[1;31mValueError\u001b[0m: graph should have two dimensions"
     ]
    }
   ],
   "source": [
    "# extract urban extents from population grids\n",
    "for pop_layer, name in [[worldpop_file, \"WorldPop\"]]:\n",
    "    urb_out_file = os.path.join(urban_folder, \"DOU_urb_extent_%s.shp\" % name)\n",
    "    hd_out_file = os.path.join(urban_folder, \"DOU_hd_extent_%s.shp\" % name)\n",
    "    if not os.path.exists(hd_out_file):\n",
    "        curPop = rasterio.open(pop_layer)\n",
    "        urban_calculator = urban.urbanGriddedPop(curPop)\n",
    "        urban_extents = urban_calculator.calculateUrban(\n",
    "            densVal=3, totalPopThresh=5000, smooth=False, queen=False, verbose=True\n",
    "        )\n",
    "        urban_extents['Type'] = name\n",
    "        urban_extents.to_file(urb_out_file)\n",
    "\n",
    "        hd_urban_extents = urban_calculator.calculateUrban(\n",
    "            densVal=15,\n",
    "            totalPopThresh=50000,\n",
    "            smooth=True,\n",
    "            queen=True,  # high density extents use queen's case contiguity, and\n",
    "            verbose=True,\n",
    "        )  # High density extents have hole smoothing applied.\n",
    "        hd_urban_extents['Type'] = name\n",
    "        hd_urban_extents.to_file(hd_out_file)\n",
    "\n",
    "\n",
    "    \n"
   ]
  },
  {
   "cell_type": "code",
   "execution_count": 26,
   "id": "34d495aa",
   "metadata": {},
   "outputs": [
    {
     "data": {
      "text/plain": [
       "['__builtins__',\n",
       " '__cached__',\n",
       " '__doc__',\n",
       " '__file__',\n",
       " '__loader__',\n",
       " '__name__',\n",
       " '__package__',\n",
       " '__path__',\n",
       " '__spec__',\n",
       " '__version__',\n",
       " '_version']"
      ]
     },
     "execution_count": 26,
     "metadata": {},
     "output_type": "execute_result"
    }
   ],
   "source": [
    "dir(GOSTurban)"
   ]
  },
  {
   "cell_type": "code",
   "execution_count": null,
   "id": "50115a0d",
   "metadata": {},
   "outputs": [],
   "source": []
  }
 ],
 "metadata": {
  "kernelspec": {
   "display_name": "urban_test",
   "language": "python",
   "name": "python3"
  },
  "language_info": {
   "codemirror_mode": {
    "name": "ipython",
    "version": 3
   },
   "file_extension": ".py",
   "mimetype": "text/x-python",
   "name": "python",
   "nbconvert_exporter": "python",
   "pygments_lexer": "ipython3",
   "version": "3.12.2"
  }
 },
 "nbformat": 4,
 "nbformat_minor": 5
}
