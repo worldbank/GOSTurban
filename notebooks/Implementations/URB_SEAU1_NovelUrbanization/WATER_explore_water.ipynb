{
 "cells": [
  {
   "cell_type": "code",
   "execution_count": null,
   "metadata": {},
   "outputs": [],
   "source": [
    "import os\n",
    "import boto3\n",
    "\n",
    "import rasterio\n",
    "\n",
    "import pandas as pd\n",
    "import numpy as np\n",
    "\n",
    "from GOSTrocks.misc import tPrint"
   ]
  },
  {
   "cell_type": "code",
   "execution_count": null,
   "metadata": {},
   "outputs": [],
   "source": [
    "bucket = \"wbg-geography01\"\n",
    "prefix = \"URBANIZATION/MR_Novel_Poverty/\"\n",
    "file_ends_with = \"_wat.tif\"\n",
    "\n",
    "s3client = boto3.client(\"s3\", verify=False)\n",
    "\n",
    "# Loop through the S3 bucket and get all the file keys\n",
    "more_results = True\n",
    "try:\n",
    "    del token  # noqa\n",
    "except Exception:\n",
    "    pass\n",
    "loops = 0\n",
    "\n",
    "all_res = []\n",
    "while more_results:\n",
    "    print(f\"Completed loop: {loops}\")\n",
    "    if loops > 0:\n",
    "        objects = s3client.list_objects_v2(\n",
    "            Bucket=bucket,\n",
    "            ContinuationToken=token,  # noqa\n",
    "            Prefix=prefix,  # noqa\n",
    "        )\n",
    "    else:\n",
    "        objects = s3client.list_objects_v2(Bucket=bucket, Prefix=prefix)\n",
    "    more_results = objects[\"IsTruncated\"]\n",
    "    if more_results:\n",
    "        token = objects[\"NextContinuationToken\"]\n",
    "    loops += 1\n",
    "    for res in objects[\"Contents\"]:\n",
    "        if res[\"Key\"].endswith(file_ends_with):\n",
    "            all_res.append(res[\"Key\"])"
   ]
  },
  {
   "cell_type": "code",
   "execution_count": null,
   "metadata": {},
   "outputs": [],
   "source": [
    "all_res = pd.DataFrame(all_res, columns=[\"Key\"])\n",
    "all_res[\"ISO3\"] = all_res[\"Key\"].apply(lambda x: x.split(\"/\")[-1][:3])\n",
    "all_res[\"file\"] = all_res[\"Key\"].apply(lambda x: os.path.basename(x))\n",
    "all_res[\"res\"] = \"250\"\n",
    "all_res.loc[all_res[\"file\"].str.contains(\"1k\"), \"res\"] = \"1000\"\n",
    "all_res = all_res.loc[all_res[\"ISO3\"] != \"NO_\"]\n",
    "all_res"
   ]
  },
  {
   "cell_type": "code",
   "execution_count": null,
   "metadata": {},
   "outputs": [],
   "source": [
    "def summarize_water(water_key, verbose=False):\n",
    "    admin_bounds = water_key.replace(\"_wat\", \"_adm\")\n",
    "    with rasterio.Env(GDAL_HTTP_UNSAFESSL=\"YES\"):\n",
    "        waterR = rasterio.open(f\"s3://{bucket}/{water_key}\")\n",
    "        water = waterR.read(1)\n",
    "        water[water == waterR.nodata] = np.nan\n",
    "\n",
    "        adminR = rasterio.open(f\"s3://{bucket}/{admin_bounds}\")\n",
    "        admin = adminR.read(1)\n",
    "        admin[admin == adminR.nodata] = np.nan\n",
    "\n",
    "        water_admin = water * admin\n",
    "        water_res = np.unique(water_admin, return_counts=True)\n",
    "    return {\n",
    "        \"water\": water,\n",
    "        \"admin\": admin,\n",
    "        \"water_admin\": water_admin,\n",
    "        \"water_res\": water_res,\n",
    "    }\n",
    "\n",
    "\n",
    "# xx = summarize_water(all_res['Key'].iloc[0])"
   ]
  },
  {
   "cell_type": "code",
   "execution_count": null,
   "metadata": {},
   "outputs": [],
   "source": []
  },
  {
   "cell_type": "code",
   "execution_count": null,
   "metadata": {},
   "outputs": [],
   "source": [
    "summarize_water(all_res.loc[all_res[\"ISO3\"] == \"stp\", \"Key\"].iloc[0])"
   ]
  },
  {
   "cell_type": "code",
   "execution_count": null,
   "metadata": {},
   "outputs": [],
   "source": [
    "sel_res = \"1000\"\n",
    "\n",
    "all_res[\"non_water\"] = 0.0\n",
    "all_res[\"water\"] = 0.0\n",
    "\n",
    "focal_set = all_res.loc[(all_res[\"res\"] == sel_res)].copy()\n",
    "for idx, rows in focal_set.iterrows():\n",
    "    tPrint(\"Processing: %s\" % rows[\"ISO3\"])\n",
    "    try:\n",
    "        xx = summarize_water(rows[\"Key\"])\n",
    "        all_res.loc[idx, \"non_water\"] = xx[\"water_res\"][1][0]\n",
    "        all_res.loc[idx, \"water\"] = xx[\"water_res\"][1][1]\n",
    "    except Exception as e:\n",
    "        print(f\"Error with {rows['Key']}\")\n",
    "        print(e)\n",
    "\n",
    "all_res.loc[focal_set.index].to_csv(f\"C:/Temp/water_summary_{sel_res}.csv\", index=False)"
   ]
  },
  {
   "cell_type": "code",
   "execution_count": null,
   "metadata": {},
   "outputs": [],
   "source": []
  },
  {
   "cell_type": "code",
   "execution_count": null,
   "metadata": {},
   "outputs": [],
   "source": []
  }
 ],
 "metadata": {
  "kernelspec": {
   "display_name": "s2s",
   "language": "python",
   "name": "python3"
  },
  "language_info": {
   "codemirror_mode": {
    "name": "ipython",
    "version": 3
   },
   "file_extension": ".py",
   "mimetype": "text/x-python",
   "name": "python",
   "nbconvert_exporter": "python",
   "pygments_lexer": "ipython3",
   "version": "3.11.11"
  }
 },
 "nbformat": 4,
 "nbformat_minor": 2
}
