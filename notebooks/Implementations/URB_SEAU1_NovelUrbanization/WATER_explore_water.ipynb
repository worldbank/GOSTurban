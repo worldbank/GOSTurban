{
 "cells": [
  {
   "cell_type": "code",
   "execution_count": 1,
   "metadata": {},
   "outputs": [],
   "source": [
    "import sys, os\n",
    "import boto3\n",
    "\n",
    "import rasterio\n",
    "\n",
    "import pandas as pd\n",
    "import numpy as np\n",
    "\n",
    "from GOSTrocks.misc import tPrint"
   ]
  },
  {
   "cell_type": "code",
   "execution_count": 2,
   "metadata": {},
   "outputs": [
    {
     "name": "stdout",
     "output_type": "stream",
     "text": [
      "Completed loop: 0\n"
     ]
    },
    {
     "name": "stderr",
     "output_type": "stream",
     "text": [
      "c:\\wbg\\Anaconda3\\envs\\gost\\Lib\\site-packages\\urllib3\\connectionpool.py:1097: InsecureRequestWarning: Unverified HTTPS request is being made to host 'wbg-geography01.s3.amazonaws.com'. Adding certificate verification is strongly advised. See: https://urllib3.readthedocs.io/en/latest/advanced-usage.html#tls-warnings\n",
      "  warnings.warn(\n"
     ]
    },
    {
     "name": "stdout",
     "output_type": "stream",
     "text": [
      "Completed loop: 1\n",
      "Completed loop: 2\n"
     ]
    },
    {
     "name": "stderr",
     "output_type": "stream",
     "text": [
      "c:\\wbg\\Anaconda3\\envs\\gost\\Lib\\site-packages\\urllib3\\connectionpool.py:1097: InsecureRequestWarning: Unverified HTTPS request is being made to host 'wbg-geography01.s3.amazonaws.com'. Adding certificate verification is strongly advised. See: https://urllib3.readthedocs.io/en/latest/advanced-usage.html#tls-warnings\n",
      "  warnings.warn(\n",
      "c:\\wbg\\Anaconda3\\envs\\gost\\Lib\\site-packages\\urllib3\\connectionpool.py:1097: InsecureRequestWarning: Unverified HTTPS request is being made to host 'wbg-geography01.s3.amazonaws.com'. Adding certificate verification is strongly advised. See: https://urllib3.readthedocs.io/en/latest/advanced-usage.html#tls-warnings\n",
      "  warnings.warn(\n"
     ]
    },
    {
     "name": "stdout",
     "output_type": "stream",
     "text": [
      "Completed loop: 3\n",
      "Completed loop: 4\n"
     ]
    },
    {
     "name": "stderr",
     "output_type": "stream",
     "text": [
      "c:\\wbg\\Anaconda3\\envs\\gost\\Lib\\site-packages\\urllib3\\connectionpool.py:1097: InsecureRequestWarning: Unverified HTTPS request is being made to host 'wbg-geography01.s3.amazonaws.com'. Adding certificate verification is strongly advised. See: https://urllib3.readthedocs.io/en/latest/advanced-usage.html#tls-warnings\n",
      "  warnings.warn(\n",
      "c:\\wbg\\Anaconda3\\envs\\gost\\Lib\\site-packages\\urllib3\\connectionpool.py:1097: InsecureRequestWarning: Unverified HTTPS request is being made to host 'wbg-geography01.s3.amazonaws.com'. Adding certificate verification is strongly advised. See: https://urllib3.readthedocs.io/en/latest/advanced-usage.html#tls-warnings\n",
      "  warnings.warn(\n"
     ]
    },
    {
     "name": "stdout",
     "output_type": "stream",
     "text": [
      "Completed loop: 5\n"
     ]
    },
    {
     "name": "stderr",
     "output_type": "stream",
     "text": [
      "c:\\wbg\\Anaconda3\\envs\\gost\\Lib\\site-packages\\urllib3\\connectionpool.py:1097: InsecureRequestWarning: Unverified HTTPS request is being made to host 'wbg-geography01.s3.amazonaws.com'. Adding certificate verification is strongly advised. See: https://urllib3.readthedocs.io/en/latest/advanced-usage.html#tls-warnings\n",
      "  warnings.warn(\n"
     ]
    },
    {
     "name": "stdout",
     "output_type": "stream",
     "text": [
      "Completed loop: 6\n",
      "Completed loop: 7\n"
     ]
    },
    {
     "name": "stderr",
     "output_type": "stream",
     "text": [
      "c:\\wbg\\Anaconda3\\envs\\gost\\Lib\\site-packages\\urllib3\\connectionpool.py:1097: InsecureRequestWarning: Unverified HTTPS request is being made to host 'wbg-geography01.s3.amazonaws.com'. Adding certificate verification is strongly advised. See: https://urllib3.readthedocs.io/en/latest/advanced-usage.html#tls-warnings\n",
      "  warnings.warn(\n",
      "c:\\wbg\\Anaconda3\\envs\\gost\\Lib\\site-packages\\urllib3\\connectionpool.py:1097: InsecureRequestWarning: Unverified HTTPS request is being made to host 'wbg-geography01.s3.amazonaws.com'. Adding certificate verification is strongly advised. See: https://urllib3.readthedocs.io/en/latest/advanced-usage.html#tls-warnings\n",
      "  warnings.warn(\n"
     ]
    },
    {
     "name": "stdout",
     "output_type": "stream",
     "text": [
      "Completed loop: 8\n",
      "Completed loop: 9\n"
     ]
    },
    {
     "name": "stderr",
     "output_type": "stream",
     "text": [
      "c:\\wbg\\Anaconda3\\envs\\gost\\Lib\\site-packages\\urllib3\\connectionpool.py:1097: InsecureRequestWarning: Unverified HTTPS request is being made to host 'wbg-geography01.s3.amazonaws.com'. Adding certificate verification is strongly advised. See: https://urllib3.readthedocs.io/en/latest/advanced-usage.html#tls-warnings\n",
      "  warnings.warn(\n",
      "c:\\wbg\\Anaconda3\\envs\\gost\\Lib\\site-packages\\urllib3\\connectionpool.py:1097: InsecureRequestWarning: Unverified HTTPS request is being made to host 'wbg-geography01.s3.amazonaws.com'. Adding certificate verification is strongly advised. See: https://urllib3.readthedocs.io/en/latest/advanced-usage.html#tls-warnings\n",
      "  warnings.warn(\n"
     ]
    },
    {
     "name": "stdout",
     "output_type": "stream",
     "text": [
      "Completed loop: 10\n",
      "Completed loop: 11\n"
     ]
    },
    {
     "name": "stderr",
     "output_type": "stream",
     "text": [
      "c:\\wbg\\Anaconda3\\envs\\gost\\Lib\\site-packages\\urllib3\\connectionpool.py:1097: InsecureRequestWarning: Unverified HTTPS request is being made to host 'wbg-geography01.s3.amazonaws.com'. Adding certificate verification is strongly advised. See: https://urllib3.readthedocs.io/en/latest/advanced-usage.html#tls-warnings\n",
      "  warnings.warn(\n",
      "c:\\wbg\\Anaconda3\\envs\\gost\\Lib\\site-packages\\urllib3\\connectionpool.py:1097: InsecureRequestWarning: Unverified HTTPS request is being made to host 'wbg-geography01.s3.amazonaws.com'. Adding certificate verification is strongly advised. See: https://urllib3.readthedocs.io/en/latest/advanced-usage.html#tls-warnings\n",
      "  warnings.warn(\n"
     ]
    },
    {
     "name": "stdout",
     "output_type": "stream",
     "text": [
      "Completed loop: 12\n",
      "Completed loop: 13\n"
     ]
    },
    {
     "name": "stderr",
     "output_type": "stream",
     "text": [
      "c:\\wbg\\Anaconda3\\envs\\gost\\Lib\\site-packages\\urllib3\\connectionpool.py:1097: InsecureRequestWarning: Unverified HTTPS request is being made to host 'wbg-geography01.s3.amazonaws.com'. Adding certificate verification is strongly advised. See: https://urllib3.readthedocs.io/en/latest/advanced-usage.html#tls-warnings\n",
      "  warnings.warn(\n",
      "c:\\wbg\\Anaconda3\\envs\\gost\\Lib\\site-packages\\urllib3\\connectionpool.py:1097: InsecureRequestWarning: Unverified HTTPS request is being made to host 'wbg-geography01.s3.amazonaws.com'. Adding certificate verification is strongly advised. See: https://urllib3.readthedocs.io/en/latest/advanced-usage.html#tls-warnings\n",
      "  warnings.warn(\n"
     ]
    },
    {
     "name": "stdout",
     "output_type": "stream",
     "text": [
      "Completed loop: 14\n",
      "Completed loop: 15\n"
     ]
    },
    {
     "name": "stderr",
     "output_type": "stream",
     "text": [
      "c:\\wbg\\Anaconda3\\envs\\gost\\Lib\\site-packages\\urllib3\\connectionpool.py:1097: InsecureRequestWarning: Unverified HTTPS request is being made to host 'wbg-geography01.s3.amazonaws.com'. Adding certificate verification is strongly advised. See: https://urllib3.readthedocs.io/en/latest/advanced-usage.html#tls-warnings\n",
      "  warnings.warn(\n",
      "c:\\wbg\\Anaconda3\\envs\\gost\\Lib\\site-packages\\urllib3\\connectionpool.py:1097: InsecureRequestWarning: Unverified HTTPS request is being made to host 'wbg-geography01.s3.amazonaws.com'. Adding certificate verification is strongly advised. See: https://urllib3.readthedocs.io/en/latest/advanced-usage.html#tls-warnings\n",
      "  warnings.warn(\n"
     ]
    },
    {
     "name": "stdout",
     "output_type": "stream",
     "text": [
      "Completed loop: 16\n",
      "Completed loop: 17\n"
     ]
    },
    {
     "name": "stderr",
     "output_type": "stream",
     "text": [
      "c:\\wbg\\Anaconda3\\envs\\gost\\Lib\\site-packages\\urllib3\\connectionpool.py:1097: InsecureRequestWarning: Unverified HTTPS request is being made to host 'wbg-geography01.s3.amazonaws.com'. Adding certificate verification is strongly advised. See: https://urllib3.readthedocs.io/en/latest/advanced-usage.html#tls-warnings\n",
      "  warnings.warn(\n",
      "c:\\wbg\\Anaconda3\\envs\\gost\\Lib\\site-packages\\urllib3\\connectionpool.py:1097: InsecureRequestWarning: Unverified HTTPS request is being made to host 'wbg-geography01.s3.amazonaws.com'. Adding certificate verification is strongly advised. See: https://urllib3.readthedocs.io/en/latest/advanced-usage.html#tls-warnings\n",
      "  warnings.warn(\n"
     ]
    },
    {
     "name": "stdout",
     "output_type": "stream",
     "text": [
      "Completed loop: 18\n",
      "Completed loop: 19\n"
     ]
    },
    {
     "name": "stderr",
     "output_type": "stream",
     "text": [
      "c:\\wbg\\Anaconda3\\envs\\gost\\Lib\\site-packages\\urllib3\\connectionpool.py:1097: InsecureRequestWarning: Unverified HTTPS request is being made to host 'wbg-geography01.s3.amazonaws.com'. Adding certificate verification is strongly advised. See: https://urllib3.readthedocs.io/en/latest/advanced-usage.html#tls-warnings\n",
      "  warnings.warn(\n",
      "c:\\wbg\\Anaconda3\\envs\\gost\\Lib\\site-packages\\urllib3\\connectionpool.py:1097: InsecureRequestWarning: Unverified HTTPS request is being made to host 'wbg-geography01.s3.amazonaws.com'. Adding certificate verification is strongly advised. See: https://urllib3.readthedocs.io/en/latest/advanced-usage.html#tls-warnings\n",
      "  warnings.warn(\n"
     ]
    },
    {
     "name": "stdout",
     "output_type": "stream",
     "text": [
      "Completed loop: 20\n",
      "Completed loop: 21\n"
     ]
    },
    {
     "name": "stderr",
     "output_type": "stream",
     "text": [
      "c:\\wbg\\Anaconda3\\envs\\gost\\Lib\\site-packages\\urllib3\\connectionpool.py:1097: InsecureRequestWarning: Unverified HTTPS request is being made to host 'wbg-geography01.s3.amazonaws.com'. Adding certificate verification is strongly advised. See: https://urllib3.readthedocs.io/en/latest/advanced-usage.html#tls-warnings\n",
      "  warnings.warn(\n",
      "c:\\wbg\\Anaconda3\\envs\\gost\\Lib\\site-packages\\urllib3\\connectionpool.py:1097: InsecureRequestWarning: Unverified HTTPS request is being made to host 'wbg-geography01.s3.amazonaws.com'. Adding certificate verification is strongly advised. See: https://urllib3.readthedocs.io/en/latest/advanced-usage.html#tls-warnings\n",
      "  warnings.warn(\n"
     ]
    }
   ],
   "source": [
    "bucket = \"wbg-geography01\"\n",
    "prefix = \"URBANIZATION/MR_Novel_Poverty/\"\n",
    "file_ends_with = '_wat.tif'\n",
    "\n",
    "s3client = boto3.client(\"s3\", verify=False)\n",
    "\n",
    "# Loop through the S3 bucket and get all the file keys\n",
    "more_results = True\n",
    "try:\n",
    "    del token  # noqa\n",
    "except Exception:\n",
    "    pass\n",
    "loops = 0\n",
    "\n",
    "all_res = []\n",
    "while more_results:\n",
    "    print(f\"Completed loop: {loops}\")\n",
    "    if loops > 0:\n",
    "        objects = s3client.list_objects_v2(\n",
    "            Bucket=bucket,\n",
    "            ContinuationToken=token,  # noqa\n",
    "            Prefix=prefix,  # noqa\n",
    "        )\n",
    "    else:\n",
    "        objects = s3client.list_objects_v2(Bucket=bucket, Prefix=prefix)\n",
    "    more_results = objects[\"IsTruncated\"]\n",
    "    if more_results:\n",
    "        token = objects[\"NextContinuationToken\"]\n",
    "    loops += 1\n",
    "    for res in objects[\"Contents\"]:\n",
    "        if res['Key'].endswith(file_ends_with):\n",
    "            all_res.append(res['Key'])"
   ]
  },
  {
   "cell_type": "code",
   "execution_count": 5,
   "metadata": {},
   "outputs": [
    {
     "data": {
      "text/html": [
       "<div>\n",
       "<style scoped>\n",
       "    .dataframe tbody tr th:only-of-type {\n",
       "        vertical-align: middle;\n",
       "    }\n",
       "\n",
       "    .dataframe tbody tr th {\n",
       "        vertical-align: top;\n",
       "    }\n",
       "\n",
       "    .dataframe thead th {\n",
       "        text-align: right;\n",
       "    }\n",
       "</style>\n",
       "<table border=\"1\" class=\"dataframe\">\n",
       "  <thead>\n",
       "    <tr style=\"text-align: right;\">\n",
       "      <th></th>\n",
       "      <th>Key</th>\n",
       "      <th>ISO3</th>\n",
       "      <th>file</th>\n",
       "      <th>res</th>\n",
       "    </tr>\n",
       "  </thead>\n",
       "  <tbody>\n",
       "    <tr>\n",
       "      <th>1</th>\n",
       "      <td>URBANIZATION/MR_Novel_Poverty/AGO_URBAN_DATA_n...</td>\n",
       "      <td>ago</td>\n",
       "      <td>ago_wat.tif</td>\n",
       "      <td>250</td>\n",
       "    </tr>\n",
       "    <tr>\n",
       "      <th>3</th>\n",
       "      <td>URBANIZATION/MR_Novel_Poverty/AGO_URBAN_DATA_n...</td>\n",
       "      <td>ago</td>\n",
       "      <td>ago1k_wat.tif</td>\n",
       "      <td>1000</td>\n",
       "    </tr>\n",
       "    <tr>\n",
       "      <th>4</th>\n",
       "      <td>URBANIZATION/MR_Novel_Poverty/AGO_URBAN_DATA_n...</td>\n",
       "      <td>ago</td>\n",
       "      <td>ago_wat.tif</td>\n",
       "      <td>250</td>\n",
       "    </tr>\n",
       "    <tr>\n",
       "      <th>6</th>\n",
       "      <td>URBANIZATION/MR_Novel_Poverty/BDI_URBAN_DATA_n...</td>\n",
       "      <td>bdi</td>\n",
       "      <td>bdi_wat.tif</td>\n",
       "      <td>250</td>\n",
       "    </tr>\n",
       "    <tr>\n",
       "      <th>8</th>\n",
       "      <td>URBANIZATION/MR_Novel_Poverty/BDI_URBAN_DATA_n...</td>\n",
       "      <td>bdi</td>\n",
       "      <td>bdi1k_wat.tif</td>\n",
       "      <td>1000</td>\n",
       "    </tr>\n",
       "    <tr>\n",
       "      <th>...</th>\n",
       "      <td>...</td>\n",
       "      <td>...</td>\n",
       "      <td>...</td>\n",
       "      <td>...</td>\n",
       "    </tr>\n",
       "    <tr>\n",
       "      <th>258</th>\n",
       "      <td>URBANIZATION/MR_Novel_Poverty/ZMB_URBAN_DATA_n...</td>\n",
       "      <td>zmb</td>\n",
       "      <td>zmb1k_wat.tif</td>\n",
       "      <td>1000</td>\n",
       "    </tr>\n",
       "    <tr>\n",
       "      <th>259</th>\n",
       "      <td>URBANIZATION/MR_Novel_Poverty/ZMB_URBAN_DATA_n...</td>\n",
       "      <td>zmb</td>\n",
       "      <td>zmb_wat.tif</td>\n",
       "      <td>250</td>\n",
       "    </tr>\n",
       "    <tr>\n",
       "      <th>261</th>\n",
       "      <td>URBANIZATION/MR_Novel_Poverty/ZWE_URBAN_DATA_n...</td>\n",
       "      <td>zwe</td>\n",
       "      <td>zwe_wat.tif</td>\n",
       "      <td>250</td>\n",
       "    </tr>\n",
       "    <tr>\n",
       "      <th>263</th>\n",
       "      <td>URBANIZATION/MR_Novel_Poverty/ZWE_URBAN_DATA_n...</td>\n",
       "      <td>zwe</td>\n",
       "      <td>zwe1k_wat.tif</td>\n",
       "      <td>1000</td>\n",
       "    </tr>\n",
       "    <tr>\n",
       "      <th>264</th>\n",
       "      <td>URBANIZATION/MR_Novel_Poverty/ZWE_URBAN_DATA_n...</td>\n",
       "      <td>zwe</td>\n",
       "      <td>zwe_wat.tif</td>\n",
       "      <td>250</td>\n",
       "    </tr>\n",
       "  </tbody>\n",
       "</table>\n",
       "<p>159 rows × 4 columns</p>\n",
       "</div>"
      ],
      "text/plain": [
       "                                                   Key ISO3           file  \\\n",
       "1    URBANIZATION/MR_Novel_Poverty/AGO_URBAN_DATA_n...  ago    ago_wat.tif   \n",
       "3    URBANIZATION/MR_Novel_Poverty/AGO_URBAN_DATA_n...  ago  ago1k_wat.tif   \n",
       "4    URBANIZATION/MR_Novel_Poverty/AGO_URBAN_DATA_n...  ago    ago_wat.tif   \n",
       "6    URBANIZATION/MR_Novel_Poverty/BDI_URBAN_DATA_n...  bdi    bdi_wat.tif   \n",
       "8    URBANIZATION/MR_Novel_Poverty/BDI_URBAN_DATA_n...  bdi  bdi1k_wat.tif   \n",
       "..                                                 ...  ...            ...   \n",
       "258  URBANIZATION/MR_Novel_Poverty/ZMB_URBAN_DATA_n...  zmb  zmb1k_wat.tif   \n",
       "259  URBANIZATION/MR_Novel_Poverty/ZMB_URBAN_DATA_n...  zmb    zmb_wat.tif   \n",
       "261  URBANIZATION/MR_Novel_Poverty/ZWE_URBAN_DATA_n...  zwe    zwe_wat.tif   \n",
       "263  URBANIZATION/MR_Novel_Poverty/ZWE_URBAN_DATA_n...  zwe  zwe1k_wat.tif   \n",
       "264  URBANIZATION/MR_Novel_Poverty/ZWE_URBAN_DATA_n...  zwe    zwe_wat.tif   \n",
       "\n",
       "      res  \n",
       "1     250  \n",
       "3    1000  \n",
       "4     250  \n",
       "6     250  \n",
       "8    1000  \n",
       "..    ...  \n",
       "258  1000  \n",
       "259   250  \n",
       "261   250  \n",
       "263  1000  \n",
       "264   250  \n",
       "\n",
       "[159 rows x 4 columns]"
      ]
     },
     "execution_count": 5,
     "metadata": {},
     "output_type": "execute_result"
    }
   ],
   "source": [
    "all_res = pd.DataFrame(all_res, columns=['Key'])\n",
    "all_res['ISO3'] = all_res['Key'].apply(lambda x: x.split('/')[-1][:3])\n",
    "all_res['file'] = all_res['Key'].apply(lambda x: os.path.basename(x))\n",
    "all_res['res'] = '250'\n",
    "all_res.loc[all_res['file'].str.contains('1k'), 'res'] = '1000'\n",
    "all_res = all_res.loc[all_res['ISO3'] != 'NO_']\n",
    "all_res"
   ]
  },
  {
   "cell_type": "code",
   "execution_count": 26,
   "metadata": {},
   "outputs": [],
   "source": [
    "def summarize_water(water_key, verbose=False):\n",
    "    admin_bounds = water_key.replace(\"_wat\", \"_adm\")\n",
    "    with rasterio.Env(GDAL_HTTP_UNSAFESSL=\"YES\"):\n",
    "        waterR = rasterio.open(f's3://{bucket}/{water_key}')\n",
    "        water = waterR.read(1)        \n",
    "        water[water == waterR.nodata] = np.nan\n",
    "\n",
    "        adminR = rasterio.open(f's3://{bucket}/{admin_bounds}')\n",
    "        admin = adminR.read(1)\n",
    "        admin[admin == adminR.nodata] = np.nan\n",
    "\n",
    "        water_admin = water * admin\n",
    "        water_res = np.unique(water_admin, return_counts=True)\n",
    "    return({'water':water, 'admin':admin, 'water_admin':water_admin, 'water_res':water_res})\n",
    "\n",
    "#xx = summarize_water(all_res['Key'].iloc[0])"
   ]
  },
  {
   "cell_type": "code",
   "execution_count": null,
   "metadata": {},
   "outputs": [],
   "source": []
  },
  {
   "cell_type": "code",
   "execution_count": 27,
   "metadata": {},
   "outputs": [
    {
     "data": {
      "text/plain": [
       "{'water': array([[nan, nan, nan, ..., nan, nan, nan],\n",
       "        [nan, nan, nan, ..., nan, nan, nan],\n",
       "        [nan, nan, nan, ..., nan, nan, nan],\n",
       "        ...,\n",
       "        [nan, nan, nan, ..., nan, nan, nan],\n",
       "        [nan, nan, nan, ..., nan, nan, nan],\n",
       "        [nan, nan, nan, ..., nan, nan, nan]], dtype=float32),\n",
       " 'admin': array([[nan, nan, nan, ..., nan, nan, nan],\n",
       "        [nan, nan, nan, ..., nan, nan, nan],\n",
       "        [nan, nan, nan, ..., nan, nan, nan],\n",
       "        ...,\n",
       "        [nan, nan, nan, ..., nan, nan, nan],\n",
       "        [nan, nan, nan, ..., nan, nan, nan],\n",
       "        [nan, nan, nan, ..., nan, nan, nan]], dtype=float32),\n",
       " 'water_admin': array([[nan, nan, nan, ..., nan, nan, nan],\n",
       "        [nan, nan, nan, ..., nan, nan, nan],\n",
       "        [nan, nan, nan, ..., nan, nan, nan],\n",
       "        ...,\n",
       "        [nan, nan, nan, ..., nan, nan, nan],\n",
       "        [nan, nan, nan, ..., nan, nan, nan],\n",
       "        [nan, nan, nan, ..., nan, nan, nan]], dtype=float32),\n",
       " 'water_res': (array([ 0.,  1., nan], dtype=float32),\n",
       "  array([  6366,  11736, 326060], dtype=int64))}"
      ]
     },
     "execution_count": 27,
     "metadata": {},
     "output_type": "execute_result"
    }
   ],
   "source": [
    "summarize_water(all_res.loc[all_res['ISO3'] == 'stp','Key'].iloc[0])"
   ]
  },
  {
   "cell_type": "code",
   "execution_count": 28,
   "metadata": {},
   "outputs": [
    {
     "name": "stdout",
     "output_type": "stream",
     "text": [
      "09:18:22\tProcessing: ago\n",
      "09:18:27\tProcessing: bdi\n",
      "09:18:28\tProcessing: ben\n",
      "09:18:29\tProcessing: bfa\n",
      "09:18:31\tProcessing: bgd\n",
      "09:18:32\tProcessing: bwa\n",
      "09:18:35\tProcessing: caf\n",
      "09:18:39\tProcessing: civ\n",
      "09:18:40\tProcessing: cmr\n",
      "09:18:43\tProcessing: cod\n",
      "09:18:54\tProcessing: cog\n",
      "09:18:56\tProcessing: col\n",
      "09:19:03\tProcessing: com\n",
      "09:19:04\tProcessing: cpv\n",
      "09:19:05\tProcessing: egy\n",
      "09:19:08\tProcessing: eri\n",
      "09:19:10\tProcessing: eth\n",
      "09:19:15\tProcessing: gab\n",
      "09:19:17\tProcessing: gha\n",
      "09:19:18\tProcessing: gin\n",
      "09:19:19\tProcessing: gmb\n",
      "09:19:20\tProcessing: gnb\n",
      "09:19:21\tProcessing: gnq\n",
      "09:19:22\tProcessing: ken\n",
      "09:19:25\tProcessing: lbr\n",
      "09:19:26\tProcessing: lso\n",
      "09:19:27\tProcessing: mdg\n",
      "09:19:30\tProcessing: mli\n",
      "09:19:37\tProcessing: moz\n",
      "09:19:42\tProcessing: mrt\n",
      "09:19:47\tProcessing: mus\n",
      "09:19:48\tProcessing: mwi\n",
      "09:19:50\tProcessing: nam\n",
      "09:19:54\tProcessing: ner\n",
      "09:19:59\tProcessing: nga\n",
      "09:20:03\tProcessing: pak\n",
      "09:20:07\tProcessing: rwa\n",
      "09:20:08\tProcessing: sdn\n",
      "09:20:14\tProcessing: sen\n",
      "09:20:15\tProcessing: sle\n",
      "09:20:16\tProcessing: som\n",
      "09:20:20\tProcessing: ssd\n",
      "09:20:23\tProcessing: stp\n",
      "09:20:24\tProcessing: swz\n",
      "09:20:25\tProcessing: syc\n",
      "09:20:27\tProcessing: tcd\n",
      "09:20:31\tProcessing: tgo\n",
      "09:20:32\tProcessing: tza\n",
      "09:20:36\tProcessing: uga\n",
      "09:20:37\tProcessing: vnm\n",
      "09:20:41\tProcessing: zaf\n",
      "09:20:53\tProcessing: zmb\n",
      "09:20:56\tProcessing: zwe\n"
     ]
    }
   ],
   "source": [
    "sel_res = '1000'\n",
    "\n",
    "all_res['non_water'] = 0.\n",
    "all_res['water'] = 0.\n",
    "\n",
    "focal_set = all_res.loc[(all_res['res'] == sel_res)].copy()\n",
    "for idx, rows in focal_set.iterrows():\n",
    "    tPrint('Processing: %s' % rows['ISO3'])\n",
    "    try:\n",
    "        xx = summarize_water(rows['Key'])\n",
    "        all_res.loc[idx, 'non_water'] = xx['water_res'][1][0]\n",
    "        all_res.loc[idx, 'water'] = xx['water_res'][1][1]        \n",
    "    except Exception as e:\n",
    "        print(f\"Error with {rows['Key']}\")\n",
    "        print(e)\n",
    "\n",
    "all_res.loc[focal_set.index].to_csv(f'C:/Temp/water_summary_{sel_res}.csv', index=False)\n"
   ]
  },
  {
   "cell_type": "code",
   "execution_count": null,
   "metadata": {},
   "outputs": [],
   "source": []
  },
  {
   "cell_type": "code",
   "execution_count": null,
   "metadata": {},
   "outputs": [],
   "source": []
  }
 ],
 "metadata": {
  "kernelspec": {
   "display_name": "s2s",
   "language": "python",
   "name": "python3"
  },
  "language_info": {
   "codemirror_mode": {
    "name": "ipython",
    "version": 3
   },
   "file_extension": ".py",
   "mimetype": "text/x-python",
   "name": "python",
   "nbconvert_exporter": "python",
   "pygments_lexer": "ipython3",
   "version": "3.11.11"
  }
 },
 "nbformat": 4,
 "nbformat_minor": 2
}
