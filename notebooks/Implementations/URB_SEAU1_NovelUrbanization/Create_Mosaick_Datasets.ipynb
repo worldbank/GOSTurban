{
 "cells": [
  {
   "cell_type": "code",
   "execution_count": null,
   "id": "0",
   "metadata": {},
   "outputs": [],
   "source": [
    "import sys\n",
    "import os\n",
    "import boto3\n",
    "import rasterio\n",
    "\n",
    "import numpy as np\n",
    "\n",
    "from rasterio.merge import merge\n",
    "\n",
    "# Import raster helpers\n",
    "sys.path.insert(0, \"../../../../GOSTrocks/src\")\n",
    "\n",
    "import GOSTrocks.rasterMisc as rMisc\n",
    "from GOSTrocks.misc import tPrint\n",
    "\n",
    "# Import GOST urban functions\n",
    "sys.path.insert(1, \"../../../src\")\n",
    "\n",
    "# Import local functions\n",
    "# from novelUrbanization import *\n",
    "\n",
    "%load_ext autoreload\n",
    "%autoreload 2\n",
    "\n",
    "from urllib3.exceptions import InsecureRequestWarning\n",
    "from urllib3 import disable_warnings\n",
    "\n",
    "disable_warnings(InsecureRequestWarning)\n",
    "\n",
    "s3client = boto3.client(\"s3\", verify=False)\n",
    "out_folder = r\"C:\\WBG\\Work\\Projects\\Novel_Urban\\Mosaicks\""
   ]
  },
  {
   "cell_type": "markdown",
   "id": "1",
   "metadata": {},
   "source": [
    "## Mosaick the selected population layers"
   ]
  },
  {
   "cell_type": "code",
   "execution_count": null,
   "id": "2",
   "metadata": {},
   "outputs": [],
   "source": [
    "bucket = \"wbg-geography01\"\n",
    "prefix = \"URBANIZATION/MR_Novel_Poverty/\"\n",
    "pop_layer = \"_cpo15.tif\"\n",
    "\n",
    "# Loop through the S3 bucket and get all the keys for files that are .tif\n",
    "more_results = True\n",
    "loops = 0\n",
    "pop_tiffs = []\n",
    "\n",
    "while more_results:\n",
    "    if loops > 0:\n",
    "        objects = s3client.list_objects_v2(\n",
    "            Bucket=bucket, Prefix=prefix, ContinuationToken=token\n",
    "        )\n",
    "    else:\n",
    "        objects = s3client.list_objects_v2(Bucket=bucket, Prefix=prefix)\n",
    "    more_results = objects[\"IsTruncated\"]\n",
    "    if more_results:\n",
    "        token = objects[\"NextContinuationToken\"]\n",
    "    loops += 1\n",
    "    for res in objects[\"Contents\"]:\n",
    "        if (\n",
    "            (\"FINAL_STANDARD\" in res[\"Key\"])\n",
    "            and (  # Look for the 250m data\n",
    "                res[\"Key\"].endswith(pop_layer)\n",
    "            )\n",
    "            and (\"1k\" not in res[\"Key\"])\n",
    "            and (\"NO_DATA\" not in res[\"Key\"])\n",
    "        ):\n",
    "            pop_tiffs.append(f's3://{bucket}/{res[\"Key\"]}')"
   ]
  },
  {
   "cell_type": "code",
   "execution_count": null,
   "id": "3",
   "metadata": {},
   "outputs": [],
   "source": [
    "out_file = os.path.join(out_folder, f\"merged_{pop_layer}\")\n",
    "merged_data, merged_profile = rMisc.merge_rasters(\n",
    "    pop_tiffs, gdal_unssafe=True, compress=True\n",
    ")"
   ]
  },
  {
   "cell_type": "code",
   "execution_count": null,
   "id": "4",
   "metadata": {},
   "outputs": [],
   "source": [
    "dtype = \"uint16\"\n",
    "merged_data[merged_data < 0] = 0\n",
    "merged_data = merged_data.astype(dtype)\n",
    "merged_profile.update(\n",
    "    dtype=dtype,\n",
    "    nodata=0,\n",
    ")\n",
    "\n",
    "with rasterio.open(out_file, \"w\", **merged_profile) as dst:\n",
    "    dst.write(merged_data)"
   ]
  },
  {
   "cell_type": "code",
   "execution_count": null,
   "id": "5",
   "metadata": {},
   "outputs": [],
   "source": []
  },
  {
   "cell_type": "markdown",
   "id": "6",
   "metadata": {},
   "source": [
    "# Mosaic the DoU layers"
   ]
  },
  {
   "cell_type": "code",
   "execution_count": null,
   "id": "7",
   "metadata": {},
   "outputs": [],
   "source": [
    "bucket = \"wbg-geography01\"\n",
    "prefix = \"URBANIZATION/MR_Novel_Poverty/\"\n",
    "\n",
    "# Loop through the S3 bucket and get all the keys for files that are .tif\n",
    "more_results = True\n",
    "loops = 0\n",
    "urban_tiff = {}\n",
    "\n",
    "while more_results:\n",
    "    if loops > 0:\n",
    "        objects = s3client.list_objects_v2(\n",
    "            Bucket=bucket, Prefix=prefix, ContinuationToken=token\n",
    "        )\n",
    "    else:\n",
    "        objects = s3client.list_objects_v2(Bucket=bucket, Prefix=prefix)\n",
    "    more_results = objects[\"IsTruncated\"]\n",
    "    if more_results:\n",
    "        token = objects[\"NextContinuationToken\"]\n",
    "    loops += 1\n",
    "    for res in objects[\"Contents\"]:\n",
    "        if (\n",
    "            (\"FINAL_STANDARD\" in res[\"Key\"])\n",
    "            and (\n",
    "                res[\"Key\"].endswith(\"urban.tif\") or res[\"Key\"].endswith(\"urban_hd.tif\")\n",
    "            )\n",
    "            and (\"1k\" not in res[\"Key\"])\n",
    "        ):\n",
    "            cur_pop = os.path.basename(res[\"Key\"]).split(\"_\")[1]\n",
    "            cur_type = os.path.basename(res[\"Key\"]).split(\"_\")[-1].replace(\".tif\", \"\")\n",
    "            cur_lyr = f\"{cur_pop}_{cur_type}\"\n",
    "            cur_path = f\"s3://{bucket}/{res['Key']}\"\n",
    "            try:\n",
    "                urban_tiff[cur_lyr].append(cur_path)\n",
    "            except:\n",
    "                urban_tiff[cur_lyr] = [cur_path]"
   ]
  },
  {
   "cell_type": "code",
   "execution_count": null,
   "id": "8",
   "metadata": {},
   "outputs": [],
   "source": [
    "if not os.path.exists(out_folder):\n",
    "    os.makedirs(out_folder)\n",
    "\n",
    "for cur_lbl, rasters in urban_tiff.items():\n",
    "    if \"cpo15\" in cur_lbl:\n",
    "        tPrint(cur_lbl)\n",
    "        out_file = os.path.join(out_folder, f\"{cur_lbl}_DoU_Africa_mosaic.tif\")\n",
    "        curD, profile = rMisc.merge_rasters(\n",
    "            rasters,\n",
    "            merge_method=\"max\",\n",
    "            boolean_gt_0=True,\n",
    "            out_file=out_file,\n",
    "            gdal_unssafe=True,\n",
    "            compress=True,\n",
    "        )"
   ]
  },
  {
   "cell_type": "code",
   "execution_count": null,
   "id": "9",
   "metadata": {},
   "outputs": [],
   "source": [
    "opened_tiffs = [rasterio.open(x) for x in hd_urban_tiff]\n",
    "merged, out_transform = merge(opened_tiffs, method=\"max\")\n",
    "merged = ((merged > 0) * 1).astype(\"uint8\")\n",
    "\n",
    "# Create a new raster file with the merged data\n",
    "metadata = opened_tiffs[0].meta.copy()\n",
    "metadata.update(\n",
    "    {\n",
    "        \"height\": merged.shape[1],\n",
    "        \"width\": merged.shape[2],\n",
    "        \"transform\": out_transform,\n",
    "        \"dtype\": \"uint8\",\n",
    "    }\n",
    ")\n",
    "with rasterio.open(\n",
    "    f\"/home/wb411133/temp/{sel_pop}_combo_urban_hd.tif\", \"w\", **metadata\n",
    ") as dst:\n",
    "    dst.write(merged)"
   ]
  },
  {
   "cell_type": "markdown",
   "id": "10",
   "metadata": {},
   "source": [
    "# Mosaick data from PP"
   ]
  },
  {
   "cell_type": "code",
   "execution_count": null,
   "id": "11",
   "metadata": {},
   "outputs": [],
   "source": [
    "bucket = \"wbg-geography01\"\n",
    "prefix = \"URBANIZATION/MR_Novel_Poverty/AAPPC/Delineations/\"\n",
    "\n",
    "# Loop through the S3 bucket and get all the keys for files that are .tif\n",
    "more_results = True\n",
    "loops = 0\n",
    "db_tiffs = {}\n",
    "\n",
    "while more_results:\n",
    "    if loops > 0:\n",
    "        objects = s3client.list_objects_v2(\n",
    "            Bucket=bucket, Prefix=prefix, ContinuationToken=token\n",
    "        )\n",
    "    else:\n",
    "        objects = s3client.list_objects_v2(Bucket=bucket, Prefix=prefix)\n",
    "    more_results = objects[\"IsTruncated\"]\n",
    "    if more_results:\n",
    "        token = objects[\"NextContinuationToken\"]\n",
    "    loops += 1\n",
    "    for res in objects[\"Contents\"]:\n",
    "        if \"1k\" not in res[\"Key\"]:\n",
    "            cur_path = f\"s3://{bucket}/{res['Key']}\"\n",
    "            cur_type = os.path.basename(cur_path).split(\"_\")[2][:2]\n",
    "            if cur_type in [\"cc\", \"co\", \"ur\", \"ce\"]:\n",
    "                cur_pop = os.path.basename(cur_path).split(\"_\")[1].split(\"d\")[0]\n",
    "                cur_label = f\"{cur_pop}_{cur_type}\"\n",
    "                try:\n",
    "                    db_tiffs[cur_label].append(cur_path)\n",
    "                except:\n",
    "                    db_tiffs[cur_label] = [cur_path]"
   ]
  },
  {
   "cell_type": "code",
   "execution_count": null,
   "id": "12",
   "metadata": {},
   "outputs": [],
   "source": [
    "db_tiffs.keys()"
   ]
  },
  {
   "cell_type": "code",
   "execution_count": null,
   "id": "13",
   "metadata": {},
   "outputs": [],
   "source": [
    "cur_lbl = \"cpo15_ce\"\n",
    "out_file = os.path.join(out_folder, f\"{cur_lbl}_DB_Africa_mosaic_compress.tif\")\n",
    "curD, profile = rMisc.merge_rasters(\n",
    "    db_tiffs[cur_lbl],\n",
    "    merge_method=\"max\",\n",
    "    boolean_gt_0=True,\n",
    "    out_file=out_file,\n",
    "    gdal_unssafe=True,\n",
    "    compress=True,\n",
    ")"
   ]
  },
  {
   "cell_type": "code",
   "execution_count": null,
   "id": "14",
   "metadata": {},
   "outputs": [],
   "source": [
    "profile"
   ]
  },
  {
   "cell_type": "code",
   "execution_count": null,
   "id": "15",
   "metadata": {},
   "outputs": [],
   "source": [
    "if not os.path.exists(out_folder):\n",
    "    os.makedirs(out_folder)\n",
    "\n",
    "for cur_lbl, rasters in db_tiffs.items():\n",
    "    tPrint(cur_lbl)\n",
    "    out_file = os.path.join(out_folder, f\"{cur_lbl}_DB_Africa_mosaic.tif\")\n",
    "    if not os.path.exists(out_file):\n",
    "        curD, profile = rMisc.merge_rasters(\n",
    "            rasters,\n",
    "            merge_method=\"max\",\n",
    "            boolean_gt_0=True,\n",
    "            out_file=out_file,\n",
    "            gdal_unssafe=True,\n",
    "            compress=True,\n",
    "        )"
   ]
  },
  {
   "cell_type": "markdown",
   "id": "16",
   "metadata": {},
   "source": [
    "### Combine PP layers into single raster"
   ]
  },
  {
   "cell_type": "code",
   "execution_count": null,
   "id": "17",
   "metadata": {},
   "outputs": [],
   "source": [
    "try:\n",
    "    del final\n",
    "except:\n",
    "    pass\n",
    "\n",
    "in_rasters = []\n",
    "for lbl, val in [\n",
    "    [\"ur\", 1],\n",
    "    [\"cc\", 2],\n",
    "    [\"co\", 3],\n",
    "    [\"ce\", 4],\n",
    "]:\n",
    "    in_raster = os.path.join(out_folder, f\"cpo15_{lbl}_DB_Africa_mosaic.tif\")\n",
    "    new_data = rasterio.open(in_raster).read(1) * val\n",
    "    in_rasters.append(new_data)"
   ]
  },
  {
   "cell_type": "code",
   "execution_count": null,
   "id": "18",
   "metadata": {},
   "outputs": [],
   "source": [
    "combo_urban = np.stack(in_rasters)\n",
    "max_urban = np.max(combo_urban, axis=0)\n",
    "max_urban.shape"
   ]
  },
  {
   "cell_type": "code",
   "execution_count": null,
   "id": "19",
   "metadata": {},
   "outputs": [],
   "source": [
    "inR = rasterio.open(in_raster)\n",
    "with rasterio.open(\n",
    "    os.path.join(out_folder, \"cpo15_merged_PP_DB_Africa_mosaic.tif\"), \"w\", **inR.profile\n",
    ") as dst:\n",
    "    dst.write(max_urban, 1)"
   ]
  },
  {
   "cell_type": "code",
   "execution_count": null,
   "id": "20",
   "metadata": {},
   "outputs": [],
   "source": [
    "out_folder"
   ]
  },
  {
   "cell_type": "code",
   "execution_count": null,
   "id": "21",
   "metadata": {},
   "outputs": [],
   "source": []
  },
  {
   "cell_type": "markdown",
   "id": "22",
   "metadata": {},
   "source": []
  }
 ],
 "metadata": {
  "kernelspec": {
   "display_name": "urban_test",
   "language": "python",
   "name": "python3"
  },
  "language_info": {
   "codemirror_mode": {
    "name": "ipython",
    "version": 3
   },
   "file_extension": ".py",
   "mimetype": "text/x-python",
   "name": "python",
   "nbconvert_exporter": "python",
   "pygments_lexer": "ipython3",
   "version": "3.10.16"
  }
 },
 "nbformat": 4,
 "nbformat_minor": 5
}
