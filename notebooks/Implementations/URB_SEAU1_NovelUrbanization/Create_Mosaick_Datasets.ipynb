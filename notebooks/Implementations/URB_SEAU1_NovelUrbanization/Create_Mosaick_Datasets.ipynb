{
 "cells": [
  {
   "cell_type": "code",
   "execution_count": 1,
   "id": "3d5639a9",
   "metadata": {},
   "outputs": [
    {
     "name": "stderr",
     "output_type": "stream",
     "text": [
      "/home/wb411133/.conda/envs/ee/lib/python3.9/site-packages/geopandas/_compat.py:106: UserWarning: The Shapely GEOS version (3.9.1-CAPI-1.14.2) is incompatible with the GEOS version PyGEOS was compiled with (3.10.4-CAPI-1.16.2). Conversions between both will be slow.\n",
      "  warnings.warn(\n"
     ]
    },
    {
     "name": "stdout",
     "output_type": "stream",
     "text": [
      "METADATA Library: Could not import arcgis libraries\n"
     ]
    }
   ],
   "source": [
    "import sys\n",
    "import os\n",
    "import boto3\n",
    "import rasterio\n",
    "\n",
    "\n",
    "from rasterio.merge import merge\n",
    "\n",
    "# Import raster helpers\n",
    "sys.path.insert(0, \"/home/wb411133/Code/gostrocks/src\")\n",
    "\n",
    "import GOSTRocks.rasterMisc as rMisc\n",
    "from GOSTRocks.misc import tPrint\n",
    "\n",
    "# Import GOST urban functions\n",
    "sys.path.append(\"../../../src\")\n",
    "\n",
    "# Import local functions\n",
    "from novelUrbanization import *\n",
    "\n",
    "%load_ext autoreload\n",
    "%autoreload 2\n",
    "\n",
    "s3client = boto3.client(\"s3\")"
   ]
  },
  {
   "cell_type": "markdown",
   "id": "79b8cf0a",
   "metadata": {},
   "source": [
    "# Mosaic the DoU layers"
   ]
  },
  {
   "cell_type": "code",
   "execution_count": 2,
   "id": "b7e89905",
   "metadata": {},
   "outputs": [],
   "source": [
    "bucket = \"wbg-geography01\"\n",
    "prefix = \"URBANIZATION/MR_Novel_Poverty/\"\n",
    "\n",
    "# Loop through the S3 bucket and get all the keys for files that are .tif\n",
    "more_results = True\n",
    "loops = 0\n",
    "urban_tiff = {}\n",
    "\n",
    "while more_results:\n",
    "    if loops > 0:\n",
    "        objects = s3client.list_objects_v2(\n",
    "            Bucket=bucket, Prefix=prefix, ContinuationToken=token\n",
    "        )\n",
    "    else:\n",
    "        objects = s3client.list_objects_v2(Bucket=bucket, Prefix=prefix)\n",
    "    more_results = objects[\"IsTruncated\"]\n",
    "    if more_results:\n",
    "        token = objects[\"NextContinuationToken\"]\n",
    "    loops += 1\n",
    "    for res in objects[\"Contents\"]:\n",
    "        if (\"FINAL_STANDARD_1KM\" in res[\"Key\"]) and (\n",
    "            res[\"Key\"].endswith(\"urban.tif\") or res[\"Key\"].endswith(\"urban_hd.tif\")\n",
    "        ):\n",
    "            cur_pop = os.path.basename(res[\"Key\"]).split(\"_\")[1]\n",
    "            cur_type = os.path.basename(res[\"Key\"]).split(\"_\")[-1].replace(\".tif\", \"\")\n",
    "            cur_lyr = f\"{cur_pop}_{cur_type}\"\n",
    "            cur_path = os.path.join(\"s3://\", bucket, res[\"Key\"])\n",
    "            try:\n",
    "                urban_tiff[cur_lyr].append(cur_path)\n",
    "            except:\n",
    "                urban_tiff[cur_lyr] = [cur_path]"
   ]
  },
  {
   "cell_type": "code",
   "execution_count": 3,
   "id": "e1c94276",
   "metadata": {},
   "outputs": [
    {
     "name": "stdout",
     "output_type": "stream",
     "text": [
      "15:06:26\tcpo15_urban\n",
      "15:06:44\tcpo15_hd\n",
      "15:07:06\tcpo20_urban\n",
      "15:07:30\tcpo20_hd\n",
      "15:07:53\tgpo_urban\n",
      "15:08:22\tgpo_hd\n",
      "15:08:50\tupo15_urban\n",
      "15:09:42\tupo15_hd\n",
      "15:10:31\tupo18_urban\n",
      "15:10:34\tupo18_hd\n",
      "15:10:36\tupo16_urban\n",
      "15:10:38\tupo16_hd\n",
      "15:10:39\tcpo17_urban\n",
      "15:10:40\tcpo17_hd\n",
      "15:10:40\tupo17_urban\n",
      "15:10:41\tupo17_hd\n",
      "15:10:41\tcpo18_urban\n",
      "15:10:42\tcpo18_hd\n"
     ]
    }
   ],
   "source": [
    "out_folder = \"/home/wb411133/temp/urban_mosaics\"\n",
    "if not os.path.exists(out_folder):\n",
    "    os.makedirs(out_folder)\n",
    "\n",
    "for cur_lbl, rasters in urban_tiff.items():\n",
    "    tPrint(cur_lbl)\n",
    "    out_file = os.path.join(out_folder, f\"{cur_lbl}_DoU_Africa_mosaic.tif\")\n",
    "    curD, profile = rMisc.merge_rasters(\n",
    "        rasters, merge_method=\"max\", boolean_gt_0=True, out_file=out_file\n",
    "    )"
   ]
  },
  {
   "cell_type": "code",
   "execution_count": null,
   "id": "5ad5ea55",
   "metadata": {},
   "outputs": [],
   "source": [
    "opened_tiffs = [rasterio.open(x) for x in hd_urban_tiff]\n",
    "merged, out_transform = merge(opened_tiffs, method=\"max\")\n",
    "merged = ((merged > 0) * 1).astype(\"uint8\")\n",
    "\n",
    "# Create a new raster file with the merged data\n",
    "metadata = opened_tiffs[0].meta.copy()\n",
    "metadata.update(\n",
    "    {\n",
    "        \"height\": merged.shape[1],\n",
    "        \"width\": merged.shape[2],\n",
    "        \"transform\": out_transform,\n",
    "        \"dtype\": \"uint8\",\n",
    "    }\n",
    ")\n",
    "with rasterio.open(\n",
    "    f\"/home/wb411133/temp/{sel_pop}_combo_urban_hd.tif\", \"w\", **metadata\n",
    ") as dst:\n",
    "    dst.write(merged)"
   ]
  },
  {
   "cell_type": "markdown",
   "id": "25e95213",
   "metadata": {},
   "source": [
    "# Mosaick data from PP"
   ]
  },
  {
   "cell_type": "code",
   "execution_count": 28,
   "id": "cd0122d2",
   "metadata": {},
   "outputs": [],
   "source": [
    "bucket = \"wbg-geography01\"\n",
    "prefix = \"URBANIZATION/MR_Novel_Poverty/AAPPC/Delineations/\"\n",
    "\n",
    "# Loop through the S3 bucket and get all the keys for files that are .tif\n",
    "more_results = True\n",
    "loops = 0\n",
    "db_tiffs = {}\n",
    "\n",
    "while more_results:\n",
    "    if loops > 0:\n",
    "        objects = s3client.list_objects_v2(\n",
    "            Bucket=bucket, Prefix=prefix, ContinuationToken=token\n",
    "        )\n",
    "    else:\n",
    "        objects = s3client.list_objects_v2(Bucket=bucket, Prefix=prefix)\n",
    "    more_results = objects[\"IsTruncated\"]\n",
    "    if more_results:\n",
    "        token = objects[\"NextContinuationToken\"]\n",
    "    loops += 1\n",
    "    for res in objects[\"Contents\"]:\n",
    "        if \"1k\" in res[\"Key\"]:\n",
    "            cur_path = os.path.join(\"s3://\", bucket, res[\"Key\"])\n",
    "            cur_type = os.path.basename(cur_path).split(\"_\")[2][:2]\n",
    "            if cur_type in [\"cc\", \"co\", \"ur\"]:\n",
    "                cur_pop = os.path.basename(cur_path).split(\"_\")[1].split(\"d\")[0]\n",
    "                cur_label = f\"{cur_pop}_{cur_type}\"\n",
    "                try:\n",
    "                    db_tiffs[cur_label].append(cur_path)\n",
    "                except:\n",
    "                    db_tiffs[cur_label] = [cur_path]"
   ]
  },
  {
   "cell_type": "code",
   "execution_count": 30,
   "id": "135aeb41",
   "metadata": {},
   "outputs": [
    {
     "name": "stdout",
     "output_type": "stream",
     "text": [
      "15:18:39\tcpo15_urban\n",
      "15:19:04\tcpo15_hd\n",
      "15:19:27\tcpo20_urban\n",
      "15:19:53\tcpo20_hd\n",
      "15:20:16\tgpo_urban\n",
      "15:20:44\tgpo_hd\n",
      "15:21:11\tupo15_urban\n",
      "15:21:56\tupo15_hd\n",
      "15:22:39\tupo18_urban\n",
      "15:22:41\tupo18_hd\n",
      "15:22:44\tupo16_urban\n",
      "15:22:45\tupo16_hd\n",
      "15:22:46\tcpo17_urban\n",
      "15:22:47\tcpo17_hd\n",
      "15:22:47\tupo17_urban\n",
      "15:22:47\tupo17_hd\n",
      "15:22:48\tcpo18_urban\n",
      "15:22:48\tcpo18_hd\n"
     ]
    }
   ],
   "source": [
    "out_folder = \"/home/wb411133/temp/urban_mosaics\"\n",
    "if not os.path.exists(out_folder):\n",
    "    os.makedirs(out_folder)\n",
    "\n",
    "for cur_lbl, rasters in urban_tiff.items():\n",
    "    tPrint(cur_lbl)\n",
    "    out_file = os.path.join(out_folder, f\"{cur_lbl}_DB_Africa_mosaic.tif\")\n",
    "    curD, profile = rMisc.merge_rasters(\n",
    "        rasters, merge_method=\"max\", boolean_gt_0=True, out_file=out_file\n",
    "    )"
   ]
  },
  {
   "cell_type": "code",
   "execution_count": null,
   "id": "4b7350ea",
   "metadata": {},
   "outputs": [],
   "source": []
  }
 ],
 "metadata": {
  "kernelspec": {
   "display_name": "Earth Engine",
   "language": "python",
   "name": "ee"
  },
  "language_info": {
   "codemirror_mode": {
    "name": "ipython",
    "version": 3
   },
   "file_extension": ".py",
   "mimetype": "text/x-python",
   "name": "python",
   "nbconvert_exporter": "python",
   "pygments_lexer": "ipython3",
   "version": "3.9.4"
  }
 },
 "nbformat": 4,
 "nbformat_minor": 5
}
