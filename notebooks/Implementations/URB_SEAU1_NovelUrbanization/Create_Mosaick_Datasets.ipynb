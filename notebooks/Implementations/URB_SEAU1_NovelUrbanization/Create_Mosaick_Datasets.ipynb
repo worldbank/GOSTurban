{
 "cells": [
  {
   "cell_type": "code",
   "execution_count": 8,
   "id": "0",
   "metadata": {},
   "outputs": [
    {
     "name": "stdout",
     "output_type": "stream",
     "text": [
      "Unexpected exception formatting exception. Falling back to standard exception\n"
     ]
    },
    {
     "name": "stderr",
     "output_type": "stream",
     "text": [
      "Traceback (most recent call last):\n",
      "  File \"c:\\wbg\\Anaconda3\\envs\\urban_test\\Lib\\site-packages\\scipy\\__init__.py\", line 86, in <module>\n",
      "    from scipy._lib._ccallback import LowLevelCallable\n",
      "  File \"c:\\wbg\\Anaconda3\\envs\\urban_test\\Lib\\site-packages\\scipy\\_lib\\_ccallback.py\", line 1, in <module>\n",
      "    from . import _ccallback_c\n",
      "ImportError: cannot import name '_ccallback_c' from 'scipy._lib' (c:\\wbg\\Anaconda3\\envs\\urban_test\\Lib\\site-packages\\scipy\\_lib\\__init__.py)\n",
      "\n",
      "The above exception was the direct cause of the following exception:\n",
      "\n",
      "Traceback (most recent call last):\n",
      "  File \"c:\\wbg\\Anaconda3\\envs\\urban_test\\Lib\\site-packages\\IPython\\core\\interactiveshell.py\", line 3553, in run_code\n",
      "  File \"C:\\Users\\WB411133\\AppData\\Local\\Temp\\ipykernel_19728\\2942251588.py\", line 19, in <module>\n",
      "    from novelUrbanization import *\n",
      "  File \"c:\\WBG\\Work\\Code\\GOSTurban\\notebooks\\Implementations\\URB_SEAU1_NovelUrbanization\\novelUrbanization.py\", line 19, in <module>\n",
      "    import GOSTurban.urban_helper as helper\n",
      "  File \"c:\\wbg\\Anaconda3\\envs\\urban_test\\Lib\\site-packages\\GOSTurban\\urban_helper.py\", line 12, in <module>\n",
      "    import GOSTurban.UrbanRaster as urban\n",
      "  File \"c:\\wbg\\Anaconda3\\envs\\urban_test\\Lib\\site-packages\\GOSTurban\\UrbanRaster.py\", line 17, in <module>\n",
      "    from scipy import stats\n",
      "  File \"c:\\wbg\\Anaconda3\\envs\\urban_test\\Lib\\site-packages\\scipy\\__init__.py\", line 91, in <module>\n",
      "    raise ImportError(msg) from e\n",
      "ImportError: The `scipy` install you are using seems to be broken, (extension modules cannot be imported), please try reinstalling.\n",
      "\n",
      "During handling of the above exception, another exception occurred:\n",
      "\n",
      "Traceback (most recent call last):\n",
      "  File \"c:\\wbg\\Anaconda3\\envs\\urban_test\\Lib\\site-packages\\IPython\\core\\interactiveshell.py\", line 2144, in showtraceback\n",
      "  File \"c:\\wbg\\Anaconda3\\envs\\urban_test\\Lib\\site-packages\\IPython\\core\\ultratb.py\", line 1435, in structured_traceback\n",
      "  File \"c:\\wbg\\Anaconda3\\envs\\urban_test\\Lib\\site-packages\\IPython\\core\\ultratb.py\", line 1326, in structured_traceback\n",
      "  File \"c:\\wbg\\Anaconda3\\envs\\urban_test\\Lib\\site-packages\\IPython\\core\\ultratb.py\", line 1173, in structured_traceback\n",
      "  File \"c:\\wbg\\Anaconda3\\envs\\urban_test\\Lib\\site-packages\\IPython\\core\\ultratb.py\", line 1088, in format_exception_as_a_whole\n",
      "  File \"c:\\wbg\\Anaconda3\\envs\\urban_test\\Lib\\site-packages\\IPython\\core\\ultratb.py\", line 970, in format_record\n",
      "  File \"c:\\wbg\\Anaconda3\\envs\\urban_test\\Lib\\site-packages\\IPython\\core\\ultratb.py\", line 792, in lines\n",
      "  File \"c:\\wbg\\Anaconda3\\envs\\urban_test\\Lib\\site-packages\\stack_data\\utils.py\", line 145, in cached_property_wrapper\n",
      "  File \"c:\\wbg\\Anaconda3\\envs\\urban_test\\Lib\\site-packages\\stack_data\\core.py\", line 698, in lines\n",
      "  File \"c:\\wbg\\Anaconda3\\envs\\urban_test\\Lib\\site-packages\\stack_data\\utils.py\", line 145, in cached_property_wrapper\n",
      "  File \"c:\\wbg\\Anaconda3\\envs\\urban_test\\Lib\\site-packages\\stack_data\\core.py\", line 649, in included_pieces\n",
      "  File \"c:\\wbg\\Anaconda3\\envs\\urban_test\\Lib\\site-packages\\stack_data\\utils.py\", line 145, in cached_property_wrapper\n",
      "  File \"c:\\wbg\\Anaconda3\\envs\\urban_test\\Lib\\site-packages\\stack_data\\core.py\", line 628, in executing_piece\n",
      "  File \"c:\\wbg\\Anaconda3\\envs\\urban_test\\Lib\\site-packages\\executing\\executing.py\", line 164, in only\n",
      "executing.executing.NotOneValueFound: Expected one value, found 0\n"
     ]
    }
   ],
   "source": [
    "import sys\n",
    "import os\n",
    "import boto3\n",
    "import rasterio\n",
    "\n",
    "\n",
    "from rasterio.merge import merge\n",
    "\n",
    "# Import raster helpers\n",
    "sys.path.insert(0, \"../../../../GOSTrocks/src\")\n",
    "\n",
    "import GOSTrocks.rasterMisc as rMisc\n",
    "from GOSTrocks.misc import tPrint\n",
    "\n",
    "# Import GOST urban functions\n",
    "sys.path.insert(1, \"../../../src\")\n",
    "\n",
    "# Import local functions\n",
    "from novelUrbanization import *\n",
    "\n",
    "%load_ext autoreload\n",
    "%autoreload 2\n",
    "\n",
    "s3client = boto3.client(\"s3\")"
   ]
  },
  {
   "cell_type": "markdown",
   "id": "1",
   "metadata": {},
   "source": [
    "# Mosaic the DoU layers"
   ]
  },
  {
   "cell_type": "code",
   "execution_count": null,
   "id": "2",
   "metadata": {},
   "outputs": [],
   "source": [
    "bucket = \"wbg-geography01\"\n",
    "prefix = \"URBANIZATION/MR_Novel_Poverty/\"\n",
    "\n",
    "# Loop through the S3 bucket and get all the keys for files that are .tif\n",
    "more_results = True\n",
    "loops = 0\n",
    "urban_tiff = {}\n",
    "\n",
    "while more_results:\n",
    "    if loops > 0:\n",
    "        objects = s3client.list_objects_v2(\n",
    "            Bucket=bucket, Prefix=prefix, ContinuationToken=token\n",
    "        )\n",
    "    else:\n",
    "        objects = s3client.list_objects_v2(Bucket=bucket, Prefix=prefix)\n",
    "    more_results = objects[\"IsTruncated\"]\n",
    "    if more_results:\n",
    "        token = objects[\"NextContinuationToken\"]\n",
    "    loops += 1\n",
    "    for res in objects[\"Contents\"]:\n",
    "        if (\"FINAL_STANDARD_1KM\" in res[\"Key\"]) and (\n",
    "            res[\"Key\"].endswith(\"urban.tif\") or res[\"Key\"].endswith(\"urban_hd.tif\")\n",
    "        ):\n",
    "            cur_pop = os.path.basename(res[\"Key\"]).split(\"_\")[1]\n",
    "            cur_type = os.path.basename(res[\"Key\"]).split(\"_\")[-1].replace(\".tif\", \"\")\n",
    "            cur_lyr = f\"{cur_pop}_{cur_type}\"\n",
    "            cur_path = os.path.join(\"s3://\", bucket, res[\"Key\"])\n",
    "            try:\n",
    "                urban_tiff[cur_lyr].append(cur_path)\n",
    "            except:\n",
    "                urban_tiff[cur_lyr] = [cur_path]"
   ]
  },
  {
   "cell_type": "code",
   "execution_count": null,
   "id": "3",
   "metadata": {},
   "outputs": [],
   "source": [
    "out_folder = \"/home/wb411133/temp/urban_mosaics\"\n",
    "if not os.path.exists(out_folder):\n",
    "    os.makedirs(out_folder)\n",
    "\n",
    "for cur_lbl, rasters in urban_tiff.items():\n",
    "    tPrint(cur_lbl)\n",
    "    out_file = os.path.join(out_folder, f\"{cur_lbl}_DoU_Africa_mosaic.tif\")\n",
    "    curD, profile = rMisc.merge_rasters(\n",
    "        rasters, merge_method=\"max\", boolean_gt_0=True, out_file=out_file\n",
    "    )"
   ]
  },
  {
   "cell_type": "code",
   "execution_count": null,
   "id": "4",
   "metadata": {},
   "outputs": [],
   "source": [
    "opened_tiffs = [rasterio.open(x) for x in hd_urban_tiff]\n",
    "merged, out_transform = merge(opened_tiffs, method=\"max\")\n",
    "merged = ((merged > 0) * 1).astype(\"uint8\")\n",
    "\n",
    "# Create a new raster file with the merged data\n",
    "metadata = opened_tiffs[0].meta.copy()\n",
    "metadata.update(\n",
    "    {\n",
    "        \"height\": merged.shape[1],\n",
    "        \"width\": merged.shape[2],\n",
    "        \"transform\": out_transform,\n",
    "        \"dtype\": \"uint8\",\n",
    "    }\n",
    ")\n",
    "with rasterio.open(\n",
    "    f\"/home/wb411133/temp/{sel_pop}_combo_urban_hd.tif\", \"w\", **metadata\n",
    ") as dst:\n",
    "    dst.write(merged)"
   ]
  },
  {
   "cell_type": "markdown",
   "id": "5",
   "metadata": {},
   "source": [
    "# Mosaick data from PP"
   ]
  },
  {
   "cell_type": "code",
   "execution_count": null,
   "id": "6",
   "metadata": {},
   "outputs": [],
   "source": [
    "bucket = \"wbg-geography01\"\n",
    "prefix = \"URBANIZATION/MR_Novel_Poverty/AAPPC/Delineations/\"\n",
    "\n",
    "# Loop through the S3 bucket and get all the keys for files that are .tif\n",
    "more_results = True\n",
    "loops = 0\n",
    "db_tiffs = {}\n",
    "\n",
    "while more_results:\n",
    "    if loops > 0:\n",
    "        objects = s3client.list_objects_v2(\n",
    "            Bucket=bucket, Prefix=prefix, ContinuationToken=token\n",
    "        )\n",
    "    else:\n",
    "        objects = s3client.list_objects_v2(Bucket=bucket, Prefix=prefix)\n",
    "    more_results = objects[\"IsTruncated\"]\n",
    "    if more_results:\n",
    "        token = objects[\"NextContinuationToken\"]\n",
    "    loops += 1\n",
    "    for res in objects[\"Contents\"]:\n",
    "        if \"1k\" in res[\"Key\"]:\n",
    "            cur_path = os.path.join(\"s3://\", bucket, res[\"Key\"])\n",
    "            cur_type = os.path.basename(cur_path).split(\"_\")[2][:2]\n",
    "            if cur_type in [\"cc\", \"co\", \"ur\"]:\n",
    "                cur_pop = os.path.basename(cur_path).split(\"_\")[1].split(\"d\")[0]\n",
    "                cur_label = f\"{cur_pop}_{cur_type}\"\n",
    "                try:\n",
    "                    db_tiffs[cur_label].append(cur_path)\n",
    "                except:\n",
    "                    db_tiffs[cur_label] = [cur_path]"
   ]
  },
  {
   "cell_type": "code",
   "execution_count": null,
   "id": "7",
   "metadata": {},
   "outputs": [],
   "source": [
    "out_folder = \"/home/wb411133/temp/urban_mosaics\"\n",
    "if not os.path.exists(out_folder):\n",
    "    os.makedirs(out_folder)\n",
    "\n",
    "for cur_lbl, rasters in urban_tiff.items():\n",
    "    tPrint(cur_lbl)\n",
    "    out_file = os.path.join(out_folder, f\"{cur_lbl}_DB_Africa_mosaic.tif\")\n",
    "    curD, profile = rMisc.merge_rasters(\n",
    "        rasters, merge_method=\"max\", boolean_gt_0=True, out_file=out_file\n",
    "    )"
   ]
  },
  {
   "cell_type": "code",
   "execution_count": null,
   "id": "8",
   "metadata": {},
   "outputs": [],
   "source": []
  }
 ],
 "metadata": {
  "kernelspec": {
   "display_name": "urban_test",
   "language": "python",
   "name": "python3"
  },
  "language_info": {
   "codemirror_mode": {
    "name": "ipython",
    "version": 3
   },
   "file_extension": ".py",
   "mimetype": "text/x-python",
   "name": "python",
   "nbconvert_exporter": "python",
   "pygments_lexer": "ipython3",
   "version": "3.10.14"
  }
 },
 "nbformat": 4,
 "nbformat_minor": 5
}
