{
 "cells": [
  {
   "cell_type": "code",
   "execution_count": null,
   "id": "0",
   "metadata": {},
   "outputs": [],
   "source": [
    "import sys\n",
    "import os\n",
    "import boto3\n",
    "import rasterio\n",
    "\n",
    "\n",
    "from rasterio.merge import merge\n",
    "\n",
    "# Import raster helpers\n",
    "sys.path.insert(0, \"/home/wb411133/Code/gostrocks/src\")\n",
    "\n",
    "import GOSTRocks.rasterMisc as rMisc\n",
    "from GOSTRocks.misc import tPrint\n",
    "\n",
    "# Import GOST urban functions\n",
    "sys.path.append(\"../../../src\")\n",
    "\n",
    "# Import local functions\n",
    "from novelUrbanization import *\n",
    "\n",
    "%load_ext autoreload\n",
    "%autoreload 2\n",
    "\n",
    "s3client = boto3.client(\"s3\")"
   ]
  },
  {
   "cell_type": "markdown",
   "id": "1",
   "metadata": {},
   "source": [
    "# Mosaic the DoU layers"
   ]
  },
  {
   "cell_type": "code",
   "execution_count": null,
   "id": "2",
   "metadata": {},
   "outputs": [],
   "source": [
    "bucket = \"wbg-geography01\"\n",
    "prefix = \"URBANIZATION/MR_Novel_Poverty/\"\n",
    "\n",
    "# Loop through the S3 bucket and get all the keys for files that are .tif\n",
    "more_results = True\n",
    "loops = 0\n",
    "urban_tiff = {}\n",
    "\n",
    "while more_results:\n",
    "    if loops > 0:\n",
    "        objects = s3client.list_objects_v2(\n",
    "            Bucket=bucket, Prefix=prefix, ContinuationToken=token\n",
    "        )\n",
    "    else:\n",
    "        objects = s3client.list_objects_v2(Bucket=bucket, Prefix=prefix)\n",
    "    more_results = objects[\"IsTruncated\"]\n",
    "    if more_results:\n",
    "        token = objects[\"NextContinuationToken\"]\n",
    "    loops += 1\n",
    "    for res in objects[\"Contents\"]:\n",
    "        if (\"FINAL_STANDARD_1KM\" in res[\"Key\"]) and (\n",
    "            res[\"Key\"].endswith(\"urban.tif\") or res[\"Key\"].endswith(\"urban_hd.tif\")\n",
    "        ):\n",
    "            cur_pop = os.path.basename(res[\"Key\"]).split(\"_\")[1]\n",
    "            cur_type = os.path.basename(res[\"Key\"]).split(\"_\")[-1].replace(\".tif\", \"\")\n",
    "            cur_lyr = f\"{cur_pop}_{cur_type}\"\n",
    "            cur_path = os.path.join(\"s3://\", bucket, res[\"Key\"])\n",
    "            try:\n",
    "                urban_tiff[cur_lyr].append(cur_path)\n",
    "            except Exception:\n",
    "                urban_tiff[cur_lyr] = [cur_path]"
   ]
  },
  {
   "cell_type": "code",
   "execution_count": null,
   "id": "3",
   "metadata": {},
   "outputs": [],
   "source": [
    "out_folder = \"/home/wb411133/temp/urban_mosaics\"\n",
    "if not os.path.exists(out_folder):\n",
    "    os.makedirs(out_folder)\n",
    "\n",
    "for cur_lbl, rasters in urban_tiff.items():\n",
    "    tPrint(cur_lbl)\n",
    "    out_file = os.path.join(out_folder, f\"{cur_lbl}_DoU_Africa_mosaic.tif\")\n",
    "    curD, profile = rMisc.merge_rasters(\n",
    "        rasters, merge_method=\"max\", boolean_gt_0=True, out_file=out_file\n",
    "    )"
   ]
  },
  {
   "cell_type": "code",
   "execution_count": null,
   "id": "4",
   "metadata": {},
   "outputs": [],
   "source": [
    "opened_tiffs = [rasterio.open(x) for x in hd_urban_tiff]\n",
    "merged, out_transform = merge(opened_tiffs, method=\"max\")\n",
    "merged = ((merged > 0) * 1).astype(\"uint8\")\n",
    "\n",
    "# Create a new raster file with the merged data\n",
    "metadata = opened_tiffs[0].meta.copy()\n",
    "metadata.update(\n",
    "    {\n",
    "        \"height\": merged.shape[1],\n",
    "        \"width\": merged.shape[2],\n",
    "        \"transform\": out_transform,\n",
    "        \"dtype\": \"uint8\",\n",
    "    }\n",
    ")\n",
    "with rasterio.open(\n",
    "    f\"/home/wb411133/temp/{sel_pop}_combo_urban_hd.tif\", \"w\", **metadata\n",
    ") as dst:\n",
    "    dst.write(merged)"
   ]
  },
  {
   "cell_type": "markdown",
   "id": "5",
   "metadata": {},
   "source": [
    "# Mosaick data from PP"
   ]
  },
  {
   "cell_type": "code",
   "execution_count": null,
   "id": "6",
   "metadata": {},
   "outputs": [],
   "source": [
    "bucket = \"wbg-geography01\"\n",
    "prefix = \"URBANIZATION/MR_Novel_Poverty/AAPPC/Delineations/\"\n",
    "\n",
    "# Loop through the S3 bucket and get all the keys for files that are .tif\n",
    "more_results = True\n",
    "loops = 0\n",
    "db_tiffs = {}\n",
    "\n",
    "while more_results:\n",
    "    if loops > 0:\n",
    "        objects = s3client.list_objects_v2(\n",
    "            Bucket=bucket, Prefix=prefix, ContinuationToken=token\n",
    "        )\n",
    "    else:\n",
    "        objects = s3client.list_objects_v2(Bucket=bucket, Prefix=prefix)\n",
    "    more_results = objects[\"IsTruncated\"]\n",
    "    if more_results:\n",
    "        token = objects[\"NextContinuationToken\"]\n",
    "    loops += 1\n",
    "    for res in objects[\"Contents\"]:\n",
    "        if \"1k\" in res[\"Key\"]:\n",
    "            cur_path = os.path.join(\"s3://\", bucket, res[\"Key\"])\n",
    "            cur_type = os.path.basename(cur_path).split(\"_\")[2][:2]\n",
    "            if cur_type in [\"cc\", \"co\", \"ur\"]:\n",
    "                cur_pop = os.path.basename(cur_path).split(\"_\")[1].split(\"d\")[0]\n",
    "                cur_label = f\"{cur_pop}_{cur_type}\"\n",
    "                try:\n",
    "                    db_tiffs[cur_label].append(cur_path)\n",
    "                except Exception:\n",
    "                    db_tiffs[cur_label] = [cur_path]"
   ]
  },
  {
   "cell_type": "code",
   "execution_count": null,
   "id": "7",
   "metadata": {},
   "outputs": [],
   "source": [
    "out_folder = \"/home/wb411133/temp/urban_mosaics\"\n",
    "if not os.path.exists(out_folder):\n",
    "    os.makedirs(out_folder)\n",
    "\n",
    "for cur_lbl, rasters in urban_tiff.items():\n",
    "    tPrint(cur_lbl)\n",
    "    out_file = os.path.join(out_folder, f\"{cur_lbl}_DB_Africa_mosaic.tif\")\n",
    "    curD, profile = rMisc.merge_rasters(\n",
    "        rasters, merge_method=\"max\", boolean_gt_0=True, out_file=out_file\n",
    "    )"
   ]
  },
  {
   "cell_type": "code",
   "execution_count": null,
   "id": "8",
   "metadata": {},
   "outputs": [],
   "source": []
  }
 ],
 "metadata": {
  "language_info": {
   "name": "python"
  }
 },
 "nbformat": 4,
 "nbformat_minor": 5
}
