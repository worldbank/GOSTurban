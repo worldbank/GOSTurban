{
 "cells": [
  {
   "cell_type": "markdown",
   "metadata": {},
   "source": [
    "# Chart and map urbanization data"
   ]
  },
  {
   "cell_type": "code",
   "execution_count": null,
   "metadata": {},
   "outputs": [],
   "source": [
    "import sys\n",
    "import os\n",
    "import multiprocessing\n",
    "\n",
    "import pandas as pd\n",
    "import geopandas as gpd\n",
    "\n",
    "from osgeo import gdal\n",
    "\n",
    "# Import raster helpers\n",
    "sys.path.insert(0, \"/home/wb411133/Code/gostrocks/src\")\n",
    "\n",
    "from GOSTRocks.misc import tPrint\n",
    "\n",
    "# Import GOST urban functions\n",
    "sys.path.append(\"../../../src\")\n",
    "\n",
    "# Import local functions\n",
    "from novelUrbanization import *\n",
    "\n",
    "%load_ext autoreload\n",
    "%autoreload 2"
   ]
  },
  {
   "cell_type": "code",
   "execution_count": null,
   "metadata": {},
   "outputs": [],
   "source": [
    "base_folder = \"/home/wb411133/data/Projects/MR_Novel_Urbanization/Data\"\n",
    "dou_pop = \"gpo\"\n",
    "db_pop = \"cpo15\"\n",
    "aapc_folder = os.path.join(base_folder, \"AAPPC\", \"Delineations\")\n",
    "agg_folder = f\"/home/wb411133/data/Projects/MR_Novel_Urbanization/Aggregate_Data/DOU{dou_pop}_DB{db_pop}\"\n",
    "if not os.path.exists(agg_folder):\n",
    "    os.makedirs(agg_folder)\n",
    "\n",
    "# Generate a list of iso3 codes already processed\n",
    "processed_iso3 = []\n",
    "for folder in os.listdir(base_folder):\n",
    "    if \"URBAN_DATA_new\" in folder:\n",
    "        processed_iso3.append(folder[:3])\n",
    "print(processed_iso3)"
   ]
  },
  {
   "cell_type": "code",
   "execution_count": null,
   "metadata": {},
   "outputs": [],
   "source": [
    "# Generate comparison of DOU gpo and DB cpo15\n",
    "iso3 = \"AGO\"\n",
    "country_folder = os.path.join(base_folder, f\"{iso3}_URBAN_DATA_new_naming\")\n",
    "urb = urban_data(iso3, country_folder, aapc_folder)\n",
    "comboRes = urb.generate_combo_layer(pop_type=[dou_pop, db_pop], debug=True)\n",
    "if comboRes:\n",
    "    if not os.path.exists(agg_folder):\n",
    "        os.makedirs(agg_folder)\n",
    "    urb.write_results(comboRes, agg_folder, dbhd=\"co\")\n",
    "tPrint(iso3)"
   ]
  },
  {
   "cell_type": "code",
   "execution_count": null,
   "metadata": {},
   "outputs": [],
   "source": [
    "def multiP(iso3):\n",
    "    dou_pop = \"gpo\"\n",
    "    db_pop = \"cpo15\"\n",
    "    country_folder = os.path.join(base_folder, f\"{iso3}_URBAN_DATA_new_naming\")\n",
    "    urb = urban_data(iso3, country_folder, aapc_folder)\n",
    "    comboRes = urb.generate_combo_layer(pop_type=[dou_pop, db_pop], debug=True)\n",
    "    if comboRes:\n",
    "        agg_folder = f\"/home/wb411133/data/Projects/MR_Novel_Urbanization/Aggregate_Data/DOU{dou_pop}_DB{db_pop}\"\n",
    "        urb.write_results(comboRes, agg_folder)\n",
    "    tPrint(iso3)"
   ]
  },
  {
   "cell_type": "code",
   "execution_count": null,
   "metadata": {},
   "outputs": [],
   "source": [
    "with multiprocessing.Pool(len(processed_iso3)) as mp:\n",
    "    mp.map(multiP, processed_iso3)"
   ]
  },
  {
   "cell_type": "code",
   "execution_count": null,
   "metadata": {},
   "outputs": [],
   "source": [
    "sum_files = []\n",
    "bin_files = []\n",
    "\n",
    "for root, dirs, files in os.walk(agg_folder):\n",
    "    for f in files:\n",
    "        if f.endswith(\"sum_co.tif\"):\n",
    "            sum_files.append(os.path.join(root, f))\n",
    "        if f.endswith(\"binary_co.tif\"):\n",
    "            bin_files.append(os.path.join(root, f))"
   ]
  },
  {
   "cell_type": "code",
   "execution_count": null,
   "metadata": {},
   "outputs": [],
   "source": [
    "vrt_options = gdal.BuildVRTOptions(resampleAlg=\"cubic\", addAlpha=True)\n",
    "pop_layer = \"cpo\"\n",
    "my_vrt = gdal.BuildVRT(\n",
    "    f\"DOU{dou_pop}_DB{db_pop}_sum.vrt\", sum_files, options=vrt_options\n",
    ")\n",
    "my_vrt = None\n",
    "my_vrt = gdal.BuildVRT(\n",
    "    f\"DOU{dou_pop}_DB{db_pop}_binary.vrt\", bin_files, options=vrt_options\n",
    ")\n",
    "my_vrt = None"
   ]
  },
  {
   "cell_type": "markdown",
   "metadata": {},
   "source": [
    "# Kappa comparison"
   ]
  },
  {
   "cell_type": "code",
   "execution_count": null,
   "metadata": {},
   "outputs": [],
   "source": [
    "iso3 = \"BGD\"\n",
    "country_folder = os.path.join(base_folder, f\"{iso3}_URBAN_DATA_new_naming\")\n",
    "urb = urban_data(iso3, country_folder, aapc_folder)\n",
    "comboRes = urb.generate_combo_layer(pop_type=pop_layer, debug=True)\n",
    "res = urb.jaccard_index(pop_type=pop_layer)\n",
    "res"
   ]
  },
  {
   "cell_type": "code",
   "execution_count": null,
   "metadata": {},
   "outputs": [],
   "source": [
    "def jaccardP(iso3, debug=False):\n",
    "    country_folder = os.path.join(base_folder, f\"{iso3}_URBAN_DATA_new_naming\")\n",
    "    urb = urban_data(iso3, country_folder, aapc_folder)\n",
    "    if not debug:\n",
    "        try:\n",
    "            comboRes = urb.generate_combo_layer(pop_type=[dou_pop, db_pop])\n",
    "            res = urb.jaccard_index(pop_type=[dou_pop, db_pop])\n",
    "        except Exception:\n",
    "            res = {\"urb_jaccard\": -1, \"hd_jaccard\": -1}\n",
    "    else:\n",
    "        comboRes = urb.generate_combo_layer(pop_type=[dou_pop, db_pop])\n",
    "        res = urb.jaccard_index(pop_type=[dou_pop, db_pop])\n",
    "    tPrint(f\"{iso3}: {res}\")\n",
    "    return {iso3: res}\n",
    "\n",
    "\n",
    "jaccardP(\"NAM\", True)\n",
    "\n",
    "\"\"\"\n",
    "with multiprocessing.Pool(len(processed_iso3)) as mp:\n",
    "    all_jaccard = mp.map(jaccardP, processed_iso3)\n",
    "\n",
    "\"\"\""
   ]
  },
  {
   "cell_type": "code",
   "execution_count": null,
   "metadata": {},
   "outputs": [],
   "source": [
    "res = {}\n",
    "for cntry in all_jaccard:\n",
    "    cISO = list(cntry.keys())[0]\n",
    "    res[cISO] = cntry[cISO]\n",
    "res = pd.DataFrame(res).transpose()\n",
    "res = res.sort_values(\"urb_jaccard\", ascending=False)\n",
    "res"
   ]
  },
  {
   "cell_type": "code",
   "execution_count": null,
   "metadata": {},
   "outputs": [],
   "source": [
    "# Attach geometry to the res\n",
    "admin0_polys = gpd.read_file(\"/home/public/Data/GLOBAL/ADMIN/Admin0_Polys.shp\")\n",
    "res[\"ISO3\"] = res.index"
   ]
  },
  {
   "cell_type": "code",
   "execution_count": null,
   "metadata": {},
   "outputs": [],
   "source": [
    "temp_res = res.loc[res[\"hd_jaccard\"] > 0]\n",
    "temp_res = temp_res.merge(admin0_polys, on=\"ISO3\")\n",
    "temp_res = gpd.GeoDataFrame(temp_res, geometry=\"geometry\", crs=4326)\n",
    "temp_res.to_file(f\"{agg_folder}_national_jaccard.shp\")"
   ]
  },
  {
   "cell_type": "code",
   "execution_count": null,
   "metadata": {},
   "outputs": [],
   "source": [
    "temp_res[\"ISO3\"].values"
   ]
  },
  {
   "cell_type": "code",
   "execution_count": null,
   "metadata": {},
   "outputs": [],
   "source": [
    "# Create subset of GHS UCDB\n",
    "ucdb_file = \"/home/public/Data/GLOBAL/URBAN/GHS/GHS_STAT_UCDB2015MT_GLOBE_R2019A/GHS_STAT_UCDB2015MT_GLOBE_R2019A_V1_2.gpkg\"\n",
    "ucdb = gpd.read_file(ucdb_file)\n",
    "ucdb = ucdb.loc[ucdb[\"CTR_MN_ISO\"].isin(temp_res[\"ISO3\"].values)]"
   ]
  },
  {
   "cell_type": "code",
   "execution_count": null,
   "metadata": {},
   "outputs": [],
   "source": [
    "ucdb.shape"
   ]
  },
  {
   "cell_type": "code",
   "execution_count": null,
   "metadata": {},
   "outputs": [],
   "source": [
    "all_grps = []\n",
    "cnt_size = 2\n",
    "for idx, grp in ucdb.groupby(\"CTR_MN_ISO\"):\n",
    "    grp = grp.sort_values(\"P15\", ascending=False)\n",
    "    if grp.shape[0] > cnt_size:\n",
    "        all_grps.append(grp.iloc[0:cnt_size, :])\n",
    "    else:\n",
    "        all_grps.append(grp)"
   ]
  },
  {
   "cell_type": "code",
   "execution_count": null,
   "metadata": {},
   "outputs": [],
   "source": [
    "sel_res = pd.concat(all_grps)\n",
    "sel_res.shape"
   ]
  },
  {
   "cell_type": "code",
   "execution_count": null,
   "metadata": {},
   "outputs": [],
   "source": [
    "sel_res.to_file(f\"{agg_folder}_select_cities.geojson\", driver=\"GeoJSON\")"
   ]
  },
  {
   "cell_type": "code",
   "execution_count": null,
   "metadata": {},
   "outputs": [],
   "source": [
    "f\"{agg_folder}_select_cities.geojson\""
   ]
  },
  {
   "cell_type": "code",
   "execution_count": null,
   "metadata": {},
   "outputs": [],
   "source": []
  }
 ],
 "metadata": {
  "language_info": {
   "name": "python"
  }
 },
 "nbformat": 4,
 "nbformat_minor": 2
}
