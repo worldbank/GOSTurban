{
 "cells": [
  {
   "cell_type": "code",
   "execution_count": null,
   "metadata": {},
   "outputs": [],
   "source": [
    "import os\n",
    "\n",
    "import pandas as pd\n",
    "import geopandas as gpd\n",
    "\n",
    "import wbgapi as wb  # https://blogs.worldbank.org/opendata/introducing-wbgapi-new-python-package-accessing-world-bank-data"
   ]
  },
  {
   "cell_type": "code",
   "execution_count": null,
   "metadata": {},
   "outputs": [],
   "source": [
    "# Define input data\n",
    "in_admin = \"/home/public/Data/GLOBAL/ADMIN/Admin0_Polys.shp\"\n",
    "inA = gpd.read_file(in_admin)\n",
    "ssa = inA.loc[inA[\"Region\"] == \"Sub-Saharan Africa\"]\n",
    "ssa"
   ]
  },
  {
   "cell_type": "code",
   "execution_count": null,
   "metadata": {},
   "outputs": [],
   "source": [
    "# Identify indicators related to GDP\n",
    "wb.series.info(q=\"gdp\")"
   ]
  },
  {
   "cell_type": "code",
   "execution_count": null,
   "metadata": {},
   "outputs": [],
   "source": [
    "wb.series.info(q=\"urban\")"
   ]
  },
  {
   "cell_type": "code",
   "execution_count": null,
   "metadata": {},
   "outputs": [],
   "source": [
    "# These are the datasets we are interested in extracting\n",
    "selected_indicators = [\"NY.GDP.MKTP.CD\", \"SP.URB.TOTL\", \"SP.URB.TOTL.IN.ZS\"]\n",
    "urb_data = wb.data.DataFrame(selected_indicators, economy=ssa[\"ISO3\"].values, mrnev=1)\n",
    "urb_data = urb_data.reset_index()  # .drop(['index'], axis=1)\n",
    "urb_data.loc[urb_data[\"economy\"] == \"SYC\"]"
   ]
  },
  {
   "cell_type": "code",
   "execution_count": null,
   "metadata": {},
   "outputs": [],
   "source": [
    "for ind in selected_indicators:\n",
    "    print(f\"{ind}: {wb.series.info(ind).items[0]['value']}\")"
   ]
  },
  {
   "cell_type": "code",
   "execution_count": null,
   "metadata": {},
   "outputs": [],
   "source": [
    "urb_data.columns = [\"ISO3\", \"GDP\", \"UrubPop\", \"UrbPercent\"]\n",
    "urb_data.to_csv(\"SSA_countries_GDP_Urbanization.csv\")"
   ]
  },
  {
   "cell_type": "code",
   "execution_count": null,
   "metadata": {},
   "outputs": [],
   "source": [
    "urb_data.loc[urb_data[\"economy\"] == \"SYC\"]"
   ]
  },
  {
   "cell_type": "code",
   "execution_count": null,
   "metadata": {},
   "outputs": [],
   "source": [
    "wb.data.DataFrame?"
   ]
  },
  {
   "cell_type": "markdown",
   "metadata": {},
   "source": [
    "# Create geospatial data"
   ]
  },
  {
   "cell_type": "code",
   "execution_count": null,
   "metadata": {},
   "outputs": [],
   "source": [
    "pp_folder = \"/home/wb411133/data/Projects/MR_Novel_Urbanization/Mapping/URBAN_SUMMARIES\"\n",
    "excel_files = [x for x in os.listdir(pp_folder) if x.endswith(\"xlsx\")]\n",
    "for excel_file in excel_files:\n",
    "    curD = pd.read_excel(os.path.join(pp_folder, excel_file))\n",
    "    cols = list(curD.columns)\n",
    "    cols[0] = \"ISO3\"\n",
    "    cols[1] = \"country\"\n",
    "    cols[2] = \"Urban_Type\"\n",
    "    curD.columns = cols\n",
    "    curD[\"ISO3\"] = curD[\"ISO3\"].apply(lambda x: x.upper())\n",
    "    curG = pd.merge(ssa, curD, on=\"ISO3\")\n",
    "    curG = pd.merge(curG, urb_data, on=\"ISO3\")\n",
    "    curG = gpd.GeoDataFrame(curG, geometry=\"geometry\", crs=4326)\n",
    "    curG.to_file(\n",
    "        os.path.join(pp_folder, excel_file.replace(\".xlsx\", \".geojson\")),\n",
    "        driver=\"GeoJSON\",\n",
    "    )\n",
    "    # Create point file as well\n",
    "    curG[\"geometry\"] = curG[\"geometry\"].apply(lambda x: x.centroid)\n",
    "    curG.to_file(\n",
    "        os.path.join(pp_folder, excel_file.replace(\".xlsx\", \"_CENTROID.geojson\")),\n",
    "        driver=\"GeoJSON\",\n",
    "    )"
   ]
  },
  {
   "cell_type": "code",
   "execution_count": null,
   "metadata": {},
   "outputs": [],
   "source": [
    "pd.DataFrame(curG).drop([\"geometry\"], axis=1).to_csv(\n",
    "    os.path.join(pp_folder, excel_file.replace(\".xlsx\", \"_joined.csv\"))\n",
    ")"
   ]
  },
  {
   "cell_type": "code",
   "execution_count": null,
   "metadata": {},
   "outputs": [],
   "source": [
    "curD.head()"
   ]
  },
  {
   "cell_type": "code",
   "execution_count": null,
   "metadata": {},
   "outputs": [],
   "source": []
  }
 ],
 "metadata": {
  "language_info": {
   "name": "python"
  }
 },
 "nbformat": 4,
 "nbformat_minor": 2
}
