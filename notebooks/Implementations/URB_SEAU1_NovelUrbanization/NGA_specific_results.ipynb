{
 "cells": [
  {
   "cell_type": "markdown",
   "id": "0",
   "metadata": {},
   "source": [
    "# Summarizing Urbanization in Nigeria\n",
    "\n",
    "For the provided household survey, summarize urbanization (cpo15 and cpo20, dartboard and degree of urbanization)"
   ]
  },
  {
   "cell_type": "code",
   "execution_count": null,
   "id": "1",
   "metadata": {},
   "outputs": [],
   "source": [
    "import sys\n",
    "import os\n",
    "import rasterio\n",
    "import rasterio.warp\n",
    "\n",
    "import pandas as pd\n",
    "import geopandas as gpd\n",
    "\n",
    "from shapely.geometry import Point\n",
    "\n",
    "from tqdm.notebook import tqdm\n",
    "\n",
    "# Import raster helpers\n",
    "sys.path.insert(0, \"/home/wb411133/Code/gostrocks/src\")\n",
    "\n",
    "import GOSTRocks.dataMisc as dataMisc\n",
    "from GOSTRocks.misc import tPrint\n",
    "\n",
    "# Import GOST urban functions\n",
    "sys.path.append(\"../../../src\")\n",
    "import GOST_Urban.urban_helper as helper\n",
    "\n",
    "# Import local functions\n",
    "from novelUrbanization import *\n",
    "\n",
    "%load_ext autoreload\n",
    "%autoreload 2"
   ]
  },
  {
   "cell_type": "code",
   "execution_count": null,
   "id": "2",
   "metadata": {},
   "outputs": [],
   "source": [
    "urban_folder = \"/home/wb411133/data/Projects/MR_Novel_Urbanization/Data/NGA_1K_res/\"\n",
    "hh_folder = os.path.join(urban_folder, \"HH_Files\")"
   ]
  },
  {
   "cell_type": "markdown",
   "id": "3",
   "metadata": {},
   "source": [
    "The urbanization files were downloaded from the GOST AWS bucket; but the whole thing could work directly off that."
   ]
  },
  {
   "cell_type": "code",
   "execution_count": null,
   "id": "4",
   "metadata": {},
   "outputs": [],
   "source": [
    "# get urban_files\n",
    "dou_urban_files = []\n",
    "db_urban_files = []\n",
    "\n",
    "dou_urban_1k_files = []\n",
    "db_urban_1k_files = []\n",
    "\n",
    "for root, dirs, files in os.walk(urban_folder):\n",
    "    for f in files:\n",
    "        if f.startswith(\"nga_\"):  # grab all the 250m resolution files\n",
    "            if f.endswith(\"_urban.tif\") or f.endswith(\"_urban_hd.tif\"):\n",
    "                dou_urban_files.append(os.path.join(root, f))\n",
    "            if f.endswith(\"_cc.tif\") or f.endswith(\"_co.tif\") or f.endswith(\"_ur.tif\"):\n",
    "                db_urban_files.append(os.path.join(root, f))\n",
    "        if f.startswith(\"nga1k_\"):  # grab all the 1km resolution files\n",
    "            if f.endswith(\"_urban.tif\") or f.endswith(\"_urban_hd.tif\"):\n",
    "                dou_urban_1k_files.append(os.path.join(root, f))\n",
    "            if f.endswith(\"_cc.tif\") or f.endswith(\"_co.tif\") or f.endswith(\"_ur.tif\"):\n",
    "                db_urban_1k_files.append(os.path.join(root, f))\n",
    "\n",
    "pop_files = list(\n",
    "    set(\n",
    "        [\"_\".join(os.path.basename(x).split(\"_\")[:2]) + \".tif\" for x in dou_urban_files]\n",
    "    )\n",
    ")\n",
    "pop_files = [os.path.join(urban_folder, x) for x in pop_files]"
   ]
  },
  {
   "cell_type": "code",
   "execution_count": null,
   "id": "5",
   "metadata": {},
   "outputs": [],
   "source": [
    "pop_files"
   ]
  },
  {
   "cell_type": "code",
   "execution_count": null,
   "id": "6",
   "metadata": {},
   "outputs": [],
   "source": [
    "input_files = dou_urban_files\n",
    "template_r = rasterio.open(input_files[0])"
   ]
  },
  {
   "cell_type": "code",
   "execution_count": null,
   "id": "7",
   "metadata": {},
   "outputs": [],
   "source": [
    "hh_2018 = os.path.join(hh_folder, \"NGA_2018_to_GIS.csv\")\n",
    "hh_2022 = os.path.join(hh_folder, \"NGA_2022_to_GIS.csv\")\n",
    "\n",
    "\n",
    "def read_file(in_file):\n",
    "    curD = pd.read_csv(in_file)\n",
    "    geoms = [Point(x) for x in zip(curD[\"hh_gps_longitude\"], curD[\"hh_gps_latitude\"])]\n",
    "    curD = gpd.GeoDataFrame(curD, geometry=geoms, crs=4326)\n",
    "    return curD\n",
    "\n",
    "\n",
    "hh_2018_data = read_file(hh_2018).to_crs(template_r.crs)\n",
    "hh_2022_data = read_file(hh_2022).to_crs(template_r.crs)\n",
    "\n",
    "\n",
    "def get_pair(t):\n",
    "    try:\n",
    "        return [t.x, t.y]\n",
    "    except:\n",
    "        return [0, 0]\n",
    "\n",
    "\n",
    "hh_2018_pairs = [get_pair(t) for t in hh_2018_data[\"geometry\"]]\n",
    "hh_2022_pairs = [get_pair(t) for t in hh_2022_data[\"geometry\"]]"
   ]
  },
  {
   "cell_type": "code",
   "execution_count": null,
   "id": "8",
   "metadata": {},
   "outputs": [],
   "source": [
    "# sample values from urban layers\n",
    "out_hh_2018 = hh_2018_data.copy()\n",
    "out_hh_2022 = hh_2022_data.copy()\n",
    "\n",
    "for urban_file in tqdm(input_files):\n",
    "    curR = rasterio.open(urban_file)\n",
    "    cur_name = os.path.basename(urban_file).replace(\".tif\", \"\")\n",
    "    cur_res_2018 = [x[0] for x in list(curR.sample(hh_2018_pairs))]\n",
    "    out_hh_2018[cur_name] = cur_res_2018\n",
    "\n",
    "    cur_res_2022 = [x[0] for x in list(curR.sample(hh_2022_pairs))]\n",
    "    out_hh_2022[cur_name] = cur_res_2022"
   ]
  },
  {
   "cell_type": "code",
   "execution_count": null,
   "id": "9",
   "metadata": {},
   "outputs": [],
   "source": [
    "out_hh_2018 = out_hh_2018.to_crs(4326)\n",
    "out_hh_2018.to_file(os.path.join(hh_folder, \"hh_2018.geojson\"), driver=\"GeoJSON\")\n",
    "pd.DataFrame(out_hh_2018.drop([\"geometry\"], axis=1)).to_csv(\n",
    "    os.path.join(hh_folder, \"hh_2018_urban_attributed.csv\")\n",
    ")\n",
    "\n",
    "out_hh_2022 = out_hh_2022.to_crs(4326)\n",
    "out_hh_2022.to_file(os.path.join(hh_folder, \"hh_2022.geojson\"), driver=\"GeoJSON\")\n",
    "pd.DataFrame(out_hh_2022.drop([\"geometry\"], axis=1)).to_csv(\n",
    "    os.path.join(hh_folder, \"hh_2022_urban_attributed.csv\")\n",
    ")"
   ]
  },
  {
   "cell_type": "code",
   "execution_count": null,
   "id": "10",
   "metadata": {},
   "outputs": [],
   "source": []
  },
  {
   "cell_type": "markdown",
   "id": "11",
   "metadata": {},
   "source": [
    "# Zonal stats at administrative level 2"
   ]
  },
  {
   "cell_type": "code",
   "execution_count": null,
   "id": "12",
   "metadata": {},
   "outputs": [],
   "source": [
    "# Run zonal stats at admin 2\n",
    "adm2_bounds = dataMisc.get_geoboundaries(\"NGA\", \"ADM2\")\n",
    "# adm1_bounds = dataMisc.get_geoboundaries('NGA', 'ADM1')\n",
    "adm1_bounds = gpd.read_file(os.path.join(urban_folder, \"new_lga_nigeria_2003.shp\"))"
   ]
  },
  {
   "cell_type": "code",
   "execution_count": null,
   "id": "13",
   "metadata": {},
   "outputs": [],
   "source": [
    "adm2_bounds.head()"
   ]
  },
  {
   "cell_type": "code",
   "execution_count": null,
   "id": "14",
   "metadata": {},
   "outputs": [],
   "source": [
    "adm1_bounds.head()"
   ]
  },
  {
   "cell_type": "code",
   "execution_count": null,
   "id": "15",
   "metadata": {},
   "outputs": [],
   "source": [
    "dou_urban_files"
   ]
  },
  {
   "cell_type": "code",
   "execution_count": null,
   "id": "16",
   "metadata": {},
   "outputs": [],
   "source": [
    "db_urban_files"
   ]
  },
  {
   "cell_type": "code",
   "execution_count": null,
   "id": "17",
   "metadata": {},
   "outputs": [],
   "source": [
    "final_res = adm1_bounds.copy()\n",
    "for pop_layer in pop_files:\n",
    "    # zonal stats on DOU filess\n",
    "    pop_name = os.path.basename(pop_layer)[:-4]\n",
    "    dou_urban_file = os.path.join(urban_folder, f\"{pop_name}_urban.tif\")\n",
    "    dou_hd_urban_file = os.path.join(urban_folder, f\"{pop_name}_urban_hd.tif\")\n",
    "\n",
    "    help_xx = helper.summarize_population(\n",
    "        pop_layer, adm1_bounds, dou_urban_file, dou_hd_urban_file\n",
    "    )\n",
    "    zonal_res = help_xx.calculate_zonal()\n",
    "    zonal_res = zonal_res.loc[:, [x for x in zonal_res.columns if \"SUM\" in x]]\n",
    "    for col in zonal_res.columns:\n",
    "        final_res[col] = zonal_res[col]\n",
    "\n",
    "    # zonal stats on DB files\n",
    "    db_cc_file = os.path.join(urban_folder, f\"{pop_name}d10b3000_cc.tif\")\n",
    "    db_co_file = os.path.join(urban_folder, f\"{pop_name}d10b3000_co.tif\")\n",
    "    db_ur_file = os.path.join(urban_folder, f\"{pop_name}d10b3000_ur.tif\")\n",
    "    if os.path.exists(db_cc_file):\n",
    "        help_xx = helper.summarize_population(\n",
    "            pop_layer, adm1_bounds, db_cc_file, db_co_file\n",
    "        )\n",
    "        zonal_res = help_xx.calculate_zonal()\n",
    "        zonal_res = zonal_res.loc[:, [x for x in zonal_res.columns if \"SUM\" in x]]\n",
    "        for col in zonal_res.columns:\n",
    "            final_res[col] = zonal_res[col]\n",
    "\n",
    "        help_xx = helper.summarize_population(\n",
    "            pop_layer, adm1_bounds, db_ur_file, db_co_file\n",
    "        )\n",
    "        zonal_res = help_xx.calculate_zonal()\n",
    "        zonal_res = zonal_res.loc[:, [x for x in zonal_res.columns if \"SUM\" in x]]\n",
    "        for col in zonal_res.columns:\n",
    "            final_res[col] = zonal_res[col]\n",
    "    else:\n",
    "        tPrint(f\"Cannot process {pop_name} for DB\")\n",
    "\n",
    "    tPrint(pop_name)"
   ]
  },
  {
   "cell_type": "code",
   "execution_count": null,
   "id": "18",
   "metadata": {},
   "outputs": [],
   "source": [
    "final_res.to_file(os.path.join(urban_folder, \"new_lga_nigeria_2003_URBAN_POP.shp\"))\n",
    "pd.DataFrame(final_res.drop([\"geometry\"], axis=1)).to_csv(\n",
    "    os.path.join(urban_folder, \"new_lga_nigeria_2003_URBAN_POP.csv\")\n",
    ")"
   ]
  },
  {
   "cell_type": "code",
   "execution_count": null,
   "id": "19",
   "metadata": {},
   "outputs": [],
   "source": [
    "[x for x in final_res.columns]"
   ]
  },
  {
   "cell_type": "code",
   "execution_count": null,
   "id": "20",
   "metadata": {},
   "outputs": [],
   "source": [
    "db_urban_files"
   ]
  },
  {
   "cell_type": "code",
   "execution_count": null,
   "id": "21",
   "metadata": {},
   "outputs": [],
   "source": [
    "res_prefix = \"nga1k\"\n",
    "pop_layer = os.path.join(urban_folder, f\"{res_prefix}_cpo15.tif\")\n",
    "urban_layer = os.path.join(urban_folder, f\"{res_prefix}_cpo15_urban.tif\")\n",
    "hd_layer = os.path.join(urban_folder, f\"{res_prefix}_cpo15_urban_hd.tif\")\n",
    "\n",
    "help_xx = helper.summarize_population(pop_layer, adm2_bounds, urban_layer, hd_layer)\n",
    "zonal_res = help_xx.calculate_zonal()\n",
    "zonal_res = zonal_res.loc[:, [x for x in zonal_res.columns if \"SUM\" in x]]\n",
    "zonal_res[\"shapeID\"] = adm2_bounds[\"shapeID\"]\n",
    "zonal_res[\"shapeName\"] = adm2_bounds[\"shapeName\"]\n",
    "\n",
    "pop_layer = os.path.join(urban_folder, f\"{res_prefix}_cpo20.tif\")\n",
    "urban_layer = os.path.join(urban_folder, f\"{res_prefix}_cpo20_urban.tif\")\n",
    "hd_layer = os.path.join(urban_folder, f\"{res_prefix}_cpo20_urban_hd.tif\")\n",
    "\n",
    "help_xx = helper.summarize_population(pop_layer, adm2_bounds, urban_layer, hd_layer)\n",
    "zonal_res2 = help_xx.calculate_zonal()\n",
    "zonal_res2 = zonal_res2.loc[:, [x for x in zonal_res2.columns if \"SUM\" in x]]\n",
    "zonal_res2[\"shapeID\"] = adm2_bounds[\"shapeID\"]\n",
    "zonal_res2[\"shapeName\"] = adm2_bounds[\"shapeName\"]"
   ]
  },
  {
   "cell_type": "code",
   "execution_count": null,
   "id": "22",
   "metadata": {},
   "outputs": [],
   "source": [
    "zonal_res.merge(zonal_res2).to_csv(\n",
    "    os.path.join(hh_folder, f\"DOU_zonal_stats_{res_prefix}.csv\")\n",
    ")"
   ]
  },
  {
   "cell_type": "code",
   "execution_count": null,
   "id": "23",
   "metadata": {},
   "outputs": [],
   "source": [
    "res_prefix = \"nga\"\n",
    "pop_layer = os.path.join(urban_folder, f\"{res_prefix}_cpo15.tif\")\n",
    "co_layer = f\"/home/wb411133/data/Projects/MR_Novel_Urbanization/Data/NGA_1K_res/{res_prefix}_cpo15d10b3000_co.tif\"\n",
    "ur_layer = f\"/home/wb411133/data/Projects/MR_Novel_Urbanization/Data/NGA_1K_res/{res_prefix}_cpo15d10b3000_ur.tif\"\n",
    "cc_layer = f\"/home/wb411133/data/Projects/MR_Novel_Urbanization/Data/NGA_1K_res/{res_prefix}_cpo15d10b3000_cc.tif\"\n",
    "\n",
    "help_xx = helper.summarize_population(pop_layer, adm2_bounds, co_layer, ur_layer)\n",
    "zonal_res = help_xx.calculate_zonal(convert_urban_binary=True)\n",
    "zonal_res = zonal_res.loc[:, [x for x in zonal_res.columns if \"SUM\" in x]]\n",
    "\n",
    "help_xx2 = helper.summarize_population(pop_layer, adm2_bounds, cc_layer)\n",
    "zonal_res2 = help_xx2.calculate_zonal(convert_urban_binary=True)\n",
    "zonal_res2 = zonal_res2.loc[:, [x for x in zonal_res2.columns if \"SUM\" in x]]\n",
    "\n",
    "zonal_res[f\"_{res_prefix}_cpo15d10b3000_cc_SUM\"] = zonal_res2[\n",
    "    f\"_{res_prefix}_cpo15d10b3000_cc_SUM\"\n",
    "]\n",
    "zonal_res[\"shapeID\"] = adm2_bounds[\"shapeID\"]"
   ]
  },
  {
   "cell_type": "code",
   "execution_count": null,
   "id": "24",
   "metadata": {},
   "outputs": [],
   "source": [
    "zonal_res"
   ]
  },
  {
   "cell_type": "code",
   "execution_count": null,
   "id": "25",
   "metadata": {},
   "outputs": [],
   "source": [
    "zonal_res.to_csv(os.path.join(hh_folder, f\"DB_zonal_stats_{res_prefix}.csv\"))"
   ]
  },
  {
   "cell_type": "code",
   "execution_count": null,
   "id": "26",
   "metadata": {},
   "outputs": [],
   "source": [
    "adm2_bounds.to_file(os.path.join(hh_folder, \"adm2_geobounds.geojson\"), driver=\"GeoJSON\")"
   ]
  },
  {
   "cell_type": "code",
   "execution_count": null,
   "id": "27",
   "metadata": {},
   "outputs": [],
   "source": []
  }
 ],
 "metadata": {
  "language_info": {
   "name": "python"
  }
 },
 "nbformat": 4,
 "nbformat_minor": 5
}
