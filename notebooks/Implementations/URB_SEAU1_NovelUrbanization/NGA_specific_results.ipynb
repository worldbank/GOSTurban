{
 "cells": [
  {
   "cell_type": "markdown",
   "id": "713958e3",
   "metadata": {},
   "source": [
    "# Summarizing Urbanization in Nigeria\n",
    "\n",
    "For the provided household survey, summarize urbanization (cpo15 and cpo20, dartboard and degree of urbanization)"
   ]
  },
  {
   "cell_type": "code",
   "execution_count": 1,
   "id": "5f74a6af",
   "metadata": {},
   "outputs": [
    {
     "name": "stderr",
     "output_type": "stream",
     "text": [
      "/home/wb411133/.conda/envs/ee/lib/python3.9/site-packages/geopandas/_compat.py:106: UserWarning: The Shapely GEOS version (3.9.1-CAPI-1.14.2) is incompatible with the GEOS version PyGEOS was compiled with (3.10.4-CAPI-1.16.2). Conversions between both will be slow.\n",
      "  warnings.warn(\n"
     ]
    },
    {
     "name": "stdout",
     "output_type": "stream",
     "text": [
      "METADATA Library: Could not import arcgis libraries\n"
     ]
    }
   ],
   "source": [
    "import sys, os, importlib, shutil, pathlib, datetime, math\n",
    "import requests\n",
    "import rasterio, elevation, richdem\n",
    "import rasterio.warp\n",
    "\n",
    "import pandas as pd\n",
    "import geopandas as gpd\n",
    "import numpy as np\n",
    "\n",
    "from shapely.geometry import MultiPolygon, Polygon, box, Point\n",
    "from rasterio import features\n",
    "from datetime import datetime\n",
    "\n",
    "from tqdm.notebook import tqdm\n",
    "\n",
    "#Import raster helpers\n",
    "sys.path.insert(0, \"/home/wb411133/Code/gostrocks/src\")\n",
    "\n",
    "import GOSTRocks.rasterMisc as rMisc\n",
    "import GOSTRocks.dataMisc as dataMisc\n",
    "import GOSTRocks.metadataMisc as meta\n",
    "from GOSTRocks.misc import tPrint\n",
    "\n",
    "#Import GOST urban functions\n",
    "sys.path.append(\"../../../src\")\n",
    "import GOST_Urban.UrbanRaster as urban\n",
    "import GOST_Urban.urban_helper as helper\n",
    "\n",
    "#Import local functions\n",
    "import novelUrbanization as nu\n",
    "from novelUrbanization import *\n",
    "\n",
    "%load_ext autoreload\n",
    "%autoreload 2"
   ]
  },
  {
   "cell_type": "code",
   "execution_count": 2,
   "id": "1435e666",
   "metadata": {},
   "outputs": [],
   "source": [
    "urban_folder = \"/home/wb411133/data/Projects/MR_Novel_Urbanization/Data/NGA_1K_res/\"\n",
    "hh_folder = os.path.join(urban_folder, \"HH_Files\")"
   ]
  },
  {
   "cell_type": "markdown",
   "id": "222a9dfe",
   "metadata": {},
   "source": [
    "The urbanization files were downloaded from the GOST AWS bucket; but the whole thing could work directly off that."
   ]
  },
  {
   "cell_type": "code",
   "execution_count": 20,
   "id": "d692b6bc",
   "metadata": {},
   "outputs": [],
   "source": [
    "# get urban_files\n",
    "dou_urban_files = []\n",
    "db_urban_files = []\n",
    "\n",
    "dou_urban_1k_files = []\n",
    "db_urban_1k_files = []\n",
    "\n",
    "for root, dirs, files in os.walk(urban_folder):\n",
    "    for f in files:\n",
    "        if f.startswith('nga_'): # grab all the 250m resolution files\n",
    "            if f.endswith(\"_urban.tif\") or f.endswith(\"_urban_hd.tif\"):\n",
    "                dou_urban_files.append(os.path.join(root, f))\n",
    "            if f.endswith(\"_cc.tif\") or f.endswith(\"_co.tif\") or f.endswith(\"_ur.tif\"):\n",
    "                db_urban_files.append(os.path.join(root, f))\n",
    "        if f.startswith('nga1k_'): # grab all the 1km resolution files\n",
    "            if f.endswith(\"_urban.tif\") or f.endswith(\"_urban_hd.tif\"):\n",
    "                dou_urban_1k_files.append(os.path.join(root, f))\n",
    "            if f.endswith(\"_cc.tif\") or f.endswith(\"_co.tif\") or f.endswith(\"_ur.tif\"):\n",
    "                db_urban_1k_files.append(os.path.join(root, f))\n",
    "            \n",
    "pop_files = list(set([\"_\".join(os.path.basename(x).split(\"_\")[:2]) + \".tif\" for x in dou_urban_files]))\n",
    "pop_files = [os.path.join(urban_folder, x) for x in pop_files]"
   ]
  },
  {
   "cell_type": "code",
   "execution_count": 21,
   "id": "24559503",
   "metadata": {
    "scrolled": false
   },
   "outputs": [
    {
     "data": {
      "text/plain": [
       "['/home/wb411133/data/Projects/MR_Novel_Urbanization/Data/NGA_1K_res/nga_cpo20.tif',\n",
       " '/home/wb411133/data/Projects/MR_Novel_Urbanization/Data/NGA_1K_res/nga_gpo.tif',\n",
       " '/home/wb411133/data/Projects/MR_Novel_Urbanization/Data/NGA_1K_res/nga_cpo15.tif',\n",
       " '/home/wb411133/data/Projects/MR_Novel_Urbanization/Data/NGA_1K_res/nga_upo15.tif']"
      ]
     },
     "execution_count": 21,
     "metadata": {},
     "output_type": "execute_result"
    }
   ],
   "source": [
    "pop_files"
   ]
  },
  {
   "cell_type": "code",
   "execution_count": null,
   "id": "b43d968f",
   "metadata": {},
   "outputs": [],
   "source": [
    "input_files = dou_urban_files\n",
    "template_r = rasterio.open(input_files[0])"
   ]
  },
  {
   "cell_type": "code",
   "execution_count": null,
   "id": "12198c1c",
   "metadata": {},
   "outputs": [],
   "source": [
    "hh_2018 = os.path.join(hh_folder, 'NGA_2018_to_GIS.csv')\n",
    "hh_2022 = os.path.join(hh_folder, 'NGA_2022_to_GIS.csv')\n",
    "\n",
    "def read_file(in_file):\n",
    "    curD = pd.read_csv(in_file)\n",
    "    geoms = [Point(x) for x in zip(curD['hh_gps_longitude'], curD['hh_gps_latitude'])]\n",
    "    curD = gpd.GeoDataFrame(curD, geometry=geoms, crs=4326)\n",
    "    return(curD)\n",
    "\n",
    "hh_2018_data = read_file(hh_2018).to_crs(template_r.crs)\n",
    "hh_2022_data = read_file(hh_2022).to_crs(template_r.crs)\n",
    "\n",
    "def get_pair(t):\n",
    "    try:\n",
    "        return([t.x, t.y])\n",
    "    except:\n",
    "        return([0,0])\n",
    "hh_2018_pairs = [get_pair(t) for t in hh_2018_data['geometry']]\n",
    "hh_2022_pairs = [get_pair(t) for t in hh_2022_data['geometry']]"
   ]
  },
  {
   "cell_type": "code",
   "execution_count": null,
   "id": "394a87ba",
   "metadata": {},
   "outputs": [],
   "source": [
    "# sample values from urban layers\n",
    "out_hh_2018 = hh_2018_data.copy()\n",
    "out_hh_2022 = hh_2022_data.copy()\n",
    "\n",
    "for urban_file in tqdm(input_files):\n",
    "    curR = rasterio.open(urban_file)\n",
    "    cur_name = os.path.basename(urban_file).replace(\".tif\", \"\")\n",
    "    cur_res_2018 = [x[0] for x in list(curR.sample(hh_2018_pairs))]\n",
    "    out_hh_2018[cur_name] = cur_res_2018\n",
    "    \n",
    "    cur_res_2022 = [x[0] for x in list(curR.sample(hh_2022_pairs))]\n",
    "    out_hh_2022[cur_name] = cur_res_2022\n",
    "    "
   ]
  },
  {
   "cell_type": "code",
   "execution_count": null,
   "id": "a1bf419b",
   "metadata": {
    "scrolled": true
   },
   "outputs": [],
   "source": [
    "out_hh_2018 = out_hh_2018.to_crs(4326)\n",
    "out_hh_2018.to_file(os.path.join(hh_folder, 'hh_2018.geojson'), driver='GeoJSON')\n",
    "pd.DataFrame(out_hh_2018.drop(['geometry'], axis=1)).to_csv(os.path.join(hh_folder, 'hh_2018_urban_attributed.csv'))\n",
    "\n",
    "out_hh_2022 = out_hh_2022.to_crs(4326)\n",
    "out_hh_2022.to_file(os.path.join(hh_folder, 'hh_2022.geojson'), driver='GeoJSON')\n",
    "pd.DataFrame(out_hh_2022.drop(['geometry'], axis=1)).to_csv(os.path.join(hh_folder, 'hh_2022_urban_attributed.csv'))"
   ]
  },
  {
   "cell_type": "code",
   "execution_count": null,
   "id": "56c98b58",
   "metadata": {},
   "outputs": [],
   "source": []
  },
  {
   "cell_type": "markdown",
   "id": "475dc925",
   "metadata": {},
   "source": [
    "# Zonal stats at administrative level 2"
   ]
  },
  {
   "cell_type": "code",
   "execution_count": 26,
   "id": "3a3eedec",
   "metadata": {},
   "outputs": [],
   "source": [
    "# Run zonal stats at admin 2\n",
    "adm2_bounds = dataMisc.get_geoboundaries('NGA', 'ADM2')\n",
    "#adm1_bounds = dataMisc.get_geoboundaries('NGA', 'ADM1')\n",
    "adm1_bounds = gpd.read_file(os.path.join(urban_folder, \"new_lga_nigeria_2003.shp\"))"
   ]
  },
  {
   "cell_type": "code",
   "execution_count": 27,
   "id": "aed59725",
   "metadata": {},
   "outputs": [
    {
     "data": {
      "text/html": [
       "<div>\n",
       "<style scoped>\n",
       "    .dataframe tbody tr th:only-of-type {\n",
       "        vertical-align: middle;\n",
       "    }\n",
       "\n",
       "    .dataframe tbody tr th {\n",
       "        vertical-align: top;\n",
       "    }\n",
       "\n",
       "    .dataframe thead th {\n",
       "        text-align: right;\n",
       "    }\n",
       "</style>\n",
       "<table border=\"1\" class=\"dataframe\">\n",
       "  <thead>\n",
       "    <tr style=\"text-align: right;\">\n",
       "      <th></th>\n",
       "      <th>shapeName</th>\n",
       "      <th>shapeISO</th>\n",
       "      <th>shapeID</th>\n",
       "      <th>shapeGroup</th>\n",
       "      <th>shapeType</th>\n",
       "      <th>geometry</th>\n",
       "    </tr>\n",
       "  </thead>\n",
       "  <tbody>\n",
       "    <tr>\n",
       "      <th>0</th>\n",
       "      <td>Eastern Obolo</td>\n",
       "      <td></td>\n",
       "      <td>59680162B7891718144591</td>\n",
       "      <td>NGA</td>\n",
       "      <td>ADM2</td>\n",
       "      <td>POLYGON ((7.56201 4.51388, 7.57134 4.51233, 7....</td>\n",
       "    </tr>\n",
       "    <tr>\n",
       "      <th>1</th>\n",
       "      <td>Ekeremor</td>\n",
       "      <td></td>\n",
       "      <td>59680162B22876202690460</td>\n",
       "      <td>NGA</td>\n",
       "      <td>ADM2</td>\n",
       "      <td>POLYGON ((5.99261 4.89302, 5.98824 4.90425, 5....</td>\n",
       "    </tr>\n",
       "    <tr>\n",
       "      <th>2</th>\n",
       "      <td>Degema</td>\n",
       "      <td></td>\n",
       "      <td>59680162B23543460253472</td>\n",
       "      <td>NGA</td>\n",
       "      <td>ADM2</td>\n",
       "      <td>POLYGON ((6.85818 4.39824, 6.95485 4.37353, 6....</td>\n",
       "    </tr>\n",
       "    <tr>\n",
       "      <th>3</th>\n",
       "      <td>Andoni</td>\n",
       "      <td></td>\n",
       "      <td>59680162B90577513466378</td>\n",
       "      <td>NGA</td>\n",
       "      <td>ADM2</td>\n",
       "      <td>POLYGON ((7.32460 4.43947, 7.33342 4.44372, 7....</td>\n",
       "    </tr>\n",
       "    <tr>\n",
       "      <th>4</th>\n",
       "      <td>Akpabuyo</td>\n",
       "      <td></td>\n",
       "      <td>59680162B58958286313368</td>\n",
       "      <td>NGA</td>\n",
       "      <td>ADM2</td>\n",
       "      <td>POLYGON ((8.39659 4.78065, 8.40093 4.78882, 8....</td>\n",
       "    </tr>\n",
       "  </tbody>\n",
       "</table>\n",
       "</div>"
      ],
      "text/plain": [
       "       shapeName shapeISO                  shapeID shapeGroup shapeType  \\\n",
       "0  Eastern Obolo            59680162B7891718144591        NGA      ADM2   \n",
       "1       Ekeremor           59680162B22876202690460        NGA      ADM2   \n",
       "2         Degema           59680162B23543460253472        NGA      ADM2   \n",
       "3         Andoni           59680162B90577513466378        NGA      ADM2   \n",
       "4       Akpabuyo           59680162B58958286313368        NGA      ADM2   \n",
       "\n",
       "                                            geometry  \n",
       "0  POLYGON ((7.56201 4.51388, 7.57134 4.51233, 7....  \n",
       "1  POLYGON ((5.99261 4.89302, 5.98824 4.90425, 5....  \n",
       "2  POLYGON ((6.85818 4.39824, 6.95485 4.37353, 6....  \n",
       "3  POLYGON ((7.32460 4.43947, 7.33342 4.44372, 7....  \n",
       "4  POLYGON ((8.39659 4.78065, 8.40093 4.78882, 8....  "
      ]
     },
     "execution_count": 27,
     "metadata": {},
     "output_type": "execute_result"
    }
   ],
   "source": [
    "adm2_bounds.head()"
   ]
  },
  {
   "cell_type": "code",
   "execution_count": 28,
   "id": "88989155",
   "metadata": {},
   "outputs": [
    {
     "data": {
      "text/html": [
       "<div>\n",
       "<style scoped>\n",
       "    .dataframe tbody tr th:only-of-type {\n",
       "        vertical-align: middle;\n",
       "    }\n",
       "\n",
       "    .dataframe tbody tr th {\n",
       "        vertical-align: top;\n",
       "    }\n",
       "\n",
       "    .dataframe thead th {\n",
       "        text-align: right;\n",
       "    }\n",
       "</style>\n",
       "<table border=\"1\" class=\"dataframe\">\n",
       "  <thead>\n",
       "    <tr style=\"text-align: right;\">\n",
       "      <th></th>\n",
       "      <th>STATE</th>\n",
       "      <th>LGA</th>\n",
       "      <th>AREA</th>\n",
       "      <th>PERIMETER</th>\n",
       "      <th>LONGITUDE</th>\n",
       "      <th>LATITUDE</th>\n",
       "      <th>FULL_NAME</th>\n",
       "      <th>geometry</th>\n",
       "    </tr>\n",
       "  </thead>\n",
       "  <tbody>\n",
       "    <tr>\n",
       "      <th>0</th>\n",
       "      <td>Sokoto</td>\n",
       "      <td>Gada</td>\n",
       "      <td>1193.977</td>\n",
       "      <td>170.095</td>\n",
       "      <td>None</td>\n",
       "      <td>None</td>\n",
       "      <td>None</td>\n",
       "      <td>POLYGON ((5.53632 13.88793, 5.53480 13.88488, ...</td>\n",
       "    </tr>\n",
       "    <tr>\n",
       "      <th>1</th>\n",
       "      <td>Sokoto</td>\n",
       "      <td>Illela</td>\n",
       "      <td>1298.423</td>\n",
       "      <td>174.726</td>\n",
       "      <td>None</td>\n",
       "      <td>None</td>\n",
       "      <td>None</td>\n",
       "      <td>POLYGON ((5.53632 13.88793, 5.54517 13.88419, ...</td>\n",
       "    </tr>\n",
       "    <tr>\n",
       "      <th>2</th>\n",
       "      <td>Sokoto</td>\n",
       "      <td>Tangaza</td>\n",
       "      <td>2460.715</td>\n",
       "      <td>209.702</td>\n",
       "      <td>None</td>\n",
       "      <td>None</td>\n",
       "      <td>None</td>\n",
       "      <td>POLYGON ((4.85548 13.76724, 4.86189 13.78085, ...</td>\n",
       "    </tr>\n",
       "    <tr>\n",
       "      <th>3</th>\n",
       "      <td>Borno</td>\n",
       "      <td>Abadam</td>\n",
       "      <td>2430.515</td>\n",
       "      <td>288.957</td>\n",
       "      <td>None</td>\n",
       "      <td>None</td>\n",
       "      <td>None</td>\n",
       "      <td>POLYGON ((12.83189 13.39871, 12.83397 13.40439...</td>\n",
       "    </tr>\n",
       "    <tr>\n",
       "      <th>4</th>\n",
       "      <td>Lake</td>\n",
       "      <td>Lake chad</td>\n",
       "      <td>5225.912</td>\n",
       "      <td>497.039</td>\n",
       "      <td>None</td>\n",
       "      <td>None</td>\n",
       "      <td>None</td>\n",
       "      <td>POLYGON ((13.48608 13.30821, 13.48296 13.31344...</td>\n",
       "    </tr>\n",
       "  </tbody>\n",
       "</table>\n",
       "</div>"
      ],
      "text/plain": [
       "    STATE        LGA      AREA  PERIMETER LONGITUDE LATITUDE FULL_NAME  \\\n",
       "0  Sokoto       Gada  1193.977    170.095      None     None      None   \n",
       "1  Sokoto     Illela  1298.423    174.726      None     None      None   \n",
       "2  Sokoto    Tangaza  2460.715    209.702      None     None      None   \n",
       "3   Borno     Abadam  2430.515    288.957      None     None      None   \n",
       "4    Lake  Lake chad  5225.912    497.039      None     None      None   \n",
       "\n",
       "                                            geometry  \n",
       "0  POLYGON ((5.53632 13.88793, 5.53480 13.88488, ...  \n",
       "1  POLYGON ((5.53632 13.88793, 5.54517 13.88419, ...  \n",
       "2  POLYGON ((4.85548 13.76724, 4.86189 13.78085, ...  \n",
       "3  POLYGON ((12.83189 13.39871, 12.83397 13.40439...  \n",
       "4  POLYGON ((13.48608 13.30821, 13.48296 13.31344...  "
      ]
     },
     "execution_count": 28,
     "metadata": {},
     "output_type": "execute_result"
    }
   ],
   "source": [
    "adm1_bounds.head()"
   ]
  },
  {
   "cell_type": "code",
   "execution_count": 31,
   "id": "d95c1f11",
   "metadata": {},
   "outputs": [
    {
     "data": {
      "text/plain": [
       "['/home/wb411133/data/Projects/MR_Novel_Urbanization/Data/NGA_1K_res/nga_upo15_urban.tif',\n",
       " '/home/wb411133/data/Projects/MR_Novel_Urbanization/Data/NGA_1K_res/nga_upo15_urban_hd.tif',\n",
       " '/home/wb411133/data/Projects/MR_Novel_Urbanization/Data/NGA_1K_res/nga_cpo15_urban.tif',\n",
       " '/home/wb411133/data/Projects/MR_Novel_Urbanization/Data/NGA_1K_res/nga_gpo_urban.tif',\n",
       " '/home/wb411133/data/Projects/MR_Novel_Urbanization/Data/NGA_1K_res/nga_cpo15_urban_hd.tif',\n",
       " '/home/wb411133/data/Projects/MR_Novel_Urbanization/Data/NGA_1K_res/nga_cpo20_urban.tif',\n",
       " '/home/wb411133/data/Projects/MR_Novel_Urbanization/Data/NGA_1K_res/nga_cpo20_urban_hd.tif',\n",
       " '/home/wb411133/data/Projects/MR_Novel_Urbanization/Data/NGA_1K_res/nga_gpo_urban_hd.tif']"
      ]
     },
     "execution_count": 31,
     "metadata": {},
     "output_type": "execute_result"
    }
   ],
   "source": [
    "dou_urban_files"
   ]
  },
  {
   "cell_type": "code",
   "execution_count": 32,
   "id": "0a512913",
   "metadata": {},
   "outputs": [
    {
     "data": {
      "text/plain": [
       "['/home/wb411133/data/Projects/MR_Novel_Urbanization/Data/NGA_1K_res/nga_gbud10b3000_ur.tif',\n",
       " '/home/wb411133/data/Projects/MR_Novel_Urbanization/Data/NGA_1K_res/nga_gbud10b3000_cc.tif',\n",
       " '/home/wb411133/data/Projects/MR_Novel_Urbanization/Data/NGA_1K_res/nga_gpod10b3000_cc.tif',\n",
       " '/home/wb411133/data/Projects/MR_Novel_Urbanization/Data/NGA_1K_res/nga_gpod10b3000_co.tif',\n",
       " '/home/wb411133/data/Projects/MR_Novel_Urbanization/Data/NGA_1K_res/nga_gpod10b3000_ur.tif',\n",
       " '/home/wb411133/data/Projects/MR_Novel_Urbanization/Data/NGA_1K_res/nga_upo15d10b3000_cc.tif',\n",
       " '/home/wb411133/data/Projects/MR_Novel_Urbanization/Data/NGA_1K_res/nga_upo15d10b3000_ur.tif',\n",
       " '/home/wb411133/data/Projects/MR_Novel_Urbanization/Data/NGA_1K_res/nga_upo15d10b3000_co.tif',\n",
       " '/home/wb411133/data/Projects/MR_Novel_Urbanization/Data/NGA_1K_res/nga_gbud10b3000_co.tif',\n",
       " '/home/wb411133/data/Projects/MR_Novel_Urbanization/Data/NGA_1K_res/nga_cpo15d10b3000_cc.tif',\n",
       " '/home/wb411133/data/Projects/MR_Novel_Urbanization/Data/NGA_1K_res/nga_cpo15d10b3000_co.tif',\n",
       " '/home/wb411133/data/Projects/MR_Novel_Urbanization/Data/NGA_1K_res/nga_cpo15d10b3000_ur.tif']"
      ]
     },
     "execution_count": 32,
     "metadata": {},
     "output_type": "execute_result"
    }
   ],
   "source": [
    "db_urban_files"
   ]
  },
  {
   "cell_type": "code",
   "execution_count": 46,
   "id": "645ddb44",
   "metadata": {},
   "outputs": [
    {
     "name": "stdout",
     "output_type": "stream",
     "text": [
      "10:37:35\tCannot process nga_cpo20 for DB\n",
      "10:37:35\tnga_cpo20\n",
      "10:37:56\tnga_gpo\n",
      "10:38:18\tnga_cpo15\n",
      "10:38:39\tnga_upo15\n"
     ]
    }
   ],
   "source": [
    "final_res = adm1_bounds.copy()\n",
    "for pop_layer in pop_files:\n",
    "    # zonal stats on DOU filess\n",
    "    pop_name = os.path.basename(pop_layer)[:-4]    \n",
    "    dou_urban_file    = os.path.join(urban_folder, f'{pop_name}_urban.tif')\n",
    "    dou_hd_urban_file = os.path.join(urban_folder, f'{pop_name}_urban_hd.tif')\n",
    "    \n",
    "    help_xx = helper.summarize_population(pop_layer, adm1_bounds, dou_urban_file, dou_hd_urban_file)\n",
    "    zonal_res = help_xx.calculate_zonal()\n",
    "    zonal_res = zonal_res.loc[:,[x for x in zonal_res.columns if \"SUM\" in x]]\n",
    "    for col in zonal_res.columns:\n",
    "        final_res[col] = zonal_res[col]\n",
    "    \n",
    "    # zonal stats on DB files\n",
    "    db_cc_file = os.path.join(urban_folder, f'{pop_name}d10b3000_cc.tif')\n",
    "    db_co_file = os.path.join(urban_folder, f'{pop_name}d10b3000_co.tif')\n",
    "    db_ur_file = os.path.join(urban_folder, f'{pop_name}d10b3000_ur.tif')\n",
    "    if os.path.exists(db_cc_file):\n",
    "        help_xx = helper.summarize_population(pop_layer, adm1_bounds, db_cc_file, db_co_file)\n",
    "        zonal_res = help_xx.calculate_zonal()\n",
    "        zonal_res = zonal_res.loc[:,[x for x in zonal_res.columns if \"SUM\" in x]]\n",
    "        for col in zonal_res.columns:\n",
    "            final_res[col] = zonal_res[col]\n",
    "\n",
    "        help_xx = helper.summarize_population(pop_layer, adm1_bounds, db_ur_file, db_co_file)\n",
    "        zonal_res = help_xx.calculate_zonal()\n",
    "        zonal_res = zonal_res.loc[:,[x for x in zonal_res.columns if \"SUM\" in x]]\n",
    "        for col in zonal_res.columns:\n",
    "            final_res[col] = zonal_res[col]\n",
    "    else:\n",
    "        tPrint(f\"Cannot process {pop_name} for DB\")\n",
    "        \n",
    "    tPrint(pop_name)"
   ]
  },
  {
   "cell_type": "code",
   "execution_count": 52,
   "id": "16eb2887",
   "metadata": {},
   "outputs": [
    {
     "name": "stderr",
     "output_type": "stream",
     "text": [
      "<ipython-input-52-91546cee46bf>:1: UserWarning: Column names longer than 10 characters will be truncated when saved to ESRI Shapefile.\n",
      "  final_res.to_file(os.path.join(urban_folder, \"new_lga_nigeria_2003_URBAN_POP.shp\" ))\n"
     ]
    }
   ],
   "source": [
    "final_res.to_file(os.path.join(urban_folder, \"new_lga_nigeria_2003_URBAN_POP.shp\" ))\n",
    "pd.DataFrame(final_res.drop([\"geometry\"], axis=1)).to_csv(os.path.join(urban_folder, \"new_lga_nigeria_2003_URBAN_POP.csv\"))"
   ]
  },
  {
   "cell_type": "code",
   "execution_count": 50,
   "id": "a33f2340",
   "metadata": {},
   "outputs": [
    {
     "data": {
      "text/plain": [
       "['STATE',\n",
       " 'LGA',\n",
       " 'AREA',\n",
       " 'PERIMETER',\n",
       " 'LONGITUDE',\n",
       " 'LATITUDE',\n",
       " 'FULL_NAME',\n",
       " 'geometry',\n",
       " 'TOTALPOP_nga_cpo20_SUM',\n",
       " '_nga_cpo20_urban_SUM',\n",
       " '_nga_cpo20_urban_hd_SUM',\n",
       " 'TOTALPOP_nga_gpo_SUM',\n",
       " '_nga_gpo_urban_SUM',\n",
       " '_nga_gpo_urban_hd_SUM',\n",
       " '_nga_gpod10b3000_cc_SUM',\n",
       " '_nga_gpod10b3000_co_SUM',\n",
       " '_nga_gpod10b3000_ur_SUM',\n",
       " 'TOTALPOP_nga_cpo15_SUM',\n",
       " '_nga_cpo15_urban_SUM',\n",
       " '_nga_cpo15_urban_hd_SUM',\n",
       " '_nga_cpo15d10b3000_cc_SUM',\n",
       " '_nga_cpo15d10b3000_co_SUM',\n",
       " '_nga_cpo15d10b3000_ur_SUM',\n",
       " 'TOTALPOP_nga_upo15_SUM',\n",
       " '_nga_upo15_urban_SUM',\n",
       " '_nga_upo15_urban_hd_SUM',\n",
       " '_nga_upo15d10b3000_cc_SUM',\n",
       " '_nga_upo15d10b3000_co_SUM',\n",
       " '_nga_upo15d10b3000_ur_SUM']"
      ]
     },
     "execution_count": 50,
     "metadata": {},
     "output_type": "execute_result"
    }
   ],
   "source": [
    "[x for x in final_res.columns]attack"
   ]
  },
  {
   "cell_type": "code",
   "execution_count": 45,
   "id": "fb81ab3e",
   "metadata": {},
   "outputs": [
    {
     "data": {
      "text/plain": [
       "['/home/wb411133/data/Projects/MR_Novel_Urbanization/Data/NGA_1K_res/nga_gbud10b3000_ur.tif',\n",
       " '/home/wb411133/data/Projects/MR_Novel_Urbanization/Data/NGA_1K_res/nga_gbud10b3000_cc.tif',\n",
       " '/home/wb411133/data/Projects/MR_Novel_Urbanization/Data/NGA_1K_res/nga_gpod10b3000_cc.tif',\n",
       " '/home/wb411133/data/Projects/MR_Novel_Urbanization/Data/NGA_1K_res/nga_gpod10b3000_co.tif',\n",
       " '/home/wb411133/data/Projects/MR_Novel_Urbanization/Data/NGA_1K_res/nga_gpod10b3000_ur.tif',\n",
       " '/home/wb411133/data/Projects/MR_Novel_Urbanization/Data/NGA_1K_res/nga_upo15d10b3000_cc.tif',\n",
       " '/home/wb411133/data/Projects/MR_Novel_Urbanization/Data/NGA_1K_res/nga_upo15d10b3000_ur.tif',\n",
       " '/home/wb411133/data/Projects/MR_Novel_Urbanization/Data/NGA_1K_res/nga_upo15d10b3000_co.tif',\n",
       " '/home/wb411133/data/Projects/MR_Novel_Urbanization/Data/NGA_1K_res/nga_gbud10b3000_co.tif',\n",
       " '/home/wb411133/data/Projects/MR_Novel_Urbanization/Data/NGA_1K_res/nga_cpo15d10b3000_cc.tif',\n",
       " '/home/wb411133/data/Projects/MR_Novel_Urbanization/Data/NGA_1K_res/nga_cpo15d10b3000_co.tif',\n",
       " '/home/wb411133/data/Projects/MR_Novel_Urbanization/Data/NGA_1K_res/nga_cpo15d10b3000_ur.tif']"
      ]
     },
     "execution_count": 45,
     "metadata": {},
     "output_type": "execute_result"
    }
   ],
   "source": [
    "db_urban_files"
   ]
  },
  {
   "cell_type": "code",
   "execution_count": null,
   "id": "be7af16d",
   "metadata": {},
   "outputs": [],
   "source": [
    "res_prefix = 'nga1k'\n",
    "pop_layer = os.path.join(urban_folder, f'{res_prefix}_cpo15.tif')\n",
    "urban_layer = os.path.join(urban_folder, f'{res_prefix}_cpo15_urban.tif')\n",
    "hd_layer = os.path.join(urban_folder, f'{res_prefix}_cpo15_urban_hd.tif')\n",
    "\n",
    "help_xx = helper.summarize_population(pop_layer, adm2_bounds, urban_layer, hd_layer)\n",
    "zonal_res = help_xx.calculate_zonal()\n",
    "zonal_res = zonal_res.loc[:,[x for x in zonal_res.columns if \"SUM\" in x]]\n",
    "zonal_res['shapeID'] = adm2_bounds['shapeID']\n",
    "zonal_res['shapeName'] = adm2_bounds['shapeName']\n",
    "\n",
    "pop_layer = os.path.join(urban_folder, f'{res_prefix}_cpo20.tif')\n",
    "urban_layer = os.path.join(urban_folder, f'{res_prefix}_cpo20_urban.tif')\n",
    "hd_layer = os.path.join(urban_folder, f'{res_prefix}_cpo20_urban_hd.tif')\n",
    "\n",
    "help_xx = helper.summarize_population(pop_layer, adm2_bounds, urban_layer, hd_layer)\n",
    "zonal_res2 = help_xx.calculate_zonal()\n",
    "zonal_res2 = zonal_res2.loc[:,[x for x in zonal_res2.columns if \"SUM\" in x]]\n",
    "zonal_res2['shapeID'] = adm2_bounds['shapeID']\n",
    "zonal_res2['shapeName'] = adm2_bounds['shapeName']"
   ]
  },
  {
   "cell_type": "code",
   "execution_count": null,
   "id": "609d4e18",
   "metadata": {},
   "outputs": [],
   "source": [
    "zonal_res.merge(zonal_res2).to_csv(os.path.join(hh_folder, f'DOU_zonal_stats_{res_prefix}.csv'))"
   ]
  },
  {
   "cell_type": "code",
   "execution_count": null,
   "id": "7177da3a",
   "metadata": {},
   "outputs": [],
   "source": [
    "res_prefix = 'nga'\n",
    "pop_layer = os.path.join(urban_folder, f'{res_prefix}_cpo15.tif')\n",
    "co_layer = f'/home/wb411133/data/Projects/MR_Novel_Urbanization/Data/NGA_1K_res/{res_prefix}_cpo15d10b3000_co.tif'\n",
    "ur_layer = f'/home/wb411133/data/Projects/MR_Novel_Urbanization/Data/NGA_1K_res/{res_prefix}_cpo15d10b3000_ur.tif'\n",
    "cc_layer = f'/home/wb411133/data/Projects/MR_Novel_Urbanization/Data/NGA_1K_res/{res_prefix}_cpo15d10b3000_cc.tif'\n",
    "\n",
    "help_xx = helper.summarize_population(pop_layer, adm2_bounds, co_layer, ur_layer)\n",
    "zonal_res = help_xx.calculate_zonal(convert_urban_binary=True)\n",
    "zonal_res = zonal_res.loc[:,[x for x in zonal_res.columns if \"SUM\" in x]]\n",
    "\n",
    "help_xx2 = helper.summarize_population(pop_layer, adm2_bounds, cc_layer)\n",
    "zonal_res2 = help_xx2.calculate_zonal(convert_urban_binary=True)\n",
    "zonal_res2 = zonal_res2.loc[:,[x for x in zonal_res2.columns if \"SUM\" in x]]\n",
    "\n",
    "zonal_res[f'_{res_prefix}_cpo15d10b3000_cc_SUM'] = zonal_res2[f'_{res_prefix}_cpo15d10b3000_cc_SUM']\n",
    "zonal_res['shapeID'] = adm2_bounds['shapeID']\n"
   ]
  },
  {
   "cell_type": "code",
   "execution_count": null,
   "id": "dc804404",
   "metadata": {},
   "outputs": [],
   "source": [
    "zonal_res"
   ]
  },
  {
   "cell_type": "code",
   "execution_count": null,
   "id": "6e0d03b0",
   "metadata": {},
   "outputs": [],
   "source": [
    "zonal_res.to_csv(os.path.join(hh_folder, f'DB_zonal_stats_{res_prefix}.csv'))"
   ]
  },
  {
   "cell_type": "code",
   "execution_count": null,
   "id": "4d55fbde",
   "metadata": {},
   "outputs": [],
   "source": [
    "adm2_bounds.to_file(os.path.join(hh_folder, 'adm2_geobounds.geojson'), driver='GeoJSON')"
   ]
  },
  {
   "cell_type": "code",
   "execution_count": null,
   "id": "724527e4",
   "metadata": {},
   "outputs": [],
   "source": []
  }
 ],
 "metadata": {
  "kernelspec": {
   "display_name": "Earth Engine",
   "language": "python",
   "name": "ee"
  },
  "language_info": {
   "codemirror_mode": {
    "name": "ipython",
    "version": 3
   },
   "file_extension": ".py",
   "mimetype": "text/x-python",
   "name": "python",
   "nbconvert_exporter": "python",
   "pygments_lexer": "ipython3",
   "version": "3.9.4"
  }
 },
 "nbformat": 4,
 "nbformat_minor": 5
}
