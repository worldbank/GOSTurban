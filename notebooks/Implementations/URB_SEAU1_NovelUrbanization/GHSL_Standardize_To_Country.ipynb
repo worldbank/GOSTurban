{
 "cells": [
  {
   "cell_type": "code",
   "execution_count": null,
   "metadata": {},
   "outputs": [],
   "source": [
    "import sys\n",
    "import os\n",
    "import rasterio\n",
    "import rasterio.warp\n",
    "\n",
    "import geopandas as gpd\n",
    "\n",
    "\n",
    "# Import raster helpers\n",
    "sys.path.insert(0, \"/home/wb411133/Code/gostrocks/src\")\n",
    "\n",
    "import GOSTrocks.rasterMisc as rMisc\n",
    "import GOSTrocks.mapMisc as mapMisc\n",
    "from GOSTrocks.misc import tPrint\n",
    "\n",
    "# Import GOST urban functions\n",
    "sys.path.append(\"../../../src\")\n",
    "\n",
    "# Import local functions\n",
    "from novelUrbanization import *\n",
    "\n",
    "%load_ext autoreload\n",
    "%autoreload 2"
   ]
  },
  {
   "cell_type": "code",
   "execution_count": null,
   "metadata": {},
   "outputs": [],
   "source": [
    "global_bounds = \"/home/public/Data/GLOBAL/ADMIN/Admin0_Polys.shp\"\n",
    "global_bounds_adm2 = \"/home/public/Data/GLOBAL/ADMIN/Admin2_Polys.shp\"\n",
    "\n",
    "runSmall = True\n",
    "runLarge = True\n",
    "\n",
    "gha_folder = (\n",
    "    \"/home/wb411133/data/Projects/MR_Novel_Urbanization/Data/GHA_URBAN_DATA_new_naming\"\n",
    ")\n",
    "ghsl_data = \"/home/public/Data/GLOBAL/GHSL/Built/GHS_BUILT_S_E{year}_GLOBE_R2023A_54009_100_V1_0.tif\"\n",
    "template_data = os.path.join(gha_folder, \"FINAL_STANDARD\", \"gha_cpo20.tif\")\n",
    "out_ghsl = os.path.join(gha_folder, \"ghsl_{year}_250m.tif\")"
   ]
  },
  {
   "cell_type": "code",
   "execution_count": null,
   "metadata": {},
   "outputs": [],
   "source": [
    "inG = gpd.read_file(global_bounds)\n",
    "inG2 = gpd.read_file(global_bounds_adm2)"
   ]
  },
  {
   "cell_type": "code",
   "execution_count": null,
   "metadata": {},
   "outputs": [],
   "source": [
    "ghsl_data.format(year=yr)"
   ]
  },
  {
   "cell_type": "code",
   "execution_count": null,
   "metadata": {},
   "outputs": [],
   "source": [
    "for yr in [2020, 2015, 2010, 2005, 2000, 1995, 1990]:\n",
    "    cur_ghsl = rasterio.open(ghsl_data.format(year=yr))\n",
    "    tPrint(yr)\n",
    "\n",
    "    # need to scale ghsl data to 250m data\n",
    "    res = rMisc.standardizeInputRasters(\n",
    "        cur_ghsl,\n",
    "        in_template,\n",
    "        inR1_outFile=out_ghsl.format(year=yr),\n",
    "        resampling_type=\"sum\",\n",
    "    )"
   ]
  },
  {
   "cell_type": "code",
   "execution_count": null,
   "metadata": {},
   "outputs": [],
   "source": [
    "yr = 2020\n",
    "curD = rasterio.open(out_ghsl.format(year=yr))\n",
    "mapMisc.static_map_raster(\n",
    "    curD, figsize=(20, 20), thresh=[50, 100, 1000, 2000, 5000, 10000, 25000, 50000]\n",
    ")"
   ]
  },
  {
   "cell_type": "code",
   "execution_count": null,
   "metadata": {},
   "outputs": [],
   "source": [
    "yr = 2000\n",
    "curD = rasterio.open(out_ghsl.format(year=yr))\n",
    "mapMisc.static_map_raster(\n",
    "    curD, figsize=(20, 20), thresh=[50, 100, 1000, 2000, 5000, 10000, 25000, 50000]\n",
    ")"
   ]
  },
  {
   "cell_type": "code",
   "execution_count": null,
   "metadata": {},
   "outputs": [],
   "source": []
  }
 ],
 "metadata": {
  "language_info": {
   "name": "python"
  }
 },
 "nbformat": 4,
 "nbformat_minor": 2
}
