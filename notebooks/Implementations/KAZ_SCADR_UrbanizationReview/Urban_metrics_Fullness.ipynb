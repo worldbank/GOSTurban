{
 "cells": [
  {
   "cell_type": "markdown",
   "metadata": {},
   "source": [
    "# Calculate Urban Metrics: Fullness\n",
    "Fraction of the total area of the urban extent that is built-up. Use a custom script that takes the mean value of all the pixels of the GHS built-up within the urban extent. The GHS built-up layer values are expressed as decimals from 0 to 1, and correspond to the fraction of the pixel that is covered by a building (Pesaresi et al., 2016)"
   ]
  },
  {
   "cell_type": "code",
   "execution_count": null,
   "metadata": {},
   "outputs": [],
   "source": [
    "%load_ext autoreload\n",
    "%autoreload 2"
   ]
  },
  {
   "cell_type": "code",
   "execution_count": null,
   "metadata": {},
   "outputs": [],
   "source": [
    "import sys\n",
    "import time"
   ]
  },
  {
   "cell_type": "code",
   "execution_count": null,
   "metadata": {},
   "outputs": [],
   "source": [
    "import pandas as pd\n",
    "import geopandas as gpd\n",
    "import numpy as np"
   ]
  },
  {
   "cell_type": "code",
   "execution_count": null,
   "metadata": {},
   "outputs": [],
   "source": [
    "from shapely.geometry import mapping\n",
    "from shapely.geometry import Point"
   ]
  },
  {
   "cell_type": "code",
   "execution_count": null,
   "metadata": {},
   "outputs": [],
   "source": [
    "# Get reference to GOSTNets\n",
    "sys.path.append(r\"C:\\repos\\INFRA_SAP\")\n",
    "from infrasap.urban_metrics import *"
   ]
  },
  {
   "cell_type": "code",
   "execution_count": null,
   "metadata": {},
   "outputs": [],
   "source": [
    "import rasterio\n",
    "from rasterio.mask import mask\n",
    "from rasterio import Affine  # or from affine import Affine"
   ]
  },
  {
   "cell_type": "code",
   "execution_count": null,
   "metadata": {},
   "outputs": [],
   "source": [
    "start_time = time.time()"
   ]
  },
  {
   "cell_type": "markdown",
   "metadata": {},
   "source": [
    "## Inputs are GHS built and the urban extents\n",
    "Mollweide projection should work good because it is an equal-area projection"
   ]
  },
  {
   "cell_type": "code",
   "execution_count": null,
   "metadata": {},
   "outputs": [],
   "source": [
    "built_up_layer = r\"C:\\Users\\war-machine\\Documents\\world_bank_work\\UZB_project\\GHS_BUILT_LDS2014_GLOBE_R2018A_54009_250_V2_0\\GHS_BUILT_LDS2014_GLOBE_R2018A_54009_250_V2_0.tif\"\n",
    "# built_up_layer = r\"C:\\Users\\war-machine\\Documents\\world_bank_work\\UZB_project\\2015_250m_GHS_Built\\UZB_2015_GHS_built_merged.tif\""
   ]
  },
  {
   "cell_type": "code",
   "execution_count": null,
   "metadata": {},
   "outputs": [],
   "source": [
    "# shpName = r\"C:\\Users\\war-machine\\Documents\\world_bank_work\\UZB_project\\metrics_shape_tool\\russia_urban_extents_merged_mollweide.shp\"\n",
    "# shpName = r\"C:\\repos\\GOST_Urban\\Notebooks\\Implementations\\eca_wo_rus_urban_clusters_ghs_pop_smooth_100k_mollweide2.shp\"\n",
    "# shpName = r\"C:\\Users\\war-machine\\Documents\\world_bank_work\\UZB_project\\metrics_shape_tool\\UZB_only_FUAs_Project_Mollweide.shp\"\n",
    "# shpName = r\"C:\\Users\\war-machine\\Documents\\world_bank_work\\UZB_project\\metrics_shape_tool\\UZB_ghs_built_up_extents_4326\\UZB_only_ghs_built_up_extents_mollweide_geom_fixed_greater_50k.shp\"\n",
    "# shpName = r\"C:\\Users\\war-machine\\Documents\\world_bank_work\\UZB_project\\metrics_shape_tool\\UZB_ghs_built_up_extents_4326\\UZB_ghs_built_up_extents_mollweide_geom_fixed.shp\"\n",
    "# shpName = r\"C:\\Users\\war-machine\\Documents\\world_bank_work\\UZB_project\\metrics_shape_tool\\ECA_wo_rus_urban_extents\\eca_wo_rus_built_up_extents_molleweide.shp\"\n",
    "shpName = r\"C:\\Users\\war-machine\\Documents\\world_bank_work\\UZB_project\\metrics_shape_tool\\all_urban_clusters_5k_up_molleweide.shp\""
   ]
  },
  {
   "cell_type": "code",
   "execution_count": null,
   "metadata": {},
   "outputs": [],
   "source": [
    "input_shapes_gpd = gpd.read_file(shpName)\n",
    "input_shapes_gpd.head(5)"
   ]
  },
  {
   "cell_type": "code",
   "execution_count": null,
   "metadata": {},
   "outputs": [],
   "source": [
    "%%time\n",
    "\n",
    "with rasterio.open(built_up_layer) as src:\n",
    "    pixelSizeX, pixelSizeY = src.res\n",
    "    # print(pixelSizeX, pixelSizeY)\n",
    "    pixel_area = 250**2\n",
    "\n",
    "    input_shapes_gpd = gpd.read_file(shpName)\n",
    "\n",
    "    # psuedocode\n",
    "    # For each Shape:\n",
    "    # Select all built-up pixels that are mostly within shape\n",
    "    # Area of shape = sum of all pixels * area of each pixel\n",
    "    # Built-up Area = (sum pixel value of each pixel) / 100\n",
    "    # Fullness index = Built-up Area / Area of Shape\n",
    "\n",
    "    # for entry in input_shapes_gpd.head(5).iterrows():\n",
    "    for entry in input_shapes_gpd.iterrows():\n",
    "        print(entry[0])\n",
    "        # print(row[1]['geometry'])\n",
    "\n",
    "        # extract the geometry in GeoJSON format\n",
    "        geometry = entry[1][\"geometry\"]  # list of shapely geometries\n",
    "        # geometry = geoms[0] # shapely geometry\n",
    "        geoms = [mapping(geometry)]\n",
    "\n",
    "        # extract the raster values values within the polygon\n",
    "        out_image, out_transform = mask(src, geoms, crop=True, nodata=-9999.0)\n",
    "        data = out_image[0, :, :]\n",
    "\n",
    "        row, col = np.where(data != -9999.0)\n",
    "        val = np.extract(data != -9999.0, data)\n",
    "\n",
    "        T1 = out_transform * Affine.translation(0.5, 0.5)  # reference the pixel centre\n",
    "        rc2xy = lambda r, c: (c, r) * T1\n",
    "\n",
    "        d = gpd.GeoDataFrame({\"col\": col, \"row\": row, \"val\": val})\n",
    "\n",
    "        # coordinate transformation\n",
    "        d[\"x\"] = d.apply(lambda row: rc2xy(row.row, row.col)[0], axis=1)\n",
    "        d[\"y\"] = d.apply(lambda row: rc2xy(row.row, row.col)[1], axis=1)\n",
    "\n",
    "        # geometry\n",
    "        d[\"geometry\"] = d.apply(lambda row: Point(row[\"x\"], row[\"y\"]), axis=1)\n",
    "\n",
    "        # Area of shape = sum of all pixels * area of each pixel\n",
    "        area_of_shape = pixel_area * d.count()[0]\n",
    "        # Built-up Area = (sum pixel value of each pixel) / 100\n",
    "        d2 = d.val / 100\n",
    "        built_up = sum(d2) * pixel_area\n",
    "        # Fullness index = Built-up Area / Area of Shape\n",
    "        fullness_index = built_up / area_of_shape\n",
    "        print(f\"fullness index: {fullness_index}\")\n",
    "\n",
    "        # creates a temporary GDF for just the row's shape\n",
    "        temp_gdf = input_shapes_gpd.iloc[[entry[0]]]\n",
    "\n",
    "        # print(\"print temp_gdf\")\n",
    "        # print(temp_gdf)\n",
    "\n",
    "        # Put all metrics in a DataFrame\n",
    "        metrics_scalar = {}\n",
    "        metrics_scalar[\"fullness_index\"] = [fullness_index]\n",
    "        metrics_df = pd.DataFrame(metrics_scalar)\n",
    "\n",
    "        # print(\"print metrics_scalar\")\n",
    "        # print(metrics_scalar)\n",
    "\n",
    "        # and concatinate it with the row's shape\n",
    "        new_temp_gdf = pd.concat([temp_gdf.reset_index(drop=True), metrics_df], axis=1)\n",
    "\n",
    "        # print(\"print new_temp_gdf\")\n",
    "        # print(new_temp_gdf)\n",
    "        # print(entry[0])\n",
    "        # put the results of each row into a new DataFrame\n",
    "        if entry[0] == 0:\n",
    "            print(\"new_temp_gdf\")\n",
    "            output_new_temp_gdf = new_temp_gdf\n",
    "        else:\n",
    "            output_new_temp_gdf = output_new_temp_gdf.append(\n",
    "                new_temp_gdf, ignore_index=True\n",
    "            )"
   ]
  },
  {
   "cell_type": "code",
   "execution_count": null,
   "metadata": {},
   "outputs": [],
   "source": [
    "output_new_temp_gdf.crs"
   ]
  },
  {
   "cell_type": "code",
   "execution_count": null,
   "metadata": {},
   "outputs": [],
   "source": [
    "# make the GeoDataFrame unprojected\n",
    "output_new_temp_gdf = output_new_temp_gdf.to_crs(\"epsg:4326\")"
   ]
  },
  {
   "cell_type": "code",
   "execution_count": null,
   "metadata": {},
   "outputs": [],
   "source": [
    "output_new_temp_gdf"
   ]
  },
  {
   "cell_type": "code",
   "execution_count": null,
   "metadata": {},
   "outputs": [],
   "source": [
    "# output = r\"C:\\Users\\war-machine\\Documents\\world_bank_work\\UZB_project\\metrics_shape_tool\\eca_metrics_results_russia\"\n",
    "# output = r\"C:\\Users\\war-machine\\Documents\\world_bank_work\\UZB_project\\metrics_shape_tool\\eca_urban_metrics_results_wo_rus\"\n",
    "# output = r\"C:\\Users\\war-machine\\Documents\\world_bank_work\\UZB_project\\metrics_shape_tool\\UZB_only_GHS_FUAs_results\"\n",
    "# output = r\"C:\\Users\\war-machine\\Documents\\world_bank_work\\UZB_project\\metrics_shape_tool\\UZB_only_GHS_urban_extents_results\"\n",
    "# output = r\"C:\\Users\\war-machine\\Documents\\world_bank_work\\UZB_project\\metrics_shape_tool\\UZB_only_GHS_urban_extents_results_all\"\n",
    "# output = r\"C:\\Users\\war-machine\\Documents\\world_bank_work\\UZB_project\\metrics_shape_tool\\eca_urban_metrics_results_wo_rus_all\"\n",
    "output = r\"C:\\Users\\war-machine\\Documents\\world_bank_work\\UZB_project\\metrics_shape_tool\\all_urban_extents_results_5k_up\""
   ]
  },
  {
   "cell_type": "code",
   "execution_count": null,
   "metadata": {},
   "outputs": [],
   "source": [
    "# save as CSV\n",
    "# output_new_temp_gdf.to_csv(output + r\"\\ECA_russia_urban_metrics_100k_fullness.csv\")\n",
    "# output_new_temp_gdf.to_csv(output + r\"\\UZB_only_urban_metrics_FUAs_fullness.csv\")\n",
    "# output_new_temp_gdf.to_csv(output + r\"\\UZB_only_urban_metrics_urban_extents_fullness.csv\")\n",
    "# output_new_temp_gdf.to_csv(output + r\"\\UZB_only_urban_metrics_urban_extents_all_fullness.csv\")\n",
    "# output_new_temp_gdf.to_csv(output + r\"\\ECA_wo_rus_urban_metrics_urban_extents_all_fullness.csv\")\n",
    "output_new_temp_gdf.to_csv(output + r\"\\all_urban_metrics_5k_up_fullness.csv\")"
   ]
  },
  {
   "cell_type": "code",
   "execution_count": null,
   "metadata": {},
   "outputs": [],
   "source": [
    "print(f\"total time to process: {time.time() - start_time}\")"
   ]
  }
 ],
 "metadata": {
  "language_info": {
   "name": "python"
  }
 },
 "nbformat": 4,
 "nbformat_minor": 4
}
