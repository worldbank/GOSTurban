{
 "cells": [
  {
   "cell_type": "markdown",
   "metadata": {},
   "source": [
    "# Combine All Urban Metrics\n",
    "Run the 4 separate notebooks separately, and then this notebook last to combine all of the results into one shapefile\n",
    "\n",
    "Check to see that all of the results have the same number of rows"
   ]
  },
  {
   "cell_type": "code",
   "execution_count": null,
   "metadata": {},
   "outputs": [],
   "source": [
    "import geopandas as gpd"
   ]
  },
  {
   "cell_type": "code",
   "execution_count": null,
   "metadata": {},
   "outputs": [],
   "source": [
    "# folder = r\"C:\\Users\\war-machine\\Documents\\world_bank_work\\UZB_project\\metrics_shape_tool\\eca_metrics_results_russia\"\n",
    "# folder = r\"C:\\Users\\war-machine\\Documents\\world_bank_work\\UZB_project\\metrics_shape_tool\\eca_urban_metrics_results_wo_rus\"\n",
    "# folder = r\"C:\\Users\\war-machine\\Documents\\world_bank_work\\UZB_project\\metrics_shape_tool\\UZB_only_GHS_FUAs_results\"\n",
    "# folder = r\"C:\\Users\\war-machine\\Documents\\world_bank_work\\UZB_project\\metrics_shape_tool\\UZB_only_GHS_urban_extents_results\"\n",
    "folder = r\"C:\\Users\\war-machine\\Documents\\world_bank_work\\UZB_project\\metrics_shape_tool\\UZB_only_GHS_urban_extents_results_all\"\n",
    "folder = r\"C:\\Users\\war-machine\\Documents\\world_bank_work\\UZB_project\\metrics_shape_tool\\eca_urban_metrics_results_wo_rus_all\"\n",
    "folder = r\"C:\\Users\\war-machine\\Documents\\world_bank_work\\UZB_project\\metrics_shape_tool\\all_urban_extents_results_5k_up\""
   ]
  },
  {
   "cell_type": "code",
   "execution_count": null,
   "metadata": {},
   "outputs": [],
   "source": [
    "# file_base = r\"\\ECA_russia_urban_metrics_100k_\"\n",
    "# file_base = r\"\\UZB_only_urban_metrics_FUAs_\"\n",
    "# file_base = r\"\\UZB_only_urban_metrics_urban_extents_\"\n",
    "file_base = r\"\\all_urban_metrics_5k_up_\""
   ]
  },
  {
   "cell_type": "code",
   "execution_count": null,
   "metadata": {},
   "outputs": [],
   "source": [
    "metrics_dict = {\n",
    "    \"shape\": [\n",
    "        \"ProximityIndex\",\n",
    "        \"RoundnessIndex\",\n",
    "        \"CohesionIndex\",\n",
    "        \"SpinIndex\",\n",
    "        \"PerimIndex\",\n",
    "        \"DepthIndex\",\n",
    "        \"GirthIndex\",\n",
    "        \"DispersionIndex\",\n",
    "        \"DispersionIndex\",\n",
    "        \"RangeIndex\",\n",
    "    ],\n",
    "    \"fullness\": [\"fullness_index\"],\n",
    "    \"structure\": [\"circuity_avg\", \"intersection_density_km\", \"street_density_km\"],\n",
    "    \"sprawl\": [\"sprawl_index\"],\n",
    "}"
   ]
  },
  {
   "cell_type": "code",
   "execution_count": null,
   "metadata": {},
   "outputs": [],
   "source": [
    "my_data = {}\n",
    "for num, metric in enumerate(metrics_dict.items()):\n",
    "    # https://github.com/geopandas/geopandas/issues/1234\n",
    "    my_data[metric[0]] = gpd.read_file(\n",
    "        folder + file_base + metric[0] + \".csv\",\n",
    "        GEOM_POSSIBLE_NAMES=\"geometry\",\n",
    "        KEEP_GEOM_COLUMNS=\"NO\",\n",
    "    )\n",
    "    if num == 0:\n",
    "        merged_df = my_data[metric[0]]\n",
    "    if num > 0:\n",
    "        merged_df = merged_df.merge(\n",
    "            my_data[metric[0]][metric[1]], how=\"left\", left_index=True, right_index=True\n",
    "        )"
   ]
  },
  {
   "cell_type": "code",
   "execution_count": null,
   "metadata": {},
   "outputs": [],
   "source": [
    "merged_df"
   ]
  },
  {
   "cell_type": "code",
   "execution_count": null,
   "metadata": {},
   "outputs": [],
   "source": [
    "merged_df.crs"
   ]
  },
  {
   "cell_type": "code",
   "execution_count": null,
   "metadata": {},
   "outputs": [],
   "source": [
    "# save as shapefile\n",
    "# output = r\"C:\\Users\\war-machine\\Documents\\world_bank_work\\UZB_project\\metrics_shape_tool\\eca_metrics_results_russia\"\n",
    "# output = r\"C:\\Users\\war-machine\\Documents\\world_bank_work\\UZB_project\\metrics_shape_tool\\UZB_only_GHS_FUAs_results\"\n",
    "# output = r\"C:\\Users\\war-machine\\Documents\\world_bank_work\\UZB_project\\metrics_shape_tool\\UZB_only_GHS_urban_extents_results\"\n",
    "output = r\"C:\\Users\\war-machine\\Documents\\world_bank_work\\UZB_project\\metrics_shape_tool\\UZB_only_GHS_urban_extents_results_all\"\n",
    "output = r\"C:\\Users\\war-machine\\Documents\\world_bank_work\\UZB_project\\metrics_shape_tool\\eca_urban_metrics_results_wo_rus_all\"\n",
    "output = r\"C:\\Users\\war-machine\\Documents\\world_bank_work\\UZB_project\\metrics_shape_tool\\all_urban_extents_results_5k_up\"\n",
    "# merged_df.to_file(output + r\"\\ECA_russia_urban_metrics_100k_all.shp\")\n",
    "# merged_df.to_file(output + r\"\\UZB_only_urban_metrics_urban_extents_all.shp\")\n",
    "# merged_df.to_file(output + r\"\\eca_urban_metrics_results_wo_rus_all.shp\")\n",
    "merged_df.to_file(output + r\"\\all_urban_extents_results_5k_up.shp\")"
   ]
  },
  {
   "cell_type": "code",
   "execution_count": null,
   "metadata": {},
   "outputs": [],
   "source": []
  }
 ],
 "metadata": {
  "language_info": {
   "name": "python"
  }
 },
 "nbformat": 4,
 "nbformat_minor": 4
}
