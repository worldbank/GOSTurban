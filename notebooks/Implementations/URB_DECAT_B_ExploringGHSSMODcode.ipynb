{
 "cells": [
  {
   "attachments": {},
   "cell_type": "markdown",
   "metadata": {},
   "source": [
    "# Exploring DEGURBA\n",
    "The Degree of Urbanization methodology developed by the European Commission provides a consistent definition of urban through application of population density and total population theresholds to gridded population data."
   ]
  },
  {
   "cell_type": "code",
   "execution_count": null,
   "metadata": {},
   "outputs": [
    {
     "ename": "",
     "evalue": "",
     "output_type": "error",
     "traceback": [
      "\u001b[1;31mRunning cells with 'geog' requires the ipykernel package.\n",
      "\u001b[1;31mRun the following command to install 'ipykernel' into the Python environment. \n",
      "\u001b[1;31mCommand: 'conda install -n geog ipykernel --update-deps --force-reinstall'"
     ]
    }
   ],
   "source": [
    "import sys\n",
    "import os\n",
    "import importlib\n",
    "import rasterio\n",
    "import rasterio.warp\n",
    "\n",
    "import geopandas as gpd\n",
    "import numpy as np\n",
    "\n",
    "from rasterio import features\n",
    "from shapely.geometry import Polygon\n",
    "\n",
    "# Import GOST urban functions\n",
    "sys.path.append(\"../GOST_Urban\")\n",
    "import src.UrbanRaster as urban\n",
    "\n",
    "# Import raster helpers\n",
    "sys.path.append(\"../../gostrocks/src\")\n",
    "\n",
    "import GOSTRocks.rasterMisc as rMisc\n",
    "from GOSTRocks.misc import tPrint"
   ]
  },
  {
   "cell_type": "code",
   "execution_count": 21,
   "metadata": {},
   "outputs": [],
   "source": [
    "global_bounds_adm1 = \"/home/public/Data/GLOBAL/ADMIN/Admin1_Polys.shp\"\n",
    "iso3 = \"GHA\"\n",
    "output_folder = \"/home/wb411133/temp/%s_URBAN_DATA\" % iso3\n",
    "pop_layer = os.path.join(output_folder, \"FINAL_STANDARD\", \"%s_GHS.tif\" % iso3)\n",
    "temp_pop_file = os.path.join(output_folder, \"GHS_TEMP.tif\")\n",
    "deg_file = os.path.join(output_folder, \"FINAL_STANDARD\", \"GHS_DEG.tif\")\n",
    "adm1_file = os.path.join(output_folder, \"ADM1.shp\")"
   ]
  },
  {
   "cell_type": "code",
   "execution_count": 25,
   "metadata": {},
   "outputs": [],
   "source": [
    "inG1 = gpd.read_file(global_bounds_adm1)\n",
    "inD1 = inG1.loc[inG1[\"ISO3\"] == iso3]\n",
    "inD1 = inD1.to_crs({\"init\": \"epsg:4326\"})\n",
    "if not os.path.exists(adm1_file):\n",
    "    inD1.to_file(adm1_file)\n",
    "\n",
    "if not os.path.exists(temp_pop_file):\n",
    "    inR = rasterio.open(pop_layer)\n",
    "    selD = inD1.loc[inD1[\"WB_ADM1_NA\"] == \"Central\"]\n",
    "    rMisc.clipRaster(inR, selD, temp_pop_file)\n",
    "\n",
    "national_ghs_1k = os.path.join(output_folder, \"GHS_POP_1k.tif\")\n",
    "if not os.path.exists(national_ghs_1k):\n",
    "    inR = rasterio.open(\n",
    "        \"/home/public/Data/GLOBAL/Population/GHS/GHS_POP_E2015_GLOBE_R2019A_54009_1K_V1_0.tif\"\n",
    "    )\n",
    "    inD = gpd.read_file(os.path.join(output_folder, \"FINAL_STANDARD\", \"GHA_ADMIN.shp\"))\n",
    "    if inD.crs != inR.crs:\n",
    "        inD = inD.to_crs(inR.crs)\n",
    "    rMisc.clipRaster(inR, inD, national_ghs_1k)"
   ]
  },
  {
   "cell_type": "code",
   "execution_count": 24,
   "metadata": {},
   "outputs": [
    {
     "name": "stdout",
     "output_type": "stream",
     "text": [
      "11:06:51\t: Smoothing Urban Clusters\n",
      "11:16:55\t: extracting HD clusters\n",
      "11:16:58\t: Creating Shape 0\n",
      "11:18:26\t: Creating Shape 1000\n",
      "11:19:52\t: Creating Shape 2000\n",
      "11:21:18\t: Creating Shape 3000\n",
      "11:22:44\t: Creating Shape 4000\n",
      "11:24:11\t: Creating Shape 5000\n",
      "11:25:37\t: Creating Shape 6000\n",
      "11:27:03\t: Creating Shape 7000\n",
      "11:28:27\t: Creating Shape 8000\n",
      "11:29:26\t: extracting URBAN clusters\n",
      "11:30:05\t: Creating Shape 9000\n",
      "11:31:33\t: Creating Shape 10000\n",
      "11:32:58\t: Creating Shape 11000\n",
      "11:34:27\t: Creating Shape 12000\n",
      "11:35:52\t: Creating Shape 13000\n",
      "11:37:20\t: Creating Shape 14000\n",
      "11:38:45\t: Creating Shape 15000\n",
      "11:40:06\t: Creating Shape 16000\n",
      "11:41:32\t: Creating Shape 17000\n",
      "11:43:01\t: Creating Shape 18000\n",
      "11:44:25\t: Creating Shape 19000\n",
      "11:45:51\t: Creating Shape 20000\n",
      "11:47:19\t: Creating Shape 21000\n",
      "11:48:43\t: Creating Shape 22000\n",
      "11:49:58\t: Creating Shape 23000\n",
      "11:51:21\t: Creating Shape 24000\n",
      "11:52:45\t: Creating Shape 25000\n",
      "11:53:08\t: performing distance calculations\n"
     ]
    }
   ],
   "source": [
    "importlib.reload(urban)\n",
    "xx = urban.urbanGriddedPop(pop_layer)\n",
    "res = xx.calculateDegurba(\n",
    "    urbDens=21, hdDens=(15 * 7), minPopThresh=0.5 * 7, out_raster=deg_file, verbose=True\n",
    ")"
   ]
  },
  {
   "cell_type": "code",
   "execution_count": 26,
   "metadata": {},
   "outputs": [
    {
     "name": "stdout",
     "output_type": "stream",
     "text": [
      "12:18:16\t: Smoothing Urban Clusters\n",
      "12:18:54\t: extracting HD clusters\n",
      "12:18:54\t: Creating Shape 0\n",
      "12:18:58\t: Creating Shape 1000\n",
      "12:18:59\t: extracting URBAN clusters\n",
      "12:19:02\t: Creating Shape 2000\n",
      "12:19:06\t: Creating Shape 3000\n",
      "12:19:10\t: Creating Shape 4000\n",
      "12:19:14\t: Creating Shape 5000\n",
      "12:19:15\t: performing distance calculations\n"
     ]
    }
   ],
   "source": [
    "importlib.reload(urban)\n",
    "deg_file = national_ghs_1k.replace(\".tif\", \"DEGURBA.tif\")\n",
    "xx = urban.urbanGriddedPop(national_ghs_1k)\n",
    "res = xx.calculateDegurba(\n",
    "    urbDens=300, hdDens=1500, minPopThresh=50, out_raster=deg_file, verbose=True\n",
    ")"
   ]
  },
  {
   "cell_type": "code",
   "execution_count": null,
   "metadata": {},
   "outputs": [],
   "source": []
  },
  {
   "cell_type": "code",
   "execution_count": 17,
   "metadata": {},
   "outputs": [
    {
     "name": "stdout",
     "output_type": "stream",
     "text": [
      "09:13:24\t: Smoothing Urban Clusters\n",
      "09:15:11\t: extracting HD clusters\n",
      "09:15:11\t: Creating Shape 0\n",
      "09:15:13\t: extracting URBAN clusters\n",
      "09:15:18\t: performing distance calculations\n"
     ]
    }
   ],
   "source": [
    "importlib.reload(urban)\n",
    "temp_pop_file = os.path.join(\n",
    "    output_folder, \"GHS_POP_E2015_GLOBE_R2019A_54009_1K_V1_0_22_3.tif\"\n",
    ")\n",
    "deg_file = temp_pop_file.replace(\".tif\", \"DEGURBA.tif\")\n",
    "xx = urban.urbanGriddedPop(temp_pop_file)  # (pop_layer)\n",
    "res = xx.calculateDegurba(\n",
    "    urbDens=300, hdDens=1500, minPopThresh=50, out_raster=deg_file, verbose=True\n",
    ")"
   ]
  },
  {
   "cell_type": "code",
   "execution_count": 15,
   "metadata": {},
   "outputs": [],
   "source": [
    "features.shapes?"
   ]
  },
  {
   "attachments": {},
   "cell_type": "markdown",
   "metadata": {},
   "source": [
    "# Plotting"
   ]
  },
  {
   "cell_type": "code",
   "execution_count": null,
   "metadata": {},
   "outputs": [],
   "source": [
    "import os\n",
    "import matplotlib.pyplot as plt\n",
    "from matplotlib.colors import ListedColormap\n",
    "import matplotlib.colors as colors"
   ]
  },
  {
   "cell_type": "code",
   "execution_count": null,
   "metadata": {},
   "outputs": [],
   "source": [
    "cmap = ListedColormap(\n",
    "    [\"lightgreen\", \"green\", \"darkgreen\", \"yellow\", \"brown\", \"black\", \"red\"]\n",
    ")\n",
    "norm = colors.BoundaryNorm([10, 11, 12, 13, 21, 22, 23, 30], 7)\n",
    "fig, ax = plt.subplots(figsize=(10, 5))\n",
    "ax.imshow(hd[350:450, 500:650], cmap=cmap, norm=norm)\n",
    "plt.show()"
   ]
  },
  {
   "cell_type": "code",
   "execution_count": null,
   "metadata": {},
   "outputs": [],
   "source": [
    "fig, ax = plt.subplots(figsize=(10, 5))\n",
    "ax.imshow(urb[350:450, 500:650], cmap=cmap, norm=norm)  # , extent=[350, 450, 650, 500])\n",
    "plt.show()"
   ]
  },
  {
   "cell_type": "code",
   "execution_count": null,
   "metadata": {},
   "outputs": [],
   "source": [
    "ax.imshow?"
   ]
  },
  {
   "attachments": {},
   "cell_type": "markdown",
   "metadata": {},
   "source": [
    "# DEBUGGING"
   ]
  },
  {
   "cell_type": "code",
   "execution_count": null,
   "metadata": {},
   "outputs": [],
   "source": [
    "import geojson\n",
    "import json\n",
    "\n",
    "from shapely.geometry import shape\n",
    "from rasterio.features import rasterize\n",
    "\n",
    "urbDens = 3 * 7\n",
    "hdDens = 15 * 7\n",
    "urbThresh = 5000\n",
    "hdThresh = 50000\n",
    "minPopThresh = 0.5 * 7\n",
    "out_raster = deg_file\n",
    "print_message = \"\"\n",
    "verbose = False"
   ]
  },
  {
   "cell_type": "code",
   "execution_count": null,
   "metadata": {},
   "outputs": [],
   "source": [
    "xx = urban.urbanGriddedPop(temp_pop_file)\n",
    "popRaster = xx.inR\n",
    "data = popRaster.read()\n",
    "urban_raster = data * 0\n",
    "final_raster = data[0, :, :] * 0 + 11\n",
    "\n",
    "urban_raster[np.where(data > hdDens)] = 30\n",
    "\n",
    "idx = 0\n",
    "allFeatures = []\n",
    "# Analyze the high density shapes\n",
    "for cShape, value in features.shapes(urban_raster, transform=popRaster.transform):\n",
    "    if idx % 1000 == 0 and verbose:\n",
    "        tPrint(\"%s: Creating Shape %s\" % (print_message, idx))\n",
    "    idx = idx + 1\n",
    "    if value > 0:\n",
    "        if value == 30:  # only smooth the HD density shapes\n",
    "            origShape = cShape\n",
    "            xx = shape(cShape)\n",
    "            xx = Polygon(xx.exterior)\n",
    "            cShape = xx.__geo_interface__\n",
    "        # If the shape is urban, claculate total pop\n",
    "        mask = rasterize(\n",
    "            [(cShape, 0)],\n",
    "            out_shape=data[0, :, :].shape,\n",
    "            fill=1,\n",
    "            transform=popRaster.transform,\n",
    "        )\n",
    "        inData = np.ma.array(data=data, mask=mask.astype(bool))\n",
    "        pop = np.nansum(inData)\n",
    "\n",
    "        val = 0\n",
    "        if pop > 5000:\n",
    "            ### TODO - if the totalpop is < 50k, may need to unsmooth the shape\n",
    "            val = 23\n",
    "        if pop > 50000:\n",
    "            val = 30\n",
    "\n",
    "        # Burn value into the final raster\n",
    "        mask = (mask ^ 1) * val\n",
    "        yy = np.dstack([final_raster, mask])\n",
    "        final_raster = np.amax(yy, axis=2)\n",
    "        allFeatures.append([idx, pop, val, shape(geojson.loads(json.dumps(cShape)))])\n",
    "HD_raster = final_raster"
   ]
  },
  {
   "cell_type": "code",
   "execution_count": null,
   "metadata": {},
   "outputs": [],
   "source": [
    "unique_elements, counts_elements = np.unique(HD_raster, return_counts=True)\n",
    "print(np.asarray((unique_elements, counts_elements)))"
   ]
  },
  {
   "cell_type": "code",
   "execution_count": null,
   "metadata": {},
   "outputs": [],
   "source": []
  },
  {
   "cell_type": "code",
   "execution_count": null,
   "metadata": {},
   "outputs": [],
   "source": []
  },
  {
   "cell_type": "code",
   "execution_count": null,
   "metadata": {},
   "outputs": [],
   "source": [
    "final_raster = data[0, :, :] * 0\n",
    "yy = np.dstack([final_raster, mask])\n",
    "final_raster = np.amax(yy, axis=2)"
   ]
  },
  {
   "cell_type": "code",
   "execution_count": null,
   "metadata": {},
   "outputs": [],
   "source": [
    "mask = rasterize(\n",
    "    [(cShape, 0)], out_shape=data[0, :, :].shape, fill=1, transform=popRaster.transform\n",
    ")"
   ]
  },
  {
   "cell_type": "code",
   "execution_count": null,
   "metadata": {},
   "outputs": [],
   "source": [
    "tempR = rasterio.open(temp_pop_file)\n",
    "tempR.shape"
   ]
  },
  {
   "cell_type": "code",
   "execution_count": null,
   "metadata": {},
   "outputs": [],
   "source": [
    "tempR.meta"
   ]
  },
  {
   "cell_type": "code",
   "execution_count": null,
   "metadata": {},
   "outputs": [],
   "source": []
  }
 ],
 "metadata": {
  "kernelspec": {
   "display_name": "geog",
   "language": "python",
   "name": "python3"
  },
  "language_info": {
   "codemirror_mode": {
    "name": "ipython",
    "version": 3
   },
   "file_extension": ".py",
   "mimetype": "text/x-python",
   "name": "python",
   "nbconvert_exporter": "python",
   "pygments_lexer": "ipython3",
   "version": "3.9.16"
  }
 },
 "nbformat": 4,
 "nbformat_minor": 2
}
