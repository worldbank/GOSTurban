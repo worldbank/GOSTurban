{
 "cells": [
  {
   "cell_type": "markdown",
   "id": "c39b4ad3",
   "metadata": {},
   "source": [
    "# Mpumalanga spatial analysis\n",
    "\n",
    "1. Calculate zonal statistics on the South African Municipalities  \n",
    "   - Nighttime lights intensity  \n",
    "   - Gridded population count  \n",
    "   - Urbanization (TBD)  \n",
    "   - Built-up  \n",
    "   - Travel-time  \n",
    "     - re-calculate TT to tourist destinations  \n",
    "   - Gravity-metrics (TBD)  \n",
    "   \n",
    "2023-11-28 Updated work \n",
    "- re-run population numbers with higher resolution data on population \n",
    "- Re-run travel times; for all the below, include straight-line calculations  \n",
    "  - Travel time to largest city/capital city **in their own province**\n",
    "  - Nearest national port and airport\n",
    "  - Nearest non-national port and airport\n",
    "  \n",
    "\n"
   ]
  },
  {
   "cell_type": "code",
   "execution_count": 1,
   "id": "58679d41",
   "metadata": {},
   "outputs": [
    {
     "name": "stderr",
     "output_type": "stream",
     "text": [
      "/home/wb411133/.conda/envs/ee/lib/python3.9/site-packages/geopandas/_compat.py:106: UserWarning: The Shapely GEOS version (3.9.1-CAPI-1.14.2) is incompatible with the GEOS version PyGEOS was compiled with (3.10.4-CAPI-1.16.2). Conversions between both will be slow.\n",
      "  warnings.warn(\n"
     ]
    }
   ],
   "source": [
    "import sys\n",
    "import os\n",
    "import importlib\n",
    "import rasterio\n",
    "\n",
    "import pandas as pd\n",
    "import geopandas as gpd\n",
    "import skimage.graph as graph\n",
    "\n",
    "\n",
    "sys.path.insert(0, \"/home/wb411133/Code/gostrocks/src\")\n",
    "\n",
    "import GOSTRocks.dataMisc as dataMisc\n",
    "import GOSTRocks.rasterMisc as rMisc\n",
    "from GOSTRocks.misc import tPrint\n",
    "\n",
    "sys.path.insert(0, \"/home/wb411133/Code/GOSTNets_Raster/src\")\n",
    "import GOSTNetsRaster.market_access as ma\n",
    "\n",
    "%load_ext autoreload\n",
    "%autoreload 2"
   ]
  },
  {
   "cell_type": "code",
   "execution_count": 14,
   "id": "cc27ef0a",
   "metadata": {},
   "outputs": [],
   "source": [
    "# Define input variables\n",
    "in_folder = \"/home/wb411133/projects/URB_SURDR_ZAF\"\n",
    "ntl_folder = os.path.join(in_folder, \"NTL_data\")\n",
    "ghsl_folder = os.path.join(in_folder, \"GHSL_data\")\n",
    "urban_folder = os.path.join(in_folder, \"URBAN\")\n",
    "ma_folder = os.path.join(in_folder, \"market_access\")\n",
    "infra_folder = os.path.join(in_folder, \"Infra\")\n",
    "zaf_folder = os.path.join(in_folder, \"MiningCommunities\")\n",
    "zonal_res_folder = os.path.join(in_folder, \"ZONAL_RES\")\n",
    "protected_areas_folder = os.path.join(in_folder, \"Protected_Areas\")\n",
    "reference_folder = os.path.join(in_folder, \"Reference\")\n",
    "for f in [\n",
    "    in_folder,\n",
    "    ntl_folder,\n",
    "    ghsl_folder,\n",
    "    ma_folder,\n",
    "    infra_folder,\n",
    "    zonal_res_folder,\n",
    "    protected_areas_folder,\n",
    "]:\n",
    "    if not os.path.exists(f):\n",
    "        os.makedirs(f)\n",
    "\n",
    "# Define local variables\n",
    "admin0_file = os.path.join(in_folder, \"ZAF_select_adm0.shp\")\n",
    "admin1_file = os.path.join(in_folder, \"admin1_geoBounds.shp\")\n",
    "admin3_file = os.path.join(in_folder, \"ADMIN\", \"admin3_geoBounds_FINAL.shp\")\n",
    "ghsl_thresh = 0.1\n",
    "local_ghsl_file = os.path.join(in_folder, f\"ghsl_combined_{int(ghsl_thresh*100)}.tif\")\n",
    "high_res_pop = (\n",
    "    \"/home/public/Data/GLOBAL/Population/RF_SSA_2015-2020/ZAF/ppp_ZAF_const_2020.tif\"\n",
    ")\n",
    "urban_raster = os.path.join(urban_folder, \"zaf_cpo20_urban.tif\")\n",
    "urban_raster_pop = os.path.join(urban_folder, \"zaf_cpo20.tif\")\n",
    "urban_extents_file = os.path.join(urban_folder, \"cpo20_urban_extents.shp\")\n",
    "local_ghs_smod_file = os.path.join(in_folder, \"GHS_SMOD_2020.tif\")\n",
    "major_urban_extents = os.path.join(in_folder, \"major_cities_UCDB2019.shp\")\n",
    "zaf_capitals = os.path.join(in_folder, \"ZAF_provincial_capitals.kml\")\n",
    "local_friction_file = os.path.join(ma_folder, \"friction_2020.tif\")\n",
    "local_airports = os.path.join(reference_folder, \"Major_Airports.shp\")\n",
    "local_ports = os.path.join(reference_folder, \"Ports.shp\")\n",
    "tourist_locations = os.path.join(infra_folder, \"Kruger_EntryGates.shp\")\n",
    "protected_areas = os.path.join(protected_areas_folder, \"SAPAD_IR_2023_Q2_01.shp\")\n",
    "mines_file = os.path.join(reference_folder, \"SAMines\", \"AllMinesFeb2024.shp\")\n",
    "plants_file = os.path.join(reference_folder, \"SAPlants\", \"processing-plants.shp\")\n",
    "\n",
    "municipalities = os.path.join(zaf_folder, \"MainPlaces\", \"MP_SA_2011.shp\")\n",
    "muni_id = \"MP_CODE_st\"\n",
    "\n",
    "proj_epsg = 22293  # https://epsg.io/22293"
   ]
  },
  {
   "cell_type": "code",
   "execution_count": 3,
   "id": "8ceaa32b",
   "metadata": {},
   "outputs": [],
   "source": [
    "municipalities = os.path.join(zaf_folder, \"MainPlaces\", \"MP_SA_2011.shp\")\n",
    "inM = gpd.read_file(municipalities)"
   ]
  },
  {
   "cell_type": "code",
   "execution_count": null,
   "id": "0d1a596b",
   "metadata": {},
   "outputs": [],
   "source": [
    "# Zonal stats on nighttime lights\n",
    "regional_ntl_folder = os.path.join(ntl_folder, \"Neighbours\")\n",
    "ntl_files = [\n",
    "    os.path.join(regional_ntl_folder, x) for x in os.listdir(regional_ntl_folder)\n",
    "]\n",
    "\n",
    "inM_ntl_res = inM.copy()\n",
    "for ntl_file in ntl_files:\n",
    "    year = ntl_file.split(\"_\")[-2]\n",
    "    tPrint(year)\n",
    "    res = rMisc.zonalStats(inM, ntl_file, minVal=0.1)\n",
    "    res = pd.DataFrame(res, columns=[\"SUM\", \"MIN\", \"MAX\", \"MEAN\"])\n",
    "    inM_ntl_res[f\"NTL_{year}\"] = res[\"SUM\"]\n",
    "pd.DataFrame(inM_ntl_res.drop([\"geometry\"], axis=1)).to_csv(\n",
    "    os.path.join(zonal_res_folder, \"NTL_Zonal_res.csv\")\n",
    ")"
   ]
  },
  {
   "cell_type": "code",
   "execution_count": null,
   "id": "0bc5cc95",
   "metadata": {},
   "outputs": [],
   "source": [
    "# Population summary\n",
    "inM_pop_res = inM.copy()\n",
    "\n",
    "pop_res = rMisc.zonalStats(inM, high_res_pop, minVal=0, reProj=True)\n",
    "pop_res = pd.DataFrame(pop_res, columns=[\"SUM\", \"MIN\", \"MAX\", \"MEAN\"])\n",
    "inM_pop_res[\"POP\"] = pop_res[\"SUM\"]\n",
    "\n",
    "pd.DataFrame(inM_pop_res.drop([\"geometry\"], axis=1)).to_csv(\n",
    "    os.path.join(zonal_res_folder, \"Pop_res.csv\")\n",
    ")"
   ]
  },
  {
   "cell_type": "code",
   "execution_count": null,
   "id": "b9aea8cc",
   "metadata": {},
   "outputs": [],
   "source": [
    "# GHSL _summary\n",
    "ghsl_res = rMisc.zonalStats(\n",
    "    inM, local_ghsl_file, rastType=\"C\", unqVals=list(range(1975, 2031, 5)), reProj=True\n",
    ")\n",
    "ghsl_res = pd.DataFrame(\n",
    "    ghsl_res, columns=[f\"c_{x}\" for x in list(range(1975, 2031, 5))]\n",
    ")\n",
    "ghsl_res = ghsl_res.cumsum(axis=1)\n",
    "ghsl_area = ghsl_res.copy()\n",
    "# GHSL conversion to area (km2)\n",
    "for col in ghsl_area.columns:\n",
    "    ghsl_area[col] = ghsl_area[col] * (100 * 100) / 1000000\n",
    "ghsl_area[\"AREA_KM\"] = inM[\"ALBERS_ARE\"]\n",
    "ghsl_area[\"per_built_2020\"] = ghsl_area.apply(\n",
    "    lambda x: x[\"c_2020\"] / x[\"AREA_KM\"], axis=1\n",
    ")\n",
    "ghsl_area[muni_id] = inM[muni_id]\n",
    "ghsl_area.to_csv(os.path.join(zonal_res_folder, \"Muni_GHSL_res.csv\"))"
   ]
  },
  {
   "cell_type": "code",
   "execution_count": 26,
   "id": "0973fdaa",
   "metadata": {},
   "outputs": [],
   "source": [
    "# Calculate travel time\n",
    "popR = rasterio.open(urban_raster_pop)\n",
    "ttr = rasterio.open(local_friction_file)\n",
    "frictionD = ttr.read()[0, :, :] * 1000\n",
    "mcp = graph.MCP_Geometric(frictionD)"
   ]
  },
  {
   "cell_type": "code",
   "execution_count": null,
   "id": "cc610caf",
   "metadata": {},
   "outputs": [],
   "source": [
    "# Calculate travel time to largest city within province\n",
    "in_cities = gpd.read_file(major_urban_extents)\n",
    "zaf_adm1 = dataMisc.get_geoboundaries(\"ZAF\", \"ADM1\")\n",
    "in_cities[\"geometry\"] = in_cities[\"geometry\"].apply(lambda x: x.centroid)\n",
    "in_cities = in_cities.loc[:, [\"ID_HDC_G0\", \"CTR_MN_NM\", \"UC_NM_MN\", \"P15\", \"geometry\"]]\n",
    "zaf_adm1 = gpd.read_file(admin1_file)\n",
    "in_cities = gpd.sjoin(in_cities, zaf_adm1)"
   ]
  },
  {
   "cell_type": "code",
   "execution_count": 25,
   "id": "afbed7f8",
   "metadata": {
    "scrolled": true
   },
   "outputs": [],
   "source": [
    "##### Ports and airports\n",
    "ports = gpd.read_file(local_ports)\n",
    "zaf_ports = ports.loc[ports[\"COUNTRY\"] == \"ZA\"]\n",
    "foreign_ports = ports.loc[ports[\"COUNTRY\"] != \"ZA\"]\n",
    "maputo_port = foreign_ports.loc[foreign_ports[\"PORT_NAME\"] == \"MAPUTO\"]\n",
    "\n",
    "airports = gpd.read_file(local_airports)\n",
    "zaf_airports = airports.loc[airports[\"soc\"] == \"ZAF\"]\n",
    "foreign_airports = airports.loc[airports[\"soc\"] != \"ZAF\"]"
   ]
  },
  {
   "cell_type": "code",
   "execution_count": null,
   "id": "1cfa99c8",
   "metadata": {
    "scrolled": true
   },
   "outputs": [],
   "source": [
    "# Largest 5 cities\n",
    "largest_5_cities = in_cities.sort_values(\"P15\", ascending=False)[:5]\n",
    "\n",
    "\n",
    "# Largest city in each province\n",
    "def get_largest(x):\n",
    "    return x.sort_values(\"P15\", ascending=False).iloc[0]\n",
    "\n",
    "\n",
    "provincial_largest = in_cities.groupby(\"shapeName\").apply(get_largest)\n",
    "provincial_largest.crs = in_cities.crs\n",
    "# Read in KML of provincial capitals\n",
    "gpd.io.file.fiona.drvsupport.supported_drivers[\"LIBKML\"] = \"rw\"\n",
    "prov_capitals = gpd.read_file(zaf_capitals).loc[:, [\"Name\", \"geometry\"]]"
   ]
  },
  {
   "cell_type": "code",
   "execution_count": 44,
   "id": "c38664ec",
   "metadata": {},
   "outputs": [],
   "source": [
    "# Plants and mines\n",
    "plants = gpd.read_file(plants_file)\n",
    "mines = gpd.read_file(mines_file)\n",
    "mines = mines.loc[mines[\"Commodity\"] != \"coal\"]\n",
    "mines = mines.loc[~mines.geometry.isna()]"
   ]
  },
  {
   "cell_type": "code",
   "execution_count": 46,
   "id": "b067e728",
   "metadata": {
    "scrolled": true
   },
   "outputs": [
    {
     "name": "stdout",
     "output_type": "stream",
     "text": [
      "13:12:46\t/home/wb411133/projects/URB_SURDR_ZAF/ZONAL_RES/tt_zaf_ports_tt.csv\n"
     ]
    },
    {
     "name": "stderr",
     "output_type": "stream",
     "text": [
      "/home/wb411133/Code/GOSTNets_Raster/src/GOSTNetsRaster/market_access.py:539: RuntimeWarning: invalid value encountered in multiply\n",
      "  tt_pop = ttD * popD\n"
     ]
    },
    {
     "name": "stdout",
     "output_type": "stream",
     "text": [
      "13:15:26\t/home/wb411133/projects/URB_SURDR_ZAF/ZONAL_RES/tt_foreign_ports_tt.csv\n"
     ]
    },
    {
     "name": "stderr",
     "output_type": "stream",
     "text": [
      "/home/wb411133/Code/GOSTNets_Raster/src/GOSTNetsRaster/market_access.py:539: RuntimeWarning: invalid value encountered in multiply\n",
      "  tt_pop = ttD * popD\n"
     ]
    },
    {
     "name": "stdout",
     "output_type": "stream",
     "text": [
      "13:18:05\t/home/wb411133/projects/URB_SURDR_ZAF/ZONAL_RES/tt_maputo_ports_tt.csv\n"
     ]
    },
    {
     "name": "stderr",
     "output_type": "stream",
     "text": [
      "/home/wb411133/Code/GOSTNets_Raster/src/GOSTNetsRaster/market_access.py:539: RuntimeWarning: invalid value encountered in multiply\n",
      "  tt_pop = ttD * popD\n"
     ]
    },
    {
     "name": "stdout",
     "output_type": "stream",
     "text": [
      "13:20:44\t/home/wb411133/projects/URB_SURDR_ZAF/ZONAL_RES/tt_zaf_airports_tt.csv\n"
     ]
    },
    {
     "name": "stderr",
     "output_type": "stream",
     "text": [
      "/home/wb411133/Code/GOSTNets_Raster/src/GOSTNetsRaster/market_access.py:539: RuntimeWarning: invalid value encountered in multiply\n",
      "  tt_pop = ttD * popD\n"
     ]
    },
    {
     "name": "stdout",
     "output_type": "stream",
     "text": [
      "13:23:24\t/home/wb411133/projects/URB_SURDR_ZAF/ZONAL_RES/tt_mines_noncoal_tt.csv\n"
     ]
    },
    {
     "name": "stderr",
     "output_type": "stream",
     "text": [
      "/home/wb411133/Code/GOSTNets_Raster/src/GOSTNetsRaster/market_access.py:539: RuntimeWarning: invalid value encountered in multiply\n",
      "  tt_pop = ttD * popD\n"
     ]
    },
    {
     "name": "stdout",
     "output_type": "stream",
     "text": [
      "13:26:03\t/home/wb411133/projects/URB_SURDR_ZAF/ZONAL_RES/tt_plants_tt.csv\n"
     ]
    },
    {
     "name": "stderr",
     "output_type": "stream",
     "text": [
      "/home/wb411133/Code/GOSTNets_Raster/src/GOSTNetsRaster/market_access.py:539: RuntimeWarning: invalid value encountered in multiply\n",
      "  tt_pop = ttD * popD\n"
     ]
    }
   ],
   "source": [
    "# Calculate travel time\n",
    "popR = rasterio.open(urban_raster_pop)\n",
    "ttr = rasterio.open(local_friction_file)\n",
    "frictionD = ttr.read()[0, :, :] * 1000\n",
    "mcp = graph.MCP_Geometric(frictionD)\n",
    "\n",
    "inN, profile = rMisc.standardizeInputRasters(popR, ttr, resampling_type=\"sum\")\n",
    "with rMisc.create_rasterio_inmemory(profile, inN) as pop_temp:\n",
    "    for dest in [\n",
    "        # [gpd.read_file(protected_areas), 'tt_protected_areas'],\n",
    "        # [gpd.read_file(tourist_locations), 'tt_kruger'],\n",
    "        # [gpd.read_file(major_urban_extents), 'tt_cities'],\n",
    "        # [largest_5_cities, 'tt_largest_5_cities'],\n",
    "        # [provincial_largest, 'tt_prov_largest'],\n",
    "        # [prov_capitals, 'tt_prov_capital'],\n",
    "        [zaf_ports, \"tt_zaf_ports\"],\n",
    "        [foreign_ports, \"tt_foreign_ports\"],\n",
    "        [maputo_port, \"tt_maputo_ports\"],\n",
    "        [zaf_airports, \"tt_zaf_airports\"],\n",
    "        [mines, \"tt_mines_noncoal\"],\n",
    "        [plants, \"tt_plants\"],\n",
    "        # [foreign_airports, 'tt_foreign_airports']\n",
    "    ]:\n",
    "        out_file = os.path.join(zonal_res_folder, f\"{dest[1]}_tt.csv\")\n",
    "        tPrint(out_file)\n",
    "        if not os.path.exists(out_file):\n",
    "            dests = dest[0]\n",
    "            if not dests.geom_type.iloc[0] == \"Point\":\n",
    "                dests[\"geometry\"] = dests[\"geometry\"].apply(lambda x: x.centroid)\n",
    "            suffix = os.path.basename(out_file[:-4])\n",
    "            res = ma.summarize_travel_time_populations(\n",
    "                pop_temp, ttr, dests, mcp, inM, col_suffix=suffix, calc_small=True\n",
    "            )\n",
    "            pd.DataFrame(res.drop([\"geometry\"], axis=1)).to_csv(out_file)"
   ]
  },
  {
   "cell_type": "markdown",
   "id": "2aff3729",
   "metadata": {},
   "source": [
    "# Combine results"
   ]
  },
  {
   "cell_type": "code",
   "execution_count": 47,
   "id": "747803c4",
   "metadata": {},
   "outputs": [],
   "source": [
    "baseD = gpd.read_file(municipalities)\n",
    "baseD.index = baseD[muni_id].astype(\"int64\")"
   ]
  },
  {
   "cell_type": "code",
   "execution_count": 48,
   "id": "0e9befe3",
   "metadata": {},
   "outputs": [],
   "source": [
    "def join_data(in_file_name, baseD):\n",
    "    ntl_data = pd.read_csv(in_file_name, index_col=0)\n",
    "    ntl_data.index = ntl_data[muni_id].astype(\"int64\")\n",
    "    cols_to_use = ntl_data.columns.difference(baseD.drop(\"geometry\", axis=1).columns)\n",
    "    ntl_data = ntl_data[cols_to_use]\n",
    "    baseD = pd.merge(baseD, ntl_data, left_index=True, right_index=True)\n",
    "    return baseD"
   ]
  },
  {
   "cell_type": "code",
   "execution_count": 49,
   "id": "e19f4112",
   "metadata": {
    "scrolled": true
   },
   "outputs": [
    {
     "name": "stdout",
     "output_type": "stream",
     "text": [
      "tt_zaf_ports_tt.csv\n",
      "tt_foreign_ports_tt.csv\n",
      "tt_maputo_ports_tt.csv\n",
      "tt_zaf_airports_tt.csv\n",
      "tt_mines_noncoal_tt.csv\n",
      "tt_plants_tt.csv\n"
     ]
    }
   ],
   "source": [
    "for in_file in os.listdir(zonal_res_folder):\n",
    "    if in_file.endswith(\".csv\"):\n",
    "        print(in_file)\n",
    "        baseD = join_data(os.path.join(zonal_res_folder, in_file), baseD)"
   ]
  },
  {
   "cell_type": "code",
   "execution_count": null,
   "id": "a49a3105",
   "metadata": {},
   "outputs": [],
   "source": [
    "baseD.drop(\"MP_CODE_st\", axis=1).reset_index().to_file(\n",
    "    os.path.join(zonal_res_folder, \"named_places_zonal.geojson\"), driver=\"GeoJSON\"\n",
    ")"
   ]
  },
  {
   "cell_type": "code",
   "execution_count": 50,
   "id": "6c9140cd",
   "metadata": {},
   "outputs": [],
   "source": [
    "pd.DataFrame(baseD.drop([\"geometry\"], axis=1)).to_csv(\n",
    "    os.path.join(zonal_res_folder, \"named_places_zonal.csv\")\n",
    ")"
   ]
  },
  {
   "cell_type": "markdown",
   "id": "eb8eaf7c",
   "metadata": {},
   "source": [
    "# Calculate gravity of all MPs in Mpumalanga to major cities"
   ]
  },
  {
   "cell_type": "code",
   "execution_count": null,
   "id": "8fc0426a",
   "metadata": {},
   "outputs": [],
   "source": [
    "out_varun_folder = os.path.join(in_folder, \"SP_VARUN\", \"RESULTS\")"
   ]
  },
  {
   "cell_type": "code",
   "execution_count": null,
   "id": "a7c97b92",
   "metadata": {},
   "outputs": [],
   "source": [
    "### Read in origins\n",
    "sp_varun_file = os.path.join(in_folder, \"SP_VARUN\", \"SP_SA_2011.shp\")\n",
    "in_sp = gpd.read_file(sp_varun_file)\n",
    "in_sp.crs = 4326\n",
    "in_sp[\"geometry\"] = in_sp[\"geometry\"].apply(lambda x: x.centroid)\n",
    "# inM = gpd.read_file(municipalities)\n",
    "# selM = inM.loc[inM['PR_NAME'] == 'Mpumalanga'].copy()\n",
    "# selM['geometry'] = selM['geometry'].apply(lambda x: x.centroid)"
   ]
  },
  {
   "cell_type": "code",
   "execution_count": null,
   "id": "24e7c092",
   "metadata": {
    "scrolled": true
   },
   "outputs": [],
   "source": [
    "### Read in destinations\n",
    "in_cities = gpd.read_file(major_urban_extents)\n",
    "largest_5_cities = in_cities.sort_values(\"P15\", ascending=False)[:5]\n",
    "largest_5_cities[\"geometry\"] = largest_5_cities[\"geometry\"].apply(lambda x: x.centroid)\n",
    "largest_5_cities"
   ]
  },
  {
   "cell_type": "code",
   "execution_count": null,
   "id": "2a52bdd2",
   "metadata": {},
   "outputs": [],
   "source": [
    "# Calculate travel time\n",
    "popR = rasterio.open(urban_raster_pop)\n",
    "ttr = rasterio.open(local_friction_file)\n",
    "frictionD = ttr.read()[0, :, :] * 1000\n",
    "mcp = graph.MCP_Geometric(frictionD)"
   ]
  },
  {
   "cell_type": "code",
   "execution_count": null,
   "id": "5bdb3e4f",
   "metadata": {},
   "outputs": [],
   "source": []
  },
  {
   "cell_type": "code",
   "execution_count": null,
   "id": "8ffc696e",
   "metadata": {},
   "outputs": [],
   "source": [
    "sel_sp"
   ]
  },
  {
   "cell_type": "code",
   "execution_count": null,
   "id": "7dbe0ef8",
   "metadata": {
    "scrolled": true
   },
   "outputs": [],
   "source": [
    "importlib.reload(ma)\n",
    "# Calculate for Gauteng\n",
    "sel_sp = in_sp.loc[in_sp[\"PR_NAME\"] == \"Gauteng\"].copy()\n",
    "od = ma.calculate_od_matrix(ttr, mcp, sel_sp, sel_sp)\n",
    "xx = pd.DataFrame(od)\n",
    "xx.columns = sel_sp.SP_CODE_st\n",
    "xx.index = sel_sp.SP_CODE_st\n",
    "xx.to_csv(os.path.join(out_varun_folder, \"Gauteng_OD.csv\"))"
   ]
  },
  {
   "cell_type": "code",
   "execution_count": null,
   "id": "ea125d01",
   "metadata": {
    "scrolled": true
   },
   "outputs": [],
   "source": [
    "importlib.reload(ma)\n",
    "# Calculate for City of Cape Town\n",
    "sel_sp = in_sp.loc[in_sp[\"DC_NAME\"] == \"City of Cape Town\"].copy()\n",
    "od = ma.calculate_od_matrix(ttr, mcp, sel_sp, sel_sp)\n",
    "xx = pd.DataFrame(od)\n",
    "xx.columns = sel_sp.SP_CODE_st\n",
    "xx.index = sel_sp.SP_CODE_st\n",
    "xx.to_csv(os.path.join(out_varun_folder, \"Cape_Town_OD.csv\"))"
   ]
  },
  {
   "cell_type": "code",
   "execution_count": null,
   "id": "a6a008b9",
   "metadata": {
    "scrolled": true
   },
   "outputs": [],
   "source": [
    "importlib.reload(ma)\n",
    "# Calculate for City of eTh\n",
    "sel_sp = in_sp.loc[in_sp[\"DC_NAME\"] == \"eThekwini\"].copy()\n",
    "od = ma.calculate_od_matrix(ttr, mcp, sel_sp, sel_sp)\n",
    "xx = pd.DataFrame(od)\n",
    "xx.columns = sel_sp.SP_CODE_st\n",
    "xx.index = sel_sp.SP_CODE_st\n",
    "xx.to_csv(os.path.join(out_varun_folder, \"eThekwini_OD.csv\"))"
   ]
  },
  {
   "cell_type": "code",
   "execution_count": null,
   "id": "8b4d39ac",
   "metadata": {},
   "outputs": [],
   "source": [
    "importlib.reload(ma)\n",
    "# Calculate for City of eTh\n",
    "sel_sp = in_sp.loc[in_sp[\"DC_NAME\"] == \"Nelson Mandela Bay\"].copy()\n",
    "od = ma.calculate_od_matrix(ttr, mcp, sel_sp, sel_sp)\n",
    "xx = pd.DataFrame(od)\n",
    "xx.columns = sel_sp.SP_CODE_st\n",
    "xx.index = sel_sp.SP_CODE_st\n",
    "xx.to_csv(os.path.join(out_varun_folder, \"Nelson_Mandela_Bay_OD.csv\"))"
   ]
  },
  {
   "cell_type": "code",
   "execution_count": null,
   "id": "c95e435d",
   "metadata": {},
   "outputs": [],
   "source": [
    "importlib.reload(ma)\n",
    "# Calculate for City of eTh\n",
    "sel_sp = in_sp.loc[in_sp[\"DC_NAME\"] == \"Buffalo City\"].copy()\n",
    "od = ma.calculate_od_matrix(ttr, mcp, sel_sp, sel_sp)\n",
    "xx = pd.DataFrame(od)\n",
    "xx.columns = sel_sp.SP_CODE_st\n",
    "xx.index = sel_sp.SP_CODE_st\n",
    "xx.to_csv(os.path.join(out_varun_folder, \"Buffalo_City_OD.csv\"))"
   ]
  },
  {
   "cell_type": "markdown",
   "id": "6ed65fcb",
   "metadata": {},
   "source": [
    "# Debugging"
   ]
  },
  {
   "cell_type": "code",
   "execution_count": 7,
   "id": "faa69d61",
   "metadata": {},
   "outputs": [],
   "source": [
    "# Running travel time summaries with small issue flag\n",
    "# Calculate travel time\n",
    "popR = rasterio.open(urban_raster_pop)\n",
    "ttr = rasterio.open(local_friction_file)\n",
    "frictionD = ttr.read()[0, :, :] * 1000\n",
    "mcp = graph.MCP_Geometric(frictionD)\n",
    "\n",
    "inN, profile = rMisc.standardizeInputRasters(popR, ttr, resampling_type=\"sum\")"
   ]
  },
  {
   "cell_type": "code",
   "execution_count": 11,
   "id": "932d8f5f",
   "metadata": {},
   "outputs": [
    {
     "name": "stderr",
     "output_type": "stream",
     "text": [
      "/home/wb411133/Code/GOSTNets_Raster/src/GOSTNetsRaster/market_access.py:539: RuntimeWarning: invalid value encountered in multiply\n",
      "  tt_pop = ttD * popD\n"
     ]
    }
   ],
   "source": [
    "with rMisc.create_rasterio_inmemory(profile, inN) as pop_temp:\n",
    "    res = ma.summarize_travel_time_populations(\n",
    "        pop_temp, ttr, zaf_airports, mcp, inM, calc_small=True\n",
    "    )"
   ]
  },
  {
   "cell_type": "code",
   "execution_count": 12,
   "id": "bff375f3",
   "metadata": {},
   "outputs": [
    {
     "data": {
      "text/html": [
       "<div>\n",
       "<style scoped>\n",
       "    .dataframe tbody tr th:only-of-type {\n",
       "        vertical-align: middle;\n",
       "    }\n",
       "\n",
       "    .dataframe tbody tr th {\n",
       "        vertical-align: top;\n",
       "    }\n",
       "\n",
       "    .dataframe thead th {\n",
       "        text-align: right;\n",
       "    }\n",
       "</style>\n",
       "<table border=\"1\" class=\"dataframe\">\n",
       "  <thead>\n",
       "    <tr style=\"text-align: right;\">\n",
       "      <th></th>\n",
       "      <th>MP_CODE</th>\n",
       "      <th>MP_CODE_st</th>\n",
       "      <th>MP_NAME</th>\n",
       "      <th>MN_MDB_C</th>\n",
       "      <th>MN_CODE</th>\n",
       "      <th>MN_CODE_st</th>\n",
       "      <th>MN_NAME</th>\n",
       "      <th>DC_MDB_C</th>\n",
       "      <th>DC_MN_C</th>\n",
       "      <th>DC_MN_C_st</th>\n",
       "      <th>...</th>\n",
       "      <th>Shape_Leng</th>\n",
       "      <th>Shape_Area</th>\n",
       "      <th>geometry</th>\n",
       "      <th>total_pop</th>\n",
       "      <th>pop_30</th>\n",
       "      <th>pop_60</th>\n",
       "      <th>pop_120</th>\n",
       "      <th>pop_180</th>\n",
       "      <th>pop_240</th>\n",
       "      <th>tt_pop_w_</th>\n",
       "    </tr>\n",
       "  </thead>\n",
       "  <tbody>\n",
       "    <tr>\n",
       "      <th>41</th>\n",
       "      <td>163009.0</td>\n",
       "      <td>163009</td>\n",
       "      <td>Marcus Island</td>\n",
       "      <td>WC014</td>\n",
       "      <td>163.0</td>\n",
       "      <td>163</td>\n",
       "      <td>Saldanha Bay</td>\n",
       "      <td>DC1</td>\n",
       "      <td>101.0</td>\n",
       "      <td>101</td>\n",
       "      <td>...</td>\n",
       "      <td>0.028065</td>\n",
       "      <td>0.000017</td>\n",
       "      <td>POLYGON ((17.96996 -33.04141, 17.97002 -33.041...</td>\n",
       "      <td>0.0</td>\n",
       "      <td>0.0</td>\n",
       "      <td>0.0</td>\n",
       "      <td>0.0</td>\n",
       "      <td>0.0</td>\n",
       "      <td>0.0</td>\n",
       "      <td>0.0</td>\n",
       "    </tr>\n",
       "    <tr>\n",
       "      <th>43</th>\n",
       "      <td>163011.0</td>\n",
       "      <td>163011</td>\n",
       "      <td>Malgaseiland</td>\n",
       "      <td>WC014</td>\n",
       "      <td>163.0</td>\n",
       "      <td>163</td>\n",
       "      <td>Saldanha Bay</td>\n",
       "      <td>DC1</td>\n",
       "      <td>101.0</td>\n",
       "      <td>101</td>\n",
       "      <td>...</td>\n",
       "      <td>0.027367</td>\n",
       "      <td>0.000020</td>\n",
       "      <td>POLYGON ((17.92525 -33.05061, 17.92527 -33.050...</td>\n",
       "      <td>0.0</td>\n",
       "      <td>0.0</td>\n",
       "      <td>0.0</td>\n",
       "      <td>0.0</td>\n",
       "      <td>0.0</td>\n",
       "      <td>0.0</td>\n",
       "      <td>0.0</td>\n",
       "    </tr>\n",
       "    <tr>\n",
       "      <th>45</th>\n",
       "      <td>163013.0</td>\n",
       "      <td>163013</td>\n",
       "      <td>Jutteneiland</td>\n",
       "      <td>WC014</td>\n",
       "      <td>163.0</td>\n",
       "      <td>163</td>\n",
       "      <td>Saldanha Bay</td>\n",
       "      <td>DC1</td>\n",
       "      <td>101.0</td>\n",
       "      <td>101</td>\n",
       "      <td>...</td>\n",
       "      <td>0.051615</td>\n",
       "      <td>0.000043</td>\n",
       "      <td>POLYGON ((17.95346 -33.08014, 17.95348 -33.080...</td>\n",
       "      <td>0.0</td>\n",
       "      <td>0.0</td>\n",
       "      <td>0.0</td>\n",
       "      <td>0.0</td>\n",
       "      <td>0.0</td>\n",
       "      <td>0.0</td>\n",
       "      <td>0.0</td>\n",
       "    </tr>\n",
       "    <tr>\n",
       "      <th>46</th>\n",
       "      <td>163014.0</td>\n",
       "      <td>163014</td>\n",
       "      <td>Meeueiland</td>\n",
       "      <td>WC014</td>\n",
       "      <td>163.0</td>\n",
       "      <td>163</td>\n",
       "      <td>Saldanha Bay</td>\n",
       "      <td>DC1</td>\n",
       "      <td>101.0</td>\n",
       "      <td>101</td>\n",
       "      <td>...</td>\n",
       "      <td>0.022670</td>\n",
       "      <td>0.000012</td>\n",
       "      <td>POLYGON ((18.00717 -33.08387, 18.00723 -33.083...</td>\n",
       "      <td>0.0</td>\n",
       "      <td>0.0</td>\n",
       "      <td>0.0</td>\n",
       "      <td>0.0</td>\n",
       "      <td>0.0</td>\n",
       "      <td>0.0</td>\n",
       "      <td>0.0</td>\n",
       "    </tr>\n",
       "    <tr>\n",
       "      <th>47</th>\n",
       "      <td>163015.0</td>\n",
       "      <td>163015</td>\n",
       "      <td>Skaapeliland</td>\n",
       "      <td>WC014</td>\n",
       "      <td>163.0</td>\n",
       "      <td>163</td>\n",
       "      <td>Saldanha Bay</td>\n",
       "      <td>DC1</td>\n",
       "      <td>101.0</td>\n",
       "      <td>101</td>\n",
       "      <td>...</td>\n",
       "      <td>0.043599</td>\n",
       "      <td>0.000039</td>\n",
       "      <td>POLYGON ((18.02114 -33.08799, 18.02121 -33.088...</td>\n",
       "      <td>0.0</td>\n",
       "      <td>0.0</td>\n",
       "      <td>0.0</td>\n",
       "      <td>0.0</td>\n",
       "      <td>0.0</td>\n",
       "      <td>0.0</td>\n",
       "      <td>0.0</td>\n",
       "    </tr>\n",
       "    <tr>\n",
       "      <th>...</th>\n",
       "      <td>...</td>\n",
       "      <td>...</td>\n",
       "      <td>...</td>\n",
       "      <td>...</td>\n",
       "      <td>...</td>\n",
       "      <td>...</td>\n",
       "      <td>...</td>\n",
       "      <td>...</td>\n",
       "      <td>...</td>\n",
       "      <td>...</td>\n",
       "      <td>...</td>\n",
       "      <td>...</td>\n",
       "      <td>...</td>\n",
       "      <td>...</td>\n",
       "      <td>...</td>\n",
       "      <td>...</td>\n",
       "      <td>...</td>\n",
       "      <td>...</td>\n",
       "      <td>...</td>\n",
       "      <td>...</td>\n",
       "      <td>...</td>\n",
       "    </tr>\n",
       "    <tr>\n",
       "      <th>12575</th>\n",
       "      <td>965056.0</td>\n",
       "      <td>965056</td>\n",
       "      <td>Tshamutore</td>\n",
       "      <td>LIM342</td>\n",
       "      <td>965.0</td>\n",
       "      <td>965</td>\n",
       "      <td>Mutale</td>\n",
       "      <td>DC34</td>\n",
       "      <td>934.0</td>\n",
       "      <td>934</td>\n",
       "      <td>...</td>\n",
       "      <td>0.027434</td>\n",
       "      <td>0.000018</td>\n",
       "      <td>MULTIPOLYGON (((30.64121 -22.63606, 30.64114 -...</td>\n",
       "      <td>0.0</td>\n",
       "      <td>0.0</td>\n",
       "      <td>0.0</td>\n",
       "      <td>0.0</td>\n",
       "      <td>0.0</td>\n",
       "      <td>0.0</td>\n",
       "      <td>0.0</td>\n",
       "    </tr>\n",
       "    <tr>\n",
       "      <th>12581</th>\n",
       "      <td>965062.0</td>\n",
       "      <td>965062</td>\n",
       "      <td>Lamvi</td>\n",
       "      <td>LIM342</td>\n",
       "      <td>965.0</td>\n",
       "      <td>965</td>\n",
       "      <td>Mutale</td>\n",
       "      <td>DC34</td>\n",
       "      <td>934.0</td>\n",
       "      <td>934</td>\n",
       "      <td>...</td>\n",
       "      <td>0.131442</td>\n",
       "      <td>0.000247</td>\n",
       "      <td>POLYGON ((30.78545 -22.63740, 30.78573 -22.637...</td>\n",
       "      <td>0.0</td>\n",
       "      <td>0.0</td>\n",
       "      <td>0.0</td>\n",
       "      <td>0.0</td>\n",
       "      <td>0.0</td>\n",
       "      <td>0.0</td>\n",
       "      <td>0.0</td>\n",
       "    </tr>\n",
       "    <tr>\n",
       "      <th>12911</th>\n",
       "      <td>969023.0</td>\n",
       "      <td>969023</td>\n",
       "      <td>Bahamanoa</td>\n",
       "      <td>LIM351</td>\n",
       "      <td>969.0</td>\n",
       "      <td>969</td>\n",
       "      <td>Blouberg</td>\n",
       "      <td>DC35</td>\n",
       "      <td>935.0</td>\n",
       "      <td>935</td>\n",
       "      <td>...</td>\n",
       "      <td>0.014728</td>\n",
       "      <td>0.000008</td>\n",
       "      <td>POLYGON ((28.90656 -22.91205, 28.90675 -22.912...</td>\n",
       "      <td>0.0</td>\n",
       "      <td>0.0</td>\n",
       "      <td>0.0</td>\n",
       "      <td>0.0</td>\n",
       "      <td>0.0</td>\n",
       "      <td>0.0</td>\n",
       "      <td>0.0</td>\n",
       "    </tr>\n",
       "    <tr>\n",
       "      <th>13622</th>\n",
       "      <td>984043.0</td>\n",
       "      <td>984043</td>\n",
       "      <td>Masoyeng</td>\n",
       "      <td>LIM472</td>\n",
       "      <td>984.0</td>\n",
       "      <td>984</td>\n",
       "      <td>Elias Motsoaledi</td>\n",
       "      <td>DC47</td>\n",
       "      <td>947.0</td>\n",
       "      <td>947</td>\n",
       "      <td>...</td>\n",
       "      <td>0.120465</td>\n",
       "      <td>0.000173</td>\n",
       "      <td>POLYGON ((29.69436 -25.14214, 29.69446 -25.142...</td>\n",
       "      <td>0.0</td>\n",
       "      <td>0.0</td>\n",
       "      <td>0.0</td>\n",
       "      <td>0.0</td>\n",
       "      <td>0.0</td>\n",
       "      <td>0.0</td>\n",
       "      <td>0.0</td>\n",
       "    </tr>\n",
       "    <tr>\n",
       "      <th>13859</th>\n",
       "      <td>986055.0</td>\n",
       "      <td>986055</td>\n",
       "      <td>Tau-nchabeleng</td>\n",
       "      <td>LIM474</td>\n",
       "      <td>986.0</td>\n",
       "      <td>986</td>\n",
       "      <td>Fetakgomo</td>\n",
       "      <td>DC47</td>\n",
       "      <td>947.0</td>\n",
       "      <td>947</td>\n",
       "      <td>...</td>\n",
       "      <td>0.034831</td>\n",
       "      <td>0.000050</td>\n",
       "      <td>POLYGON ((29.82516 -24.41341, 29.82523 -24.413...</td>\n",
       "      <td>0.0</td>\n",
       "      <td>0.0</td>\n",
       "      <td>0.0</td>\n",
       "      <td>0.0</td>\n",
       "      <td>0.0</td>\n",
       "      <td>0.0</td>\n",
       "      <td>0.0</td>\n",
       "    </tr>\n",
       "  </tbody>\n",
       "</table>\n",
       "<p>73 rows × 26 columns</p>\n",
       "</div>"
      ],
      "text/plain": [
       "        MP_CODE MP_CODE_st         MP_NAME MN_MDB_C  MN_CODE MN_CODE_st  \\\n",
       "41     163009.0     163009   Marcus Island    WC014    163.0        163   \n",
       "43     163011.0     163011    Malgaseiland    WC014    163.0        163   \n",
       "45     163013.0     163013    Jutteneiland    WC014    163.0        163   \n",
       "46     163014.0     163014      Meeueiland    WC014    163.0        163   \n",
       "47     163015.0     163015    Skaapeliland    WC014    163.0        163   \n",
       "...         ...        ...             ...      ...      ...        ...   \n",
       "12575  965056.0     965056      Tshamutore   LIM342    965.0        965   \n",
       "12581  965062.0     965062           Lamvi   LIM342    965.0        965   \n",
       "12911  969023.0     969023       Bahamanoa   LIM351    969.0        969   \n",
       "13622  984043.0     984043        Masoyeng   LIM472    984.0        984   \n",
       "13859  986055.0     986055  Tau-nchabeleng   LIM474    986.0        986   \n",
       "\n",
       "                MN_NAME DC_MDB_C  DC_MN_C DC_MN_C_st  ... Shape_Leng  \\\n",
       "41         Saldanha Bay      DC1    101.0        101  ...   0.028065   \n",
       "43         Saldanha Bay      DC1    101.0        101  ...   0.027367   \n",
       "45         Saldanha Bay      DC1    101.0        101  ...   0.051615   \n",
       "46         Saldanha Bay      DC1    101.0        101  ...   0.022670   \n",
       "47         Saldanha Bay      DC1    101.0        101  ...   0.043599   \n",
       "...                 ...      ...      ...        ...  ...        ...   \n",
       "12575            Mutale     DC34    934.0        934  ...   0.027434   \n",
       "12581            Mutale     DC34    934.0        934  ...   0.131442   \n",
       "12911          Blouberg     DC35    935.0        935  ...   0.014728   \n",
       "13622  Elias Motsoaledi     DC47    947.0        947  ...   0.120465   \n",
       "13859         Fetakgomo     DC47    947.0        947  ...   0.034831   \n",
       "\n",
       "      Shape_Area                                           geometry total_pop  \\\n",
       "41      0.000017  POLYGON ((17.96996 -33.04141, 17.97002 -33.041...       0.0   \n",
       "43      0.000020  POLYGON ((17.92525 -33.05061, 17.92527 -33.050...       0.0   \n",
       "45      0.000043  POLYGON ((17.95346 -33.08014, 17.95348 -33.080...       0.0   \n",
       "46      0.000012  POLYGON ((18.00717 -33.08387, 18.00723 -33.083...       0.0   \n",
       "47      0.000039  POLYGON ((18.02114 -33.08799, 18.02121 -33.088...       0.0   \n",
       "...          ...                                                ...       ...   \n",
       "12575   0.000018  MULTIPOLYGON (((30.64121 -22.63606, 30.64114 -...       0.0   \n",
       "12581   0.000247  POLYGON ((30.78545 -22.63740, 30.78573 -22.637...       0.0   \n",
       "12911   0.000008  POLYGON ((28.90656 -22.91205, 28.90675 -22.912...       0.0   \n",
       "13622   0.000173  POLYGON ((29.69436 -25.14214, 29.69446 -25.142...       0.0   \n",
       "13859   0.000050  POLYGON ((29.82516 -24.41341, 29.82523 -24.413...       0.0   \n",
       "\n",
       "      pop_30  pop_60  pop_120  pop_180 pop_240  tt_pop_w_  \n",
       "41       0.0     0.0      0.0      0.0     0.0        0.0  \n",
       "43       0.0     0.0      0.0      0.0     0.0        0.0  \n",
       "45       0.0     0.0      0.0      0.0     0.0        0.0  \n",
       "46       0.0     0.0      0.0      0.0     0.0        0.0  \n",
       "47       0.0     0.0      0.0      0.0     0.0        0.0  \n",
       "...      ...     ...      ...      ...     ...        ...  \n",
       "12575    0.0     0.0      0.0      0.0     0.0        0.0  \n",
       "12581    0.0     0.0      0.0      0.0     0.0        0.0  \n",
       "12911    0.0     0.0      0.0      0.0     0.0        0.0  \n",
       "13622    0.0     0.0      0.0      0.0     0.0        0.0  \n",
       "13859    0.0     0.0      0.0      0.0     0.0        0.0  \n",
       "\n",
       "[73 rows x 26 columns]"
      ]
     },
     "execution_count": 12,
     "metadata": {},
     "output_type": "execute_result"
    }
   ],
   "source": [
    "res.loc[res[\"total_pop\"] == 0.0]"
   ]
  },
  {
   "cell_type": "code",
   "execution_count": null,
   "id": "9ea00aaa",
   "metadata": {},
   "outputs": [],
   "source": []
  },
  {
   "cell_type": "code",
   "execution_count": null,
   "id": "d03a91e8",
   "metadata": {},
   "outputs": [],
   "source": [
    "# Investigating 1s in traveltime results\n",
    "tt_file = os.path.join(zonal_res_folder, \"tt_cities_tt.csv\")\n",
    "inT = pd.read_csv(tt_file, index_col=0)\n",
    "inT.head()"
   ]
  },
  {
   "cell_type": "code",
   "execution_count": null,
   "id": "3f02942c",
   "metadata": {},
   "outputs": [],
   "source": [
    "badT = inT.loc[inT[\"tt_pop_w_tt_cities_tt\"] == 1.0]\n",
    "badT"
   ]
  },
  {
   "cell_type": "code",
   "execution_count": null,
   "id": "890024ac",
   "metadata": {},
   "outputs": [],
   "source": [
    "inM_proj = inM.to_crs(proj_epsg)\n",
    "inM_proj[\"area_km2\"] = inM_proj[\"geometry\"].apply(lambda x: x.area / 1000000)"
   ]
  },
  {
   "cell_type": "code",
   "execution_count": null,
   "id": "fca21314",
   "metadata": {},
   "outputs": [],
   "source": [
    "inM_proj.loc[badT.index].sort_values([\"area_km2\"])"
   ]
  },
  {
   "cell_type": "code",
   "execution_count": null,
   "id": "f5e6573a",
   "metadata": {},
   "outputs": [],
   "source": [
    "rMisc.zonalStats?"
   ]
  },
  {
   "cell_type": "code",
   "execution_count": null,
   "id": "c2b20c5d",
   "metadata": {},
   "outputs": [],
   "source": []
  }
 ],
 "metadata": {
  "kernelspec": {
   "display_name": "Earth Engine",
   "language": "python",
   "name": "ee"
  },
  "language_info": {
   "codemirror_mode": {
    "name": "ipython",
    "version": 3
   },
   "file_extension": ".py",
   "mimetype": "text/x-python",
   "name": "python",
   "nbconvert_exporter": "python",
   "pygments_lexer": "ipython3",
   "version": "3.9.4"
  }
 },
 "nbformat": 4,
 "nbformat_minor": 5
}
