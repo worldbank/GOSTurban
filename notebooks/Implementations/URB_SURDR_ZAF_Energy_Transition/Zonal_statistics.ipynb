{
 "cells": [
  {
   "cell_type": "markdown",
   "id": "c39b4ad3",
   "metadata": {},
   "source": [
    "# Mpumalanga spatial analysis\n",
    "\n",
    "1. Calculate zonal statistics on the South African Municipalities  \n",
    "   - Nighttime lights intensity  \n",
    "   - Gridded population count  \n",
    "   - Urbanization (TBD)  \n",
    "   - Built-up  \n",
    "   - Travel-time  \n",
    "     - re-calculate TT to tourist destinations  \n",
    "   - Gravity-metrics (TBD)  \n",
    "   \n",
    "2023-11-28 Updated work \n",
    "- re-run population numbers with higher resolution data on population \n",
    "- Re-run travel times; for all the below, include straight-line calculations  \n",
    "  - Travel time to largest city/capital city **in their own province**\n",
    "  - Nearest national port and airport\n",
    "  - Nearest non-national port and airport\n",
    "  \n",
    "\n"
   ]
  },
  {
   "cell_type": "code",
   "execution_count": null,
   "id": "58679d41",
   "metadata": {},
   "outputs": [],
   "source": [
    "import sys\n",
    "import os\n",
    "import importlib\n",
    "import rasterio\n",
    "\n",
    "import pandas as pd\n",
    "import geopandas as gpd\n",
    "import skimage.graph as graph\n",
    "\n",
    "\n",
    "sys.path.insert(0, \"/home/wb411133/Code/gostrocks/src\")\n",
    "\n",
    "import GOSTRocks.dataMisc as dataMisc\n",
    "import GOSTRocks.rasterMisc as rMisc\n",
    "from GOSTRocks.misc import tPrint\n",
    "\n",
    "sys.path.insert(0, \"/home/wb411133/Code/GOSTNets_Raster/src\")\n",
    "import GOSTNetsRaster.market_access as ma\n",
    "\n",
    "%load_ext autoreload\n",
    "%autoreload 2"
   ]
  },
  {
   "cell_type": "code",
   "execution_count": null,
   "id": "cc27ef0a",
   "metadata": {},
   "outputs": [],
   "source": [
    "# Define input variables\n",
    "in_folder = \"/home/wb411133/projects/URB_SURDR_ZAF\"\n",
    "ntl_folder = os.path.join(in_folder, \"NTL_data\")\n",
    "ghsl_folder = os.path.join(in_folder, \"GHSL_data\")\n",
    "urban_folder = os.path.join(in_folder, \"URBAN\")\n",
    "ma_folder = os.path.join(in_folder, \"market_access\")\n",
    "infra_folder = os.path.join(in_folder, \"Infra\")\n",
    "zaf_folder = os.path.join(in_folder, \"MiningCommunities\")\n",
    "zonal_res_folder = os.path.join(in_folder, \"ZONAL_RES\")\n",
    "protected_areas_folder = os.path.join(in_folder, \"Protected_Areas\")\n",
    "reference_folder = os.path.join(in_folder, \"Reference\")\n",
    "for f in [\n",
    "    in_folder,\n",
    "    ntl_folder,\n",
    "    ghsl_folder,\n",
    "    ma_folder,\n",
    "    infra_folder,\n",
    "    zonal_res_folder,\n",
    "    protected_areas_folder,\n",
    "]:\n",
    "    if not os.path.exists(f):\n",
    "        os.makedirs(f)\n",
    "\n",
    "# Define local variables\n",
    "admin0_file = os.path.join(in_folder, \"ZAF_select_adm0.shp\")\n",
    "admin1_file = os.path.join(in_folder, \"admin1_geoBounds.shp\")\n",
    "admin3_file = os.path.join(in_folder, \"ADMIN\", \"admin3_geoBounds_FINAL.shp\")\n",
    "ghsl_thresh = 0.1\n",
    "local_ghsl_file = os.path.join(in_folder, f\"ghsl_combined_{int(ghsl_thresh*100)}.tif\")\n",
    "high_res_pop = (\n",
    "    \"/home/public/Data/GLOBAL/Population/RF_SSA_2015-2020/ZAF/ppp_ZAF_const_2020.tif\"\n",
    ")\n",
    "urban_raster = os.path.join(urban_folder, \"zaf_cpo20_urban.tif\")\n",
    "urban_raster_pop = os.path.join(urban_folder, \"zaf_cpo20.tif\")\n",
    "urban_extents_file = os.path.join(urban_folder, \"cpo20_urban_extents.shp\")\n",
    "local_ghs_smod_file = os.path.join(in_folder, \"GHS_SMOD_2020.tif\")\n",
    "major_urban_extents = os.path.join(in_folder, \"major_cities_UCDB2019.shp\")\n",
    "zaf_capitals = os.path.join(in_folder, \"ZAF_provincial_capitals.kml\")\n",
    "local_friction_file = os.path.join(ma_folder, \"friction_2020.tif\")\n",
    "local_airports = os.path.join(reference_folder, \"Major_Airports.shp\")\n",
    "local_ports = os.path.join(reference_folder, \"Ports.shp\")\n",
    "tourist_locations = os.path.join(infra_folder, \"Kruger_EntryGates.shp\")\n",
    "protected_areas = os.path.join(protected_areas_folder, \"SAPAD_IR_2023_Q2_01.shp\")\n",
    "mines_file = os.path.join(reference_folder, \"SAMines\", \"AllMinesFeb2024.shp\")\n",
    "plants_file = os.path.join(reference_folder, \"SAPlants\", \"processing-plants.shp\")\n",
    "\n",
    "municipalities = os.path.join(zaf_folder, \"MainPlaces\", \"MP_SA_2011.shp\")\n",
    "muni_id = \"MP_CODE_st\"\n",
    "\n",
    "proj_epsg = 22293  # https://epsg.io/22293"
   ]
  },
  {
   "cell_type": "code",
   "execution_count": null,
   "id": "8ceaa32b",
   "metadata": {},
   "outputs": [],
   "source": [
    "municipalities = os.path.join(zaf_folder, \"MainPlaces\", \"MP_SA_2011.shp\")\n",
    "inM = gpd.read_file(municipalities)"
   ]
  },
  {
   "cell_type": "code",
   "execution_count": null,
   "id": "0d1a596b",
   "metadata": {},
   "outputs": [],
   "source": [
    "# Zonal stats on nighttime lights\n",
    "regional_ntl_folder = os.path.join(ntl_folder, \"Neighbours\")\n",
    "ntl_files = [\n",
    "    os.path.join(regional_ntl_folder, x) for x in os.listdir(regional_ntl_folder)\n",
    "]\n",
    "\n",
    "inM_ntl_res = inM.copy()\n",
    "for ntl_file in ntl_files:\n",
    "    year = ntl_file.split(\"_\")[-2]\n",
    "    tPrint(year)\n",
    "    res = rMisc.zonalStats(inM, ntl_file, minVal=0.1)\n",
    "    res = pd.DataFrame(res, columns=[\"SUM\", \"MIN\", \"MAX\", \"MEAN\"])\n",
    "    inM_ntl_res[f\"NTL_{year}\"] = res[\"SUM\"]\n",
    "pd.DataFrame(inM_ntl_res.drop([\"geometry\"], axis=1)).to_csv(\n",
    "    os.path.join(zonal_res_folder, \"NTL_Zonal_res.csv\")\n",
    ")"
   ]
  },
  {
   "cell_type": "code",
   "execution_count": null,
   "id": "0bc5cc95",
   "metadata": {},
   "outputs": [],
   "source": [
    "# Population summary\n",
    "inM_pop_res = inM.copy()\n",
    "\n",
    "pop_res = rMisc.zonalStats(inM, high_res_pop, minVal=0, reProj=True)\n",
    "pop_res = pd.DataFrame(pop_res, columns=[\"SUM\", \"MIN\", \"MAX\", \"MEAN\"])\n",
    "inM_pop_res[\"POP\"] = pop_res[\"SUM\"]\n",
    "\n",
    "pd.DataFrame(inM_pop_res.drop([\"geometry\"], axis=1)).to_csv(\n",
    "    os.path.join(zonal_res_folder, \"Pop_res.csv\")\n",
    ")"
   ]
  },
  {
   "cell_type": "code",
   "execution_count": null,
   "id": "b9aea8cc",
   "metadata": {},
   "outputs": [],
   "source": [
    "# GHSL _summary\n",
    "ghsl_res = rMisc.zonalStats(\n",
    "    inM, local_ghsl_file, rastType=\"C\", unqVals=list(range(1975, 2031, 5)), reProj=True\n",
    ")\n",
    "ghsl_res = pd.DataFrame(\n",
    "    ghsl_res, columns=[f\"c_{x}\" for x in list(range(1975, 2031, 5))]\n",
    ")\n",
    "ghsl_res = ghsl_res.cumsum(axis=1)\n",
    "ghsl_area = ghsl_res.copy()\n",
    "# GHSL conversion to area (km2)\n",
    "for col in ghsl_area.columns:\n",
    "    ghsl_area[col] = ghsl_area[col] * (100 * 100) / 1000000\n",
    "ghsl_area[\"AREA_KM\"] = inM[\"ALBERS_ARE\"]\n",
    "ghsl_area[\"per_built_2020\"] = ghsl_area.apply(\n",
    "    lambda x: x[\"c_2020\"] / x[\"AREA_KM\"], axis=1\n",
    ")\n",
    "ghsl_area[muni_id] = inM[muni_id]\n",
    "ghsl_area.to_csv(os.path.join(zonal_res_folder, \"Muni_GHSL_res.csv\"))"
   ]
  },
  {
   "cell_type": "code",
   "execution_count": null,
   "id": "0973fdaa",
   "metadata": {},
   "outputs": [],
   "source": [
    "# Calculate travel time\n",
    "popR = rasterio.open(urban_raster_pop)\n",
    "ttr = rasterio.open(local_friction_file)\n",
    "frictionD = ttr.read()[0, :, :] * 1000\n",
    "mcp = graph.MCP_Geometric(frictionD)"
   ]
  },
  {
   "cell_type": "code",
   "execution_count": null,
   "id": "cc610caf",
   "metadata": {},
   "outputs": [],
   "source": [
    "# Calculate travel time to largest city within province\n",
    "in_cities = gpd.read_file(major_urban_extents)\n",
    "zaf_adm1 = dataMisc.get_geoboundaries(\"ZAF\", \"ADM1\")\n",
    "in_cities[\"geometry\"] = in_cities[\"geometry\"].apply(lambda x: x.centroid)\n",
    "in_cities = in_cities.loc[:, [\"ID_HDC_G0\", \"CTR_MN_NM\", \"UC_NM_MN\", \"P15\", \"geometry\"]]\n",
    "zaf_adm1 = gpd.read_file(admin1_file)\n",
    "in_cities = gpd.sjoin(in_cities, zaf_adm1)"
   ]
  },
  {
   "cell_type": "code",
   "execution_count": null,
   "id": "afbed7f8",
   "metadata": {},
   "outputs": [],
   "source": [
    "##### Ports and airports\n",
    "ports = gpd.read_file(local_ports)\n",
    "zaf_ports = ports.loc[ports[\"COUNTRY\"] == \"ZA\"]\n",
    "foreign_ports = ports.loc[ports[\"COUNTRY\"] != \"ZA\"]\n",
    "maputo_port = foreign_ports.loc[foreign_ports[\"PORT_NAME\"] == \"MAPUTO\"]\n",
    "\n",
    "airports = gpd.read_file(local_airports)\n",
    "zaf_airports = airports.loc[airports[\"soc\"] == \"ZAF\"]\n",
    "foreign_airports = airports.loc[airports[\"soc\"] != \"ZAF\"]"
   ]
  },
  {
   "cell_type": "code",
   "execution_count": null,
   "id": "1cfa99c8",
   "metadata": {},
   "outputs": [],
   "source": [
    "# Largest 5 cities\n",
    "largest_5_cities = in_cities.sort_values(\"P15\", ascending=False)[:5]\n",
    "\n",
    "\n",
    "# Largest city in each province\n",
    "def get_largest(x):\n",
    "    return x.sort_values(\"P15\", ascending=False).iloc[0]\n",
    "\n",
    "\n",
    "provincial_largest = in_cities.groupby(\"shapeName\").apply(get_largest)\n",
    "provincial_largest.crs = in_cities.crs\n",
    "# Read in KML of provincial capitals\n",
    "gpd.io.file.fiona.drvsupport.supported_drivers[\"LIBKML\"] = \"rw\"\n",
    "prov_capitals = gpd.read_file(zaf_capitals).loc[:, [\"Name\", \"geometry\"]]"
   ]
  },
  {
   "cell_type": "code",
   "execution_count": null,
   "id": "c38664ec",
   "metadata": {},
   "outputs": [],
   "source": [
    "# Plants and mines\n",
    "plants = gpd.read_file(plants_file)\n",
    "mines = gpd.read_file(mines_file)\n",
    "mines = mines.loc[mines[\"Commodity\"] != \"coal\"]\n",
    "mines = mines.loc[~mines.geometry.isna()]"
   ]
  },
  {
   "cell_type": "code",
   "execution_count": null,
   "id": "b067e728",
   "metadata": {},
   "outputs": [],
   "source": [
    "# Calculate travel time\n",
    "popR = rasterio.open(urban_raster_pop)\n",
    "ttr = rasterio.open(local_friction_file)\n",
    "frictionD = ttr.read()[0, :, :] * 1000\n",
    "mcp = graph.MCP_Geometric(frictionD)\n",
    "\n",
    "inN, profile = rMisc.standardizeInputRasters(popR, ttr, resampling_type=\"sum\")\n",
    "with rMisc.create_rasterio_inmemory(profile, inN) as pop_temp:\n",
    "    for dest in [\n",
    "        # [gpd.read_file(protected_areas), 'tt_protected_areas'],\n",
    "        # [gpd.read_file(tourist_locations), 'tt_kruger'],\n",
    "        # [gpd.read_file(major_urban_extents), 'tt_cities'],\n",
    "        # [largest_5_cities, 'tt_largest_5_cities'],\n",
    "        # [provincial_largest, 'tt_prov_largest'],\n",
    "        # [prov_capitals, 'tt_prov_capital'],\n",
    "        [zaf_ports, \"tt_zaf_ports\"],\n",
    "        [foreign_ports, \"tt_foreign_ports\"],\n",
    "        [maputo_port, \"tt_maputo_ports\"],\n",
    "        [zaf_airports, \"tt_zaf_airports\"],\n",
    "        [mines, \"tt_mines_noncoal\"],\n",
    "        [plants, \"tt_plants\"],\n",
    "        # [foreign_airports, 'tt_foreign_airports']\n",
    "    ]:\n",
    "        out_file = os.path.join(zonal_res_folder, f\"{dest[1]}_tt.csv\")\n",
    "        tPrint(out_file)\n",
    "        if not os.path.exists(out_file):\n",
    "            dests = dest[0]\n",
    "            if not dests.geom_type.iloc[0] == \"Point\":\n",
    "                dests[\"geometry\"] = dests[\"geometry\"].apply(lambda x: x.centroid)\n",
    "            suffix = os.path.basename(out_file[:-4])\n",
    "            res = ma.summarize_travel_time_populations(\n",
    "                pop_temp, ttr, dests, mcp, inM, col_suffix=suffix, calc_small=True\n",
    "            )\n",
    "            pd.DataFrame(res.drop([\"geometry\"], axis=1)).to_csv(out_file)"
   ]
  },
  {
   "cell_type": "markdown",
   "id": "2aff3729",
   "metadata": {},
   "source": [
    "# Combine results"
   ]
  },
  {
   "cell_type": "code",
   "execution_count": null,
   "id": "747803c4",
   "metadata": {},
   "outputs": [],
   "source": [
    "baseD = gpd.read_file(municipalities)\n",
    "baseD.index = baseD[muni_id].astype(\"int64\")"
   ]
  },
  {
   "cell_type": "code",
   "execution_count": null,
   "id": "0e9befe3",
   "metadata": {},
   "outputs": [],
   "source": [
    "def join_data(in_file_name, baseD):\n",
    "    ntl_data = pd.read_csv(in_file_name, index_col=0)\n",
    "    ntl_data.index = ntl_data[muni_id].astype(\"int64\")\n",
    "    cols_to_use = ntl_data.columns.difference(baseD.drop(\"geometry\", axis=1).columns)\n",
    "    ntl_data = ntl_data[cols_to_use]\n",
    "    baseD = pd.merge(baseD, ntl_data, left_index=True, right_index=True)\n",
    "    return baseD"
   ]
  },
  {
   "cell_type": "code",
   "execution_count": null,
   "id": "e19f4112",
   "metadata": {},
   "outputs": [],
   "source": [
    "for in_file in os.listdir(zonal_res_folder):\n",
    "    if in_file.endswith(\".csv\"):\n",
    "        print(in_file)\n",
    "        baseD = join_data(os.path.join(zonal_res_folder, in_file), baseD)"
   ]
  },
  {
   "cell_type": "code",
   "execution_count": null,
   "id": "a49a3105",
   "metadata": {},
   "outputs": [],
   "source": [
    "baseD.drop(\"MP_CODE_st\", axis=1).reset_index().to_file(\n",
    "    os.path.join(zonal_res_folder, \"named_places_zonal.geojson\"), driver=\"GeoJSON\"\n",
    ")"
   ]
  },
  {
   "cell_type": "code",
   "execution_count": null,
   "id": "6c9140cd",
   "metadata": {},
   "outputs": [],
   "source": [
    "pd.DataFrame(baseD.drop([\"geometry\"], axis=1)).to_csv(\n",
    "    os.path.join(zonal_res_folder, \"named_places_zonal.csv\")\n",
    ")"
   ]
  },
  {
   "cell_type": "markdown",
   "id": "eb8eaf7c",
   "metadata": {},
   "source": [
    "# Calculate gravity of all MPs in Mpumalanga to major cities"
   ]
  },
  {
   "cell_type": "code",
   "execution_count": null,
   "id": "8fc0426a",
   "metadata": {},
   "outputs": [],
   "source": [
    "out_varun_folder = os.path.join(in_folder, \"SP_VARUN\", \"RESULTS\")"
   ]
  },
  {
   "cell_type": "code",
   "execution_count": null,
   "id": "a7c97b92",
   "metadata": {},
   "outputs": [],
   "source": [
    "### Read in origins\n",
    "sp_varun_file = os.path.join(in_folder, \"SP_VARUN\", \"SP_SA_2011.shp\")\n",
    "in_sp = gpd.read_file(sp_varun_file)\n",
    "in_sp.crs = 4326\n",
    "in_sp[\"geometry\"] = in_sp[\"geometry\"].apply(lambda x: x.centroid)\n",
    "# inM = gpd.read_file(municipalities)\n",
    "# selM = inM.loc[inM['PR_NAME'] == 'Mpumalanga'].copy()\n",
    "# selM['geometry'] = selM['geometry'].apply(lambda x: x.centroid)"
   ]
  },
  {
   "cell_type": "code",
   "execution_count": null,
   "id": "24e7c092",
   "metadata": {},
   "outputs": [],
   "source": [
    "### Read in destinations\n",
    "in_cities = gpd.read_file(major_urban_extents)\n",
    "largest_5_cities = in_cities.sort_values(\"P15\", ascending=False)[:5]\n",
    "largest_5_cities[\"geometry\"] = largest_5_cities[\"geometry\"].apply(lambda x: x.centroid)\n",
    "largest_5_cities"
   ]
  },
  {
   "cell_type": "code",
   "execution_count": null,
   "id": "2a52bdd2",
   "metadata": {},
   "outputs": [],
   "source": [
    "# Calculate travel time\n",
    "popR = rasterio.open(urban_raster_pop)\n",
    "ttr = rasterio.open(local_friction_file)\n",
    "frictionD = ttr.read()[0, :, :] * 1000\n",
    "mcp = graph.MCP_Geometric(frictionD)"
   ]
  },
  {
   "cell_type": "code",
   "execution_count": null,
   "id": "5bdb3e4f",
   "metadata": {},
   "outputs": [],
   "source": []
  },
  {
   "cell_type": "code",
   "execution_count": null,
   "id": "8ffc696e",
   "metadata": {},
   "outputs": [],
   "source": [
    "sel_sp"
   ]
  },
  {
   "cell_type": "code",
   "execution_count": null,
   "id": "7dbe0ef8",
   "metadata": {},
   "outputs": [],
   "source": [
    "importlib.reload(ma)\n",
    "# Calculate for Gauteng\n",
    "sel_sp = in_sp.loc[in_sp[\"PR_NAME\"] == \"Gauteng\"].copy()\n",
    "od = ma.calculate_od_matrix(ttr, mcp, sel_sp, sel_sp)\n",
    "xx = pd.DataFrame(od)\n",
    "xx.columns = sel_sp.SP_CODE_st\n",
    "xx.index = sel_sp.SP_CODE_st\n",
    "xx.to_csv(os.path.join(out_varun_folder, \"Gauteng_OD.csv\"))"
   ]
  },
  {
   "cell_type": "code",
   "execution_count": null,
   "id": "ea125d01",
   "metadata": {},
   "outputs": [],
   "source": [
    "importlib.reload(ma)\n",
    "# Calculate for City of Cape Town\n",
    "sel_sp = in_sp.loc[in_sp[\"DC_NAME\"] == \"City of Cape Town\"].copy()\n",
    "od = ma.calculate_od_matrix(ttr, mcp, sel_sp, sel_sp)\n",
    "xx = pd.DataFrame(od)\n",
    "xx.columns = sel_sp.SP_CODE_st\n",
    "xx.index = sel_sp.SP_CODE_st\n",
    "xx.to_csv(os.path.join(out_varun_folder, \"Cape_Town_OD.csv\"))"
   ]
  },
  {
   "cell_type": "code",
   "execution_count": null,
   "id": "a6a008b9",
   "metadata": {},
   "outputs": [],
   "source": [
    "importlib.reload(ma)\n",
    "# Calculate for City of eTh\n",
    "sel_sp = in_sp.loc[in_sp[\"DC_NAME\"] == \"eThekwini\"].copy()\n",
    "od = ma.calculate_od_matrix(ttr, mcp, sel_sp, sel_sp)\n",
    "xx = pd.DataFrame(od)\n",
    "xx.columns = sel_sp.SP_CODE_st\n",
    "xx.index = sel_sp.SP_CODE_st\n",
    "xx.to_csv(os.path.join(out_varun_folder, \"eThekwini_OD.csv\"))"
   ]
  },
  {
   "cell_type": "code",
   "execution_count": null,
   "id": "8b4d39ac",
   "metadata": {},
   "outputs": [],
   "source": [
    "importlib.reload(ma)\n",
    "# Calculate for City of eTh\n",
    "sel_sp = in_sp.loc[in_sp[\"DC_NAME\"] == \"Nelson Mandela Bay\"].copy()\n",
    "od = ma.calculate_od_matrix(ttr, mcp, sel_sp, sel_sp)\n",
    "xx = pd.DataFrame(od)\n",
    "xx.columns = sel_sp.SP_CODE_st\n",
    "xx.index = sel_sp.SP_CODE_st\n",
    "xx.to_csv(os.path.join(out_varun_folder, \"Nelson_Mandela_Bay_OD.csv\"))"
   ]
  },
  {
   "cell_type": "code",
   "execution_count": null,
   "id": "c95e435d",
   "metadata": {},
   "outputs": [],
   "source": [
    "importlib.reload(ma)\n",
    "# Calculate for City of eTh\n",
    "sel_sp = in_sp.loc[in_sp[\"DC_NAME\"] == \"Buffalo City\"].copy()\n",
    "od = ma.calculate_od_matrix(ttr, mcp, sel_sp, sel_sp)\n",
    "xx = pd.DataFrame(od)\n",
    "xx.columns = sel_sp.SP_CODE_st\n",
    "xx.index = sel_sp.SP_CODE_st\n",
    "xx.to_csv(os.path.join(out_varun_folder, \"Buffalo_City_OD.csv\"))"
   ]
  },
  {
   "cell_type": "markdown",
   "id": "6ed65fcb",
   "metadata": {},
   "source": [
    "# Debugging"
   ]
  },
  {
   "cell_type": "code",
   "execution_count": null,
   "id": "faa69d61",
   "metadata": {},
   "outputs": [],
   "source": [
    "# Running travel time summaries with small issue flag\n",
    "# Calculate travel time\n",
    "popR = rasterio.open(urban_raster_pop)\n",
    "ttr = rasterio.open(local_friction_file)\n",
    "frictionD = ttr.read()[0, :, :] * 1000\n",
    "mcp = graph.MCP_Geometric(frictionD)\n",
    "\n",
    "inN, profile = rMisc.standardizeInputRasters(popR, ttr, resampling_type=\"sum\")"
   ]
  },
  {
   "cell_type": "code",
   "execution_count": null,
   "id": "932d8f5f",
   "metadata": {},
   "outputs": [],
   "source": [
    "with rMisc.create_rasterio_inmemory(profile, inN) as pop_temp:\n",
    "    res = ma.summarize_travel_time_populations(\n",
    "        pop_temp, ttr, zaf_airports, mcp, inM, calc_small=True\n",
    "    )"
   ]
  },
  {
   "cell_type": "code",
   "execution_count": null,
   "id": "bff375f3",
   "metadata": {},
   "outputs": [],
   "source": [
    "res.loc[res[\"total_pop\"] == 0.0]"
   ]
  },
  {
   "cell_type": "code",
   "execution_count": null,
   "id": "9ea00aaa",
   "metadata": {},
   "outputs": [],
   "source": []
  },
  {
   "cell_type": "code",
   "execution_count": null,
   "id": "d03a91e8",
   "metadata": {},
   "outputs": [],
   "source": [
    "# Investigating 1s in traveltime results\n",
    "tt_file = os.path.join(zonal_res_folder, \"tt_cities_tt.csv\")\n",
    "inT = pd.read_csv(tt_file, index_col=0)\n",
    "inT.head()"
   ]
  },
  {
   "cell_type": "code",
   "execution_count": null,
   "id": "3f02942c",
   "metadata": {},
   "outputs": [],
   "source": [
    "badT = inT.loc[inT[\"tt_pop_w_tt_cities_tt\"] == 1.0]\n",
    "badT"
   ]
  },
  {
   "cell_type": "code",
   "execution_count": null,
   "id": "890024ac",
   "metadata": {},
   "outputs": [],
   "source": [
    "inM_proj = inM.to_crs(proj_epsg)\n",
    "inM_proj[\"area_km2\"] = inM_proj[\"geometry\"].apply(lambda x: x.area / 1000000)"
   ]
  },
  {
   "cell_type": "code",
   "execution_count": null,
   "id": "fca21314",
   "metadata": {},
   "outputs": [],
   "source": [
    "inM_proj.loc[badT.index].sort_values([\"area_km2\"])"
   ]
  },
  {
   "cell_type": "code",
   "execution_count": null,
   "id": "f5e6573a",
   "metadata": {},
   "outputs": [],
   "source": [
    "rMisc.zonalStats?"
   ]
  },
  {
   "cell_type": "code",
   "execution_count": null,
   "id": "c2b20c5d",
   "metadata": {},
   "outputs": [],
   "source": []
  }
 ],
 "metadata": {
  "language_info": {
   "name": "python"
  }
 },
 "nbformat": 4,
 "nbformat_minor": 5
}
