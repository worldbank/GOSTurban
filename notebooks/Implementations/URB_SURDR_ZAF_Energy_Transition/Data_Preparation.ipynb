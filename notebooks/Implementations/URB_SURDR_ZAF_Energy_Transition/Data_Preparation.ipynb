{
 "cells": [
  {
   "cell_type": "markdown",
   "metadata": {},
   "source": [
    "# Mapping the socio-economic situation in Mpumalanga, South Africa\n",
    "\n",
    "In order to meet its commitments to the Paris agreements, South Africa is investigating ways to ween itself off of coal. This will be felt especially strongly in Mpumalanga, South Africa, a province in the north-east of the country between Johannesburg and Eswatini. Mpumalanga is a sparsely populated area home to most of South Africa's coal communities and coal power plants."
   ]
  },
  {
   "cell_type": "code",
   "execution_count": null,
   "metadata": {},
   "outputs": [],
   "source": [
    "import sys\n",
    "import os\n",
    "import rasterio\n",
    "\n",
    "import pandas as pd\n",
    "import geopandas as gpd\n",
    "import skimage.graph as graph\n",
    "\n",
    "from shapely.geometry import box, Point\n",
    "\n",
    "sys.path.insert(0, \"/home/wb411133/Code/gostrocks/src\")\n",
    "\n",
    "import GOSTRocks.dataMisc as dataMisc\n",
    "import GOSTRocks.ntlMisc as ntlMisc\n",
    "import GOSTRocks.ghslMisc as ghslMisc\n",
    "import GOSTRocks.rasterMisc as rMisc\n",
    "import GOSTRocks.mapMisc as mapMisc\n",
    "from GOSTRocks.misc import tPrint\n",
    "\n",
    "sys.path.insert(0, \"/home/wb411133/Code/GOSTNets_Raster/src\")\n",
    "import GOSTNetsRaster.market_access as ma\n",
    "\n",
    "%load_ext autoreload\n",
    "%autoreload 2"
   ]
  },
  {
   "cell_type": "code",
   "execution_count": null,
   "metadata": {},
   "outputs": [],
   "source": [
    "# Define input variables\n",
    "in_folder = \"/home/wb411133/projects/URB_SURDR_ZAF\"\n",
    "ntl_folder = os.path.join(in_folder, \"NTL_data\")\n",
    "ghsl_folder = os.path.join(in_folder, \"GHSL_data\")\n",
    "urban_folder = os.path.join(in_folder, \"URBAN\")\n",
    "ma_folder = os.path.join(in_folder, \"market_access\")\n",
    "infra_folder = os.path.join(in_folder, \"Infra\")\n",
    "protected_areas_folder = os.path.join(in_folder, \"Protected_Areas\")\n",
    "for f in [\n",
    "    in_folder,\n",
    "    ntl_folder,\n",
    "    ghsl_folder,\n",
    "    ma_folder,\n",
    "    infra_folder,\n",
    "    protected_areas_folder,\n",
    "]:\n",
    "    if not os.path.exists(f):\n",
    "        os.makedirs(f)\n",
    "\n",
    "# Define global variables\n",
    "global_bounds = (\n",
    "    \"/home/public/Data/GLOBAL/ADMIN/ADMIN2/HighRes_20230328/shp/WB_GAD_ADM0.shp\"\n",
    ")\n",
    "ghs_folder = \"/home/public/Data/GLOBAL/GHSL\"\n",
    "ghs_built_folder = os.path.join(ghs_folder, \"Built\")\n",
    "ghs_built_files = [x for x in os.listdir(ghs_built_folder) if x.endswith(\".tif\")]\n",
    "ghs_smod_file = os.path.join(\n",
    "    ghs_folder, \"SMOD\", \"GHS_SMOD_E2020_GLOBE_R2023A_54009_1000_V1_0.tif\"\n",
    ")\n",
    "ghs_ucdb = os.path.join(\n",
    "    ghs_folder, \"GHS_UCBD_R2019A\", \"GHS_STAT_UCDB2015MT_GLOBE_R2019A_V1_2.gpkg\"\n",
    ")\n",
    "global_friction = \"/home/public/Data/GLOBAL/INFRA/FRICTION_2020/2020_motorized_friction_surface.geotiff\"\n",
    "global_airports_file = os.path.join(\n",
    "    infra_folder, \"airport_volume_airport_locations.csv\"\n",
    ")\n",
    "\n",
    "# Define local variables\n",
    "admin0_file = os.path.join(in_folder, \"ZAF_select_adm0.shp\")\n",
    "admin3_file = os.path.join(in_folder, \"ADMIN\", \"admin3_geoBounds_FINAL.shp\")\n",
    "ghsl_thresh = 0.1\n",
    "local_ghsl_file = os.path.join(in_folder, f\"ghsl_combined_{int(ghsl_thresh * 100)}.tif\")\n",
    "urban_raster = os.path.join(urban_folder, \"zaf1k_cpo20_urban.tif\")\n",
    "urban_raster_pop = os.path.join(urban_folder, \"zaf1k_cpo20.tif\")\n",
    "urban_extents_file = os.path.join(urban_folder, \"cpo20_urban_extents.shp\")\n",
    "local_ghs_smod_file = os.path.join(in_folder, \"GHS_SMOD_2020.tif\")\n",
    "major_urban_extents = os.path.join(in_folder, \"major_cities_UCDB2019.shp\")\n",
    "local_friction_file = os.path.join(ma_folder, \"friction_2020.tif\")\n",
    "local_airports = os.path.join(infra_folder, \"airports_ZAF_and_neighbours.geojson\")\n",
    "local_ports = os.path.join(infra_folder, \"Ports.shp\")\n",
    "tourist_locations = os.path.join(infra_folder, \"Kruger_EntryGates.shp\")\n",
    "protected_areas = os.path.join(protected_areas_folder, \"SAPAD_IR_2023_Q2_01.shp\")"
   ]
  },
  {
   "cell_type": "code",
   "execution_count": null,
   "metadata": {},
   "outputs": [],
   "source": [
    "# read in base data\n",
    "ntl_files = dataMisc.aws_search_ntl()\n",
    "admin0_bounds = gpd.read_file(global_bounds)\n",
    "if not os.path.exists(admin0_file):\n",
    "    zaf_bounds = admin0_bounds.loc[admin0_bounds[\"WB_A3\"] == \"ZAF\"]\n",
    "    zaf_bounds.to_file(admin0_file)\n",
    "else:\n",
    "    zaf_bounds = gpd.read_file(admin0_file)\n",
    "neighbours = admin0_bounds.loc[\n",
    "    admin0_bounds.intersects(zaf_bounds.unary_union.buffer(0.1))\n",
    "]\n",
    "#\n",
    "admin1_bounds = dataMisc.get_geoboundaries(\"ZAF\", \"ADM1\")\n",
    "admin2_bounds = dataMisc.get_geoboundaries(\"ZAF\", \"ADM2\")\n",
    "admin3_bounds = dataMisc.get_geoboundaries(\"ZAF\", \"ADM3\")\n",
    "focal_state = admin1_bounds.loc[admin1_bounds[\"shapeName\"] == \"Mpumalanga\"]"
   ]
  },
  {
   "cell_type": "code",
   "execution_count": null,
   "metadata": {},
   "outputs": [],
   "source": [
    "admin1_bounds.to_file(os.path.join(in_folder, \"admin1_geoBounds.shp\"))\n",
    "admin2_bounds.to_file(os.path.join(in_folder, \"admin2_geoBounds.shp\"))\n",
    "admin3_bounds.to_file(os.path.join(in_folder, \"admin3_geoBounds.shp\"))"
   ]
  },
  {
   "cell_type": "markdown",
   "metadata": {},
   "source": [
    "# Clip raster datasets"
   ]
  },
  {
   "cell_type": "code",
   "execution_count": null,
   "metadata": {},
   "outputs": [],
   "source": [
    "# Clip out nighttime lights annual images\n",
    "# Mpumalanga\n",
    "ntlMisc.generate_annual_composites(\n",
    "    focal_state.unary_union, out_folder=os.path.join(ntl_folder, \"Mpumalanga\")\n",
    ")\n",
    "# ZAF\n",
    "# ntlMisc.generate_annual_composites(zaf_bounds.unary_union, out_folder=os.path.join(ntl_folder, \"ZAF\"))\n",
    "# Neighbours\n",
    "# ntlMisc.generate_annual_composites(neighbours.unary_union, out_folder=os.path.join(ntl_folder, \"Neighbours\"))"
   ]
  },
  {
   "cell_type": "code",
   "execution_count": null,
   "metadata": {},
   "outputs": [],
   "source": [
    "# Clip out GHSL layers\n",
    "for cur_raster_file in ghs_built_files:\n",
    "    out_file = os.path.join(ghsl_folder, os.path.basename(cur_raster_file))\n",
    "    if not os.path.exists(out_file):\n",
    "        rMisc.clipRaster(\n",
    "            rasterio.open(os.path.join(ghs_built_folder, cur_raster_file)),\n",
    "            zaf_bounds,\n",
    "            out_file,\n",
    "            crop=False,\n",
    "        )\n",
    "        tPrint(out_file)\n",
    "\n",
    "# Combine GHSL layers into single file\n",
    "ghsl_files = sorted(\n",
    "    [\n",
    "        os.path.join(ghsl_folder, x)\n",
    "        for x in os.listdir(ghsl_folder)\n",
    "        if x.endswith(\".tif\")\n",
    "    ]\n",
    ")\n",
    "if not os.path.exists(local_ghsl_file):\n",
    "    ghsl_res = ghslMisc.combine_ghsl_annual(\n",
    "        ghsl_files, built_thresh=ghsl_thresh, out_file=out_file\n",
    "    )"
   ]
  },
  {
   "cell_type": "code",
   "execution_count": null,
   "metadata": {},
   "outputs": [],
   "source": [
    "# clip out GHS-SMOD data\n",
    "if not os.path.exists(local_ghs_smod_file):\n",
    "    rMisc.clipRaster(\n",
    "        rasterio.open(ghs_smod_file), neighbours, local_ghs_smod_file, crop=False\n",
    "    )"
   ]
  },
  {
   "cell_type": "code",
   "execution_count": null,
   "metadata": {},
   "outputs": [],
   "source": [
    "# Convert urban centres from the constrained world_pop 2020 dataset to vector\n",
    "if not os.path.exists(urban_extents_file):\n",
    "    urban_extents = rMisc.vectorize_raster(rasterio.open(urban_raster), bad_vals=[0])\n",
    "    urban_extents[\"geometry\"] = urban_extents[\"geometry\"].apply(lambda x: x.buffer(0))\n",
    "\n",
    "    # Attribute with population\n",
    "    res = rMisc.zonalStats(urban_extents, urban_raster_pop, minVal=0)\n",
    "    res = pd.DataFrame(res, columns=[\"SUM\", \"MIN\", \"MAX\", \"MEAN\"])\n",
    "    urban_extents[\"Pop2020\"] = res[\"SUM\"]\n",
    "    urban_extents.to_file(urban_extents_file)"
   ]
  },
  {
   "cell_type": "code",
   "execution_count": null,
   "metadata": {},
   "outputs": [],
   "source": [
    "# Extract major settlements from UCDB\n",
    "if not os.path.exists(major_urban_extents):\n",
    "    all_extents = gpd.read_file(ghs_ucdb)\n",
    "    sel_extents = all_extents.loc[all_extents.intersects(box(*neighbours.total_bounds))]\n",
    "    sel_extents.to_file(major_urban_extents)"
   ]
  },
  {
   "cell_type": "code",
   "execution_count": null,
   "metadata": {},
   "outputs": [],
   "source": [
    "all_extents.head()"
   ]
  },
  {
   "cell_type": "markdown",
   "metadata": {},
   "source": [
    "# Extract international airports"
   ]
  },
  {
   "cell_type": "code",
   "execution_count": null,
   "metadata": {},
   "outputs": [],
   "source": [
    "if not os.path.exists(local_airports):\n",
    "    inA = pd.read_csv(global_airports_file)\n",
    "    inA_geom = [\n",
    "        Point(x) for x in zip(inA[\"Airport1Longitude\"], inA[\"Airport1Latitude\"])\n",
    "    ]\n",
    "    inA = gpd.GeoDataFrame(inA, geometry=inA_geom, crs=4326)\n",
    "    selA = inA.loc[inA.intersects(neighbours.unary_union)]\n",
    "    selA.to_file(local_airports, driver=\"GeoJSON\")\n",
    "\n",
    "\"\"\"headers = {'Accept': 'application/json'}\n",
    "ddh_international_airports = \"https://wiki.worldbank.org/pages/viewpage.action?spaceKey=GEOS&title=Guide+to+procurement+of+satellite+imagery+and+derived+products\"\n",
    "ddh_r = requests.get(ddh_international_airports, headers=headers)\n",
    "ddh_r.json()\"\"\""
   ]
  },
  {
   "cell_type": "markdown",
   "metadata": {},
   "source": [
    "# Market access"
   ]
  },
  {
   "cell_type": "code",
   "execution_count": null,
   "metadata": {},
   "outputs": [],
   "source": [
    "if not os.path.exists(local_friction_file):\n",
    "    rMisc.clipRaster(\n",
    "        rasterio.open(global_friction), neighbours, local_friction_file, crop=False\n",
    "    )\n",
    "\n",
    "friction = rasterio.open(local_friction_file)\n",
    "frictionD = friction.read()[0, :, :] * 1000\n",
    "mcp = graph.MCP_Geometric(frictionD)"
   ]
  },
  {
   "cell_type": "code",
   "execution_count": null,
   "metadata": {},
   "outputs": [],
   "source": [
    "# Measure access to all major cities in ucdb\n",
    "tt_major_cities = os.path.join(ma_folder, \"tt_major_cities.tif\")\n",
    "if not os.path.exists(tt_major_cities):\n",
    "    dests = gpd.read_file(major_urban_extents)\n",
    "    dests[\"geometry\"] = dests[\"geometry\"].apply(lambda x: x.centroid)\n",
    "    travel_costs, traceback = ma.calculate_travel_time(friction, mcp, dests)\n",
    "    with rasterio.open(tt_major_cities, \"w\", **friction.profile.copy()) as out_tt:\n",
    "        out_tt.write_band(1, travel_costs)"
   ]
  },
  {
   "cell_type": "code",
   "execution_count": null,
   "metadata": {},
   "outputs": [],
   "source": [
    "# Measure access to international airports\n",
    "tt_airports = os.path.join(ma_folder, \"tt_airports.tif\")\n",
    "if not os.path.exists(tt_airports):\n",
    "    airports = gpd.read_file(local_airports)\n",
    "    travel_costs, traceback = ma.calculate_travel_time(friction, mcp, airports)\n",
    "    with rasterio.open(tt_airports, \"w\", **friction.profile.copy()) as out_tt:\n",
    "        out_tt.write_band(1, travel_costs)"
   ]
  },
  {
   "cell_type": "code",
   "execution_count": null,
   "metadata": {},
   "outputs": [],
   "source": [
    "# Measure access to international ports\n",
    "tt_ports = os.path.join(ma_folder, \"tt_ports.tif\")\n",
    "if not os.path.exists(tt_ports):\n",
    "    ports = gpd.read_file(local_ports)\n",
    "    travel_costs, traceback = ma.calculate_travel_time(friction, mcp, ports)\n",
    "    with rasterio.open(tt_ports, \"w\", **friction.profile.copy()) as out_tt:\n",
    "        out_tt.write_band(1, travel_costs)"
   ]
  },
  {
   "cell_type": "code",
   "execution_count": null,
   "metadata": {},
   "outputs": [],
   "source": [
    "# Measure access to kruger national park\n",
    "tt_ports = os.path.join(ma_folder, \"tt_tourism.tif\")\n",
    "if not os.path.exists(tt_ports):\n",
    "    ports = gpd.read_file(tourist_locations)\n",
    "    travel_costs, traceback = ma.calculate_travel_time(friction, mcp, ports)\n",
    "    with rasterio.open(tt_ports, \"w\", **friction.profile.copy()) as out_tt:\n",
    "        out_tt.write_band(1, travel_costs)"
   ]
  },
  {
   "cell_type": "code",
   "execution_count": null,
   "metadata": {},
   "outputs": [],
   "source": [
    "# Measure access to all national protected areas\n",
    "tt_ports = os.path.join(ma_folder, \"tt_protected.tif\")\n",
    "if not os.path.exists(tt_ports):\n",
    "    ports = gpd.read_file(protected_areas)\n",
    "    ports[\"geometry\"] = ports[\"geometry\"].apply(lambda x: x.centroid)\n",
    "    travel_costs, traceback = ma.calculate_travel_time(friction, mcp, ports)\n",
    "    with rasterio.open(tt_ports, \"w\", **friction.profile.copy()) as out_tt:\n",
    "        out_tt.write_band(1, travel_costs)"
   ]
  },
  {
   "cell_type": "code",
   "execution_count": null,
   "metadata": {},
   "outputs": [],
   "source": [
    "dests = gpd.read_file(admin3_file)\n",
    "dests[\"geometry\"] = dests[\"geometry\"].apply(lambda x: x.centroid)\n",
    "\n",
    "od_res = ma.calculate_od_matrix(friction, mcp, dests)\n",
    "final_od = pd.DataFrame(od_res)\n",
    "final_od.to_csv(os.path.join(ma_folder, \"admins3_od.csv\"))"
   ]
  },
  {
   "cell_type": "code",
   "execution_count": null,
   "metadata": {},
   "outputs": [],
   "source": [
    "# calculate total population and nighttime lights brightness for each admin3\n",
    "dests = gpd.read_file(admin3_file)\n",
    "pop_res = rMisc.zonalStats(dests, urban_raster_pop, minVal=0, reProj=True)\n",
    "pop_res = pd.DataFrame(pop_res, columns=[\"SUM\", \"MIN\", \"MAX\", \"MEAN\"])\n",
    "pop_res"
   ]
  },
  {
   "cell_type": "code",
   "execution_count": null,
   "metadata": {},
   "outputs": [],
   "source": [
    "ntl_raster = os.path.join(ntl_folder, \"Neighbours\", \"VIIRS_2022_annual.tif\")\n",
    "ntl_res = rMisc.zonalStats(dests, ntl_raster, minVal=1, reProj=True)\n",
    "ntl_res = pd.DataFrame(ntl_res, columns=[\"SUM\", \"MIN\", \"MAX\", \"MEAN\"])"
   ]
  },
  {
   "cell_type": "code",
   "execution_count": null,
   "metadata": {},
   "outputs": [],
   "source": [
    "# Map random\n",
    "dests[\"Pop\"] = pop_res[\"SUM\"]\n",
    "dests[\"NTL\"] = pop_res[\"SUM\"]\n",
    "mapMisc.static_map_vector(\n",
    "    dests,\n",
    "    \"Pop\",\n",
    "    legend_loc=\"upper left\",\n",
    "    thresh=[0, 50000, 100000, 250000, 500000, 200000000],\n",
    ")"
   ]
  },
  {
   "cell_type": "markdown",
   "metadata": {},
   "source": [
    "# Calculate Main Place to Protected Areas OD"
   ]
  },
  {
   "cell_type": "code",
   "execution_count": null,
   "metadata": {},
   "outputs": [],
   "source": [
    "municipalities = os.path.join(\n",
    "    in_folder, \"MiningCommunities\", \"MainPlaces\", \"MP_SA_2011.shp\"\n",
    ")\n",
    "inM = gpd.read_file(municipalities)\n",
    "inM[\"geometry\"] = inM[\"geometry\"].apply(lambda x: x.centroid)\n",
    "\n",
    "destinations = gpd.read_file(protected_areas)\n",
    "destinations = destinations.to_crs(22293)\n",
    "destinations[\"area_km\"] = destinations[\"geometry\"].apply(lambda x: x.area / 1000000)\n",
    "destinations = destinations.to_crs(4326)\n",
    "destinations[\"geometry\"] = destinations[\"geometry\"].apply(lambda x: x.centroid)"
   ]
  },
  {
   "cell_type": "code",
   "execution_count": null,
   "metadata": {},
   "outputs": [],
   "source": [
    "# Calculate travel time\n",
    "popR = rasterio.open(urban_raster_pop)\n",
    "ttr = rasterio.open(local_friction_file)\n",
    "frictionD = ttr.read()[0, :, :] * 1000\n",
    "mcp = graph.MCP_Geometric(frictionD)"
   ]
  },
  {
   "cell_type": "code",
   "execution_count": null,
   "metadata": {},
   "outputs": [],
   "source": [
    "od = ma.calculate_od_matrix(ttr, mcp, inM, destinations)\n",
    "xx = pd.DataFrame(od)\n",
    "xx.columns = inM.MP_CODE_st\n",
    "xx.index = destinations.WDPAID\n",
    "xx.to_csv(os.path.join(out_varun_folder, \"mp_protected_areas_OD.csv\"))"
   ]
  },
  {
   "cell_type": "code",
   "execution_count": null,
   "metadata": {},
   "outputs": [],
   "source": []
  },
  {
   "cell_type": "code",
   "execution_count": null,
   "metadata": {},
   "outputs": [],
   "source": []
  },
  {
   "cell_type": "markdown",
   "metadata": {},
   "source": [
    "## Calculate Main Place OD"
   ]
  },
  {
   "cell_type": "code",
   "execution_count": null,
   "metadata": {},
   "outputs": [],
   "source": [
    "municipalities = os.path.join(\n",
    "    in_folder, \"MiningCommunities\", \"MainPlaces\", \"MP_SA_2011.shp\"\n",
    ")\n",
    "inM = gpd.read_file(municipalities)\n",
    "inM[\"geometry\"] = inM[\"geometry\"].apply(lambda x: x.centroid)"
   ]
  },
  {
   "cell_type": "code",
   "execution_count": null,
   "metadata": {},
   "outputs": [],
   "source": [
    "# Calculate travel time\n",
    "popR = rasterio.open(urban_raster_pop)\n",
    "ttr = rasterio.open(local_friction_file)\n",
    "frictionD = ttr.read()[0, :, :] * 1000\n",
    "mcp = graph.MCP_Geometric(frictionD)"
   ]
  },
  {
   "cell_type": "code",
   "execution_count": null,
   "metadata": {},
   "outputs": [],
   "source": [
    "od = ma.calculate_od_matrix(ttr, mcp, inM, inM)\n",
    "xx = pd.DataFrame(od)\n",
    "xx.columns = inM.MP_CODE_st\n",
    "xx.index = sel_sp.MP_CODE_st\n",
    "xx.to_csv(os.path.join(out_varun_folder, \"all_mp.csv\"))"
   ]
  },
  {
   "cell_type": "code",
   "execution_count": null,
   "metadata": {},
   "outputs": [],
   "source": [
    "xx.columns = inM.MP_CODE_st\n",
    "xx.index = inM.MP_CODE_st"
   ]
  },
  {
   "cell_type": "code",
   "execution_count": null,
   "metadata": {},
   "outputs": [],
   "source": [
    "xx.to_csv(os.path.join(ma_folder, \"all_mp_od.csv\"))"
   ]
  },
  {
   "cell_type": "code",
   "execution_count": null,
   "metadata": {},
   "outputs": [],
   "source": [
    "xx.head()"
   ]
  },
  {
   "cell_type": "code",
   "execution_count": null,
   "metadata": {},
   "outputs": [],
   "source": []
  },
  {
   "cell_type": "markdown",
   "metadata": {},
   "source": [
    "# Calculate gravity"
   ]
  },
  {
   "cell_type": "code",
   "execution_count": null,
   "metadata": {},
   "outputs": [],
   "source": [
    "ma.calculate_gravity?"
   ]
  },
  {
   "cell_type": "code",
   "execution_count": null,
   "metadata": {},
   "outputs": [],
   "source": [
    "weights = pd.read_csv(os.path.join(in_folder, \"ZONAL_RES\", \"named_places_zonal.csv\"))\n",
    "weights.head()"
   ]
  },
  {
   "cell_type": "code",
   "execution_count": null,
   "metadata": {},
   "outputs": [],
   "source": [
    "weights.shape"
   ]
  },
  {
   "cell_type": "code",
   "execution_count": null,
   "metadata": {},
   "outputs": [],
   "source": [
    "xx.shape"
   ]
  },
  {
   "cell_type": "code",
   "execution_count": null,
   "metadata": {},
   "outputs": [],
   "source": [
    "simple_gravity = ma.calculate_gravity(xx)\n",
    "simple_gravity.head()"
   ]
  },
  {
   "cell_type": "code",
   "execution_count": null,
   "metadata": {},
   "outputs": [],
   "source": [
    "pop_gravity = ma.calculate_gravity(xx, weights[\"POP\"].values, weights[\"POP\"].values)\n",
    "pop_gravity.head()"
   ]
  },
  {
   "cell_type": "code",
   "execution_count": null,
   "metadata": {},
   "outputs": [],
   "source": [
    "ntl_gravity = ma.calculate_gravity(\n",
    "    xx, weights[\"NTL_2023\"].values, weights[\"NTL_2023\"].values\n",
    ")\n",
    "ntl_gravity.head()"
   ]
  },
  {
   "cell_type": "code",
   "execution_count": null,
   "metadata": {},
   "outputs": [],
   "source": [
    "inM = gpd.read_file(municipalities)"
   ]
  },
  {
   "cell_type": "code",
   "execution_count": null,
   "metadata": {},
   "outputs": [],
   "source": [
    "def create_ma_geometry(ma_df, out_file, xx_inM, ma_col=[\"d_0.001\"], driver=\"GeoJSON\"):\n",
    "    # create output geospatial market access data\n",
    "    simple_geog = ma_df.copy()\n",
    "    simple_geog = simple_geog.loc[:, ma_col]\n",
    "    simple_geog[\"geometry\"] = xx_inM[\"geometry\"].values\n",
    "    simple_geog = gpd.GeoDataFrame(simple_geog, geometry=\"geometry\", crs=xx_inM.crs)\n",
    "    pd.DataFrame(simple_geog.drop([\"geometry\"], axis=1)).to_csv(f\"{out_file}.csv\")\n",
    "    simple_geog.to_file(out_file, driver=driver)\n",
    "    return simple_geog"
   ]
  },
  {
   "cell_type": "code",
   "execution_count": null,
   "metadata": {},
   "outputs": [],
   "source": [
    "ma_folder"
   ]
  },
  {
   "cell_type": "code",
   "execution_count": null,
   "metadata": {},
   "outputs": [],
   "source": [
    "create_ma_geometry(\n",
    "    simple_gravity,\n",
    "    os.path.join(ma_folder, \"simple_ma.shp\"),\n",
    "    inM,\n",
    "    driver=\"ESRI Shapefile\",\n",
    ")\n",
    "create_ma_geometry(\n",
    "    pop_gravity, os.path.join(ma_folder, \"pop_ma.shp\"), inM, driver=\"ESRI Shapefile\"\n",
    ")\n",
    "create_ma_geometry(\n",
    "    ntl_gravity, os.path.join(ma_folder, \"ntl_ma.shp\"), inM, driver=\"ESRI Shapefile\"\n",
    ")"
   ]
  },
  {
   "cell_type": "code",
   "execution_count": null,
   "metadata": {},
   "outputs": [],
   "source": [
    "weights.head()"
   ]
  },
  {
   "cell_type": "code",
   "execution_count": null,
   "metadata": {},
   "outputs": [],
   "source": [
    "weights.loc[weights[\"MP_CODE_st\"] == 798020]"
   ]
  },
  {
   "cell_type": "code",
   "execution_count": null,
   "metadata": {},
   "outputs": [],
   "source": []
  },
  {
   "cell_type": "code",
   "execution_count": null,
   "metadata": {},
   "outputs": [],
   "source": []
  },
  {
   "cell_type": "markdown",
   "metadata": {},
   "source": [
    "# Debugging"
   ]
  }
 ],
 "metadata": {
  "language_info": {
   "name": "python"
  }
 },
 "nbformat": 4,
 "nbformat_minor": 2
}
