{
 "cells": [
  {
   "cell_type": "code",
   "execution_count": null,
   "metadata": {},
   "outputs": [],
   "source": [
    "import sys\n",
    "import os\n",
    "\n",
    "import geopandas as gpd\n",
    "\n",
    "\n",
    "sys.path.insert(0, \"/home/wb411133/Code/gostrocks/src\")"
   ]
  },
  {
   "cell_type": "code",
   "execution_count": null,
   "metadata": {},
   "outputs": [],
   "source": [
    "input_folder = \"/home/wb411133/projects/URB_slum_mapping/data/\"\n",
    "boundary_folder = os.path.join(input_folder, \"boundary\")\n",
    "wb_footprints = os.path.join(input_folder, \"WB_outlines_footgeo.geojson\")\n",
    "\n",
    "in_shps = []\n",
    "for root, folder, files in os.walk(boundary_folder):\n",
    "    for f in files:\n",
    "        if f.endswith(\".shp\"):\n",
    "            in_shps.append(os.path.join(root, f))\n",
    "in_wb = gpd.read_file(wb_footprints)\n",
    "in_wb[\"geometry\"] = in_wb[\"geometry\"].apply(lambda x: x.buffer(0))"
   ]
  },
  {
   "cell_type": "code",
   "execution_count": null,
   "metadata": {},
   "outputs": [],
   "source": [
    "in_shps"
   ]
  },
  {
   "cell_type": "code",
   "execution_count": null,
   "metadata": {},
   "outputs": [],
   "source": [
    "good_res = {}\n",
    "for cur_shp in in_shps:\n",
    "    inD = gpd.read_file(cur_shp)\n",
    "    if inD.crs != in_wb.crs:\n",
    "        inD = inD.to_crs(in_wb.crs)\n",
    "    if in_wb.unary_union.intersects(inD.unary_union):\n",
    "        sel_wb = in_wb.loc[in_wb.intersects(inD.unary_union)]\n",
    "        good_res[cur_shp] = sel_wb.copy()"
   ]
  },
  {
   "cell_type": "code",
   "execution_count": null,
   "metadata": {},
   "outputs": [],
   "source": [
    "all_size = 0\n",
    "for shp, images in good_res.items():\n",
    "    city = os.path.basename(os.path.dirname(shp))\n",
    "    for idx, row in images.iterrows():\n",
    "        print(f\"{row['location']}\")\n",
    "        all_size += float(row[\"zippedSize\"])"
   ]
  },
  {
   "cell_type": "code",
   "execution_count": null,
   "metadata": {},
   "outputs": [],
   "source": [
    "good_res.keys()"
   ]
  },
  {
   "cell_type": "code",
   "execution_count": null,
   "metadata": {},
   "outputs": [],
   "source": [
    "all_size / 1024 / 1024 / 1024"
   ]
  },
  {
   "cell_type": "code",
   "execution_count": null,
   "metadata": {},
   "outputs": [],
   "source": []
  }
 ],
 "metadata": {
  "language_info": {
   "name": "python"
  }
 },
 "nbformat": 4,
 "nbformat_minor": 2
}
