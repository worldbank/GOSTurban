{
 "cells": [
  {
   "cell_type": "markdown",
   "metadata": {},
   "source": [
    "# Understanding WSF\n",
    "1. WSFevolution – outlining the settlement extent growth from 1985 to 2015 on a yearly basis. Pixel values range between 1985 and 2015 corresponding to the estimated year of settlement detection, whereas 0 is no data.\n",
    "\n",
    "2. WSFevolution_RGB - the RGB version of the WSFevolution layer colored according to the “official” product palette (see the attached PNG legend).\n",
    "\n",
    "3. WSFevolution_IDCscore – this actually requires a bit of explanation but is rather important. While generating the WSF evolution - as you might remember - we employed Landsat-based temporal statistics which proved generally robust if computed over at least 7 clear observations (i.e., no clouds / cloud shadows). If less than 7 clear observations are available for the target year, the time frame is enlarged backwards (at 1-year steps) as long as the condition is met. Of course, in the case of poor Landsat data availability the time frame might get rather large, which can lead to a lower quality of the product (and of course this does not depend on our methodology). Accordingly, to provide the user with a suitable and intuitive measure to account for this, we conceived the Input Data Consistency (IDC) Score ranging from 1 to 6 with: 1) very good; 2) good; 3) fair; 4)moderate; 5) low; 6) very low.\n",
    "\n",
    "Here, you can see a screenshot of the IDC Score for the years 2015 and 2000, respectively. For instance, as you can notice the area in correspondence of Gabon is still critical in 2015, whereas the entire central Africa suffers from low data availability in the year 2000.\n",
    "  \n",
    "Furthermore, below I report an example for Mogadishu (Somalia). Specifically, in the lower right corner it is shown the 1985-2015 trend of the IDC Score for the pixel in correspondence of the light blue circle in the middle of the image. While the IDC is still “acceptable” back to 1997, previously it scores very low since basically no data are available. Accordingly, it shall be considered that – despite the pixel is then associated with the 1985 label – urbanization might even have occurred in reality between 1985 and 1997 (but we have no chance to “see” it).\n",
    " \n",
    "In the provided archive, the IDC score is a 31-band file where band n.1 reports the IDC for the year 2015 and band n.31 that for 1985 (if you open it in arcMap or QGIS the name of each band is automatically loaded). In this way, it can be used in your analyses to explain some specific trends that might have not been properly captured.\n",
    "\n",
    "4. WSF3D_AW3D30 – estimating the average building height per 100x100m cell (with vertical resolution set to 1m). Since data used for generating the ALOS DEM have been collected between 2006 and 2011, here I used the 2011 extent from the WSF evolution as reference settlement extent. This preliminary version of the product is quite promising and – from large qualitative comparison against VHR google imagery – seems rather accurate and reliable and can be an effective tool for generally characterizing the settlement morphology. However, some minor issues that should be taken into account include sometimes overestimation in the presence of high trees or gorges, as well as some overestimation in correspondence of dense buildings in areas with complex topography [e.g., (informal) settlements located on hills)]. Nevertheless, we are continuously working to further improve the layer and eventually can provide you with an updated version in case. Of course, here your feedback is definitely welcome. \n",
    "\n",
    "5. WSF3D_AW3D30_RGB - the RGB version of the WSF3D_AW3D30 layer colored according to the “official” product palette (see the attached PNG legend).\n",
    "\n",
    "6. WSF3D_AW3D30_nScenes – reporting the number of original optical stereo images used in the generation of the ALOS DEM. Practically speaking, the higher this number, the higher the expected quality of the DEM. Where no data is available (due to cloud coverage), the layer has been filled in with SRTM DEM information, which is not feasible for estimating building height. Accordingly, I would recommend to disregard from your study the pixels where 0 scenes were available, and to be “cautious” where just one was used. From 2 upwards I generally expect at least a sufficient quality of the DEM.\n"
   ]
  },
  {
   "cell_type": "code",
   "execution_count": 3,
   "metadata": {},
   "outputs": [],
   "source": [
    "import os, sys, json, logging, importlib\n",
    "\n",
    "import rasterio\n",
    "import pandas as pd\n",
    "import geopandas as gpd\n",
    "import numpy as np\n",
    "import matplotlib.pyplot as plt\n",
    "\n",
    "#Get reference to GOSTRocks\n",
    "sys.path.append(\"../../../gostrocks/src\")\n",
    "sys.path.append('../../')\n",
    "\n",
    "import GOSTRocks.rasterMisc as rMisc\n",
    "import src.WSF.wsfdata as wsfdata"
   ]
  },
  {
   "cell_type": "code",
   "execution_count": 4,
   "metadata": {},
   "outputs": [],
   "source": [
    "%matplotlib inline"
   ]
  },
  {
   "cell_type": "code",
   "execution_count": 5,
   "metadata": {},
   "outputs": [],
   "source": [
    "inWSF_folder = \"/home/public/Data/PROJECTS/LEI/DLR_V2\"\n",
    "outWSF_folder = \"/home/wb411133/data/Global/WSF\"\n",
    "\n",
    "#Get a list of cities\n",
    "allCities = {}\n",
    "for root, dirs, files in os.walk(inWSF_folder):\n",
    "    for f in files:\n",
    "        if f[-4:] == \".tif\":\n",
    "            cityName = f.split(\"_\")[0]\n",
    "            if not cityName in allCities.keys():\n",
    "                allCities[cityName] = [os.path.join(root, f)]\n",
    "            else:\n",
    "                allCities[cityName].append(os.path.join(root, f))"
   ]
  },
  {
   "cell_type": "code",
   "execution_count": 6,
   "metadata": {},
   "outputs": [
    {
     "data": {
      "text/plain": [
       "396"
      ]
     },
     "execution_count": 6,
     "metadata": {},
     "output_type": "execute_result"
    }
   ],
   "source": [
    "len(allCities.keys())"
   ]
  },
  {
   "cell_type": "code",
   "execution_count": 7,
   "metadata": {},
   "outputs": [
    {
     "name": "stderr",
     "output_type": "stream",
     "text": [
      "../../src/WSF/wsfdata.py:121: FutureWarning: elementwise comparison failed; returning scalar instead, but in the future will perform elementwise comparison\n",
      "  if dataset == \"normal\":\n"
     ]
    }
   ],
   "source": [
    "curCity = \"Accra\"\n",
    "thresh = 3\n",
    "wsfD = wsfdata.wsf_dataset(allCities[curCity])"
   ]
  },
  {
   "cell_type": "code",
   "execution_count": 11,
   "metadata": {},
   "outputs": [],
   "source": [
    "wsfD.summarize_idc?"
   ]
  },
  {
   "cell_type": "code",
   "execution_count": 10,
   "metadata": {},
   "outputs": [],
   "source": [
    "wsfD.correct_evolution_idc?"
   ]
  },
  {
   "cell_type": "code",
   "execution_count": 9,
   "metadata": {},
   "outputs": [],
   "source": [
    "wsfD.analyze_idc?"
   ]
  },
  {
   "cell_type": "code",
   "execution_count": 12,
   "metadata": {},
   "outputs": [],
   "source": [
    "wsfD.generate_evolution_plot?"
   ]
  },
  {
   "cell_type": "code",
   "execution_count": null,
   "metadata": {},
   "outputs": [],
   "source": [
    "builtData = wsfD.generate_evolution_plot()\n",
    "builtData['idcQuality'] = wsfD.summarize_idc(thresh=thresh)\n",
    "\n",
    "outFolder = os.path.join(outWSF_folder, curCity)\n",
    "if not os.path.exists(outFolder):\n",
    "    os.makedirs(outFolder)\n",
    "outQuality = os.path.join(outFolder, \"quality_assessment_%s.tif\" % thresh)\n",
    "correctedEvolution = os.path.join(outFolder, \"corrected_evolution_%s.tif\" % thresh)\n",
    "\n",
    "if not os.path.exists(outQuality):\n",
    "    qualityRes = wsfD.analyze_idc(outFile=outQuality, badThreshold=thresh) \n",
    "\n",
    "correctedRes = wsfD.correct_evolution_idc(outfile=correctedEvolution, badThreshold=thresh)\n",
    "\n",
    "basePlot = wsfD.generate_evolution_plot()\n",
    "correctedPlot = wsfD.generate_evolution_plot(dataset=correctedRes)\n",
    "basePlot['corrected'] = correctedPlot['cumBuilt']"
   ]
  },
  {
   "cell_type": "code",
   "execution_count": 13,
   "metadata": {},
   "outputs": [
    {
     "data": {
      "text/plain": [
       "<matplotlib.axes._subplots.AxesSubplot at 0x7f080fbd4630>"
      ]
     },
     "execution_count": 13,
     "metadata": {},
     "output_type": "execute_result"
    },
    {
     "data": {
      "image/png": "[encoded data removed]",
      "text/plain": [
       "<Figure size 432x288 with 1 Axes>"
      ]
     },
     "metadata": {
      "needs_background": "light"
     },
     "output_type": "display_data"
    }
   ],
   "source": [
    "basePlot.drop('built', axis=1).plot()"
   ]
  },
  {
   "cell_type": "code",
   "execution_count": 14,
   "metadata": {},
   "outputs": [
    {
     "data": {
      "text/plain": [
       "<matplotlib.axes._subplots.AxesSubplot at 0x7f080fa88ba8>"
      ]
     },
     "execution_count": 14,
     "metadata": {},
     "output_type": "execute_result"
    },
    {
     "data": {
      "image/png": "[encoded data removed]",
      "text/plain": [
       "<Figure size 432x288 with 1 Axes>"
      ]
     },
     "metadata": {
      "needs_background": "light"
     },
     "output_type": "display_data"
    }
   ],
   "source": [
    "basePlot['cumBuilt'].plot()"
   ]
  },
  {
   "cell_type": "code",
   "execution_count": 16,
   "metadata": {},
   "outputs": [
    {
     "name": "stdout",
     "output_type": "stream",
     "text": [
      "Error processing: Jaipur\n",
      "Error processing: Jaipur\n",
      "Error processing: Jaipur\n",
      "Error processing: Jaipur\n",
      "Error processing: Jaipur\n"
     ]
    }
   ],
   "source": [
    "#Loop through all the cities to process the results\n",
    "importlib.reload(wsfdata)\n",
    "allRes = []\n",
    "for thresh in [2,3,4,5,6]:\n",
    "    for curCity in ['Accra']allCities.keys():        \n",
    "        if len(allCities[curCity]) > 1:\n",
    "            try:\n",
    "                wsfD = wsfdata.wsf_dataset(allCities[curCity])\n",
    "                builtData = wsfD.generate_evolution_plot()\n",
    "                builtData['idcQuality'] = wsfD.summarize_idc(thresh=thresh)\n",
    "                allData = list(builtData[builtData.columns[1]].append(builtData[builtData.columns[2]]))\n",
    "                allData.append(curCity)\n",
    "                allRes.append(allData)\n",
    "            except:\n",
    "                print('Error processing: %s' % curCity)\n",
    "            ''' UNCOMMENT THIS to GENERATE PLOTS\n",
    "            #Plotting and correcting below\n",
    "            outFolder = os.path.join(outWSF_folder, curCity)\n",
    "            if not os.path.exists(outFolder):\n",
    "                os.makedirs(outFolder)\n",
    "            outQuality = os.path.join(outFolder, \"quality_assessment_%s.tif\" % thresh)\n",
    "            correctedEvolution = os.path.join(outFolder, \"corrected_evolution_%s.tif\" % thresh)\n",
    "\n",
    "            if not os.path.exists(outQuality):\n",
    "                qualityRes = wsfD.analyze_idc(outFile=outQuality, badThreshold=thresh) \n",
    "\n",
    "            correctedRes = wsfD.correct_evolution_idc(outfile=correctedEvolution, badThreshold=thresh)\n",
    "\n",
    "            basePlot = wsfD.generate_evolution_plot()\n",
    "            correctedPlot = wsfD.generate_evolution_plot(dataset=correctedRes)\n",
    "            basePlot['corrected'] = correctedPlot['cumBuilt']\n",
    "            '''\n",
    "    builtCols   = [\"%s_%s\" % (builtData.columns[1], x) for x in builtData.index]\n",
    "    qualityCols = [\"%s_%s\" % (builtData.columns[2], x) for x in builtData.index]\n",
    "    columns = (builtCols + qualityCols)\n",
    "    columns.append(\"CITY\")\n",
    "\n",
    "    finalRes = pd.DataFrame(allRes)\n",
    "    finalRes.columns = columns\n",
    "    finalRes.to_csv(os.path.join(outWSF_folder, \"compiled_WSF_quality_%s_v2.csv\" % thresh))"
   ]
  },
  {
   "cell_type": "code",
   "execution_count": 20,
   "metadata": {},
   "outputs": [
    {
     "data": {
      "text/plain": [
       "'/home/wb411133/data/Global/WSF'"
      ]
     },
     "execution_count": 20,
     "metadata": {},
     "output_type": "execute_result"
    }
   ],
   "source": [
    "outWSF_folder"
   ]
  },
  {
   "cell_type": "markdown",
   "metadata": {},
   "source": [
    "# Debugging Below"
   ]
  },
  {
   "cell_type": "code",
   "execution_count": null,
   "metadata": {},
   "outputs": [],
   "source": [
    "importlib.reload(wsfdata)\n",
    "wsfD = wsfdata.wsf_dataset(allCities[curCity])\n",
    "evolution = rasterio.open(wsfD.evolution).read()\n",
    "idc = rasterio.open(wsfD.evolution_idc).read()"
   ]
  },
  {
   "cell_type": "code",
   "execution_count": null,
   "metadata": {},
   "outputs": [],
   "source": [
    "allCities.keys()"
   ]
  },
  {
   "cell_type": "code",
   "execution_count": null,
   "metadata": {},
   "outputs": [],
   "source": [
    "\n"
   ]
  },
  {
   "cell_type": "code",
   "execution_count": null,
   "metadata": {},
   "outputs": [],
   "source": [
    "totalCells = (evolution[0,:,:] > 0).sum()\n",
    "allRes = []\n",
    "for idx in range(0, evolution_masked.shape[0]):\n",
    "    allRes.append((evolution_masked[idx,:,:] < thresh).sum() / totalCells)"
   ]
  },
  {
   "cell_type": "code",
   "execution_count": null,
   "metadata": {},
   "outputs": [],
   "source": [
    "allCities['Houston'][3]"
   ]
  },
  {
   "cell_type": "code",
   "execution_count": null,
   "metadata": {},
   "outputs": [],
   "source": [
    "from rasterio.features import shapes\n",
    "from shapely.geometry import shape\n",
    "import geojson, json\n",
    "### Testing new WSF work using rasterio\n",
    "inFile = allCities['Houston'][3]\n",
    "inD = rasterio.open(inFile)\n",
    "x = inD.read()"
   ]
  },
  {
   "cell_type": "code",
   "execution_count": null,
   "metadata": {},
   "outputs": [],
   "source": [
    "# generate two datasets based on new and old built area\n",
    "oldDate = 2000\n",
    "newDate = 2015\n",
    "\n",
    "oldD = (x < oldDate) * (x > 0)\n",
    "newD = (x > oldDate) * (x < newDate)\n",
    "\n",
    "newBuilt_shapes = shapes(newD.astype(np.int16), transform = inD.transform)\n",
    "allGeoms = [shape(geojson.loads(json.dumps(xx[0]))) for xx in newBuilt_shapes if xx[1] != 0]\n",
    "curDF = gpd.GeoDataFrame(pd.DataFrame({\"Date\":[newDate] * len(allGeoms)}), geometry=allGeoms)    "
   ]
  },
  {
   "cell_type": "code",
   "execution_count": null,
   "metadata": {},
   "outputs": [],
   "source": []
  },
  {
   "cell_type": "code",
   "execution_count": null,
   "metadata": {},
   "outputs": [],
   "source": []
  },
  {
   "cell_type": "code",
   "execution_count": null,
   "metadata": {},
   "outputs": [],
   "source": []
  }
 ],
 "metadata": {
  "kernelspec": {
   "display_name": "Python (geog)",
   "language": "python",
   "name": "geog"
  },
  "language_info": {
   "codemirror_mode": {
    "name": "ipython",
    "version": 3
   },
   "file_extension": ".py",
   "mimetype": "text/x-python",
   "name": "python",
   "nbconvert_exporter": "python",
   "pygments_lexer": "ipython3",
   "version": "3.7.1"
  }
 },
 "nbformat": 4,
 "nbformat_minor": 2
}
