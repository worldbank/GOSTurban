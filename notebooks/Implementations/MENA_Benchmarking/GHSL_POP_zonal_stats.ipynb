{
 "cells": [
  {
   "cell_type": "code",
   "execution_count": 1,
   "id": "c9e93d9c",
   "metadata": {},
   "outputs": [
    {
     "name": "stderr",
     "output_type": "stream",
     "text": [
      "/home/wb411133/.conda/envs/ee/lib/python3.9/site-packages/geopandas/_compat.py:106: UserWarning: The Shapely GEOS version (3.9.1-CAPI-1.14.2) is incompatible with the GEOS version PyGEOS was compiled with (3.10.4-CAPI-1.16.2). Conversions between both will be slow.\n",
      "  warnings.warn(\n"
     ]
    }
   ],
   "source": [
    "import sys\n",
    "import os\n",
    "import rasterio\n",
    "\n",
    "import geopandas as gpd\n",
    "import pandas as pd\n",
    "\n",
    "sys.path.append(\"/home/wb411133/Code/GOSTrocks/src\")\n",
    "\n",
    "import GOSTrocks.ntlMisc as ntlMisc\n",
    "import GOSTrocks.rasterMisc as rMisc\n",
    "from GOSTrocks.misc import tPrint"
   ]
  },
  {
   "cell_type": "code",
   "execution_count": 2,
   "id": "f808de90",
   "metadata": {},
   "outputs": [],
   "source": [
    "data_folder = \"s3://wbg-geography01/URBANIZATION/MENA/Extents/\"\n",
    "ucdb_file       = \"/home/wb411133/Code/GOSTurban/GHS_STAT_UCDB2015MT_GLOBE_R2019A_V1_2.gpkg\"\n",
    "fua_file        = os.path.join(data_folder, \"GHS_FUA_UCDB2015_GLOBE_R2019A_54009_1K_V1_0.gpkg\")\n",
    "fua_peripheries = os.path.join(data_folder, \"FUA_peripheries.gpkg\")"
   ]
  },
  {
   "cell_type": "code",
   "execution_count": 3,
   "id": "3f1ec746",
   "metadata": {},
   "outputs": [
    {
     "data": {
      "text/plain": [
       "\"inP = gpd.read_file(fua_peripheries)\\ninP = inP.to_crs(inU.crs)\\ninP['geometry'] = inP.buffer(0)\\n\""
      ]
     },
     "execution_count": 3,
     "metadata": {},
     "output_type": "execute_result"
    }
   ],
   "source": [
    "inU = gpd.read_file(ucdb_file)\n",
    "# If the peripheries exists read them in, if not, create them\n",
    "inF = gpd.read_file(fua_file)\n",
    "inF = inF.to_crs(inU.crs)\n",
    "\n",
    "'''inP = gpd.read_file(fua_peripheries)\n",
    "inP = inP.to_crs(inU.crs)\n",
    "inP['geometry'] = inP.buffer(0)\n",
    "'''"
   ]
  },
  {
   "cell_type": "code",
   "execution_count": null,
   "id": "f954d4c4",
   "metadata": {},
   "outputs": [],
   "source": [
    "ghsl_folder = \"/home/public/Data/GLOBAL/GHSL/Built\"\n",
    "ghsl_files = [x for x in os.listdir(ghsl_folder) if x.endswith(\".tif\")]"
   ]
  },
  {
   "cell_type": "code",
   "execution_count": null,
   "id": "d9caba75",
   "metadata": {},
   "outputs": [],
   "source": [
    "out_folder = \"s3://wbg-geography01/URBANIZATION/MENA/ZONAL_RES/GHSL\"\n",
    "fua_res_file = os.path.join(out_folder, \"fua_ntl_zonal.csv\")\n",
    "core_res_file = os.path.join(out_folder, \"core_ntl_zonal.csv\")\n",
    "\n",
    "fua_zonal = inF.copy()\n",
    "core_zonal = inU.copy()\n",
    "for ghsl_file in ghsl_files:\n",
    "    year = ghsl_file.split(\"_\")[3][1:]\n",
    "    inR = rasterio.open(os.path.join(ghsl_folder, ghsl_file))\n",
    "    if inF.crs != inR.crs:\n",
    "        inF = inF.to_crs(inR.crs)\n",
    "        tPrint(\"Reprojected FUAs\")\n",
    "    if inU.crs != inR.crs:\n",
    "        inU = inU.to_crs(inR.crs)\n",
    "        tPrint(\"Reprojected Cores\")\n",
    "    # Run zonal on FUA\n",
    "    fua_res = rMisc.zonalStats(inF, inR, minVal=0, maxVal=10000)\n",
    "    fua_res = pd.DataFrame(fua_res, columns = ['SUM', 'MIN', 'MAX', 'MEAN'])\n",
    "    fua_zonal[f'ghsl_{year}'] = fua_res['SUM']\n",
    "    # Run zonal on core\n",
    "    core_res = rMisc.zonalStats(inU, inR, minVal=0, maxVal=10000)\n",
    "    core_res = pd.DataFrame(fua_res, columns = ['SUM', 'MIN', 'MAX', 'MEAN'])\n",
    "    core_zonal[f'ghsl_{year}'] = core_res['SUM']\n",
    "    tPrint(f\"Completed {year}\")\n",
    "core_zonal.to_csv(core_res_file)    \n",
    "fua_zonal.to_csv(fua_res_file)"
   ]
  },
  {
   "cell_type": "markdown",
   "id": "e9115976",
   "metadata": {},
   "source": [
    "# Population stats"
   ]
  },
  {
   "cell_type": "code",
   "execution_count": 4,
   "id": "f646421c",
   "metadata": {},
   "outputs": [],
   "source": [
    "ghs_pop_folder = \"/home/public/Data/GLOBAL/GHSL/Pop\""
   ]
  },
  {
   "cell_type": "code",
   "execution_count": null,
   "id": "71bc0155",
   "metadata": {},
   "outputs": [],
   "source": [
    "'''# Downlaod and unzip GHS_POP data\n",
    "import urllib.request\n",
    "import zipfile\n",
    "url_path_base = \"https://jeodpp.jrc.ec.europa.eu/ftp/jrc-opendata/GHSL/GHS_POP_GLOBE_R2023A/GHS_POP_E{year}_GLOBE_R2023A_54009_1000/V1-0/GHS_POP_E{year}_GLOBE_R2023A_54009_1000_V1_0.zip\"\n",
    "for year in range(1975, 2021, 5):\n",
    "    url_path = url_path_base.format(year=year)    \n",
    "    out_file = os.path.join(ghs_pop_folder, os.path.basename(url_path))\n",
    "    if not os.path.exists(out_file)\n",
    "        urllib.request.urlretrieve(url_path, out_file)\n",
    "    tPrint(out_file)\n",
    "zip_files = [x for x in os.listdir(ghs_pop_folder) if x.endswith(\"0.zip\")]\n",
    "for zip_file in zip_files:\n",
    "    with zipfile.ZipFile(os.path.join(ghs_pop_folder, zip_file), 'r') as zip_ref:\n",
    "        zip_ref.extractall(ghs_pop_folder)\n",
    "    tPrint(zip_file)\n",
    "for zip_file in zip_files:\n",
    "    os.remove(os.path.join(ghs_pop_folder, zip_file))\n",
    "    \n",
    "'''"
   ]
  },
  {
   "cell_type": "code",
   "execution_count": 5,
   "id": "703c8903",
   "metadata": {},
   "outputs": [
    {
     "name": "stdout",
     "output_type": "stream",
     "text": [
      "10:55:26\tReprojected FUAs\n",
      "10:55:26\tReprojected Cores\n",
      "10:56:08\tCompleted 2030\n",
      "10:56:50\tCompleted 1975\n",
      "10:57:32\tCompleted 1980\n",
      "10:58:14\tCompleted 1985\n",
      "10:58:56\tCompleted 1990\n",
      "10:59:38\tCompleted 1995\n",
      "11:00:21\tCompleted 2000\n",
      "11:01:03\tCompleted 2005\n",
      "11:01:44\tCompleted 2010\n",
      "11:02:23\tCompleted 2015\n",
      "11:03:03\tCompleted 2020\n"
     ]
    }
   ],
   "source": [
    "out_folder = \"s3://wbg-geography01/URBANIZATION/MENA/ZONAL_RES/GHSPop\"\n",
    "fua_res_file = os.path.join(out_folder, \"fua_ghspop_zonal.csv\")\n",
    "core_res_file = os.path.join(out_folder, \"core_ghspop_zonal.csv\")\n",
    "ghs_pop_files = [x for x in os.listdir(ghs_pop_folder) if x.endswith(\"1000_V1_0.tif\")]\n",
    "\n",
    "fua_zonal = inF.copy()\n",
    "core_zonal = inU.copy()\n",
    "for ghs_pop_file in ghs_pop_files:\n",
    "    year = ghs_pop_file.split(\"_\")[2][1:]\n",
    "    inR = rasterio.open(os.path.join(ghs_pop_folder, ghs_pop_file))\n",
    "    if inF.crs != inR.crs:\n",
    "        inF = inF.to_crs(inR.crs)\n",
    "        tPrint(\"Reprojected FUAs\")\n",
    "    if inU.crs != inR.crs:\n",
    "        inU = inU.to_crs(inR.crs)\n",
    "        tPrint(\"Reprojected Cores\")\n",
    "    # Run zonal on FUA\n",
    "    fua_res = rMisc.zonalStats(inF, inR, minVal=0)\n",
    "    fua_res = pd.DataFrame(fua_res, columns = ['SUM', 'MIN', 'MAX', 'MEAN'])\n",
    "    fua_zonal[f'ghs_pop_{year}'] = fua_res['SUM']\n",
    "    # Run zonal on core\n",
    "    core_res = rMisc.zonalStats(inU, inR, minVal=0, maxVal=10000)\n",
    "    core_res = pd.DataFrame(fua_res, columns = ['SUM', 'MIN', 'MAX', 'MEAN'])\n",
    "    core_zonal[f'ghs_pop_{year}'] = core_res['SUM']\n",
    "    tPrint(f\"Completed {year}\")\n",
    "core_zonal.to_csv(core_res_file)    \n",
    "fua_zonal.to_csv(fua_res_file)"
   ]
  },
  {
   "cell_type": "code",
   "execution_count": null,
   "id": "5f02642c",
   "metadata": {},
   "outputs": [],
   "source": []
  }
 ],
 "metadata": {
  "kernelspec": {
   "display_name": "Earth Engine",
   "language": "python",
   "name": "ee"
  },
  "language_info": {
   "codemirror_mode": {
    "name": "ipython",
    "version": 3
   },
   "file_extension": ".py",
   "mimetype": "text/x-python",
   "name": "python",
   "nbconvert_exporter": "python",
   "pygments_lexer": "ipython3",
   "version": "3.9.4"
  }
 },
 "nbformat": 4,
 "nbformat_minor": 5
}
