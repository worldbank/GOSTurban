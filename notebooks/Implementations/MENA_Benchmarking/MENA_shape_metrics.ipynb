{
 "cells": [
  {
   "cell_type": "code",
   "execution_count": 32,
   "metadata": {},
   "outputs": [
    {
     "name": "stdout",
     "output_type": "stream",
     "text": [
      "The autoreload extension is already loaded. To reload it, use:\n",
      "  %reload_ext autoreload\n"
     ]
    }
   ],
   "source": [
    "import sys, os, time\n",
    "\n",
    "import pandas as pd\n",
    "import geopandas as gpd\n",
    "\n",
    "sys.path.append(r\"C:\\WBG\\Work\\Code\\GOSTrocks\\src\")\n",
    "import GOSTrocks.shapeMisc as shapeMisc\n",
    "import GOSTrocks.dataMisc as dMisc\n",
    "from GOSTrocks.misc import tPrint\n",
    "\n",
    "%load_ext autoreload\n",
    "%autoreload 2"
   ]
  },
  {
   "cell_type": "code",
   "execution_count": 2,
   "metadata": {},
   "outputs": [],
   "source": [
    "# Define source data\n",
    "FUA_file = r\"C:\\WBG\\Work\\data\\URBAN\\GHS_FUA_UCDB2015_GLOBE_R2019A_54009_1K_V1_0.gpkg\"\n",
    "admin_lines = r\"C:\\WBG\\Work\\AdminBounds\\Admin0_Polylines_CntryandDisp.shp\"\n",
    "\n",
    "out_folder = r\"C:\\WBG\\Work\\MENA_Urban\\RESULTS\\SHAPE\"\n",
    "if not os.path.exists(out_folder):\n",
    "    os.makedirs(out_folder)\n",
    "inFUA = gpd.read_file(FUA_file)\n",
    "inAdmin = gpd.read_file(admin_lines)\n",
    "inAdmin = inAdmin.to_crs(inFUA.crs)\n",
    "admin_shape = inAdmin.union_all()"
   ]
  },
  {
   "cell_type": "code",
   "execution_count": null,
   "metadata": {},
   "outputs": [],
   "source": [
    "# calculate shape metrics\n",
    "inFUA['area'] = inFUA['geometry'].area\n",
    "inFUA['perimeter'] = inFUA['geometry'].length\n",
    "tPrint(\"Starting Polsby Popper\")\n",
    "inFUA['polsby'] = inFUA['geometry'].apply(lambda x: shapeMisc.polsby_popper(x))\n",
    "tPrint(\"Starting Schwartzberg\")\n",
    "inFUA['schwartzberg'] = inFUA['geometry'].apply(lambda x: shapeMisc.schwartzberg(x))\n",
    "tPrint(\"Finished\")\n",
    "inFUA.head()"
   ]
  },
  {
   "cell_type": "code",
   "execution_count": null,
   "metadata": {},
   "outputs": [],
   "source": [
    "sel_results = inFUA.loc[:,[\"eFUA_ID\",\"area\",\"perimeter\",\"polsby\",\"schwartzberg\"]]\n",
    "pd.DataFrame(sel_results).to_csv(os.path.join(out_folder, \"FUA_shape_metrics.csv\"))"
   ]
  },
  {
   "cell_type": "code",
   "execution_count": 47,
   "metadata": {},
   "outputs": [
    {
     "name": "stdout",
     "output_type": "stream",
     "text": [
      "11:52:46\tStarting distance to admin\n"
     ]
    },
    {
     "data": {
      "text/html": [
       "<div>\n",
       "<style scoped>\n",
       "    .dataframe tbody tr th:only-of-type {\n",
       "        vertical-align: middle;\n",
       "    }\n",
       "\n",
       "    .dataframe tbody tr th {\n",
       "        vertical-align: top;\n",
       "    }\n",
       "\n",
       "    .dataframe thead th {\n",
       "        text-align: right;\n",
       "    }\n",
       "</style>\n",
       "<table border=\"1\" class=\"dataframe\">\n",
       "  <thead>\n",
       "    <tr style=\"text-align: right;\">\n",
       "      <th></th>\n",
       "      <th>dist_to_admin</th>\n",
       "      <th>eFUA_name</th>\n",
       "      <th>Cntry_ISO</th>\n",
       "    </tr>\n",
       "    <tr>\n",
       "      <th>eFUA_ID</th>\n",
       "      <th></th>\n",
       "      <th></th>\n",
       "      <th></th>\n",
       "    </tr>\n",
       "  </thead>\n",
       "  <tbody>\n",
       "    <tr>\n",
       "      <th>3069.0</th>\n",
       "      <td>0.0</td>\n",
       "      <td>Hyesan</td>\n",
       "      <td>PRK</td>\n",
       "    </tr>\n",
       "    <tr>\n",
       "      <th>344.0</th>\n",
       "      <td>0.0</td>\n",
       "      <td>Paysandú</td>\n",
       "      <td>URY</td>\n",
       "    </tr>\n",
       "    <tr>\n",
       "      <th>1308.0</th>\n",
       "      <td>0.0</td>\n",
       "      <td>Modi'in Illit</td>\n",
       "      <td>ISR</td>\n",
       "    </tr>\n",
       "    <tr>\n",
       "      <th>5233.0</th>\n",
       "      <td>0.0</td>\n",
       "      <td>Pweto</td>\n",
       "      <td>COD</td>\n",
       "    </tr>\n",
       "    <tr>\n",
       "      <th>1690.0</th>\n",
       "      <td>0.0</td>\n",
       "      <td>Como</td>\n",
       "      <td>ITA</td>\n",
       "    </tr>\n",
       "    <tr>\n",
       "      <th>4576.0</th>\n",
       "      <td>0.0</td>\n",
       "      <td>Ciudad Juárez</td>\n",
       "      <td>USA</td>\n",
       "    </tr>\n",
       "    <tr>\n",
       "      <th>3487.0</th>\n",
       "      <td>0.0</td>\n",
       "      <td>N'Djamena</td>\n",
       "      <td>CMR</td>\n",
       "    </tr>\n",
       "    <tr>\n",
       "      <th>1287.0</th>\n",
       "      <td>0.0</td>\n",
       "      <td>Saarbruecken</td>\n",
       "      <td>DEU</td>\n",
       "    </tr>\n",
       "    <tr>\n",
       "      <th>3475.0</th>\n",
       "      <td>0.0</td>\n",
       "      <td>Rishtan</td>\n",
       "      <td>UZB</td>\n",
       "    </tr>\n",
       "    <tr>\n",
       "      <th>6284.0</th>\n",
       "      <td>0.0</td>\n",
       "      <td>Gaza</td>\n",
       "      <td>EGY</td>\n",
       "    </tr>\n",
       "  </tbody>\n",
       "</table>\n",
       "</div>"
      ],
      "text/plain": [
       "         dist_to_admin      eFUA_name Cntry_ISO\n",
       "eFUA_ID                                        \n",
       "3069.0             0.0         Hyesan       PRK\n",
       "344.0              0.0       Paysandú       URY\n",
       "1308.0             0.0  Modi'in Illit       ISR\n",
       "5233.0             0.0          Pweto       COD\n",
       "1690.0             0.0           Como       ITA\n",
       "4576.0             0.0  Ciudad Juárez       USA\n",
       "3487.0             0.0      N'Djamena       CMR\n",
       "1287.0             0.0   Saarbruecken       DEU\n",
       "3475.0             0.0        Rishtan       UZB\n",
       "6284.0             0.0           Gaza       EGY"
      ]
     },
     "execution_count": 47,
     "metadata": {},
     "output_type": "execute_result"
    }
   ],
   "source": [
    "# Calculate distance from FUAs to nearest admin boundary\n",
    "base_url =  \"https://geowb.worldbank.org/hosting/rest/services/Hosted/WB_GAD_Medium_Resolution/FeatureServer\"\n",
    "layer = 0\n",
    "admin_lines = dMisc.gdf_esri_service(base_url, layer)\n",
    "\n",
    "tPrint(\"Starting distance to admin\")\n",
    "admin_lines = admin_lines.to_crs(inFUA.crs)\n",
    "fua_joined = gpd.sjoin_nearest(inFUA, admin_lines, distance_col='dist_to_admin')\n",
    "fua_summarized = fua_joined.groupby('eFUA_ID').agg({'dist_to_admin':'min', 'eFUA_name':'first', 'Cntry_ISO':'first'})\n",
    "fua_summarized.sort_values('dist_to_admin', ascending=True).head(10)"
   ]
  },
  {
   "cell_type": "code",
   "execution_count": 48,
   "metadata": {},
   "outputs": [],
   "source": [
    "fua_summarized.to_csv(os.path.join(out_folder, \"FUA_dist_to_admin.csv\"))\n"
   ]
  }
 ],
 "metadata": {
  "kernelspec": {
   "display_name": "s2s",
   "language": "python",
   "name": "python3"
  },
  "language_info": {
   "codemirror_mode": {
    "name": "ipython",
    "version": 3
   },
   "file_extension": ".py",
   "mimetype": "text/x-python",
   "name": "python",
   "nbconvert_exporter": "python",
   "pygments_lexer": "ipython3",
   "version": "3.11.10"
  }
 },
 "nbformat": 4,
 "nbformat_minor": 2
}
