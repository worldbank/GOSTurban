{
 "cells": [
  {
   "cell_type": "code",
   "execution_count": null,
   "metadata": {},
   "outputs": [],
   "source": [
    "import sys\n",
    "import os\n",
    "\n",
    "import pandas as pd\n",
    "import geopandas as gpd\n",
    "\n",
    "sys.path.append(r\"C:\\WBG\\Work\\Code\\GOSTrocks\\src\")\n",
    "import GOSTrocks.shapeMisc as shapeMisc\n",
    "import GOSTrocks.dataMisc as dMisc\n",
    "from GOSTrocks.misc import tPrint\n",
    "\n",
    "%load_ext autoreload\n",
    "%autoreload 2"
   ]
  },
  {
   "cell_type": "code",
   "execution_count": null,
   "metadata": {},
   "outputs": [],
   "source": [
    "# Define source data\n",
    "FUA_file = r\"C:\\WBG\\Work\\data\\URBAN\\GHS_FUA_UCDB2015_GLOBE_R2019A_54009_1K_V1_0.gpkg\"\n",
    "admin_lines = r\"C:\\WBG\\Work\\AdminBounds\\Admin0_Polylines_CntryandDisp.shp\"\n",
    "\n",
    "out_folder = r\"C:\\WBG\\Work\\MENA_Urban\\RESULTS\\SHAPE\"\n",
    "if not os.path.exists(out_folder):\n",
    "    os.makedirs(out_folder)\n",
    "inFUA = gpd.read_file(FUA_file)\n",
    "inAdmin = gpd.read_file(admin_lines)\n",
    "inAdmin = inAdmin.to_crs(inFUA.crs)\n",
    "admin_shape = inAdmin.union_all()"
   ]
  },
  {
   "cell_type": "code",
   "execution_count": null,
   "metadata": {},
   "outputs": [],
   "source": [
    "# calculate shape metrics\n",
    "inFUA[\"area\"] = inFUA[\"geometry\"].area\n",
    "inFUA[\"perimeter\"] = inFUA[\"geometry\"].length\n",
    "tPrint(\"Starting Polsby Popper\")\n",
    "inFUA[\"polsby\"] = inFUA[\"geometry\"].apply(lambda x: shapeMisc.polsby_popper(x))\n",
    "tPrint(\"Starting Schwartzberg\")\n",
    "inFUA[\"schwartzberg\"] = inFUA[\"geometry\"].apply(lambda x: shapeMisc.schwartzberg(x))\n",
    "tPrint(\"Finished\")\n",
    "inFUA.head()"
   ]
  },
  {
   "cell_type": "code",
   "execution_count": null,
   "metadata": {},
   "outputs": [],
   "source": [
    "sel_results = inFUA.loc[:, [\"eFUA_ID\", \"area\", \"perimeter\", \"polsby\", \"schwartzberg\"]]\n",
    "pd.DataFrame(sel_results).to_csv(os.path.join(out_folder, \"FUA_shape_metrics.csv\"))"
   ]
  },
  {
   "cell_type": "code",
   "execution_count": null,
   "metadata": {},
   "outputs": [],
   "source": [
    "# Calculate distance from FUAs to nearest admin boundary\n",
    "base_url = \"https://geowb.worldbank.org/hosting/rest/services/Hosted/WB_GAD_Medium_Resolution/FeatureServer\"\n",
    "layer = 0\n",
    "admin_lines = dMisc.gdf_esri_service(base_url, layer)\n",
    "\n",
    "tPrint(\"Starting distance to admin\")\n",
    "admin_lines = admin_lines.to_crs(inFUA.crs)\n",
    "fua_joined = gpd.sjoin_nearest(inFUA, admin_lines, distance_col=\"dist_to_admin\")\n",
    "fua_summarized = fua_joined.groupby(\"eFUA_ID\").agg(\n",
    "    {\"dist_to_admin\": \"min\", \"eFUA_name\": \"first\", \"Cntry_ISO\": \"first\"}\n",
    ")\n",
    "fua_summarized.sort_values(\"dist_to_admin\", ascending=True).head(10)"
   ]
  },
  {
   "cell_type": "code",
   "execution_count": null,
   "metadata": {},
   "outputs": [],
   "source": [
    "fua_summarized.to_csv(os.path.join(out_folder, \"FUA_dist_to_admin.csv\"))"
   ]
  }
 ],
 "metadata": {
  "kernelspec": {
   "display_name": "s2s",
   "language": "python",
   "name": "python3"
  },
  "language_info": {
   "codemirror_mode": {
    "name": "ipython",
    "version": 3
   },
   "file_extension": ".py",
   "mimetype": "text/x-python",
   "name": "python",
   "nbconvert_exporter": "python",
   "pygments_lexer": "ipython3",
   "version": "3.11.10"
  }
 },
 "nbformat": 4,
 "nbformat_minor": 2
}
