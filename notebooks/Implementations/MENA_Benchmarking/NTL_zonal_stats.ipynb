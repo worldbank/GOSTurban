{
 "cells": [
  {
   "cell_type": "markdown",
   "metadata": {},
   "source": [
    "# Benchmarking cities in MENA\n",
    "\n",
    "In support of an upcoming Urban flagship report, the MENA team is looking for a series of zonal statistics:\n",
    "\n",
    "- Nighttime Lights, Population, and built-area:  \n",
    "  - Entire FUA  \n",
    "  - Its associated urban center / “core”  \n",
    "  - Associated “periphery”  \n",
    "\n",
    "The unit of analysis is the Functional Urban Areas (FUAs) from the [UCDB Database](https://human-settlement.emergency.copernicus.eu/ghs_stat_ucdb2015mt_r2019a.php). For each FUA, we need to grab the associated urban periphary (lower threshold urban areas)"
   ]
  },
  {
   "cell_type": "code",
   "execution_count": null,
   "metadata": {},
   "outputs": [],
   "source": [
    "import sys\n",
    "import os\n",
    "\n",
    "import geopandas as gpd\n",
    "\n",
    "\n",
    "sys.path.append(\"C:/WBG/Work/Code/GOSTrocks/src\")"
   ]
  },
  {
   "cell_type": "code",
   "execution_count": null,
   "metadata": {},
   "outputs": [],
   "source": [
    "data_folder = \"C:/WBG/Work/data\"\n",
    "ucdb_file = os.path.join(\n",
    "    data_folder,\n",
    "    \"URBAN\",\n",
    "    \"GHS_STAT_UCDB2015MT_GLOBE_R2019A\",\n",
    "    \"GHS_STAT_UCDB2015MT_GLOBE_R2019A_V1_2.gpkg\",\n",
    ")\n",
    "fua_file = os.path.join(\n",
    "    data_folder, \"URBAN\", \"GHS_FUA_UCDB2015_GLOBE_R2019A_54009_1K_V1_0.gpkg\"\n",
    ")\n",
    "\n",
    "out_folder = \"C:/WBG/Work/MENA_Urban/\"\n",
    "urban_res_folder = os.path.join(out_folder, \"urban_data\")\n",
    "\n",
    "for out_folder in [urban_res_folder]:\n",
    "    if not os.path.exists(out_folder):\n",
    "        os.makedirs(out_folder)\n",
    "\n",
    "urban_periphary_file = os.path.join(urban_res_folder, \"urban_periphary.gpkg\")\n",
    "urban_core_file = os.path.join(urban_res_folder, \"urban_core.gpkg\")"
   ]
  },
  {
   "cell_type": "code",
   "execution_count": null,
   "metadata": {},
   "outputs": [],
   "source": [
    "inD = gpd.read_file(ucdb_file)\n",
    "inF = gpd.read_file(fua_file)\n",
    "inD = inD.to_crs(inF.crs)"
   ]
  },
  {
   "cell_type": "code",
   "execution_count": null,
   "metadata": {},
   "outputs": [],
   "source": [
    "inF.head()"
   ]
  },
  {
   "cell_type": "code",
   "execution_count": null,
   "metadata": {},
   "outputs": [],
   "source": [
    "fua_peripheries = inF.copy()\n",
    "for idx, row in inF.iterrows():\n",
    "    # grab the related UCDBs\n",
    "    ucdb_ids = row[\"UC_IDs\"].split(\";\")\n",
    "    ucdb_ids = [int(x) for x in ucdb_ids]\n",
    "    sel_cores = inD.loc[inD[\"ID_HDC_G0\"].isin(ucdb_ids)]\n",
    "    periphery_geom = row[\"geometry\"].difference(sel_cores.unary_union)\n",
    "    fua_peripheries.loc[idx, \"geometry\"] = periphery_geom\n",
    "\n",
    "fua_peripheries.to_file(os.path.join(out_folder, \"FUA_peripheries.gpkg\"), driver=\"GPKG\")"
   ]
  }
 ],
 "metadata": {
  "kernelspec": {
   "display_name": "urban_test",
   "language": "python",
   "name": "python3"
  },
  "language_info": {
   "codemirror_mode": {
    "name": "ipython",
    "version": 3
   },
   "file_extension": ".py",
   "mimetype": "text/x-python",
   "name": "python",
   "nbconvert_exporter": "python",
   "pygments_lexer": "ipython3",
   "version": "3.12.2"
  }
 },
 "nbformat": 4,
 "nbformat_minor": 2
}
