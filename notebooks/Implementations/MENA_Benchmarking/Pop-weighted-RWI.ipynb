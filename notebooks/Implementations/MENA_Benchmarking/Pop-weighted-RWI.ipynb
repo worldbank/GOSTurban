{
 "cells": [
  {
   "cell_type": "code",
   "execution_count": 8,
   "metadata": {},
   "outputs": [],
   "source": [
    "import sys, os, time\n",
    "import rasterio\n",
    "import boto3\n",
    "import certifi\n",
    "import mercantile\n",
    "\n",
    "import pandas as pd\n",
    "import geopandas as gpd\n",
    "\n",
    "from rasterio.session import AWSSession\n",
    "from shapely.geometry import Point, box\n",
    "from botocore import UNSIGNED\n",
    "from botocore.config import Config\n",
    "\n",
    "sys.path.append(r\"C:\\WBG\\Work\\Code\\GOSTrocks\\src\")\n",
    "import GOSTrocks.rasterMisc as rMisc\n",
    "\n",
    "s3_client = boto3.client('s3', config=Config(signature_version=UNSIGNED), verify=False)\n",
    "from rasterio.session import AWSSession\n",
    "\n",
    "rasterio_session = AWSSession(aws_unsigned=True)\n",
    "\n",
    "def tPrint(s):\n",
    "    \"\"\"prints the time along with the message\"\"\"\n",
    "    print(\"%s\\t%s\" % (time.strftime(\"%H:%M:%S\"), s))"
   ]
  },
  {
   "cell_type": "code",
   "execution_count": 18,
   "metadata": {},
   "outputs": [],
   "source": [
    "FUA_file = r\"C:\\WBG\\Work\\data\\URBAN\\GHS_FUA_UCDB2015_GLOBE_R2019A_54009_1K_V1_0.gpkg\"\n",
    "\n",
    "fb_aws_bucket = \"dataforgood-fb-data\"\n",
    "fb_key_path = \"csv/month=2019-06/country={ISO3}/type=total_population/{ISO3}_total_population.csv.gz\"\n",
    "\n",
    "rwi_folder = r\"C:\\WBG\\Work\\data\\RWI\\relative-wealth-index-april-2021\"\n",
    "rwi_files = [os.path.join(rwi_folder, f) for f in os.listdir(rwi_folder) if f.endswith(\".csv\")]\n",
    "\n",
    "out_folder = r\"C:\\WBG\\Work\\MENA_Urban\\RESULTS\\RWI\"\n",
    "# Read in hrsl rasters\n",
    "hrsl_file = \"s3://dataforgood-fb-data/hrsl-cogs/hrsl_general/hrsl_general-latest.vrt\"\n",
    "\n",
    "inFUA = gpd.read_file(FUA_file)\n",
    "inFUA = inFUA.to_crs(4326)"
   ]
  },
  {
   "cell_type": "code",
   "execution_count": 10,
   "metadata": {},
   "outputs": [],
   "source": [
    "# using mercantile to generate the quadkey tiles\n",
    "zoom_level = 14\n",
    "def get_tiles_from_gdf(gdf, zoom_level):\n",
    "    all_vals = []\n",
    "    for tile in (mercantile.tiles(*gdf.total_bounds, zoom_level)):\n",
    "        quadkey = mercantile.quadkey(tile.x, tile.y, zoom_level)\n",
    "        geometry = box(*mercantile.bounds(tile))\n",
    "        all_vals.append([quadkey, geometry])\n",
    "    ret_val = gpd.GeoDataFrame(pd.DataFrame(all_vals, columns=['pop_quadkey', 'geometry']),\n",
    "                            geometry=\"geometry\", crs=4326)\n",
    "    ret_val = gpd.sjoin(ret_val, inD, how='inner').loc[:,['pop_quadkey', 'geometry']]\n",
    "    return(ret_val)\n"
   ]
  },
  {
   "cell_type": "code",
   "execution_count": 19,
   "metadata": {},
   "outputs": [
    {
     "name": "stdout",
     "output_type": "stream",
     "text": [
      "09:41:48\tProcessing file: BTN\n",
      "09:41:48\tNo FUA data for BTN\n",
      "09:41:48\tProcessing file: DMA\n",
      "09:41:48\tNo FUA data for DMA\n",
      "09:41:48\tProcessing file: EGY\n",
      "09:42:16\tProcessing file: GRD\n",
      "09:42:16\tNo FUA data for GRD\n",
      "09:42:16\tProcessing file: LCA\n",
      "09:42:16\tNo FUA data for LCA\n",
      "09:42:16\tProcessing file: VCT\n",
      "09:42:16\tNo FUA data for VCT\n"
     ]
    }
   ],
   "source": [
    "# Loop through each RWI file and calculate weighted RWI for each FUA\n",
    "with rasterio.Env(session=rasterio_session):\n",
    "    inHRSL = rasterio.open(hrsl_file)\n",
    "    for rwi_file in rwi_files:        \n",
    "        iso3 = os.path.basename(rwi_file)[:3]\n",
    "        out_file = os.path.join(out_folder, f\"{iso3}_rwi_fua_aggregated.csv\")\n",
    "        if not os.path.exists(out_file):\n",
    "            tPrint(f\"Processing file: {iso3}\")\n",
    "            # Read in RWI data, convert to geodata frame\n",
    "            inD  = pd.read_csv(rwi_file)\n",
    "            inD = gpd.GeoDataFrame(inD, geometry=gpd.points_from_xy(inD.longitude, inD.latitude), crs=4326)        \n",
    "            inD['rwi_quadkey'] = inD.apply(lambda x: mercantile.quadkey(mercantile.tile(x.longitude, x.latitude, zoom_level)), axis=1)\n",
    "            inD = gpd.sjoin(inD, inFUA.loc[:,['eFUA_ID', 'geometry']], how='inner')\n",
    "            inD.drop(columns=['index_right'], inplace=True)\n",
    "            if inD.shape[0] > 0:\n",
    "                # get a dataframe of intersecting quadkeys\n",
    "                quadkey_tiles = get_tiles_from_gdf(inD, zoom_level)        \n",
    "                quadkey_tiles = quadkey_tiles.to_crs(inHRSL.crs).reset_index()\n",
    "                # calculate total population in each quadkey\n",
    "                res = rMisc.zonalStats(quadkey_tiles, inHRSL, minVal=0, verbose=False)\n",
    "                res = pd.DataFrame(res, columns=[\"SUM\", \"MIN\", \"MAX\", \"MEAN\"])\n",
    "                quadkey_tiles['pop'] = res.SUM\n",
    "\n",
    "                # Merge quadkey population back to the RWI values\n",
    "                rwi_res = pd.merge(quadkey_tiles.loc[:,['pop_quadkey', 'pop']], inD, left_on='pop_quadkey', right_on='rwi_quadkey', how='inner')\n",
    "                fua_pop = rwi_res.groupby('eFUA_ID').agg({'pop':'sum'}).reset_index()\n",
    "                fua_pop = fua_pop.rename(columns={'pop':'FUA_pop'})\n",
    "                rwi_res = pd.merge(rwi_res.loc[:,['rwi','error','geometry','rwi_quadkey','eFUA_ID', 'pop']], fua_pop, on='eFUA_ID', how='inner')\n",
    "                rwi_res['pop_weight'] = rwi_res['pop'] / rwi_res['FUA_pop']\n",
    "                rwi_res['rwi_weighted'] = rwi_res['rwi'] * rwi_res['pop_weight']\n",
    "                rwi_fua_aggregated = rwi_res.groupby('eFUA_ID').agg({'rwi_weighted':'sum'}).reset_index()\n",
    "                rwi_fua_aggregated.to_csv(out_file, index=False)\n",
    "            else:\n",
    "                tPrint(f\"No FUA data for {iso3}\")\n",
    "            \n"
   ]
  },
  {
   "cell_type": "code",
   "execution_count": 16,
   "metadata": {},
   "outputs": [
    {
     "data": {
      "text/html": [
       "<div>\n",
       "<style scoped>\n",
       "    .dataframe tbody tr th:only-of-type {\n",
       "        vertical-align: middle;\n",
       "    }\n",
       "\n",
       "    .dataframe tbody tr th {\n",
       "        vertical-align: top;\n",
       "    }\n",
       "\n",
       "    .dataframe thead th {\n",
       "        text-align: right;\n",
       "    }\n",
       "</style>\n",
       "<table border=\"1\" class=\"dataframe\">\n",
       "  <thead>\n",
       "    <tr style=\"text-align: right;\">\n",
       "      <th></th>\n",
       "      <th>quadkey</th>\n",
       "      <th>latitude</th>\n",
       "      <th>longitude</th>\n",
       "      <th>rwi</th>\n",
       "      <th>error</th>\n",
       "      <th>geometry</th>\n",
       "      <th>rwi_quadkey</th>\n",
       "      <th>index_right</th>\n",
       "      <th>eFUA_ID</th>\n",
       "    </tr>\n",
       "  </thead>\n",
       "  <tbody>\n",
       "  </tbody>\n",
       "</table>\n",
       "</div>"
      ],
      "text/plain": [
       "Empty GeoDataFrame\n",
       "Columns: [quadkey, latitude, longitude, rwi, error, geometry, rwi_quadkey, index_right, eFUA_ID]\n",
       "Index: []"
      ]
     },
     "execution_count": 16,
     "metadata": {},
     "output_type": "execute_result"
    }
   ],
   "source": [
    "inD  = pd.read_csv(rwi_file)\n",
    "inD = gpd.GeoDataFrame(inD, geometry=gpd.points_from_xy(inD.longitude, inD.latitude), crs=4326)        \n",
    "inD['rwi_quadkey'] = inD.apply(lambda x: mercantile.quadkey(mercantile.tile(x.longitude, x.latitude, zoom_level)), axis=1)\n",
    "inD = gpd.sjoin(inD, inFUA.loc[:,['eFUA_ID', 'geometry']], how='inner')\n",
    "#inD.drop(columns=['index_right'], inplace=True)\n",
    "inD.head()"
   ]
  },
  {
   "cell_type": "code",
   "execution_count": null,
   "metadata": {},
   "outputs": [],
   "source": []
  },
  {
   "cell_type": "code",
   "execution_count": null,
   "metadata": {},
   "outputs": [],
   "source": []
  },
  {
   "cell_type": "code",
   "execution_count": null,
   "metadata": {},
   "outputs": [],
   "source": []
  }
 ],
 "metadata": {
  "kernelspec": {
   "display_name": "s2s",
   "language": "python",
   "name": "python3"
  },
  "language_info": {
   "codemirror_mode": {
    "name": "ipython",
    "version": 3
   },
   "file_extension": ".py",
   "mimetype": "text/x-python",
   "name": "python",
   "nbconvert_exporter": "python",
   "pygments_lexer": "ipython3",
   "version": "3.11.10"
  }
 },
 "nbformat": 4,
 "nbformat_minor": 2
}
