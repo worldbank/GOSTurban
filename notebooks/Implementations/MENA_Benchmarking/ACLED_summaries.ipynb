{
 "cells": [
  {
   "cell_type": "code",
   "execution_count": null,
   "metadata": {},
   "outputs": [],
   "source": [
    "import sys, os, time\n",
    "import pycountry\n",
    "\n",
    "import pandas as pd\n",
    "import geopandas as gpd\n",
    "\n",
    "from tqdm.notebook import tqdm\n",
    "from shapely.geometry import Point\n",
    "\n",
    "sys.path.append(r\"C:\\WBG\\Work\\Code\\GOSTrocks\\src\")\n",
    "import GOSTrocks.dataMisc as dMisc\n",
    "from GOSTrocks.misc import tPrint\n",
    "\n",
    "%load_ext autoreload\n",
    "%autoreload 2"
   ]
  },
  {
   "cell_type": "code",
   "execution_count": null,
   "metadata": {},
   "outputs": [],
   "source": [
    "FUA_file = r\"C:\\WBG\\Work\\data\\URBAN\\GHS_FUA_UCDB2015_GLOBE_R2019A_54009_1K_V1_0.gpkg\"\n",
    "admin_bounds = r\"C:\\WBG\\Work\\AdminBounds\\Admin0_Polys.shp\"\n",
    "\n",
    "out_folder = r\"C:\\WBG\\Work\\MENA_Urban\\RESULTS\\ACLED\"\n",
    "if not os.path.exists(out_folder):\n",
    "    os.makedirs(out_folder)\n",
    "inFUA = gpd.read_file(FUA_file)\n",
    "inAdmin = gpd.read_file(admin_bounds)\n",
    "\n",
    "inFUA = inFUA.to_crs(4326)\n",
    "inAdmin = inAdmin.to_crs(4326)\n",
    "\n",
    "alced_creds = dMisc.get_acled_creds()\n",
    "acled_email = alced_creds['email']\n",
    "acled_key = alced_creds['api_key']"
   ]
  },
  {
   "cell_type": "code",
   "execution_count": null,
   "metadata": {},
   "outputs": [],
   "source": [
    "# Join the FUA to the admin boundaries to find multi-national cities\n",
    "inFUA_joined = gpd.sjoin(inFUA, inAdmin, how='inner')\n",
    "\n",
    "inFUA_joined['MultiISO'] = inFUA_joined.duplicated(subset='eFUA_ID', keep=False)\n",
    "# Create two datasets - simple FUAs are contained within one country, complicated FUAs are multi-national\n",
    "simple_FUA = inFUA_joined.loc[inFUA_joined['MultiISO'] == False]\n",
    "complicated_FUA = inFUA_joined.loc[inFUA_joined['MultiISO'] == True]\n",
    "complicated_FUA.drop_duplicates(subset='eFUA_ID', keep='first', inplace=True)"
   ]
  },
  {
   "cell_type": "code",
   "execution_count": null,
   "metadata": {},
   "outputs": [],
   "source": [
    "simple_FUA.head()"
   ]
  },
  {
   "cell_type": "code",
   "execution_count": null,
   "metadata": {},
   "outputs": [],
   "source": [
    "# For simple FUAs, we will query the ACLED database with the ISO codes\n",
    "for iso3, curData in simple_FUA.groupby('Cntry_ISO'):\n",
    "    out_file = os.path.join(out_folder, '%s_ACLED.csv' % iso3)\n",
    "    if not os.path.exists(out_file):\n",
    "        try:\n",
    "            country_coding = pycountry.countries.get(alpha_3=iso3).numeric\n",
    "        except:\n",
    "            country_coding = 0 #For Kosovo and other potentially unrecognized states\n",
    "        acled_data = dMisc.acled_search(acled_key, acled_email, iso3 = country_coding,\n",
    "                                        fields = ['longitude','latitude','event_type','geo_precision'])\n",
    "        if acled_data.shape[0] > 0:\n",
    "            acled_geom = [Point(x, y) for x, y in zip(acled_data['longitude'], acled_data['latitude'])]\n",
    "            acled_geo = gpd.GeoDataFrame(acled_data, geometry = acled_geom, crs = 4326)\n",
    "            country_res = []\n",
    "            for idx, row in tqdm(curData.iterrows(), total=curData.shape[0], desc='Processing ACLED data for %s' % iso3):\n",
    "                row_df = gpd.GeoDataFrame(row.to_frame().T, geometry='geometry', crs=4326)\n",
    "                row_df.set_index('eFUA_ID', inplace=True)\n",
    "                sel_acled = gpd.sjoin(acled_geo, row_df, how='inner')\n",
    "                if sel_acled.shape[0] > 0:                        \n",
    "                    # Summarize conflict type and geoprecision\n",
    "                    acled_summary = sel_acled.groupby(['event_type', 'geo_precision']).size().reset_index(name='counts')\n",
    "                    acled_summary['Label'] = acled_summary['event_type'] + '_' + acled_summary['geo_precision'].astype(str)\n",
    "                    acled_summary = acled_summary.loc[:,['Label', 'counts']].T\n",
    "                    acled_summary.columns = acled_summary.loc['Label']\n",
    "                    acled_summary = acled_summary.drop('Label')\n",
    "                    acled_summary['eFUA_ID'] = row['eFUA_ID']\n",
    "                    country_res.append(acled_summary)\n",
    "            if len(country_res) > 0:\n",
    "                country_total = pd.concat(country_res)\n",
    "                country_total.to_csv(out_file)\n"
   ]
  },
  {
   "cell_type": "code",
   "execution_count": null,
   "metadata": {},
   "outputs": [],
   "source": [
    "pycountry.countries.get(name=curData['Cntry_name'].iloc[0])"
   ]
  },
  {
   "cell_type": "code",
   "execution_count": null,
   "metadata": {},
   "outputs": [],
   "source": [
    "curData['Cntry_name'].iloc[0]"
   ]
  },
  {
   "cell_type": "code",
   "execution_count": null,
   "metadata": {},
   "outputs": [],
   "source": [
    "\n"
   ]
  },
  {
   "cell_type": "code",
   "execution_count": null,
   "metadata": {},
   "outputs": [],
   "source": [
    "pd.concat(country_res)            "
   ]
  },
  {
   "cell_type": "code",
   "execution_count": null,
   "metadata": {},
   "outputs": [],
   "source": []
  },
  {
   "cell_type": "code",
   "execution_count": null,
   "metadata": {},
   "outputs": [],
   "source": []
  },
  {
   "cell_type": "code",
   "execution_count": null,
   "metadata": {},
   "outputs": [],
   "source": [
    "all_res = {}\n",
    "for idx, row in tqdm(inFUA.iterrows(), total = inFUA.shape[0]):\n",
    "    acled_data = dMisc.acled_search(acled_key, acled_email, row.geometry.bounds,\n",
    "                                    fields = ['longitude','latitude','event_type','geo_precision'])\n",
    "    if acled_data.shape[0] > 0:\n",
    "        acled_geom = [Point(x, y) for x, y in zip(acled_data['longitude'], acled_data['latitude'])]\n",
    "        acled_geo = gpd.GeoDataFrame(acled_data, geometry = acled_geom, crs = 4326)\n",
    "        acled_geo = acled_geo.loc[acled_geo.within(row.geometry)]\n",
    "        if acled_geo.shape[0] > 0:                \n",
    "            # Tabulate results\n",
    "            acled_summary = acled_geo.groupby(['event_type', 'geo_precision']).size().reset_index(name='counts')\n",
    "            acled_summary['Label'] = acled_summary['event_type'] + '_' + acled_summary['geo_precision'].astype(str)\n",
    "            acled_summary = acled_summary.loc[:,['Label', 'counts']].T\n",
    "            acled_summary.columns = acled_summary.loc['Label']\n",
    "            acled_summary = acled_summary.drop('Label')\n",
    "            acled_summary['eFUA_ID'] = row['eFUA_ID']\n",
    "            all_res[idx] = acled_summary    \n",
    "    \n"
   ]
  },
  {
   "cell_type": "code",
   "execution_count": null,
   "metadata": {},
   "outputs": [],
   "source": [
    "all_dfs = [item for key, item in all_res.items()]\n",
    "pd.concat(all_dfs)"
   ]
  },
  {
   "cell_type": "code",
   "execution_count": null,
   "metadata": {},
   "outputs": [],
   "source": [
    "pd.DataFrame(all_res"
   ]
  },
  {
   "cell_type": "code",
   "execution_count": null,
   "metadata": {},
   "outputs": [],
   "source": []
  }
 ],
 "metadata": {
  "kernelspec": {
   "display_name": "s2s",
   "language": "python",
   "name": "python3"
  },
  "language_info": {
   "codemirror_mode": {
    "name": "ipython",
    "version": 3
   },
   "file_extension": ".py",
   "mimetype": "text/x-python",
   "name": "python",
   "nbconvert_exporter": "python",
   "pygments_lexer": "ipython3",
   "version": "3.11.10"
  }
 },
 "nbformat": 4,
 "nbformat_minor": 2
}
