{
 "cells": [
  {
   "cell_type": "markdown",
   "metadata": {},
   "source": [
    "# Mapping and comparing urban extents"
   ]
  },
  {
   "cell_type": "code",
   "execution_count": 21,
   "metadata": {},
   "outputs": [
    {
     "data": {
      "application/vnd.jupyter.widget-view+json": {
       "model_id": "0868f9c5486f4c18b2f5cbf60631416c",
       "version_major": 2,
       "version_minor": 0
      },
      "text/plain": [
       "Dropdown(description='Select a city:', options=('AGO_Huambo', 'AGO_Luanda', 'AGO_Lubango', 'ETH_Adama', 'ETH_A…"
      ]
     },
     "metadata": {},
     "output_type": "display_data"
    },
    {
     "data": {
      "application/vnd.jupyter.widget-view+json": {
       "model_id": "9777f82d69a34c78b24e4f2e6e35d220",
       "version_major": 2,
       "version_minor": 0
      },
      "text/plain": [
       "Image(value=b'')"
      ]
     },
     "metadata": {},
     "output_type": "display_data"
    },
    {
     "name": "stdout",
     "output_type": "stream",
     "text": [
      "MAPS/AGO_Lubango__DB_vs_DoU.png\n",
      "MAPS/AGO_Luanda__DB_vs_DoU.png\n"
     ]
    }
   ],
   "source": [
    "import sys, os\n",
    "\n",
    "import ipywidgets as widgets\n",
    "from IPython.display import display, Image\n",
    "\n",
    "map_files = os.listdir('MAPS')\n",
    "\n",
    "# Define the dropdown options\n",
    "options = [x.split('__')[0] for x in map_files]\n",
    "\n",
    "# Create the dropdown widget\n",
    "dropdown = widgets.Dropdown(options=options, description='Select a city:')\n",
    "# Create an empty image widget\n",
    "image_widget = widgets.Image()\n",
    "\n",
    "# Function to print the selected value\n",
    "def update_image(option):\n",
    "    sel_file = f'MAPS/{option.new}__DB_vs_DoU.png'\n",
    "    print(sel_file)\n",
    "    try: \n",
    "        with open(sel_file, 'rb') as f:\n",
    "            image_data = f.read()\n",
    "            image_widget.value = image_data  \n",
    "    except:\n",
    "        image_widget.value = b'' # Clear image if file not found\n",
    "        print(f\"Error: Image file not found at {sel_file}\")\n",
    "\n",
    "# Observe the change in dropdown value\n",
    "dropdown.observe(update_image, names='value')\n",
    "\n",
    "# Display the dropdown\n",
    "display(dropdown)\n",
    "display(image_widget)"
   ]
  },
  {
   "cell_type": "code",
   "execution_count": 20,
   "metadata": {},
   "outputs": [],
   "source": [
    "sel_file = \"C:/WBG/Work/Code/GOSTurban/notebooks/Implementations/MENA_Benchmarking/MAPS/AGO_Luanda__DB_vs_DoU.png\"\n",
    "with open(sel_file, 'rb') as f:\n",
    "    image_data = f.read()\n",
    "    image_widget.value = image_data  "
   ]
  },
  {
   "cell_type": "code",
   "execution_count": null,
   "metadata": {},
   "outputs": [],
   "source": []
  }
 ],
 "metadata": {
  "kernelspec": {
   "display_name": "s2s",
   "language": "python",
   "name": "python3"
  },
  "language_info": {
   "codemirror_mode": {
    "name": "ipython",
    "version": 3
   },
   "file_extension": ".py",
   "mimetype": "text/x-python",
   "name": "python",
   "nbconvert_exporter": "python",
   "pygments_lexer": "ipython3",
   "version": "3.11.10"
  }
 },
 "nbformat": 4,
 "nbformat_minor": 2
}
