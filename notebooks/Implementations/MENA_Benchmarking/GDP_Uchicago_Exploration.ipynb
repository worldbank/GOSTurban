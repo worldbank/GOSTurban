{
 "cells": [
  {
   "cell_type": "code",
   "execution_count": null,
   "metadata": {},
   "outputs": [],
   "source": [
    "import sys\n",
    "import os\n",
    "import rasterio\n",
    "\n",
    "import pandas as pd\n",
    "import geopandas as gpd\n",
    "\n",
    "from tqdm.notebook import tqdm\n",
    "\n",
    "sys.path.append(r\"C:\\WBG\\Work\\Code\\GOSTrocks\\src\")\n",
    "import GOSTrocks.rasterMisc as rMisc\n",
    "\n",
    "%load_ext autoreload\n",
    "%autoreload 2"
   ]
  },
  {
   "cell_type": "code",
   "execution_count": null,
   "metadata": {},
   "outputs": [],
   "source": [
    "gdp_folder = r\"C:\\WBG\\Work\\data\\GDP\\CHICAGO\"\n",
    "gdp_file = os.path.join(\n",
    "    gdp_folder, \"final_GDP_0_25deg_postadjust_pop_dens_0_01_adjust.csv\"\n",
    ")\n",
    "gdp_shp_file = os.path.join(gdp_folder, \"shapefile\", \"geom_0_25deg.shp\")\n",
    "gdp_col = \"cell_GDPC_const_2017_PPP\"\n",
    "sel_year = 2017\n",
    "\n",
    "ucdb_file = \"C:/WBG/Work/data/URBAN/GHS_STAT_UCDB2015MT_GLOBE_R2019A/GHS_STAT_UCDB2015MT_GLOBE_R2019A_V1_2.gpkg\"\n",
    "in_ucdb = gpd.read_file(ucdb_file).loc[:, [\"ID_HDC_G0\", \"geometry\"]]\n",
    "\n",
    "pop_file = \"C:/WBG/Work/data/POP/ppp_2020_1km_Aggregated.tif\"\n",
    "inPop = rasterio.open(pop_file)\n",
    "\n",
    "bad_cols = [\"method\", \"cell_size\"]\n",
    "gdp_df = pd.read_csv(gdp_file).drop(columns=bad_cols)\n",
    "gdp_gdf = gpd.read_file(gdp_shp_file)"
   ]
  },
  {
   "cell_type": "code",
   "execution_count": null,
   "metadata": {},
   "outputs": [],
   "source": [
    "gdp_df.head()"
   ]
  },
  {
   "cell_type": "code",
   "execution_count": null,
   "metadata": {},
   "outputs": [],
   "source": [
    "gdp_gdf.head()"
   ]
  },
  {
   "cell_type": "markdown",
   "metadata": {},
   "source": [
    "## Join the selected GDP data to the shapefile\n"
   ]
  },
  {
   "cell_type": "code",
   "execution_count": null,
   "metadata": {},
   "outputs": [],
   "source": [
    "sel_gdp = gdp_df.loc[\n",
    "    gdp_df.year == sel_year,\n",
    "    [\"cell_id\", \"iso\", gdp_col, \"pop_cell\", \"subcell_id\", \"subcell_id_0_25\"],\n",
    "]\n",
    "sel_gdp.head()"
   ]
  },
  {
   "cell_type": "code",
   "execution_count": null,
   "metadata": {},
   "outputs": [],
   "source": [
    "# Create consistent, single column keys\n",
    "gdp_gdf[\"gID\"] = (\n",
    "    gdp_gdf[\"cell_id\"].astype(str)\n",
    "    + \"_\"\n",
    "    + gdp_gdf[\"sbcll_d\"].astype(str)\n",
    "    + \"_\"\n",
    "    + gdp_gdf[\"s__0_25\"].astype(str)\n",
    ")\n",
    "sel_gdp[\"gID\"] = (\n",
    "    sel_gdp[\"cell_id\"].astype(str)\n",
    "    + \"_\"\n",
    "    + sel_gdp[\"subcell_id\"].astype(str)\n",
    "    + \"_\"\n",
    "    + sel_gdp[\"subcell_id_0_25\"].astype(str)\n",
    ")"
   ]
  },
  {
   "cell_type": "code",
   "execution_count": null,
   "metadata": {},
   "outputs": [],
   "source": [
    "combo_gdp = pd.merge(gdp_gdf, sel_gdp, on=\"gID\", how=\"inner\").loc[\n",
    "    :, [\"gID\", \"iso_x\", gdp_col, \"pop_cell\", \"geometry\"]\n",
    "]\n",
    "combo_gdp.head()"
   ]
  },
  {
   "cell_type": "code",
   "execution_count": null,
   "metadata": {},
   "outputs": [],
   "source": [
    "combo_gdp.crs"
   ]
  },
  {
   "cell_type": "code",
   "execution_count": null,
   "metadata": {},
   "outputs": [],
   "source": [
    "out_res = {}\n",
    "for idx, row in tqdm(in_ucdb.iterrows(), total=in_ucdb.shape[0]):\n",
    "    # Identify the cells that intersect this city and union together\n",
    "    sel_city = gpd.GeoDataFrame([row], crs=in_ucdb.crs)\n",
    "    sel_overlay = gpd.sjoin(sel_city, combo_gdp, how=\"inner\", predicate=\"intersects\")\n",
    "    sel_grids = combo_gdp.loc[combo_gdp[\"gID\"].isin(sel_overlay.gID)]\n",
    "\n",
    "    city_grids = gpd.overlay(sel_city, sel_grids, how=\"intersection\")\n",
    "    res = rMisc.zonalStats(city_grids, inPop, minVal=0, verbose=False)\n",
    "    res = pd.DataFrame(res, columns=[\"sum\", \"min\", \"max\", \"mean\"])\n",
    "    city_grids[\"wpPOP\"] = res[\"sum\"]\n",
    "    city_grids[\"GDP_city\"] = city_grids[gdp_col] * city_grids[\"wpPOP\"]\n",
    "    out_res[row[\"ID_HDC_G0\"]] = {\n",
    "        \"TOTAL_GDP\": city_grids[\"GDP_city\"].sum(),\n",
    "        \"GDP_CELLS\": city_grids.shape[0],\n",
    "    }"
   ]
  },
  {
   "cell_type": "code",
   "execution_count": null,
   "metadata": {},
   "outputs": [],
   "source": [
    "city_gdp_res = pd.DataFrame(out_res).T\n",
    "city_gdp_res.to_csv(os.path.join(gdp_folder, f\"city_{gdp_col}_res.csv\"))"
   ]
  },
  {
   "cell_type": "code",
   "execution_count": null,
   "metadata": {},
   "outputs": [],
   "source": [
    "gdp_folder"
   ]
  },
  {
   "cell_type": "markdown",
   "metadata": {},
   "source": [
    "# DEBUGGING"
   ]
  },
  {
   "cell_type": "code",
   "execution_count": null,
   "metadata": {},
   "outputs": [],
   "source": [
    "inD = gpd.read_file(ucdb_file)\n",
    "inD.head()"
   ]
  },
  {
   "cell_type": "code",
   "execution_count": null,
   "metadata": {},
   "outputs": [],
   "source": []
  }
 ],
 "metadata": {
  "kernelspec": {
   "display_name": "s2s",
   "language": "python",
   "name": "python3"
  },
  "language_info": {
   "codemirror_mode": {
    "name": "ipython",
    "version": 3
   },
   "file_extension": ".py",
   "mimetype": "text/x-python",
   "name": "python",
   "nbconvert_exporter": "python",
   "pygments_lexer": "ipython3",
   "version": "3.11.10"
  }
 },
 "nbformat": 4,
 "nbformat_minor": 2
}
