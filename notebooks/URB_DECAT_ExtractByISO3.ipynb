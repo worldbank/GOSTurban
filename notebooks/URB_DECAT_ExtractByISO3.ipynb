{
 "cells": [
  {
   "cell_type": "markdown",
   "metadata": {},
   "source": [
    "# Extract urban areas on JNB\n",
    "\n",
    "This code provides an example of how to calculate urban areas from gridded population data. However, it is designed explicitly to run on the GOST Jupyter notebook server, so the paths may not work."
   ]
  },
  {
   "cell_type": "code",
   "execution_count": 1,
   "metadata": {},
   "outputs": [
    {
     "name": "stderr",
     "output_type": "stream",
     "text": [
      "/home/wb411133/.conda/envs/geog/lib/python3.7/site-packages/geopandas/_compat.py:88: UserWarning: The Shapely GEOS version (3.7.1-CAPI-1.11.1 0) is incompatible with the GEOS version PyGEOS was compiled with (3.9.0-CAPI-1.16.2). Conversions between both will be slow.\n",
      "  shapely_geos_version, geos_capi_version_string\n"
     ]
    }
   ],
   "source": [
    "import sys\n",
    "import os\n",
    "import rasterio\n",
    "\n",
    "import geopandas as gpd\n",
    "\n",
    "\n",
    "# Import raster helpers\n",
    "sys.path.append(\"../../gostrocks/src\")\n",
    "import GOSTRocks.rasterMisc as rMisc\n",
    "\n",
    "# Import GOST urban functions\n",
    "sys.path.append(\"../\")\n",
    "import src.UrbanRaster as urban"
   ]
  },
  {
   "cell_type": "code",
   "execution_count": 2,
   "metadata": {},
   "outputs": [],
   "source": [
    "iso3 = \"LKA\"\n",
    "out_folder = \"/home/wb411133/temp/%s_URBAN\" % iso3\n",
    "if not os.path.exists(out_folder):\n",
    "    os.makedirs(out_folder)\n",
    "\n",
    "urban_ext = os.path.join(out_folder, \"URBAN_Extents.shp\")\n",
    "hd_urban_ext = os.path.join(out_folder, \"HD_URBAN_Extents.shp\")\n",
    "pop_file = os.path.join(out_folder, \"population_2020.tif\")\n",
    "\n",
    "global_bounds = \"/home/public/Data/GLOBAL/ADMIN/Admin0_Polys.shp\"\n",
    "global_pop = (\n",
    "    \"/home/public/Data/GLOBAL/Population/WorldPop_PPP_2020/ppp_2020_1km_Aggregated.tif\"\n",
    ")\n",
    "\n",
    "inG = gpd.read_file(global_bounds)\n",
    "selG = inG.loc[inG[\"ISO3\"] == iso3]\n",
    "inPop_raster = rasterio.open(global_pop)\n",
    "\n",
    "if selG.crs != inPop_raster.crs:\n",
    "    selG = selG.to_crs(inPop_raster.crs)\n",
    "\n",
    "if not os.path.exists(pop_file):\n",
    "    rMisc.clipRaster(inPop_raster, selG, pop_file)"
   ]
  },
  {
   "cell_type": "code",
   "execution_count": 3,
   "metadata": {},
   "outputs": [
    {
     "name": "stdout",
     "output_type": "stream",
     "text": [
      "12:31:20\t: Read in urban data\n",
      "12:31:20\t: Creating Shape 0\n",
      "12:31:20\t: Creating Shape 1000\n"
     ]
    }
   ],
   "source": [
    "curR = rasterio.open(pop_file)\n",
    "urban_calculator = urban.urbanGriddedPop(curR)\n",
    "urban_extents = urban_calculator.calculateUrban(\n",
    "    densVal=300, totalPopThresh=5000, smooth=False, queen=False, verbose=True\n",
    ")\n",
    "urban_extents.to_file(urban_ext)"
   ]
  },
  {
   "cell_type": "code",
   "execution_count": 4,
   "metadata": {},
   "outputs": [
    {
     "name": "stdout",
     "output_type": "stream",
     "text": [
      "12:31:21\t: Read in urban data\n",
      "12:31:21\t: Creating Shape 0\n"
     ]
    },
    {
     "name": "stderr",
     "output_type": "stream",
     "text": [
      "../src/UrbanRaster.py:290: UserWarning: Geometry is in a geographic CRS. Results from 'buffer' are likely incorrect. Use 'GeoSeries.to_crs()' to re-project geometries to a projected CRS before this operation.\n",
      "\n",
      "  xxGeom['geometry '] = xxGeom.buffer((popRaster.res[0] / 2))\n"
     ]
    }
   ],
   "source": [
    "urban_extents = urban_calculator.calculateUrban(\n",
    "    densVal=1500, totalPopThresh=50000, smooth=True, queen=True, verbose=True\n",
    ")\n",
    "urban_extents.to_file(hd_urban_ext)"
   ]
  },
  {
   "cell_type": "markdown",
   "metadata": {},
   "source": [
    "# Reverse Geocode the urban extents"
   ]
  },
  {
   "cell_type": "code",
   "execution_count": 5,
   "metadata": {},
   "outputs": [],
   "source": [
    "import reverse_geocode"
   ]
  },
  {
   "cell_type": "code",
   "execution_count": 6,
   "metadata": {},
   "outputs": [
    {
     "data": {
      "text/html": [
       "<div>\n",
       "<style scoped>\n",
       "    .dataframe tbody tr th:only-of-type {\n",
       "        vertical-align: middle;\n",
       "    }\n",
       "\n",
       "    .dataframe tbody tr th {\n",
       "        vertical-align: top;\n",
       "    }\n",
       "\n",
       "    .dataframe thead th {\n",
       "        text-align: right;\n",
       "    }\n",
       "</style>\n",
       "<table border=\"1\" class=\"dataframe\">\n",
       "  <thead>\n",
       "    <tr style=\"text-align: right;\">\n",
       "      <th></th>\n",
       "      <th>ID</th>\n",
       "      <th>Pop</th>\n",
       "    </tr>\n",
       "    <tr>\n",
       "      <th>COUNTRY</th>\n",
       "      <th></th>\n",
       "      <th></th>\n",
       "    </tr>\n",
       "  </thead>\n",
       "  <tbody>\n",
       "    <tr>\n",
       "      <th>India</th>\n",
       "      <td>2289</td>\n",
       "      <td>3.211364e+04</td>\n",
       "    </tr>\n",
       "    <tr>\n",
       "      <th>Sri Lanka</th>\n",
       "      <td>118854</td>\n",
       "      <td>1.608292e+07</td>\n",
       "    </tr>\n",
       "  </tbody>\n",
       "</table>\n",
       "</div>"
      ],
      "text/plain": [
       "               ID           Pop\n",
       "COUNTRY                        \n",
       "India        2289  3.211364e+04\n",
       "Sri Lanka  118854  1.608292e+07"
      ]
     },
     "execution_count": 6,
     "metadata": {},
     "output_type": "execute_result"
    }
   ],
   "source": [
    "extents = gpd.read_file(urban_ext)\n",
    "\n",
    "extents[\"NAME\"] = \"\"\n",
    "extents[\"COUNTRY\"] = \"\"\n",
    "for idx, row in extents.iterrows():\n",
    "    cur_city = reverse_geocode.search(\n",
    "        [(row[\"geometry\"].centroid.y, row[\"geometry\"].centroid.x)]\n",
    "    )\n",
    "    extents.loc[idx, \"COUNTRY\"] = cur_city[0][\"country\"]\n",
    "    extents.loc[idx, \"NAME\"] = cur_city[0][\"city\"]\n",
    "    # print(idx)\n",
    "extents.groupby(\"COUNTRY\").sum()"
   ]
  },
  {
   "cell_type": "code",
   "execution_count": 7,
   "metadata": {},
   "outputs": [],
   "source": [
    "extents.to_file(urban_ext)"
   ]
  },
  {
   "cell_type": "code",
   "execution_count": 22,
   "metadata": {},
   "outputs": [],
   "source": [
    "extents.to_file(hd_urban_ext)"
   ]
  }
 ],
 "metadata": {
  "kernelspec": {
   "display_name": "Python 3 (ipykernel)",
   "language": "python",
   "name": "python3"
  },
  "language_info": {
   "codemirror_mode": {
    "name": "ipython",
    "version": 3
   },
   "file_extension": ".py",
   "mimetype": "text/x-python",
   "name": "python",
   "nbconvert_exporter": "python",
   "pygments_lexer": "ipython3",
   "version": "3.9.7"
  }
 },
 "nbformat": 4,
 "nbformat_minor": 2
}
