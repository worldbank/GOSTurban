{
 "cells": [
  {
   "cell_type": "code",
   "execution_count": 6,
   "metadata": {},
   "outputs": [],
   "source": [
    "import sys, os, importlib\n",
    "import rasterio\n",
    "\n",
    "import geopandas as gpd\n",
    "\n",
    "sys.path.append(\"../../../\")\n",
    "\n",
    "import src.GOST_Urban.UrbanRaster as urban\n"
   ]
  },
  {
   "cell_type": "code",
   "execution_count": 7,
   "metadata": {},
   "outputs": [],
   "source": [
    "# Define input population raster\n",
    "tutorial_folder = \"../../data/tutorial_data\"\n",
    "aoi_file = os.path.join(tutorial_folder, \"AOI.geojson\")\n",
    "pop_file = os.path.join(tutorial_folder, \"wp_2020_1k_AOI.tif\")\n",
    "out_urban = os.path.join(tutorial_folder, \"urban_extents.geojson\")\n",
    "out_hd_urban = os.path.join(tutorial_folder, \"hd_urban_extents.geojson\")\n",
    "\n",
    "inAOI = gpd.read_file(aoi_file)\n",
    "\n",
    "# Shouldn't need to execute this unless you change your AOI\n",
    "if not os.path.exists(pop_file):\n",
    "    sys.path.append(\"../../../gostrocks/src\")\n",
    "    import GOSTRocks.rasterMisc as rMisc\n",
    "    global_population = \"/home/public/Data/GLOBAL/Population/WorldPop_PPP_2020/ppp_2020_1km_Aggregated.tif\"\n",
    "    inR = rasterio.open(global_population)\n",
    "    rMisc.clipRaster(inR, inAOI, pop_file)\n",
    "    \n",
    "inR = rasterio.open(pop_file)"
   ]
  },
  {
   "cell_type": "code",
   "execution_count": 10,
   "metadata": {},
   "outputs": [],
   "source": [
    "# calculate urban\n",
    "urban_calculator = urban.urbanGriddedPop(inR)\n",
    "urban_calculator.calculateUrban?"
   ]
  },
  {
   "cell_type": "code",
   "execution_count": 13,
   "metadata": {},
   "outputs": [
    {
     "name": "stdout",
     "output_type": "stream",
     "text": [
      "11:17:01\t: Read in urban data\n",
      "11:17:03\t: Creating Shape 0\n",
      "11:17:07\t: Creating Shape 1000\n",
      "11:17:11\t: Creating Shape 2000\n",
      "11:17:15\t: Creating Shape 3000\n",
      "11:17:19\t: Creating Shape 4000\n",
      "11:17:23\t: Creating Shape 5000\n",
      "11:17:27\t: Creating Shape 6000\n"
     ]
    }
   ],
   "source": [
    "urban_extents = urban_calculator.calculateUrban(densVal=300, totalPopThresh=5000, \n",
    "                                               smooth=False, queen=False,\n",
    "                                               verbose=True)"
   ]
  },
  {
   "cell_type": "code",
   "execution_count": 14,
   "metadata": {},
   "outputs": [
    {
     "name": "stdout",
     "output_type": "stream",
     "text": [
      "11:17:27\t: Read in urban data\n",
      "11:17:27\t: Creating Shape 0\n",
      "11:17:31\t: Creating Shape 1000\n"
     ]
    },
    {
     "name": "stderr",
     "output_type": "stream",
     "text": [
      "/home/wb411133/.conda/envs/geog/lib/python3.7/site-packages/numpy/core/_methods.py:36: RuntimeWarning: overflow encountered in reduce\n",
      "  return umr_sum(a, axis, dtype, out, keepdims, initial)\n"
     ]
    }
   ],
   "source": [
    "hd_urban_extents = urban_calculator.calculateUrban(densVal=1500, totalPopThresh=50000, \n",
    "                                               smooth=True, queen=True,\n",
    "                                               verbose=True)"
   ]
  },
  {
   "cell_type": "code",
   "execution_count": 19,
   "metadata": {},
   "outputs": [],
   "source": [
    "urban_extents.to_file(out_urban, driver=\"GeoJSON\")\n",
    "hd_urban_extents.to_file(out_hd_urban, driver=\"GeoJSON\")"
   ]
  }
 ],
 "metadata": {
  "kernelspec": {
   "display_name": "Python (geog)",
   "language": "python",
   "name": "geog"
  },
  "language_info": {
   "codemirror_mode": {
    "name": "ipython",
    "version": 3
   },
   "file_extension": ".py",
   "mimetype": "text/x-python",
   "name": "python",
   "nbconvert_exporter": "python",
   "pygments_lexer": "ipython3",
   "version": "3.9.7"
  }
 },
 "nbformat": 4,
 "nbformat_minor": 2
}
