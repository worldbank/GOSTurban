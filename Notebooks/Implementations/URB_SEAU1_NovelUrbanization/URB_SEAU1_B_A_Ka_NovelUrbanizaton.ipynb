{
 "cells": [
  {
   "cell_type": "markdown",
   "metadata": {},
   "source": [
    "# Extract data for urban calculations\n",
    "\n",
    "Test input for Tanzania\n",
    "\n",
    "0. Select focal ADM, buffer by 1km, rasterize as [0, 1]\n",
    "1. Download DEM data from ASTER, mosaick\n",
    "2. Calculate slope of DEM\n",
    "3. Extract water layer from Globcover\n",
    "4. Rasterize building footprints\n",
    "5. Select population layer\n",
    "6. Standardize all rasters to population layer  \n",
    "   a. Set area outside of focal admin to NoData  \n",
    "   b. Set everything to 16bit  \n",
    "   \n",
    "   \n"
   ]
  },
  {
   "cell_type": "code",
   "execution_count": 1,
   "metadata": {},
   "outputs": [
    {
     "name": "stdout",
     "output_type": "stream",
     "text": [
      "METADATA Library: Could not import arcgis libraries\n"
     ]
    }
   ],
   "source": [
    "import sys, os, importlib, shutil, pathlib, datetime\n",
    "import requests\n",
    "import rasterio, elevation, richdem\n",
    "import rasterio.warp\n",
    "from rasterio import features\n",
    "from datetime import datetime\n",
    "\n",
    "import pandas as pd\n",
    "import geopandas as gpd\n",
    "import numpy as np\n",
    "\n",
    "from shapely.geometry import MultiPolygon, Polygon, box, Point\n",
    "\n",
    "#Import raster helpers\n",
    "sys.path.insert(0, \"/home/wb411133/Code/gostrocks/src\")\n",
    "\n",
    "import GOSTRocks.rasterMisc as rMisc\n",
    "import GOSTRocks.metadataMisc as meta\n",
    "from GOSTRocks.misc import tPrint\n",
    "\n",
    "#Import GOST urban functions\n",
    "sys.path.append(\"../../../src\")\n",
    "import GOST_Urban.UrbanRaster as urban\n",
    "import GOST_Urban.urban_helper as helper\n",
    "\n",
    "#Import local functions\n",
    "import novelUrbanization as nu\n",
    "from novelUrbanization import *\n",
    "\n",
    "%load_ext autoreload\n",
    "%autoreload 2"
   ]
  },
  {
   "cell_type": "code",
   "execution_count": 2,
   "metadata": {},
   "outputs": [],
   "source": [
    "global_bounds = \"/home/public/Data/GLOBAL/ADMIN/Admin0_Polys.shp\"\n",
    "global_bounds_adm2 = \"/home/public/Data/GLOBAL/ADMIN/Admin2_Polys.shp\"\n",
    "\n",
    "inG = gpd.read_file(global_bounds)\n",
    "inG2 = gpd.read_file(global_bounds_adm2)\n",
    "\n",
    "runSmall = True\n",
    "runLarge = True"
   ]
  },
  {
   "cell_type": "markdown",
   "metadata": {},
   "source": [
    "# Convert EA csv files to geometry"
   ]
  },
  {
   "cell_type": "code",
   "execution_count": null,
   "metadata": {
    "scrolled": true
   },
   "outputs": [],
   "source": [
    "in_folder = \"/home/wb411133/data/Projects/MR_Novel_Urbanization/Data/EA_Files/\"\n",
    "ea_files = []\n",
    "for root, dirs, files in os.walk(in_folder):\n",
    "    for x in files:\n",
    "        if ((x.endswith(\".csv\")) and (not \"URBAN\" in x)):\n",
    "            ea_files.append(os.path.join(root, x))\n",
    "            \n",
    "ea_files"
   ]
  },
  {
   "cell_type": "code",
   "execution_count": null,
   "metadata": {},
   "outputs": [],
   "source": [
    "pd.read_csv(ea_files[-1]).head()"
   ]
  },
  {
   "cell_type": "code",
   "execution_count": null,
   "metadata": {
    "scrolled": true
   },
   "outputs": [],
   "source": [
    "def try_float(x):\n",
    "    try:\n",
    "        return(float(x))\n",
    "    except:\n",
    "        return(None)\n",
    "\n",
    "def read_geog(file, lat_column, lon_column, crs='epsg:4326', write_out=True):\n",
    "    print(os.path.basename(file))\n",
    "    out_file = file.replace(\".csv\", \".geojson\")\n",
    "    inD = pd.read_csv(file)\n",
    "    \n",
    "    print(inD.shape)\n",
    "    inD[lat_column] = inD[lat_column].apply(try_float)\n",
    "    inD[lon_column] = inD[lon_column].apply(try_float)    \n",
    "    inD = inD.loc[~(inD[lat_column].isna() | inD[lon_column].isna())]\n",
    "    print(inD.shape)\n",
    "    \n",
    "    inD_geom = inD.apply(lambda x: Point(float(x[lon_column]), float(x[lat_column])), axis=1)\n",
    "    inD = gpd.GeoDataFrame(inD, geometry=inD_geom, crs=crs)\n",
    "    \n",
    "    if write_out:\n",
    "        inD.to_file(out_file, driver=\"GeoJSON\")        \n",
    "    return(inD)\n",
    "\n",
    "#res = read_geog(ea_files[0], \"latdd_corrected\", \"londd_corrected\")\n",
    "#res = read_geog(ea_files[1], \"lat\", \"lon\")\n",
    "#res = read_geog(ea_files[2], \"latitude\", \"longitude\")\n",
    "#res = read_geog(ea_files[3], \"latitude\", \"longitude\")\n",
    "#res = read_geog(ea_files[4], \"lat_mean\", \"long_mean\")\n",
    "#res = read_geog(ea_files[5], \"latdd_corrected\", \"londd_corrected\")\n",
    "#res = read_geog(ea_files[6], \"latdd_corrected\", \"londd_corrected\")\n",
    "#res = read_geog(ea_files[7], \"lat_modified\",\"lon_modified\")\n",
    "#res = read_geog(ea_files[8], \"lat_corrected\", \"lon_corrected\")\n",
    "#res = read_geog(ea_files[9], \"lat_corrected\", \"lon_corrected\")\n",
    "res = read_geog(ea_files[-1], \"latDD_corrected\", \"lonDD_corrected\")"
   ]
  },
  {
   "cell_type": "markdown",
   "metadata": {},
   "source": [
    "# Run individual counties"
   ]
  },
  {
   "cell_type": "code",
   "execution_count": 14,
   "metadata": {},
   "outputs": [
    {
     "data": {
      "text/html": [
       "<div>\n",
       "<style scoped>\n",
       "    .dataframe tbody tr th:only-of-type {\n",
       "        vertical-align: middle;\n",
       "    }\n",
       "\n",
       "    .dataframe tbody tr th {\n",
       "        vertical-align: top;\n",
       "    }\n",
       "\n",
       "    .dataframe thead th {\n",
       "        text-align: right;\n",
       "    }\n",
       "</style>\n",
       "<table border=\"1\" class=\"dataframe\">\n",
       "  <thead>\n",
       "    <tr style=\"text-align: right;\">\n",
       "      <th></th>\n",
       "      <th>OBJECTID</th>\n",
       "      <th>ISO_A2</th>\n",
       "      <th>WB_ADM0_CO</th>\n",
       "      <th>WB_ADM0_NA</th>\n",
       "      <th>Shape_Leng</th>\n",
       "      <th>Shape_Area</th>\n",
       "      <th>ISO3</th>\n",
       "      <th>UN_m49</th>\n",
       "      <th>Region</th>\n",
       "      <th>incomeG</th>\n",
       "      <th>lendingC</th>\n",
       "      <th>FID_100</th>\n",
       "      <th>geometry</th>\n",
       "    </tr>\n",
       "  </thead>\n",
       "  <tbody>\n",
       "    <tr>\n",
       "      <th>68</th>\n",
       "      <td>69</td>\n",
       "      <td>GQ</td>\n",
       "      <td>76</td>\n",
       "      <td>Equatorial Guinea</td>\n",
       "      <td>1.000914e+06</td>\n",
       "      <td>26987.415196</td>\n",
       "      <td>GNQ</td>\n",
       "      <td>226</td>\n",
       "      <td>None</td>\n",
       "      <td>High income: nonOECD</td>\n",
       "      <td>IBRD</td>\n",
       "      <td>6800</td>\n",
       "      <td>MULTIPOLYGON (((626680.654 -162241.378, 626094...</td>\n",
       "    </tr>\n",
       "  </tbody>\n",
       "</table>\n",
       "</div>"
      ],
      "text/plain": [
       "    OBJECTID ISO_A2  WB_ADM0_CO         WB_ADM0_NA    Shape_Leng  \\\n",
       "68        69     GQ          76  Equatorial Guinea  1.000914e+06   \n",
       "\n",
       "      Shape_Area ISO3  UN_m49 Region               incomeG lendingC  FID_100  \\\n",
       "68  26987.415196  GNQ     226   None  High income: nonOECD     IBRD     6800   \n",
       "\n",
       "                                             geometry  \n",
       "68  MULTIPOLYGON (((626680.654 -162241.378, 626094...  "
      ]
     },
     "execution_count": 14,
     "metadata": {},
     "output_type": "execute_result"
    }
   ],
   "source": [
    "inG.loc[inG['ISO3'] == 'GNQ']"
   ]
  },
  {
   "cell_type": "code",
   "execution_count": 15,
   "metadata": {
    "scrolled": true
   },
   "outputs": [],
   "source": [
    "# Process Individual countries\n",
    "iso3 = \"GNQ\"\n",
    "local_path = \"/home/public/Data/COUNTRY/{country}/WORLDPOP/\".format(country=iso3)\n",
    "constrained_WP_folder = \"/home/public/Data/GLOBAL/Population/RF_SSA_2015-2020\"\n",
    "worldPop_2015         = \"/home/public/Data/GLOBAL/Population/WorldPop_PPP_2015/worldPop_2015.vrt\"\n",
    "global_ghspop = \"/home/public/Data/GLOBAL/Population/GHS/250/GHS_POP_E2015_GLOBE_R2019A_54009_250_V1_0.tif\"    \n",
    "c_WP_15 = f'{constrained_WP_folder}/{iso3}/ppp_{iso3}_const_2015.tif'\n",
    "c_WP_20 = f'{constrained_WP_folder}/{iso3}/ppp_{iso3}_const_2020.tif'\n",
    "\n",
    "pop_files = [[worldPop_2015, f'{iso3.lower()}_upo15.tif']]      \n",
    "pop_files.append([global_ghspop, f'{iso3.lower()}_gpo.tif'])                 \n",
    "pop_files.append([c_WP_15, f'{iso3.lower()}_cpo15.tif'])\n",
    "pop_files.append([c_WP_20, f'{iso3.lower()}_cpo20.tif'])\n",
    "\n",
    "output_folder = \"/home/wb411133/data/Projects/MR_Novel_Urbanization/Data/%s_URBAN_DATA_new_naming\" % iso3\n",
    "ea_file = \"/home/wb411133/data/Projects/MR_Novel_Urbanization/Data/EA_Files/Mauritania/MAU_edit.shp\"\n"
   ]
  },
  {
   "cell_type": "code",
   "execution_count": 18,
   "metadata": {},
   "outputs": [
    {
     "name": "stderr",
     "output_type": "stream",
     "text": [
      "/home/wb411133/.conda/envs/ee/lib/python3.9/site-packages/geopandas/geodataframe.py:1322: SettingWithCopyWarning: \n",
      "A value is trying to be set on a copy of a slice from a DataFrame.\n",
      "Try using .loc[row_indexer,col_indexer] = value instead\n",
      "\n",
      "See the caveats in the documentation: https://pandas.pydata.org/pandas-docs/stable/user_guide/indexing.html#returning-a-view-versus-a-copy\n",
      "  super(GeoDataFrame, self).__setitem__(key, value)\n"
     ]
    },
    {
     "name": "stdout",
     "output_type": "stream",
     "text": [
      "14:38:59\tClipping /home/public/Data/GLOBAL/Population/WorldPop_PPP_2015/worldPop_2015.vrt\n",
      "14:39:04\tGNQ ***1k Extracting Global Layers\n",
      "14:39:04\tGNQ ***1k Downloading and processing elevation\n",
      "14:39:04\tGNQ ***1k Standardizing rasters\n",
      "14:39:45\tGNQ ***1k Calculating Urban\n",
      "/home/wb411133/data/Projects/MR_Novel_Urbanization/Data/GNQ_URBAN_DATA_new_naming/FINAL_STANDARD_1KM/gnq1k_cpo20.tif\n",
      "/home/wb411133/data/Projects/MR_Novel_Urbanization/Data/GNQ_URBAN_DATA_new_naming/FINAL_STANDARD_1KM/gnq1k_cpo15.tif\n",
      "/home/wb411133/data/Projects/MR_Novel_Urbanization/Data/GNQ_URBAN_DATA_new_naming/FINAL_STANDARD_1KM/gnq1k_upo15.tif\n"
     ]
    },
    {
     "ename": "ValueError",
     "evalue": "graph should have two dimensions",
     "output_type": "error",
     "traceback": [
      "\u001b[0;31m---------------------------------------------------------------------------\u001b[0m",
      "\u001b[0;31mValueError\u001b[0m                                Traceback (most recent call last)",
      "\u001b[0;32m<ipython-input-18-b7b0ef742780>\u001b[0m in \u001b[0;36m<module>\u001b[0;34m\u001b[0m\n\u001b[1;32m      1\u001b[0m \u001b[0mimportlib\u001b[0m\u001b[0;34m.\u001b[0m\u001b[0mreload\u001b[0m\u001b[0;34m(\u001b[0m\u001b[0mnu\u001b[0m\u001b[0;34m)\u001b[0m\u001b[0;34m\u001b[0m\u001b[0;34m\u001b[0m\u001b[0m\n\u001b[1;32m      2\u001b[0m \u001b[0;31m# Calculate urban definitions\u001b[0m\u001b[0;34m\u001b[0m\u001b[0;34m\u001b[0m\u001b[0;34m\u001b[0m\u001b[0m\n\u001b[0;32m----> 3\u001b[0;31m \u001b[0mnu\u001b[0m\u001b[0;34m.\u001b[0m\u001b[0mcalculate_urban\u001b[0m\u001b[0;34m(\u001b[0m\u001b[0miso3\u001b[0m\u001b[0;34m,\u001b[0m \u001b[0minG\u001b[0m\u001b[0;34m,\u001b[0m \u001b[0minG2\u001b[0m\u001b[0;34m,\u001b[0m \u001b[0mpop_files\u001b[0m\u001b[0;34m,\u001b[0m \u001b[0mea_file\u001b[0m\u001b[0;34m,\u001b[0m \u001b[0moutput_folder\u001b[0m\u001b[0;34m,\u001b[0m \u001b[0msmall\u001b[0m\u001b[0;34m=\u001b[0m\u001b[0mrunSmall\u001b[0m\u001b[0;34m,\u001b[0m \u001b[0mkm\u001b[0m\u001b[0;34m=\u001b[0m\u001b[0mrunLarge\u001b[0m\u001b[0;34m)\u001b[0m\u001b[0;34m\u001b[0m\u001b[0;34m\u001b[0m\u001b[0m\n\u001b[0m\u001b[1;32m      4\u001b[0m \u001b[0;31m#pp_urban = nu.calc_pp_urban(os.path.join(output_folder, \"mauritania\"), \"%s_gpo.tif\" % iso3.lower(), ea_file, output_folder)\u001b[0m\u001b[0;34m\u001b[0m\u001b[0;34m\u001b[0m\u001b[0;34m\u001b[0m\u001b[0m\n\u001b[1;32m      5\u001b[0m \u001b[0;31m#pd.DataFrame(pp_urban.drop(['geometry'], axis=1)).to_csv(os.path.join(output_folder, f\"{iso3}_DB_UrbanPopulation_admin3.csv\"))\u001b[0m\u001b[0;34m\u001b[0m\u001b[0;34m\u001b[0m\u001b[0;34m\u001b[0m\u001b[0m\n",
      "\u001b[0;32m~/Code/GOST_Urban/Notebooks/Implementations/URB_SEAU1_NovelUrbanization/novelUrbanization.py\u001b[0m in \u001b[0;36mcalculate_urban\u001b[0;34m(iso3, inG, inG2, pop_files, ea_file, output_folder, km, small, include_ghsl_h20, evaluate)\u001b[0m\n\u001b[1;32m    259\u001b[0m         \u001b[0mxx\u001b[0m\u001b[0;34m.\u001b[0m\u001b[0mstandardize_rasters\u001b[0m\u001b[0;34m(\u001b[0m\u001b[0minclude_ghsl_h20\u001b[0m\u001b[0;34m)\u001b[0m\u001b[0;34m\u001b[0m\u001b[0;34m\u001b[0m\u001b[0m\n\u001b[1;32m    260\u001b[0m         \u001b[0mtPrint\u001b[0m\u001b[0;34m(\u001b[0m\u001b[0;34mf\"{iso3} ***1k Calculating Urban\"\u001b[0m\u001b[0;34m)\u001b[0m\u001b[0;34m\u001b[0m\u001b[0;34m\u001b[0m\u001b[0m\n\u001b[0;32m--> 261\u001b[0;31m         \u001b[0mxx\u001b[0m\u001b[0;34m.\u001b[0m\u001b[0mcalculate_urban\u001b[0m\u001b[0;34m(\u001b[0m\u001b[0;34m)\u001b[0m\u001b[0;34m\u001b[0m\u001b[0;34m\u001b[0m\u001b[0m\n\u001b[0m\u001b[1;32m    262\u001b[0m         \u001b[0mtPrint\u001b[0m\u001b[0;34m(\u001b[0m\u001b[0;34mf\"{iso3} ***1k Calculating Zonal admin2\"\u001b[0m\u001b[0;34m)\u001b[0m\u001b[0;34m\u001b[0m\u001b[0;34m\u001b[0m\u001b[0m\n\u001b[1;32m    263\u001b[0m         \u001b[0;32mif\u001b[0m \u001b[0;32mnot\u001b[0m \u001b[0mos\u001b[0m\u001b[0;34m.\u001b[0m\u001b[0mpath\u001b[0m\u001b[0;34m.\u001b[0m\u001b[0mexists\u001b[0m\u001b[0;34m(\u001b[0m\u001b[0madmin2_1k_stats\u001b[0m\u001b[0;34m)\u001b[0m\u001b[0;34m:\u001b[0m\u001b[0;34m\u001b[0m\u001b[0;34m\u001b[0m\u001b[0m\n",
      "\u001b[0;32m~/Code/GOST_Urban/src/GOST_Urban/urban_helper.py\u001b[0m in \u001b[0;36mcalculate_urban\u001b[0;34m(self, urb_val, hd_urb_val)\u001b[0m\n\u001b[1;32m    288\u001b[0m                 \u001b[0murban_shp\u001b[0m   \u001b[0;34m=\u001b[0m \u001b[0murbanR\u001b[0m\u001b[0;34m.\u001b[0m\u001b[0mcalculateUrban\u001b[0m\u001b[0;34m(\u001b[0m\u001b[0mdensVal\u001b[0m\u001b[0;34m=\u001b[0m \u001b[0;34m(\u001b[0m\u001b[0murb_val\u001b[0m \u001b[0;34m*\u001b[0m \u001b[0mtotal_ratio\u001b[0m\u001b[0;34m)\u001b[0m\u001b[0;34m,\u001b[0m \u001b[0mtotalPopThresh\u001b[0m\u001b[0;34m=\u001b[0m\u001b[0;36m5000\u001b[0m\u001b[0;34m,\u001b[0m  \u001b[0mraster\u001b[0m\u001b[0;34m=\u001b[0m\u001b[0mfinal_urban\u001b[0m\u001b[0;34m)\u001b[0m\u001b[0;34m\u001b[0m\u001b[0;34m\u001b[0m\u001b[0m\n\u001b[1;32m    289\u001b[0m             \u001b[0;32mif\u001b[0m \u001b[0;32mnot\u001b[0m \u001b[0mos\u001b[0m\u001b[0;34m.\u001b[0m\u001b[0mpath\u001b[0m\u001b[0;34m.\u001b[0m\u001b[0mexists\u001b[0m\u001b[0;34m(\u001b[0m\u001b[0mfinal_urban_hd\u001b[0m\u001b[0;34m)\u001b[0m\u001b[0;34m:\u001b[0m\u001b[0;34m\u001b[0m\u001b[0;34m\u001b[0m\u001b[0m\n\u001b[0;32m--> 290\u001b[0;31m                 \u001b[0mcluster_shp\u001b[0m \u001b[0;34m=\u001b[0m \u001b[0murbanR\u001b[0m\u001b[0;34m.\u001b[0m\u001b[0mcalculateUrban\u001b[0m\u001b[0;34m(\u001b[0m\u001b[0mdensVal\u001b[0m\u001b[0;34m=\u001b[0m\u001b[0;34m(\u001b[0m\u001b[0mhd_urb_val\u001b[0m \u001b[0;34m*\u001b[0m \u001b[0mtotal_ratio\u001b[0m\u001b[0;34m)\u001b[0m\u001b[0;34m,\u001b[0m \u001b[0mtotalPopThresh\u001b[0m\u001b[0;34m=\u001b[0m\u001b[0;36m50000\u001b[0m\u001b[0;34m,\u001b[0m \u001b[0mraster\u001b[0m\u001b[0;34m=\u001b[0m\u001b[0mfinal_urban_hd\u001b[0m\u001b[0;34m,\u001b[0m \u001b[0msmooth\u001b[0m\u001b[0;34m=\u001b[0m\u001b[0;32mTrue\u001b[0m\u001b[0;34m,\u001b[0m \u001b[0mqueen\u001b[0m\u001b[0;34m=\u001b[0m\u001b[0;32mTrue\u001b[0m\u001b[0;34m)\u001b[0m\u001b[0;34m\u001b[0m\u001b[0;34m\u001b[0m\u001b[0m\n\u001b[0m\u001b[1;32m    291\u001b[0m \u001b[0;34m\u001b[0m\u001b[0m\n\u001b[1;32m    292\u001b[0m     \u001b[0;32mdef\u001b[0m \u001b[0mpop_zonal_admin\u001b[0m\u001b[0;34m(\u001b[0m\u001b[0mself\u001b[0m\u001b[0;34m,\u001b[0m \u001b[0madmin_layer\u001b[0m\u001b[0;34m)\u001b[0m\u001b[0;34m:\u001b[0m\u001b[0;34m\u001b[0m\u001b[0;34m\u001b[0m\u001b[0m\n",
      "\u001b[0;32m~/Code/GOST_Urban/src/GOST_Urban/UrbanRaster.py\u001b[0m in \u001b[0;36mcalculateUrban\u001b[0;34m(self, densVal, totalPopThresh, smooth, verbose, queen, raster, raster_pop, print_message)\u001b[0m\n\u001b[1;32m    324\u001b[0m             \u001b[0ms\u001b[0m \u001b[0;34m=\u001b[0m \u001b[0mxxGeom\u001b[0m\u001b[0;34m[\u001b[0m\u001b[0;34m'geometry'\u001b[0m\u001b[0;34m]\u001b[0m\u001b[0;34m\u001b[0m\u001b[0;34m\u001b[0m\u001b[0m\n\u001b[1;32m    325\u001b[0m             \u001b[0moverlap_matrix\u001b[0m \u001b[0;34m=\u001b[0m \u001b[0ms\u001b[0m\u001b[0;34m.\u001b[0m\u001b[0mapply\u001b[0m\u001b[0;34m(\u001b[0m\u001b[0;32mlambda\u001b[0m \u001b[0mx\u001b[0m\u001b[0;34m:\u001b[0m \u001b[0ms\u001b[0m\u001b[0;34m.\u001b[0m\u001b[0mintersects\u001b[0m\u001b[0;34m(\u001b[0m\u001b[0mx\u001b[0m\u001b[0;34m)\u001b[0m\u001b[0;34m)\u001b[0m\u001b[0;34m.\u001b[0m\u001b[0mvalues\u001b[0m\u001b[0;34m.\u001b[0m\u001b[0mastype\u001b[0m\u001b[0;34m(\u001b[0m\u001b[0mint\u001b[0m\u001b[0;34m)\u001b[0m\u001b[0;34m\u001b[0m\u001b[0;34m\u001b[0m\u001b[0m\n\u001b[0;32m--> 326\u001b[0;31m             \u001b[0mn\u001b[0m\u001b[0;34m,\u001b[0m \u001b[0mids\u001b[0m \u001b[0;34m=\u001b[0m \u001b[0mconnected_components\u001b[0m\u001b[0;34m(\u001b[0m\u001b[0moverlap_matrix\u001b[0m\u001b[0;34m)\u001b[0m\u001b[0;34m\u001b[0m\u001b[0;34m\u001b[0m\u001b[0m\n\u001b[0m\u001b[1;32m    327\u001b[0m             \u001b[0mxxGeom\u001b[0m\u001b[0;34m[\u001b[0m\u001b[0;34m'group'\u001b[0m\u001b[0;34m]\u001b[0m \u001b[0;34m=\u001b[0m \u001b[0mids\u001b[0m\u001b[0;34m\u001b[0m\u001b[0;34m\u001b[0m\u001b[0m\n\u001b[1;32m    328\u001b[0m             \u001b[0mxxGeom\u001b[0m \u001b[0;34m=\u001b[0m \u001b[0mxxGeom\u001b[0m\u001b[0;34m.\u001b[0m\u001b[0mdissolve\u001b[0m\u001b[0;34m(\u001b[0m\u001b[0mby\u001b[0m\u001b[0;34m=\u001b[0m\u001b[0;34m\"group\"\u001b[0m\u001b[0;34m,\u001b[0m \u001b[0maggfunc\u001b[0m\u001b[0;34m=\u001b[0m\u001b[0;34m\"sum\"\u001b[0m\u001b[0;34m)\u001b[0m\u001b[0;34m\u001b[0m\u001b[0;34m\u001b[0m\u001b[0m\n",
      "\u001b[0;32m_traversal.pyx\u001b[0m in \u001b[0;36mscipy.sparse.csgraph._traversal.connected_components\u001b[0;34m()\u001b[0m\n",
      "\u001b[0;32m~/.conda/envs/ee/lib/python3.9/site-packages/scipy/sparse/csgraph/_validation.py\u001b[0m in \u001b[0;36mvalidate_graph\u001b[0;34m(csgraph, directed, dtype, csr_output, dense_output, copy_if_dense, copy_if_sparse, null_value_in, null_value_out, infinity_null, nan_null)\u001b[0m\n\u001b[1;32m     44\u001b[0m             \u001b[0mcsgraph\u001b[0m\u001b[0;34m[\u001b[0m\u001b[0mmask\u001b[0m\u001b[0;34m]\u001b[0m \u001b[0;34m=\u001b[0m \u001b[0mnull_value_out\u001b[0m\u001b[0;34m\u001b[0m\u001b[0;34m\u001b[0m\u001b[0m\n\u001b[1;32m     45\u001b[0m         \u001b[0;32melse\u001b[0m\u001b[0;34m:\u001b[0m\u001b[0;34m\u001b[0m\u001b[0;34m\u001b[0m\u001b[0m\n\u001b[0;32m---> 46\u001b[0;31m             csgraph = csgraph_from_dense(csgraph, null_value=null_value_in,\n\u001b[0m\u001b[1;32m     47\u001b[0m                                          \u001b[0minfinity_null\u001b[0m\u001b[0;34m=\u001b[0m\u001b[0minfinity_null\u001b[0m\u001b[0;34m,\u001b[0m\u001b[0;34m\u001b[0m\u001b[0;34m\u001b[0m\u001b[0m\n\u001b[1;32m     48\u001b[0m                                          nan_null=nan_null)\n",
      "\u001b[0;32m_tools.pyx\u001b[0m in \u001b[0;36mscipy.sparse.csgraph._tools.csgraph_from_dense\u001b[0;34m()\u001b[0m\n",
      "\u001b[0;32m_tools.pyx\u001b[0m in \u001b[0;36mscipy.sparse.csgraph._tools.csgraph_masked_from_dense\u001b[0;34m()\u001b[0m\n",
      "\u001b[0;31mValueError\u001b[0m: graph should have two dimensions"
     ]
    }
   ],
   "source": [
    "importlib.reload(nu)\n",
    "# Calculate urban definitions\n",
    "nu.calculate_urban(iso3, inG, inG2, pop_files, ea_file, output_folder, small=runSmall, km=runLarge)\n",
    "#pp_urban = nu.calc_pp_urban(os.path.join(output_folder, \"mauritania\"), \"%s_gpo.tif\" % iso3.lower(), ea_file, output_folder)\n",
    "#pd.DataFrame(pp_urban.drop(['geometry'], axis=1)).to_csv(os.path.join(output_folder, f\"{iso3}_DB_UrbanPopulation_admin3.csv\"))"
   ]
  },
  {
   "cell_type": "code",
   "execution_count": null,
   "metadata": {
    "scrolled": true
   },
   "outputs": [],
   "source": [
    "# Calculate Point-based statistics\n",
    "input_file = os.path.join(output_folder, \"HBS_GPS.csv\")\n",
    "pop_tiffs = [\"eth_gpo.tif\", \"eth_upo15.tif\", 'eth_upo16.tif']\n",
    "all_tiffs = []\n",
    "base_folder = os.path.join(output_folder, \"FINAL_STANDARD\")\n",
    "base_folder_1km = os.path.join(output_folder, \"FINAL_STANDARD_1KM\")\n",
    "for pFile in pop_tiffs:\n",
    "    all_tiffs.append(os.path.join(base_folder, pFile))\n",
    "    all_tiffs.append(os.path.join(base_folder_1km, pFile.replace(\"eth\", \"eth1k\")))    \n",
    "\n",
    "# Read in ETH HH locations, clean\n",
    "inD = pd.read_csv(input_file)\n",
    "inD = inD.loc[~inD['latDD_corrected'].isnull()]\n",
    "inD = inD.loc[~inD['lonDD_corrected'].isnull()]\n",
    "geoms = [Point(row['lonDD_corrected'], row['latDD_corrected']) for idx, row in inD.iterrows()]\n",
    "inD = gpd.GeoDataFrame(inD, geometry=geoms, crs={'init':'epsg:4326'})\n",
    "# Calculate point urbanization for degree of urbanization\n",
    "out_file = os.path.join(output_folder, f\"{iso3}_DoU_Urban.csv\")\n",
    "nu.point_urban_summaries(inD, all_tiffs, out_file)\n",
    "# Calculate point urbanization for PP urban\n",
    "out_file = os.path.join(output_folder, f\"{iso3}_DB_Urban.csv\")\n",
    "in_folder = os.path.join(output_folder, \"ethiopia\")\n",
    "pop_tiffs = [os.path.join(in_folder, x) for x in os.listdir(in_folder)]\n",
    "nu.pp_point_urban_summaries(inD, pop_tiffs, out_file)"
   ]
  },
  {
   "cell_type": "code",
   "execution_count": null,
   "metadata": {},
   "outputs": [],
   "source": [
    "# Run zonal stats\n",
    "constrained_WP_folder = \"/home/public/Data/GLOBAL/Population/RF_SSA_2015-2020\"\n",
    "worldPop_2015         = \"/home/public/Data/GLOBAL/Population/WorldPop_PPP_2015/worldPop_2015.vrt\"\n",
    "global_ghspop = \"/home/public/Data/GLOBAL/Population/GHS/250/GHS_POP_E2015_GLOBE_R2019A_54009_250_V1_0.tif\"    \n",
    "c_WP_15 = f'{constrained_WP_folder}/{iso3}/ppp_{iso3}_const_2015.tif'\n",
    "c_WP_20 = f'{constrained_WP_folder}/{iso3}/ppp_{iso3}_const_2020.tif'\n",
    "\n",
    "pop_files = [[worldPop_2015, f'{iso3.lower()}_upo15.tif']]      \n",
    "pop_files.append([global_ghspop, f'{iso3.lower()}_gpo.tif'])                 \n",
    "pop_files.append([c_WP_15, f'{iso3.lower()}_cpo15.tif'])\n",
    "pop_files.append([c_WP_20, f'{iso3.lower()}_cpo20.tif'])\n",
    "        \n",
    "nu.run_zonal(iso3, output_folder, inG, pop_files, ea_file, '')"
   ]
  },
  {
   "cell_type": "markdown",
   "metadata": {},
   "source": [
    "# Compile and copy mapping data"
   ]
  },
  {
   "cell_type": "code",
   "execution_count": null,
   "metadata": {
    "scrolled": true
   },
   "outputs": [],
   "source": [
    "countries = {'AGO':'angola','BGD':'bangladesh','EGY':'egypt','ETH':'ethiopia',\n",
    "             'GHA':'ghana','TZA':'tanzania','VNM':'vietnam'}\n",
    "for iso3 in countries.keys():\n",
    "    out_folder = \"/home/wb411133/data/Projects/MR_Novel_Urbanization/Mapping/URBAN_Data\"\n",
    "    data_folder = \"/home/wb411133/data/Projects/MR_Novel_Urbanization/Data/%s_URBAN_DATA_new_naming/\" % iso3\n",
    "    dou_folder = os.path.join(data_folder, \"FINAL_STANDARD\")\n",
    "    db_folder  = os.path.join(data_folder, countries[iso3])\n",
    "    \n",
    "    dou_urban = os.path.join(dou_folder, f'{iso3.lower()}_upo15_urban.tif')\n",
    "    dou_urban_hd = os.path.join(dou_folder, f'{iso3.lower()}_upo15_urban_hd.tif')\n",
    "    \n",
    "    db_urban_cc = os.path.join(db_folder, f\"{iso3.lower()}_upo15d20b2000_cc.tif\")\n",
    "    db_urban_co = os.path.join(db_folder, f\"{iso3.lower()}_upo15d20b2000_co.tif\")\n",
    "    db_urban_ur = os.path.join(db_folder, f\"{iso3.lower()}_upo15d20b2000_ur.tif\")\n",
    "    \n",
    "    for uFile in [dou_urban, dou_urban_hd, db_urban_cc, db_urban_co, db_urban_ur]:\n",
    "        print(f'{iso3}: {os.path.exists(uFile)}')\n",
    "        out_file = os.path.join(out_folder, os.path.basename(uFile))\n",
    "        shutil.copy(uFile, out_file)\n",
    "        "
   ]
  },
  {
   "cell_type": "markdown",
   "metadata": {},
   "source": [
    "# Compile zonal results"
   ]
  },
  {
   "cell_type": "code",
   "execution_count": null,
   "metadata": {},
   "outputs": [],
   "source": [
    "# copy only the zonal stats with ea defs\n",
    "cur_countries = list(nu.EA_DEFS.keys())\n",
    "\n",
    "in_folder = \"/home/wb411133/data/Projects/MR_Novel_Urbanization/Data/\"\n",
    "out_folder = os.path.join(in_folder, \"URBAN_ZONAL_RESULTS_EAs\")\n",
    "if not os.path.exists(out_folder):\n",
    "    os.makedirs(out_folder)\n",
    "    \n",
    "for root, dirs, files in os.walk(in_folder):\n",
    "    if \"URBAN_DATA_new_naming\" in root:        \n",
    "        country = os.path.basename(root).split(\"_\")[0]        \n",
    "        if country in nu.EA_DEFS.keys():\n",
    "            for f in files:\n",
    "                if (\"EA_PP_URBAN_Updated\" in f) | (\"EA_WB_URBAN_\" in f) | (\"HH_GPS\" in f):\n",
    "                    fName = pathlib.Path(os.path.join(root, f))   \n",
    "                    date = datetime.fromtimestamp(fName.stat().st_mtime)\n",
    "                    if datetime(2021,6,1) < date:\n",
    "                        print(f'{country}: {f} - {date}') \n",
    "                    else:\n",
    "                        print(f'***OLD: {country}: {f} - {date}') \n",
    "                    shutil.copy(os.path.join(root, f), os.path.join(out_folder, f))"
   ]
  },
  {
   "cell_type": "code",
   "execution_count": null,
   "metadata": {
    "scrolled": true
   },
   "outputs": [],
   "source": [
    "in_folder = \"/home/wb411133/data/Projects/MR_Novel_Urbanization/Data/\"\n",
    "out_folder = os.path.join(in_folder, \"URBAN_ZONAL_RESULTS\")\n",
    "if not os.path.exists(out_folder):\n",
    "    os.makedirs(out_folder)\n",
    "    \n",
    "for root, dirs, files in os.walk(in_folder):\n",
    "    if \"URBAN_DATA_new_naming\" in root:        \n",
    "        country = os.path.basename(root).split(\"_\")[0]        \n",
    "        if country in nu.EA_DEFS.keys():\n",
    "            for f in files:\n",
    "                if (\"EA_PP_URBAN_Updated\" in f) | (\"EA_WB_URBAN_\" in f) | (\"HH_GPS\" in f):\n",
    "                    fName = pathlib.Path(os.path.join(root, f))   \n",
    "                    date = datetime.fromtimestamp(fName.stat().st_mtime)\n",
    "                    if datetime(2021,6,1) < date:\n",
    "                        print(f'{country}: {f} - {date}') \n",
    "                    else:\n",
    "                        print(f'***OLD: {country}: {f} - {date}') \n",
    "                    shutil.copy(os.path.join(root, f), os.path.join(out_folder, f))"
   ]
  },
  {
   "cell_type": "code",
   "execution_count": null,
   "metadata": {},
   "outputs": [],
   "source": [
    "datetime(2021,6,1)"
   ]
  },
  {
   "cell_type": "code",
   "execution_count": null,
   "metadata": {
    "scrolled": true
   },
   "outputs": [],
   "source": [
    "# Delete all zonal stats\n",
    "for root, dirs, files in os.walk(in_folder):\n",
    "    if \"URBAN_DATA_new_naming\" in root:        \n",
    "        country = os.path.basename(root).split(\"_\")[0]        \n",
    "        if country in nu.EA_DEFS.keys():\n",
    "            for f in files:\n",
    "                if (\"URBAN_COMMUNE_STATS\" in f) | (\"URBAN_ADMIN2\" in f):\n",
    "                    print(f'{country}: {f}')\n",
    "                    os.remove(os.path.join(root, f))"
   ]
  },
  {
   "cell_type": "markdown",
   "metadata": {},
   "source": [
    "# Generate Metadata"
   ]
  },
  {
   "cell_type": "code",
   "execution_count": null,
   "metadata": {},
   "outputs": [],
   "source": [
    "template_metadata = \"/home/wb411133/data/Projects/MR_Novel_Urbanization/Data/LSO_URBAN_DATA_new_naming/METADATA/metadata.xlsx\"\n",
    "dataset_info = pd.read_excel(template_metadata, sheet_name=0)\n",
    "layer_info = pd.read_excel(template_metadata, sheet_name=1, index_col=0)"
   ]
  },
  {
   "cell_type": "code",
   "execution_count": null,
   "metadata": {},
   "outputs": [],
   "source": [
    "base_folder = \"/home/wb411133/data/Projects/MR_Novel_Urbanization/Data/{ISO3}_URBAN_DATA_new_naming\"\n",
    "country_name = \"Angola\"\n",
    "iso3 = 'AGO'\n",
    "in_folder = base_folder.format(ISO3=iso3)\n",
    "out_dir = os.path.join(in_folder, 'metadata')\n",
    "\n",
    "make_meta = meta.metadata_gost(in_folder, out_dir)\n",
    "layers = make_meta.get_layers()\n",
    "metadata = make_meta.generate_metadata()\n"
   ]
  },
  {
   "cell_type": "code",
   "execution_count": null,
   "metadata": {},
   "outputs": [],
   "source": [
    "layer_info['layer_name'] = [p.replace(\"lso\", iso3.lower()) for p in layer_info['layer_name']]"
   ]
  },
  {
   "cell_type": "code",
   "execution_count": null,
   "metadata": {
    "scrolled": true
   },
   "outputs": [],
   "source": [
    "sel_info = layer_info.loc[:,['layer_name', 'layer_label','description','source_name','source_url','data_process_summary']]\n",
    "sel_info"
   ]
  },
  {
   "cell_type": "code",
   "execution_count": null,
   "metadata": {},
   "outputs": [],
   "source": [
    "final_meta = metadata['metadata']\n",
    "final_meta = final_meta.loc[:,~final_meta.columns.isin(['layer_label','description','source_name','source_url','data_process_summary'])]\n",
    "final_meta.merge(sel_info, on='layer_name')"
   ]
  },
  {
   "cell_type": "code",
   "execution_count": null,
   "metadata": {},
   "outputs": [],
   "source": [
    "make_meta.write_metadata(os.path.join(out_dir, f\"{iso3}_novel_urbanization_metadata.xlsx\"), \n",
    "                         layer_metadata = final_meta, field_metadata = metadata['fields'],\n",
    "    dataset_id    = dataset_info.Definition[0].format(ISO3=iso3, Country=country_name),\n",
    "    dataset_title = dataset_info.Definition[1].format(ISO3=iso3, Country=country_name),\n",
    "    country       = dataset_info.Definition[2].format(ISO3=iso3, Country=country_name),\n",
    "    abstract      = dataset_info.Definition[3].format(ISO3=iso3, Country=country_name),\n",
    "    purpose       = dataset_info.Definition[4].format(ISO3=iso3, Country=country_name),\n",
    "    creation_date = datetime.today().strftime('%Y-%m-%d'),\n",
    "    release_date  = datetime.today().strftime('%Y-%m-%d'),\n",
    "    owner         = dataset_info.Definition[7].format(ISO3=iso3, Country=country_name),\n",
    "    email         = dataset_info.Definition[8].format(ISO3=iso3, Country=country_name),\n",
    ")"
   ]
  },
  {
   "cell_type": "code",
   "execution_count": null,
   "metadata": {},
   "outputs": [],
   "source": [
    "out_dir"
   ]
  },
  {
   "cell_type": "markdown",
   "metadata": {},
   "source": [
    "# Generating zip commands"
   ]
  },
  {
   "cell_type": "code",
   "execution_count": null,
   "metadata": {},
   "outputs": [],
   "source": [
    "# Delete existing files\n",
    "in_folder = \"/home/wb411133/temp\"\n",
    "for root, dirs, files in os.walk(in_folder):\n",
    "    for d in dirs:\n",
    "        if (d == \"FINAL_STANDARD\") or (d == \"FINAL_STANDARD_1KM\"):\n",
    "            cur_dir = os.path.join(root, d)\n",
    "            print(\"zip -r {out_file} {infolder}\".format(\n",
    "                out_file = \"%s_%s.zip\" % (cur_dir.split(\"/\")[-2].split(\"_\")[0], cur_dir.split(\"_\")[-1]),\n",
    "                infolder = os.path.join(os.path.basename(os.path.dirname(cur_dir)), os.path.basename(cur_dir))))"
   ]
  },
  {
   "cell_type": "markdown",
   "metadata": {},
   "source": [
    "# Debugging"
   ]
  },
  {
   "cell_type": "code",
   "execution_count": null,
   "metadata": {},
   "outputs": [],
   "source": [
    "file1 = \"/home/wb411133/data/Projects/MR_Novel_Urbanization/Data/LSO_URBAN_DATA_new_naming/LSO_lso_cpo20.tif.csv\"\n",
    "file2 = \"/home/wb411133/data/Projects/MR_Novel_Urbanization/Data/LSO_URBAN_DATA_new_naming/LSO_lso_gpo.tif.csv\"\n",
    "\n",
    "inD1 = pd.read_csv(file1, index_col=0)\n",
    "inD2 = pd.read_csv(file2, index_col=0)"
   ]
  },
  {
   "cell_type": "code",
   "execution_count": null,
   "metadata": {},
   "outputs": [],
   "source": [
    "inD1.head()"
   ]
  },
  {
   "cell_type": "code",
   "execution_count": null,
   "metadata": {},
   "outputs": [],
   "source": [
    "inD2.head()"
   ]
  },
  {
   "cell_type": "code",
   "execution_count": null,
   "metadata": {},
   "outputs": [],
   "source": [
    "inD1.join(inD2)"
   ]
  },
  {
   "cell_type": "code",
   "execution_count": null,
   "metadata": {},
   "outputs": [],
   "source": [
    "inD2.columns in inD1.columns"
   ]
  },
  {
   "cell_type": "code",
   "execution_count": null,
   "metadata": {},
   "outputs": [],
   "source": [
    "inD1.columns"
   ]
  },
  {
   "cell_type": "code",
   "execution_count": null,
   "metadata": {},
   "outputs": [],
   "source": [
    "inD2.columns"
   ]
  },
  {
   "cell_type": "code",
   "execution_count": null,
   "metadata": {},
   "outputs": [],
   "source": [
    "pop_files = ['/home/wb411133/data/Projects/MR_Novel_Urbanization/Data/LSO_URBAN_DATA_new_naming/lso_upo15.tif',\n",
    "'/home/wb411133/data/Projects/MR_Novel_Urbanization/Data/LSO_URBAN_DATA_new_naming/lso_gpo.tif',\n",
    "'/home/wb411133/data/Projects/MR_Novel_Urbanization/Data/LSO_URBAN_DATA_new_naming/lso_cpo15.tif',\n",
    "'/home/wb411133/data/Projects/MR_Novel_Urbanization/Data/LSO_URBAN_DATA_new_naming/lso_cpo20.tif',\n",
    "'/home/wb411133/data/Projects/MR_Novel_Urbanization/Data/LSO_URBAN_DATA_new_naming/lso_gpo.tif',\n",
    "'/home/wb411133/data/Projects/MR_Novel_Urbanization/Data/LSO_URBAN_DATA_new_naming/lso_upo15.tif']"
   ]
  },
  {
   "cell_type": "code",
   "execution_count": null,
   "metadata": {},
   "outputs": [],
   "source": [
    "list(set(pop_files))"
   ]
  },
  {
   "cell_type": "code",
   "execution_count": null,
   "metadata": {},
   "outputs": [],
   "source": []
  }
 ],
 "metadata": {
  "kernelspec": {
   "display_name": "Earth Engine",
   "language": "python",
   "name": "ee"
  },
  "language_info": {
   "codemirror_mode": {
    "name": "ipython",
    "version": 3
   },
   "file_extension": ".py",
   "mimetype": "text/x-python",
   "name": "python",
   "nbconvert_exporter": "python",
   "pygments_lexer": "ipython3",
   "version": "3.9.4"
  }
 },
 "nbformat": 4,
 "nbformat_minor": 2
}
