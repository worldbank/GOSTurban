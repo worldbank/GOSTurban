{
 "cells": [
  {
   "cell_type": "markdown",
   "metadata": {},
   "source": [
    "# Calculate Urban Metrics: Shape"
   ]
  },
  {
   "cell_type": "code",
   "execution_count": null,
   "metadata": {},
   "outputs": [],
   "source": [
    "%load_ext autoreload\n",
    "%autoreload 2"
   ]
  },
  {
   "cell_type": "code",
   "execution_count": null,
   "metadata": {},
   "outputs": [],
   "source": [
    "import sys\n",
    "import time"
   ]
  },
  {
   "cell_type": "code",
   "execution_count": null,
   "metadata": {},
   "outputs": [],
   "source": [
    "import pandas as pd\n",
    "import geopandas as gpd\n",
    "import math"
   ]
  },
  {
   "cell_type": "code",
   "execution_count": null,
   "metadata": {},
   "outputs": [],
   "source": []
  },
  {
   "cell_type": "code",
   "execution_count": null,
   "metadata": {},
   "outputs": [],
   "source": [
    "# Get reference to GOSTNets\n",
    "sys.path.append(r\"C:\\repos\\INFRA_SAP\")\n",
    "from infrasap.urban_metrics import *"
   ]
  },
  {
   "cell_type": "code",
   "execution_count": null,
   "metadata": {},
   "outputs": [],
   "source": [
    "start_time = time.time()"
   ]
  },
  {
   "cell_type": "markdown",
   "metadata": {},
   "source": [
    "## To-do\n",
    "### Calculate for Central Asia\n",
    "Kazakhstan, Kyrgystan, Tajikistan, Afghanistan, Turkmenistan, and Uzbekistan\n",
    "### Calculate for ECA (https://www.hurriyetdailynews.com/world-bank-updates-gdp-forecast-for-europe-central-asia-158933)\n",
    "Afghanistan, Albania, Armenia, Azerbaijan, Belarus, Bosnia and Herzegovina, Bulgaria, Croatia, Georgia, Kazakhstan, Kosovo, Kyrgyzstan, Moldova, Montenegro, North Macedonia, Poland, Romania, Serbia, Tajikistan, Turkey, Turkmenistan, Ukraine, Russia, Hungry, and Uzbekistan."
   ]
  },
  {
   "cell_type": "code",
   "execution_count": null,
   "metadata": {},
   "outputs": [],
   "source": [
    "# shpName = r\"C:\\Users\\war-machine\\Documents\\world_bank_work\\UZB_project\\metrics_shape_tool\\russia_urban_extents_merged_4326.shp\"\n",
    "\n",
    "# shpName = r\"C:\\Users\\war-machine\\Documents\\world_bank_work\\UZB_project\\metrics_shape_tool\\sample_shps_3.shp\"\n",
    "# shpName = r\"C:\\Users\\war-machine\\Documents\\world_bank_work\\UZB_project\\metrics_shape_tool\\UBZ_only_FUAs2_geom_fixed.shp\"\n",
    "# shpName = r\"C:\\repos\\GOST_Urban\\Notebooks\\Implementations\\eca_wo_rus_urban_clusters_ghs_pop_smooth_100k_4326_2.shp\"\n",
    "# shpName = r\"C:\\Users\\war-machine\\Documents\\world_bank_work\\UZB_project\\metrics_shape_tool\\UZB_ghs_built_up_extents_4326\\UZB_only_ghs_built_up_extents_4326_geom_fixed_greater_50k.shp\"\n",
    "# shpName = r\"C:\\Users\\war-machine\\Documents\\world_bank_work\\UZB_project\\metrics_shape_tool\\UZB_ghs_built_up_extents_4326\\UZB_only_ghs_built_up_extents_4326_geom_fixed.shp\"\n",
    "# shpName = r\"C:\\Users\\war-machine\\Documents\\world_bank_work\\UZB_project\\metrics_shape_tool\\ECA_wo_rus_urban_extents\\eca_wo_rus_built_up_extents_4326.shp\"\n",
    "shpName = r\"C:\\Users\\war-machine\\Documents\\world_bank_work\\UZB_project\\metrics_shape_tool\\all_urban_clusters_5k_up_4326.shp\""
   ]
  },
  {
   "cell_type": "code",
   "execution_count": null,
   "metadata": {},
   "outputs": [],
   "source": [
    "# import extent\n",
    "input_shapes_gpd = gpd.read_file(shpName)"
   ]
  },
  {
   "cell_type": "code",
   "execution_count": null,
   "metadata": {},
   "outputs": [],
   "source": [
    "# input_shapes_gpd"
   ]
  },
  {
   "cell_type": "code",
   "execution_count": null,
   "metadata": {},
   "outputs": [],
   "source": [
    "# proj\n",
    "# vars(input_shapes_gpd)\n",
    "input_shapes_gpd._crs"
   ]
  },
  {
   "cell_type": "code",
   "execution_count": null,
   "metadata": {},
   "outputs": [],
   "source": [
    "# make the GeoDataFrame unprojected\n",
    "input_shapes_gpd = input_shapes_gpd.to_crs(\"epsg:4326\")\n",
    "input_shapes_gpd._crs"
   ]
  },
  {
   "cell_type": "code",
   "execution_count": null,
   "metadata": {},
   "outputs": [],
   "source": [
    "input_shapes_gpd"
   ]
  },
  {
   "cell_type": "code",
   "execution_count": null,
   "metadata": {},
   "outputs": [],
   "source": [
    "start_time = time.time()"
   ]
  },
  {
   "cell_type": "code",
   "execution_count": null,
   "metadata": {},
   "outputs": [],
   "source": [
    "# -------------------------------------\n",
    "# SET UP TEMP WORKSPACE...\n",
    "TempWS = r\"C:\\Users\\war-machine\\Documents\\world_bank_work\\UZB_project\\metrics_shape_tool\\Shape_Metrics_Temp\"\n",
    "\n",
    "# feature grid text file...\n",
    "gridTxtFile = \"%s\\\\grid.txt\" % TempWS"
   ]
  },
  {
   "cell_type": "markdown",
   "metadata": {},
   "source": [
    "### Loop through each urban extent and calculate its urban metrics. For each urban extent we will reproject it using the UTM zone it belongs in. Then at the end we will unproject it again."
   ]
  },
  {
   "cell_type": "code",
   "execution_count": null,
   "metadata": {},
   "outputs": [],
   "source": [
    "%%time\n",
    "for index, row in input_shapes_gpd.iterrows():\n",
    "    print(index)\n",
    "    metrics = {}\n",
    "\n",
    "    # creates a temporary GDF for just the row's shape\n",
    "    temp_gdf = input_shapes_gpd.iloc[[index]]\n",
    "\n",
    "    # finds its correct UTM zone projection and reprojects it\n",
    "    temp_gdf_proj = project_gdf(temp_gdf)\n",
    "\n",
    "    A = temp_gdf_proj.iloc[0].geometry.area\n",
    "    P = temp_gdf_proj.iloc[0].geometry.length\n",
    "\n",
    "    # Equal area circle radius...\n",
    "    r = (\n",
    "        (temp_gdf_proj.iloc[0].geometry.area / math.pi) ** 0.5\n",
    "    )  # radius of equal area circle (circle with area equal to shape area) (derived from A = pi * r squared)\n",
    "    print(f\"print r: {r}\")\n",
    "    p = 2 * math.pi * r  # Equal area circle perimeter\n",
    "\n",
    "    # LIST OF COORDINATES OF FEATURE VERTICES (for single part features)...\n",
    "    pntLst = []  # stores feature array...\n",
    "    subVLst = []\n",
    "\n",
    "    # Step through exterior part of the feature\n",
    "    for coord in temp_gdf_proj.iloc[0].geometry.exterior.coords:\n",
    "        # Print the part number\n",
    "        # print(\"coord {}:\".format(coord))\n",
    "        # Step through each vertex in the feature\n",
    "        # Print x,y coordinates of current point\n",
    "        # print(\"{}, {}\".format(coord[0], coord[1]))\n",
    "        X, Y = coord[0], coord[1]  # get point XY\n",
    "        subVLst.append([X, Y])  # add XY to list\n",
    "\n",
    "    pntLst.append(subVLst)\n",
    "\n",
    "    # if it has interior polygons\n",
    "    if len(list(temp_gdf_proj.iloc[0].geometry.interiors)) > 0:\n",
    "        for poly in list(temp_gdf_proj.iloc[0].geometry.interiors):\n",
    "            print(\"new interior polygon\")\n",
    "            subVLst = []\n",
    "            # Step through each part of the feature\n",
    "            for coord in poly.coords:\n",
    "                # print(\"coord {}:\".format(coord))\n",
    "                # Step through each vertex in the feature\n",
    "                # Print x,y coordinates of current point\n",
    "                # print(\"{}, {}\".format(coord[0], coord[1]))\n",
    "                X, Y = coord[0], coord[1]  # get point XY\n",
    "                subVLst.append([X, Y])  # add XY to list\n",
    "            # print(subVLst)\n",
    "            subVLst.reverse()\n",
    "            # print(subVLst)\n",
    "            pntLst.append(subVLst)\n",
    "\n",
    "    # desired shape area in pixels...\n",
    "    numPix = 20000\n",
    "\n",
    "    # calculate pixel size...\n",
    "    cellsize = (A / numPix) ** 0.5\n",
    "\n",
    "    # get min and max XY values\n",
    "    minX, minY, maxX, maxY = (\n",
    "        temp_gdf_proj.iloc[0].geometry.bounds[0],\n",
    "        temp_gdf_proj.iloc[0].geometry.bounds[1],\n",
    "        temp_gdf_proj.iloc[0].geometry.bounds[2],\n",
    "        temp_gdf_proj.iloc[0].geometry.bounds[3],\n",
    "    )\n",
    "\n",
    "    # offset grid by half a pixel...\n",
    "    minX -= cellsize / 2\n",
    "    maxY += cellsize / 2\n",
    "\n",
    "    # centroid coordinates\n",
    "    centroidXY = (\n",
    "        temp_gdf_proj.iloc[0].geometry.centroid.x,\n",
    "        temp_gdf_proj.iloc[0].geometry.centroid.y,\n",
    "    )\n",
    "    x_offset, y_offset = 0, 0\n",
    "    Xc, Yc = centroidXY[0] - x_offset, centroidXY[1] - y_offset\n",
    "\n",
    "    # generates a list of points within the shape\n",
    "    featPntLst = generate_featPntLst(\n",
    "        pntLst, minX, minY, maxX, maxY, cellsize, gridTxtFile\n",
    "    )\n",
    "\n",
    "    # NOTE: THE CENTROID IS CURRENTLY USED AS THE CENTER\n",
    "    # calculate distance of feature points to center...\n",
    "    D_to_Center, EAC_pix = proximity(featPntLst, Xc, Yc, r)\n",
    "\n",
    "    # Proximity index (circle / shape)\n",
    "    # avg distance to center for equal area circle...\n",
    "    circD = r * (2.0 / 3.0)\n",
    "    # print(f\"print circD: {circD}\")\n",
    "    # print(f\"print D_to_Center: {D_to_Center}\")\n",
    "    ProximityIndex = circD / D_to_Center\n",
    "    metrics[\"ProximityIndex\"] = ProximityIndex\n",
    "\n",
    "    # Roundness (exchange-index)\n",
    "    inArea = EAC_pix * cellsize**2\n",
    "    areaExchange = inArea / A\n",
    "    metrics[\"RoundnessIndex\"] = areaExchange\n",
    "\n",
    "    # Cohesion index\n",
    "    # custom tool calculates approx. average interpoint distances between\n",
    "    # samples of points in shape...\n",
    "    shp_interD = interpointDistance(featPntLst)\n",
    "\n",
    "    # average interpoint distance for equal area circle...\n",
    "    circ_interD = r * 0.9054\n",
    "\n",
    "    # cohesion index is ratio of avg interpoint distance of circle to\n",
    "    # avg interpoint distance of shape...\n",
    "    CohesionIndex = circ_interD / shp_interD\n",
    "\n",
    "    metrics[\"CohesionIndex\"] = CohesionIndex\n",
    "\n",
    "    # Spin index\n",
    "    # custom tool calculates moment of inertia for shape...\n",
    "    shpMOI = spin(featPntLst, Xc, Yc)\n",
    "\n",
    "    # moment of inertia for equal area circle...\n",
    "    circ_MOI = 0.5 * r**2\n",
    "\n",
    "    # calculate spin index (circle / shape)...\n",
    "    Spin = circ_MOI / shpMOI\n",
    "\n",
    "    metrics[\"SpinIndex\"] = Spin\n",
    "\n",
    "    # Perimeter index (circle / shape)\n",
    "    PerimIndex = p / P  # The Perimeter Index\n",
    "    metrics[\"PerimIndex\"] = PerimIndex\n",
    "\n",
    "    # Pre-calculations for Depth, Girth, and Dispersion indices\n",
    "\n",
    "    # print(f\"print first 3 of pntLst: {pntLst[0][:3]}\")\n",
    "\n",
    "    # get list of points evenly distributed along perimeter...\n",
    "    perimPntLst = PerimeterPnts(pntLst, 500)\n",
    "\n",
    "    # print(f\"print first of perimPntLst: {perimPntLst[0]}\")\n",
    "\n",
    "    # ------------------------------------------------------------------------------\n",
    "    # SECTION 7: CALCULATE DISTANCE OF INTERIOR SHAPE POINTS TO PERIMETER POINTS...\n",
    "\n",
    "    # custom tool calculates distance of each interior point to nearest perimeter point...\n",
    "    pt_dToE = pt_distToEdge(featPntLst, perimPntLst)\n",
    "\n",
    "    # print(f\"print max pt_dToE: {pt_dToE[-1]}\")\n",
    "\n",
    "    # Depth index\n",
    "    # custom tool calculates average distance from interior pixels to nearest edge pixels...\n",
    "    shp_depth = depth(pt_dToE)\n",
    "\n",
    "    # depth for equal area circle...\n",
    "    EAC_depth = r / 3\n",
    "\n",
    "    # calculate depth index (shape / circle)...\n",
    "    depthIndex = shp_depth / EAC_depth\n",
    "    metrics[\"DepthIndex\"] = depthIndex\n",
    "\n",
    "    # Girth index\n",
    "    # custom tool calculates shape girth (distance from edge to innermost point)\n",
    "    # and outputs list position of innermost point...\n",
    "    shp_Girth = girth(pt_dToE)\n",
    "\n",
    "    # calculate girth index (shape / circle)...\n",
    "    girthIndex = shp_Girth / r  # girth of a circle is its radius\n",
    "    # print(f\"print shp_Girth: {shp_Girth}\")\n",
    "    # print(f\"print r: {r}\")\n",
    "    metrics[\"GirthIndex\"] = girthIndex\n",
    "\n",
    "    # Dispersion index\n",
    "    # custom tool calculates average distance between proximate center and edge points...\n",
    "    dispersionIndex, avgD = dispersion([Xc, Yc], perimPntLst[0])\n",
    "    metrics[\"DispersionIndex\"] = dispersionIndex\n",
    "\n",
    "    # Detour index\n",
    "    # custom tool creates list of points in the exterior polygon shape\n",
    "    hullPerim = ConvexHull(pntLst[0])\n",
    "\n",
    "    # calculate detour index (circle / shape)...\n",
    "    detourIndex = p / hullPerim\n",
    "    metrics[\"DispersionIndex\" \"DispersionIndex\"] = detourIndex\n",
    "\n",
    "    # Range index\n",
    "    # custom tool identifies perimeter points that are farthest apart, outputs\n",
    "    # distance between furthermost points...\n",
    "    circumCircD = Range(pntLst[0])\n",
    "\n",
    "    # calculate range index (circle / shape)\n",
    "    rangeIndex = (2 * r) / circumCircD\n",
    "    metrics[\"RangeIndex\"] = rangeIndex\n",
    "\n",
    "    # Put all metrics in a DataFrame\n",
    "    metrics_scalar = {}\n",
    "    for k in metrics:\n",
    "        metrics_scalar[k] = [metrics[k]]\n",
    "    metrics_df = pd.DataFrame(metrics_scalar)\n",
    "\n",
    "    # and concatinate it with the row's shape\n",
    "    new_temp_gdf_proj = pd.concat(\n",
    "        [temp_gdf_proj.reset_index(drop=True), metrics_df], axis=1\n",
    "    )\n",
    "\n",
    "    # print(\"print new_temp_gdf_proj\")\n",
    "    # print(new_temp_gdf_proj)\n",
    "\n",
    "    # make it unprojected\n",
    "    temp_gdf_proj_4326 = new_temp_gdf_proj.to_crs(\"epsg:4326\")\n",
    "\n",
    "    # put the results of each row into a new DataFrame\n",
    "    if index == 0:\n",
    "        # print(\"creating output_shapes_gpd_4326\")\n",
    "        output_shapes_gpd_4326 = temp_gdf_proj_4326\n",
    "    else:\n",
    "        # print(f\"print output_shapes_gpd_4326, and index is {index}\")\n",
    "        # print(output_shapes_gpd_4326)\n",
    "        # print(\"to append temp_gdf_proj_4326\")\n",
    "        # print(temp_gdf_proj_4326)\n",
    "        output_shapes_gpd_4326 = output_shapes_gpd_4326.append(\n",
    "            temp_gdf_proj_4326, ignore_index=True\n",
    "        )\n",
    "        # print(\"output_shapes_gpd_4326 after append\")\n",
    "        # print(output_shapes_gpd_4326)"
   ]
  },
  {
   "cell_type": "code",
   "execution_count": null,
   "metadata": {},
   "outputs": [],
   "source": [
    "output_shapes_gpd_4326"
   ]
  },
  {
   "cell_type": "code",
   "execution_count": null,
   "metadata": {},
   "outputs": [],
   "source": [
    "# output = r\"C:\\Users\\war-machine\\Documents\\world_bank_work\\UZB_project\\metrics_shape_tool\\eca_metrics_results_russia\"\n",
    "# output = r\"C:\\Users\\war-machine\\Documents\\world_bank_work\\UZB_project\\metrics_shape_tool\\eca_urban_metrics_results_wo_rus\"\n",
    "# output = r\"C:\\Users\\war-machine\\Documents\\world_bank_work\\UZB_project\\metrics_shape_tool\\UZB_only_GHS_urban_extents_results\"\n",
    "# output = r\"C:\\Users\\war-machine\\Documents\\world_bank_work\\UZB_project\\metrics_shape_tool\\UZB_only_GHS_urban_extents_results_all\"\n",
    "# output = r\"C:\\Users\\war-machine\\Documents\\world_bank_work\\UZB_project\\metrics_shape_tool\\eca_urban_metrics_results_wo_rus_all\"\n",
    "output = r\"C:\\Users\\war-machine\\Documents\\world_bank_work\\UZB_project\\metrics_shape_tool\\all_urban_extents_results_5k_up\""
   ]
  },
  {
   "cell_type": "code",
   "execution_count": null,
   "metadata": {},
   "outputs": [],
   "source": [
    "# save as CSV\n",
    "# output_shapes_gpd_4326.to_csv(output + r\"\\ECA_russia_urban_metrics_100k_shape.csv\")\n",
    "# output_shapes_gpd_4326.to_csv(output + r\"\\UZB_only_urban_metrics_urban_extents_shape.csv\")\n",
    "# output_shapes_gpd_4326.to_csv(output + r\"\\UZB_only_urban_metrics_urban_extents_all_shape.csv\")\n",
    "output_shapes_gpd_4326.to_csv(output + r\"\\all_urban_metrics_5k_up_shape.csv\")"
   ]
  },
  {
   "cell_type": "code",
   "execution_count": null,
   "metadata": {},
   "outputs": [],
   "source": [
    "print(f\"total time to process: {time.time()-start_time}\")"
   ]
  }
 ],
 "metadata": {
  "language_info": {
   "name": "python"
  }
 },
 "nbformat": 4,
 "nbformat_minor": 4
}
