{
 "cells": [
  {
   "cell_type": "code",
   "execution_count": null,
   "id": "0",
   "metadata": {},
   "outputs": [],
   "source": [
    "import sys\n",
    "import os\n",
    "import osmnx\n",
    "\n",
    "import geopandas as gpd\n",
    "import pandas as pd\n",
    "import multiprocessing\n",
    "\n",
    "from shapely.ops import transform\n",
    "import pyproj\n",
    "\n",
    "sys.path.append(\"/home/wb411133/Code/GOSTrocks/src\")\n",
    "\n",
    "from GOSTrocks.misc import tPrint"
   ]
  },
  {
   "cell_type": "code",
   "execution_count": null,
   "id": "1",
   "metadata": {},
   "outputs": [],
   "source": [
    "data_folder = \"s3://wbg-geography01/URBANIZATION/MENA/\"\n",
    "ucdb_file = os.path.join(\n",
    "    data_folder, \"Extents\", \"GHS_STAT_UCDB2015MT_GLOBE_R2019A_V1_2.gpkg\"\n",
    ")\n",
    "fua_file = os.path.join(\n",
    "    data_folder, \"Extents\", \"GHS_FUA_UCDB2015_GLOBE_R2019A_54009_1K_V1_0.gpkg\"\n",
    ")\n",
    "fua_peripheries = os.path.join(data_folder, \"Extents\", \"FUA_peripheries.gpkg\")\n",
    "\n",
    "# Highway features are reclassified to 4 OSMLR classes for simplification and standardization\n",
    "#   https://mapzen.com/blog/osmlr-2nd-technical-preview/\n",
    "OSMLR_Classes = {\n",
    "    \"motorway\": \"OSMLR_1\",\n",
    "    \"motorway_link\": \"OSMLR_1\",\n",
    "    \"trunk\": \"OSMLR_1\",\n",
    "    \"trunk_link\": \"OSMLR_1\",\n",
    "    \"primary\": \"OSMLR_1\",\n",
    "    \"primary_link\": \"OSMLR_1\",\n",
    "    \"secondary\": \"OSMLR_2\",\n",
    "    \"secondary_link\": \"OSMLR_2\",\n",
    "    \"tertiary\": \"OSMLR_2\",\n",
    "    \"tertiary_link\": \"OSMLR_2\",\n",
    "    \"unclassified\": \"OSMLR_3\",\n",
    "    \"unclassified_link\": \"OSMLR_3\",\n",
    "    \"residential\": \"OSMLR_3\",\n",
    "    \"residential_link\": \"OSMLR_3\",\n",
    "    \"track\": \"OSMLR_4\",\n",
    "    \"service\": \"OSMLR_4\",\n",
    "}"
   ]
  },
  {
   "cell_type": "code",
   "execution_count": null,
   "id": "2",
   "metadata": {},
   "outputs": [],
   "source": [
    "inF = gpd.read_file(fua_file)\n",
    "inF = inF.to_crs(4326)\n",
    "inP = gpd.read_file(fua_peripheries)\n",
    "if inP.crs != inF.crs:\n",
    "    inP = inP.to_crs(4326)\n",
    "inP[\"geometry\"] = inP.buffer(0)"
   ]
  },
  {
   "cell_type": "code",
   "execution_count": null,
   "id": "3",
   "metadata": {},
   "outputs": [],
   "source": [
    "wgs84 = pyproj.CRS(\"EPSG:4326\")\n",
    "wm = pyproj.CRS(\"EPSG:3278\")\n",
    "\n",
    "project = pyproj.Transformer.from_crs(wgs84, wm, always_xy=True).transform\n",
    "\n",
    "\n",
    "def summarize_road_length(curR, core_shp, fua_shp, transformer):\n",
    "    \"\"\"curR - GeoDataFrame of roads\n",
    "    core_shp - shapely polygon of core\n",
    "    transformer - turn wgs84 into 3857\n",
    "\n",
    "    returns - array of length intersecting [core_shp, fua_shp] in metres\n",
    "    \"\"\"\n",
    "    core_rds = curR.unary_union.intersection(core_shp)\n",
    "    core_rds = transform(transformer, core_rds)\n",
    "    fua_rds = curR.unary_union.intersection(fua_shp)\n",
    "    fua_rds = transform(transformer, fua_rds)\n",
    "    return [core_rds.length, fua_rds.length]"
   ]
  },
  {
   "cell_type": "code",
   "execution_count": null,
   "id": "4",
   "metadata": {},
   "outputs": [],
   "source": [
    "all_res = []\n",
    "for idx, cur_city in inF.iterrows():\n",
    "    cur_roads = osmnx.geometries_from_polygon(cur_city[\"geometry\"], {\"highway\": True})\n",
    "    cur_roads[\"OSMLR\"] = cur_roads[\"highway\"].map(OSMLR_Classes)\n",
    "    cur_periphery = inP.loc[inP[\"eFUA_ID\"] == cur_city[\"eFUA_ID\"]].iloc[0]\n",
    "    cur_res = {\"eFUA_ID\": cur_city[\"eFUA_ID\"]}\n",
    "    for lbl, rds in cur_roads.groupby(\"OSMLR\"):\n",
    "        rd_length = summarize_road_length(\n",
    "            rds, cur_city.geometry, cur_periphery.geometry, project\n",
    "        )\n",
    "        cur_res[f\"core_{lbl}_m\"] = rd_length[0]\n",
    "        cur_res[f\"per_{lbl}_m\"] = rd_length[1]\n",
    "    all_res.append(cur_res)\n",
    "    tPrint(idx)"
   ]
  },
  {
   "cell_type": "markdown",
   "id": "5",
   "metadata": {},
   "source": [
    "# Multiprocessing"
   ]
  },
  {
   "cell_type": "code",
   "execution_count": null,
   "id": "6",
   "metadata": {},
   "outputs": [],
   "source": [
    "def summarize_road_length(cur_city, cur_p):\n",
    "    \"\"\"\n",
    "    cur_city - geoseries of current city attributes\n",
    "    cur_p - geoseries of matching periphery\n",
    "    transformer - turn wgs84 into 3857\n",
    "\n",
    "    returns - array of length intersecting [e_ID, core_shp, fua_shp] in metres\n",
    "    \"\"\"\n",
    "    wgs84 = pyproj.CRS(\"EPSG:4326\")\n",
    "    wm = pyproj.CRS(\"EPSG:3278\")\n",
    "    transformer = pyproj.Transformer.from_crs(wgs84, wm, always_xy=True).transform\n",
    "    cur_res = {\"eFUA_ID\": cur_city[\"eFUA_ID\"]}\n",
    "    try:\n",
    "        try:\n",
    "            cur_roads = osmnx.geometries_from_polygon(\n",
    "                cur_city[\"geometry\"], {\"highway\": True}\n",
    "            )\n",
    "        except:\n",
    "            cur_roads = osmnx.geometries_from_polygon(\n",
    "                cur_city[\"geometry\"].buffer(0), {\"highway\": True}\n",
    "            )\n",
    "        cur_roads[\"OSMLR\"] = cur_roads[\"highway\"].map(OSMLR_Classes)\n",
    "        for lbl, curR in cur_roads.groupby(\"OSMLR\"):\n",
    "            core_rds = curR.unary_union.intersection(cur_city.geometry)\n",
    "            core_rds = transform(transformer, core_rds)\n",
    "            fua_rds = curR.unary_union.intersection(cur_p.geometry)\n",
    "            fua_rds = transform(transformer, fua_rds)\n",
    "            cur_res[f\"core_{lbl}_m\"] = core_rds.length\n",
    "            cur_res[f\"per_{lbl}_m\"] = fua_rds.length\n",
    "        tPrint(f\"Completed {cur_city['eFUA_name']}\")\n",
    "    except:\n",
    "        tPrint(f\"*****Error {cur_city['eFUA_name']}\")\n",
    "    return cur_res"
   ]
  },
  {
   "cell_type": "code",
   "execution_count": null,
   "id": "7",
   "metadata": {},
   "outputs": [],
   "source": [
    "# prepare mp arguments\n",
    "all_args = []\n",
    "for idx, cur_city in inF.iterrows():\n",
    "    cur_periphery = inP.loc[inP[\"eFUA_ID\"] == cur_city[\"eFUA_ID\"]].iloc[0]\n",
    "    all_args.append([cur_city, cur_periphery])"
   ]
  },
  {
   "cell_type": "code",
   "execution_count": null,
   "id": "8",
   "metadata": {},
   "outputs": [],
   "source": [
    "summarize_road_length(*all_args[0])"
   ]
  },
  {
   "cell_type": "code",
   "execution_count": null,
   "id": "9",
   "metadata": {},
   "outputs": [],
   "source": [
    "with multiprocessing.Pool(70) as pool:\n",
    "    res = pool.starmap(summarize_road_length, all_args)"
   ]
  },
  {
   "cell_type": "code",
   "execution_count": null,
   "id": "10",
   "metadata": {},
   "outputs": [],
   "source": [
    "osm_res = pd.DataFrame(res)\n",
    "bad_fua = osm_res.loc[\n",
    "    osm_res[\"core_OSMLR_2_m\"].isna() * osm_res[\"core_OSMLR_3_m\"].isna(), \"eFUA_ID\"\n",
    "].values\n",
    "updatedF = inF.copy()\n",
    "updatedF.set_index(\"eFUA_ID\")\n",
    "all_res = []\n",
    "for cur_fua in bad_fua:\n",
    "    cur_city = inF.loc[inF[\"eFUA_ID\"] == cur_fua].iloc[0]\n",
    "    cur_periphery = inP.loc[inP[\"eFUA_ID\"] == cur_city[\"eFUA_ID\"]].iloc[0]\n",
    "    try:\n",
    "        cur_city[\"geometry\"] = cur_city[\"geometry\"].buffer(0)\n",
    "        cur_periphery[\"geometry\"] = cur_periphery[\"geometry\"].buffer(0)\n",
    "        cur_res = summarize_road_length(cur_city, cur_periphery)\n",
    "        all_res.append(cur_res)\n",
    "    except:\n",
    "        tPrint(\"\")"
   ]
  },
  {
   "cell_type": "code",
   "execution_count": null,
   "id": "11",
   "metadata": {},
   "outputs": [],
   "source": [
    "fixed_roads = pd.DataFrame(all_res)\n",
    "fixed_roads = fixed_roads.set_index(\"eFUA_ID\")\n",
    "final_dataset = osm_res.set_index(\"eFUA_ID\")\n",
    "final_dataset.update(fixed_roads)\n",
    "final_dataset"
   ]
  },
  {
   "cell_type": "code",
   "execution_count": null,
   "id": "12",
   "metadata": {},
   "outputs": [],
   "source": [
    "final_dataset.to_csv(\n",
    "    os.path.join(\n",
    "        data_folder, \"ZONAL_RES\", \"OSM_ROAD_LENGTH\", \"OSMLR_Classes_length_m.csv\"\n",
    "    )\n",
    ")"
   ]
  },
  {
   "cell_type": "code",
   "execution_count": null,
   "id": "13",
   "metadata": {},
   "outputs": [],
   "source": [
    "data_folder"
   ]
  },
  {
   "cell_type": "code",
   "execution_count": null,
   "id": "14",
   "metadata": {},
   "outputs": [],
   "source": [
    "data_folder"
   ]
  }
 ],
 "metadata": {
  "language_info": {
   "name": "python"
  }
 },
 "nbformat": 4,
 "nbformat_minor": 5
}
