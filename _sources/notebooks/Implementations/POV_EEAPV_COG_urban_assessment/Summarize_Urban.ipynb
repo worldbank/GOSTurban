{
 "cells": [
  {
   "cell_type": "code",
   "execution_count": null,
   "metadata": {},
   "outputs": [],
   "source": [
    "import sys\n",
    "import os\n",
    "import rasterio\n",
    "import rasterio.warp\n",
    "\n",
    "\n",
    "# Import raster helpers\n",
    "sys.path.insert(0, \"/home/wb411133/Code/gostrocks/src\")\n",
    "\n",
    "import GOSTRocks.dataMisc as dataMisc\n",
    "\n",
    "# Import GOST urban functions\n",
    "sys.path.append(\"../../../src\")\n",
    "import GOST_Urban.urban_helper as helper\n",
    "\n",
    "%load_ext autoreload\n",
    "%autoreload 2"
   ]
  },
  {
   "cell_type": "code",
   "execution_count": null,
   "metadata": {},
   "outputs": [],
   "source": [
    "pop_urban_folder = (\n",
    "    \"/home/wb411133/data/Projects/MR_Novel_Urbanization/Data/COG_URBAN_DATA_new_naming\"\n",
    ")\n",
    "in_bounds = dataMisc.get_geoboundaries(\"COG\", \"ADM1\")\n",
    "\n",
    "out_folder = \"/home/wb411133/temp\""
   ]
  },
  {
   "cell_type": "code",
   "execution_count": null,
   "metadata": {},
   "outputs": [],
   "source": [
    "# summarize worldpop urbanization and population\n",
    "class urban_summary:\n",
    "    def __init__(self, f_base, in_folder):\n",
    "        self.f_base = f_base\n",
    "        self.in_folder = in_folder\n",
    "\n",
    "        self.pop_layer = os.path.join(in_folder, f\"{f_base}.tif\")\n",
    "        self.hd_layer = os.path.join(in_folder, f\"{f_base}_urban_hd.tif\")\n",
    "        self.urb_layer = os.path.join(in_folder, f\"{f_base}_urban.tif\")\n",
    "\n",
    "    def compare_populations(self, boundaries):\n",
    "        calculator = helper.summarize_population(\n",
    "            self.pop_layer, boundaries, self.urb_layer, self.hd_layer\n",
    "        )\n",
    "        pop_res = calculator.calculate_zonal()\n",
    "        return pop_res"
   ]
  },
  {
   "cell_type": "code",
   "execution_count": null,
   "metadata": {},
   "outputs": [],
   "source": [
    "source_folder = os.path.join(pop_urban_folder, \"FINAL_STANDARD\")\n",
    "comp1_base = \"cog_cpo20\"\n",
    "comp2_base = \"cog_cpo20_WB\"\n",
    "\n",
    "calculator = urban_summary(comp1_base, source_folder)\n",
    "cpo20_pop_res = calculator.compare_populations(in_bounds)\n",
    "\n",
    "calculator = urban_summary(comp2_base, source_folder)\n",
    "cpo20WB_pop_res = calculator.compare_populations(in_bounds)\n",
    "\n",
    "combo_res = cpo20_pop_res.loc[:, [x for x in cpo20_pop_res.columns if \"SUM\" in x]].join(\n",
    "    cpo20WB_pop_res.loc[:, [x for x in cpo20WB_pop_res.columns if \"SUM\" in x]]\n",
    ")\n",
    "combo_res.to_csv(os.path.join(out_folder, \"COG_250m_urban_population_summary.csv\"))"
   ]
  },
  {
   "cell_type": "code",
   "execution_count": null,
   "metadata": {},
   "outputs": [],
   "source": [
    "cpo20WB_pop_res"
   ]
  },
  {
   "cell_type": "code",
   "execution_count": null,
   "metadata": {},
   "outputs": [],
   "source": [
    "source_folder = os.path.join(pop_urban_folder, \"FINAL_STANDARD_1KM\")\n",
    "comp1_base = \"cog1k_cpo20\"\n",
    "comp2_base = \"cog1k_cpo20_WB\"\n",
    "\n",
    "calculator = urban_summary(comp1_base, source_folder)\n",
    "cpo20_pop_res = calculator.compare_populations(in_bounds)\n",
    "\n",
    "calculator = urban_summary(comp2_base, source_folder)\n",
    "cpo20WB_pop_res = calculator.compare_populations(in_bounds)\n",
    "\n",
    "combo_res = cpo20_pop_res.loc[:, [x for x in cpo20_pop_res.columns if \"SUM\" in x]].join(\n",
    "    cpo20WB_pop_res.loc[:, [x for x in cpo20WB_pop_res.columns if \"SUM\" in x]]\n",
    ")\n",
    "combo_res.to_csv(os.path.join(out_folder, \"COG_1km_urban_population_summary.csv\"))"
   ]
  },
  {
   "cell_type": "markdown",
   "metadata": {},
   "source": [
    "# Reasonable-ness test"
   ]
  },
  {
   "cell_type": "code",
   "execution_count": null,
   "metadata": {},
   "outputs": [],
   "source": [
    "source_folder = os.path.join(pop_urban_folder, \"FINAL_STANDARD\")\n",
    "comp1_base = \"cog_cpo20\"\n",
    "comp2_base = \"cog_cpo20_WB\"\n",
    "\n",
    "com1_pop = rasterio.open(os.path.join(source_folder, f\"{comp1_base}.tif\")).read()\n",
    "com2_pop = rasterio.open(os.path.join(source_folder, f\"{comp2_base}.tif\")).read()"
   ]
  },
  {
   "cell_type": "code",
   "execution_count": null,
   "metadata": {},
   "outputs": [],
   "source": [
    "com1_pop[com1_pop > 0].sum()"
   ]
  },
  {
   "cell_type": "code",
   "execution_count": null,
   "metadata": {},
   "outputs": [],
   "source": [
    "com2_pop[com1_pop > 0].sum()"
   ]
  },
  {
   "cell_type": "code",
   "execution_count": null,
   "metadata": {},
   "outputs": [],
   "source": []
  }
 ],
 "metadata": {
  "language_info": {
   "name": "python"
  }
 },
 "nbformat": 4,
 "nbformat_minor": 2
}
