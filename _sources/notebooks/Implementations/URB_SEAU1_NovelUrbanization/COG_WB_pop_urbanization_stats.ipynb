{
 "cells": [
  {
   "cell_type": "code",
   "execution_count": null,
   "metadata": {},
   "outputs": [],
   "source": [
    "import sys\n",
    "import os\n",
    "import boto3\n",
    "import rasterio\n",
    "\n",
    "import pandas as pd\n",
    "import geopandas as gpd\n",
    "\n",
    "from rasterio.merge import merge\n",
    "\n",
    "# Import raster helpers\n",
    "sys.path.insert(0, \"../../../../GOSTrocks/src\")\n",
    "\n",
    "import GOSTrocks.rasterMisc as rMisc\n",
    "import GOSTrocks.dataMisc as dMisc\n",
    "from GOSTrocks.misc import tPrint\n",
    "\n",
    "%load_ext autoreload\n",
    "%autoreload 2"
   ]
  },
  {
   "cell_type": "code",
   "execution_count": null,
   "metadata": {},
   "outputs": [],
   "source": [
    "in_folder = r'C:\\WBG\\Work\\Projects\\Novel_Urban\\COG_DATA'\n",
    "out_folder = r'C:\\WBG\\Work\\Projects\\Novel_Urban\\COG_RESULTS'\n",
    "if not os.path.exists(out_folder):\n",
    "    os.makedirs(out_folder)\n",
    "\n",
    "iso3 = 'COG'\n",
    "pop_file = os.path.join(in_folder, 'DOU', 'cog_cpo20_WB.tif')\n",
    "adm2 = dMisc.get_geoboundaries(iso3, 'ADM2')\n",
    "#adm3 = dMisc.get_geoboundaries(iso3, 'ADM3')"
   ]
  },
  {
   "cell_type": "code",
   "execution_count": null,
   "metadata": {},
   "outputs": [],
   "source": [
    "def summarize_urban(adm, pop_layer, urban_layer):\n",
    "    \"\"\" Summarize urban population for each administrative unit\n",
    "    Parameters\n",
    "    ----------\n",
    "    adm : geoDataFrame\n",
    "        administrative unit boundary\n",
    "    pop_layer : rasterio dataset\n",
    "        population layer\n",
    "    urban_layer : rasterio dataset\n",
    "        urban layer\n",
    "    \"\"\"\n",
    "        \n",
    "    # Read raster data\n",
    "    pop_data = pop_layer.read(1)\n",
    "    urban_data = urban_layer.read(1)\n",
    "    urban_data = (urban_data > 0) * 1\n",
    "    \n",
    "    urban_pop = pop_data * urban_data\n",
    "\n",
    "    with rMisc.create_rasterio_inmemory(urban_layer.profile, urban_pop) as urban_pop_ds:\n",
    "        res = rMisc.zonalStats(adm, urban_pop_ds, minVal=0)\n",
    "        res = pd.DataFrame(res, columns=['SUM', 'MIN', 'MAX', 'MEAN'])\n",
    "    return(res['SUM'])\n",
    "\n",
    "    "
   ]
  },
  {
   "cell_type": "code",
   "execution_count": null,
   "metadata": {},
   "outputs": [],
   "source": [
    "# calculate urban population numbers\n",
    "urban_res = adm2.copy()\n",
    "pop_layer = rasterio.open(pop_file)\n",
    "if adm2.crs != pop_layer.crs:\n",
    "    adm2 = adm2.to_crs(pop_layer.crs)\n",
    "\n",
    "res = rMisc.zonalStats(adm2, pop_layer, minVal=0)\n",
    "res = pd.DataFrame(res, columns=['SUM', 'MIN', 'MAX', 'MEAN'])\n",
    "urban_res['total_pop'] = res['SUM']\n",
    "\n",
    "for urb_file, lbl in [\n",
    "        [os.path.join(in_folder, 'DOU', 'cog_cpo20_WB_urban.tif'), 'DoU_urban'],\n",
    "        [os.path.join(in_folder, 'DOU', 'cog_cpo20_WB_urban_hd.tif'), 'DoU_urban_hd'],\n",
    "        [os.path.join(in_folder, 'DB', 'cog_cpo20_WBd10b5000_cc.tif'), 'DB_cc'],\n",
    "        [os.path.join(in_folder, 'DB', 'cog_cpo20_WBd10b5000_co.tif'), 'DB_co'],\n",
    "        [os.path.join(in_folder, 'DB', 'cog_cpo20_WBd10b5000_ur.tif'), 'DB_ur'],\n",
    "    ]:\n",
    "    tPrint(f\"Processing {lbl}\")\n",
    "    urban_res[lbl] = summarize_urban(adm2, pop_layer, rasterio.open(urb_file))\n",
    "    "
   ]
  },
  {
   "cell_type": "code",
   "execution_count": null,
   "metadata": {},
   "outputs": [],
   "source": [
    "pd.DataFrame(urban_res.drop(columns=['geometry'])).to_csv(os.path.join(out_folder, 'adm2_urban_pop.csv'), index=False)\n",
    "urban_res.to_file(os.path.join(out_folder, 'adm2_urban_pop.geojson'), driver='GeoJSON')"
   ]
  },
  {
   "cell_type": "code",
   "execution_count": null,
   "metadata": {},
   "outputs": [],
   "source": []
  },
  {
   "cell_type": "code",
   "execution_count": null,
   "metadata": {},
   "outputs": [],
   "source": []
  }
 ],
 "metadata": {
  "language_info": {
   "name": "python"
  }
 },
 "nbformat": 4,
 "nbformat_minor": 2
}
