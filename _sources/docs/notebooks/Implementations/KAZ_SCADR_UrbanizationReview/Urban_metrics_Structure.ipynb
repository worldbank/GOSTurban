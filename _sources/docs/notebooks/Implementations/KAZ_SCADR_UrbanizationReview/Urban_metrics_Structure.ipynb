{
 "cells": [
  {
   "cell_type": "markdown",
   "metadata": {},
   "source": [
    "# Calculate Urban Metrics: Structure\n",
    "using this example notebook: https://github.com/gboeing/osmnx-examples/blob/master/notebooks/06-stats-indicators-centrality.ipynb\n",
    "\n",
    "OSMnx now caches server responses by default. This can be changed with ox.config(use_cache=False). The caching hash algorithm was changed for v1.0, invalidating old caches made with prior releases."
   ]
  },
  {
   "cell_type": "markdown",
   "metadata": {},
   "source": [
    "### Import libraries"
   ]
  },
  {
   "cell_type": "code",
   "execution_count": null,
   "metadata": {},
   "outputs": [],
   "source": [
    "import logging\n",
    "\n",
    "import geopandas as gpd\n",
    "import pandas as pd\n",
    "import osmnx as ox"
   ]
  },
  {
   "cell_type": "code",
   "execution_count": null,
   "metadata": {},
   "outputs": [],
   "source": [
    "logging.basicConfig(filename=\"urban_structure_metrics.log\", level=logging.INFO)"
   ]
  },
  {
   "cell_type": "code",
   "execution_count": null,
   "metadata": {},
   "outputs": [],
   "source": [
    "import time\n",
    "\n",
    "start_time = time.time()"
   ]
  },
  {
   "cell_type": "code",
   "execution_count": null,
   "metadata": {},
   "outputs": [],
   "source": [
    "inputFolder = r\"input_folder\"\n",
    "# define output folder\n",
    "outputFolder = r\"output_folder\""
   ]
  },
  {
   "cell_type": "markdown",
   "metadata": {},
   "source": [
    "### You may need to use the 'Fix geometries' tool in QGIS beforehand to fix the geometries"
   ]
  },
  {
   "cell_type": "code",
   "execution_count": null,
   "metadata": {},
   "outputs": [],
   "source": [
    "# read extents in WGS84\n",
    "# shpName = r\"C:\\Users\\war-machine\\Documents\\world_bank_work\\UZB_project\\metrics_shape_tool\\russia_urban_extents_merged_4326.shp\"\n",
    "# shpName = r\"C:\\repos\\GOST_Urban\\Notebooks\\Implementations\\eca_wo_rus_urban_clusters_ghs_pop_smooth_100k_4326_3.shp\"\n",
    "# shpName = r\"C:\\Users\\war-machine\\Documents\\world_bank_work\\UZB_project\\metrics_shape_tool\\UBZ_only_FUAs2_geom_fixed.shp\"\n",
    "# shpName = r\"C:\\Users\\war-machine\\Documents\\world_bank_work\\UZB_project\\metrics_shape_tool\\UZB_ghs_built_up_extents_4326\\UZB_only_ghs_built_up_extents_4326_geom_fixed_greater_50k.shp\"\n",
    "# shpName = r\"C:\\Users\\war-machine\\Documents\\world_bank_work\\UZB_project\\metrics_shape_tool\\UZB_ghs_built_up_extents_4326\\UZB_only_ghs_built_up_extents_4326_geom_fixed.shp\"\n",
    "# shpName = r\"C:\\Users\\war-machine\\Documents\\world_bank_work\\UZB_project\\metrics_shape_tool\\ECA_wo_rus_urban_extents\\eca_wo_rus_built_up_extents_4326.shp\"\n",
    "shpName = r\"C:\\Users\\war-machine\\Documents\\world_bank_work\\UZB_project\\metrics_shape_tool\\all_urban_clusters_5k_up_4326.shp\""
   ]
  },
  {
   "cell_type": "code",
   "execution_count": null,
   "metadata": {},
   "outputs": [],
   "source": [
    "input_shapes_gpd = gpd.read_file(shpName)"
   ]
  },
  {
   "cell_type": "code",
   "execution_count": null,
   "metadata": {},
   "outputs": [],
   "source": [
    "input_shapes_gpd"
   ]
  },
  {
   "cell_type": "code",
   "execution_count": null,
   "metadata": {},
   "outputs": [],
   "source": [
    "# input_shapes_gpd = input_shapes_gpd[137:]"
   ]
  },
  {
   "cell_type": "code",
   "execution_count": null,
   "metadata": {},
   "outputs": [],
   "source": [
    "%%time\n",
    "\n",
    "error_list = []\n",
    "\n",
    "# for entry in input_shapes_gpd.head(2).iterrows():\n",
    "for entry in input_shapes_gpd.iterrows():\n",
    "    try:\n",
    "        print(entry[0])\n",
    "        # extract the geometry in GeoJSON format\n",
    "        geometry = entry[1][\"geometry\"]  # list of shapely geometries\n",
    "\n",
    "        gdf = gpd.GeoDataFrame()\n",
    "        gdf[\"geometry\"] = None\n",
    "        gdf.loc[0, \"geometry\"] = geometry\n",
    "        # Set the GeoDataFrame's coordinate system to WGS84\n",
    "        gdf.crs = \"epsg:4326\"\n",
    "        area = ox.project_gdf(gdf).unary_union.area\n",
    "        print(area)\n",
    "\n",
    "        G = ox.graph_from_polygon(geometry)\n",
    "        # calculate basic and extended network stats, merge them together, and display\n",
    "        stats = ox.basic_stats(G, area=area)\n",
    "        print(stats)\n",
    "        print(f\"circuity_avg is: {stats['circuity_avg']}\")\n",
    "\n",
    "        # creates a temporary GDF for just the row's shape\n",
    "        temp_gdf = input_shapes_gpd.loc[[entry[0]]]\n",
    "\n",
    "        # print(\"print temp_gdf\")\n",
    "        # print(temp_gdf)\n",
    "\n",
    "        # Put all metrics in a DataFrame\n",
    "        metrics_scalar = {}\n",
    "        metrics_scalar[\"circuity_avg\"] = [stats[\"circuity_avg\"]]\n",
    "        metrics_scalar[\"intersection_density_km\"] = [stats[\"intersection_density_km\"]]\n",
    "        metrics_scalar[\"street_density_km\"] = [stats[\"street_density_km\"]]\n",
    "        metrics_df = pd.DataFrame(metrics_scalar)\n",
    "\n",
    "        # print(\"print metrics_scalar\")\n",
    "        # print(metrics_scalar)\n",
    "\n",
    "        # and concatinate it with the row's shape\n",
    "        new_temp_gdf = pd.concat([temp_gdf.reset_index(drop=True), metrics_df], axis=1)\n",
    "\n",
    "        # print(\"print new_temp_gdf\")\n",
    "        # print(new_temp_gdf)\n",
    "        # print(entry[0])\n",
    "        # put the results of each row into a new DataFrame\n",
    "        if entry[0] == 0:\n",
    "            print(\"new_temp_gdf\")\n",
    "            output_new_temp_gdf = new_temp_gdf\n",
    "        else:\n",
    "            output_new_temp_gdf = output_new_temp_gdf.append(\n",
    "                new_temp_gdf, ignore_index=True\n",
    "            )\n",
    "    except:\n",
    "        print(f\"error with entry {entry[0]}\")\n",
    "        error_list.append(entry[0])\n",
    "        # logging.INFO(f\"error with entry {entry[0]}\" + \"\\n\" + f\"entry information: {entry[1]}\")\n",
    "\n",
    "        # creates a temporary GDF for just the row's shape\n",
    "        #         temp_gdf = input_shapes_gpd.loc[[entry[0]]]\n",
    "        # Put all metrics in a DataFrame\n",
    "        #         metrics_scalar = {}\n",
    "        #         metrics_scalar['circuity_avg'] = 0\n",
    "        #         metrics_scalar['intersection_density_km'] = 0\n",
    "        #         metrics_scalar['street_density_km'] = 0\n",
    "        #         metrics_df = pd.DataFrame(metrics_scalar)\n",
    "        # and concatinate it with the row's shape\n",
    "        #         new_temp_gdf = pd.concat([temp_gdf.reset_index(drop=True), metrics_df], axis=1)\n",
    "        #         output_new_temp_gdf = output_new_temp_gdf.append(new_temp_gdf, ignore_index=True)\n",
    "        continue"
   ]
  },
  {
   "cell_type": "code",
   "execution_count": null,
   "metadata": {},
   "outputs": [],
   "source": [
    "error_list"
   ]
  },
  {
   "cell_type": "code",
   "execution_count": null,
   "metadata": {},
   "outputs": [],
   "source": [
    "len(error_list)"
   ]
  },
  {
   "cell_type": "code",
   "execution_count": null,
   "metadata": {},
   "outputs": [],
   "source": [
    "output_new_temp_gdf"
   ]
  },
  {
   "cell_type": "code",
   "execution_count": null,
   "metadata": {},
   "outputs": [],
   "source": [
    "# output = r\"C:\\Users\\war-machine\\Documents\\world_bank_work\\UZB_project\\metrics_shape_tool\\eca_metrics_results_russia\"\n",
    "# output = r\"C:\\Users\\war-machine\\Documents\\world_bank_work\\UZB_project\\metrics_shape_tool\\eca_urban_metrics_results_wo_rus\"\n",
    "# output = r\"C:\\Users\\war-machine\\Documents\\world_bank_work\\UZB_project\\metrics_shape_tool\\UZB_only_GHS_FUAs_results\"\n",
    "# output = r\"C:\\Users\\war-machine\\Documents\\world_bank_work\\UZB_project\\metrics_shape_tool\\UZB_only_GHS_urban_extents_results\"\n",
    "# output = r\"C:\\Users\\war-machine\\Documents\\world_bank_work\\UZB_project\\metrics_shape_tool\\UZB_only_GHS_urban_extents_results_all\"\n",
    "# output = r\"C:\\Users\\war-machine\\Documents\\world_bank_work\\UZB_project\\metrics_shape_tool\\eca_urban_metrics_results_wo_rus_all\"\n",
    "output = r\"C:\\Users\\war-machine\\Documents\\world_bank_work\\UZB_project\\metrics_shape_tool\\all_urban_extents_results_5k_up\""
   ]
  },
  {
   "cell_type": "code",
   "execution_count": null,
   "metadata": {},
   "outputs": [],
   "source": [
    "# save as CSV\n",
    "# output_new_temp_gdf.to_csv(output + r\"\\ECA_russia_urban_metrics_100k_structure_to_146.csv\")\n",
    "# output_new_temp_gdf.to_csv(output + r\"\\UZB_only_urban_metrics_FUAs_structure.csv\")\n",
    "# output_new_temp_gdf.to_csv(output + r\"\\UZB_only_urban_metrics_urban_extents_structure.csv\")\n",
    "# output_new_temp_gdf.to_csv(output + r\"\\UZB_only_urban_metrics_urban_extents_all_structure.csv\")\n",
    "# output_new_temp_gdf.to_csv(output + r\"\\ECA_wo_rus_urban_metrics_urban_extents_all_structure.csv\")\n",
    "output_new_temp_gdf.to_csv(output + r\"\\all_urban_metrics_5k_up_structure.csv\")"
   ]
  },
  {
   "cell_type": "code",
   "execution_count": null,
   "metadata": {},
   "outputs": [],
   "source": [
    "print(f\"total time to process: {time.time()-start_time}\")"
   ]
  }
 ],
 "metadata": {
  "language_info": {
   "name": "python"
  }
 },
 "nbformat": 4,
 "nbformat_minor": 2
}
