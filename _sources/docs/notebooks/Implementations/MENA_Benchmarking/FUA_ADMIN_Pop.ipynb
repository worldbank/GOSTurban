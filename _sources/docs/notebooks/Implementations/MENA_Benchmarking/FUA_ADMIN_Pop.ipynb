{
 "cells": [
  {
   "cell_type": "markdown",
   "metadata": {},
   "source": [
    "# Assessing intersections of FUAs and admin boundaries\n",
    "\n",
    "Urban boundaries are not tied to administrative boundaries, and often spill across borders. This notebook will explore how Functional Urban Areas (FUAs) intersect with admin boundries, through the lens of population density.\n",
    "\n",
    "For each FUA, we will identify the intersecting admin bounds, and determine the percentage of its population in each intersection unit"
   ]
  },
  {
   "cell_type": "code",
   "execution_count": null,
   "metadata": {},
   "outputs": [],
   "source": [
    "import sys\n",
    "import os\n",
    "import rasterio\n",
    "\n",
    "import geopandas as gpd\n",
    "import pandas as pd\n",
    "\n",
    "sys.path.append(\"C:/WBG/Work/Code/GOSTrocks/src\")\n",
    "\n",
    "import GOSTrocks.dataMisc as dMisc\n",
    "from GOSTrocks.misc import tPrint\n",
    "\n",
    "from admin_pop_functions import *\n",
    "\n",
    "%load_ext autoreload\n",
    "%autoreload 2"
   ]
  },
  {
   "cell_type": "code",
   "execution_count": null,
   "metadata": {},
   "outputs": [],
   "source": [
    "data_folder = \"C:/WBG/Work/data\"\n",
    "ucdb_file = os.path.join(\n",
    "    data_folder,\n",
    "    \"URBAN\",\n",
    "    \"GHS_STAT_UCDB2015MT_GLOBE_R2019A\",\n",
    "    \"GHS_STAT_UCDB2015MT_GLOBE_R2019A_V1_2.gpkg\",\n",
    ")\n",
    "fua_file = os.path.join(\n",
    "    data_folder, \"URBAN\", \"GHS_FUA_UCDB2015_GLOBE_R2019A_54009_1K_V1_0.gpkg\"\n",
    ")\n",
    "\n",
    "out_folder = \"C:/WBG/Work/MENA_Urban/\"\n",
    "pop_res_folder = os.path.join(out_folder, \"urban_data\", \"pop\")\n",
    "if not os.path.exists(pop_res_folder):\n",
    "    os.makedirs(pop_res_folder)\n",
    "\n",
    "pop_data = os.path.join(data_folder, \"POP\", \"ppp_2020_1km_Aggregated.tif\")\n",
    "popR = rasterio.open(pop_data)\n",
    "\n",
    "# Scenario vairables\n",
    "adm_level = \"ADM2\"\n",
    "fua = gpd.read_file(fua_file)\n",
    "if fua.crs != popR.crs:\n",
    "    fua = fua.to_crs(popR.crs)"
   ]
  },
  {
   "cell_type": "code",
   "execution_count": null,
   "metadata": {},
   "outputs": [],
   "source": [
    "all_res = []\n",
    "for lbl, curF in fua.groupby(\"Cntry_ISO\"):\n",
    "    pop_out_file = os.path.join(pop_res_folder, f\"{lbl}_admin_urban_pop.csv\")\n",
    "    if not os.path.exists(pop_out_file):\n",
    "        process = True\n",
    "        try:\n",
    "            cur_admin = dMisc.get_geoboundaries(lbl, adm_level)\n",
    "            process = True\n",
    "        except:\n",
    "            tPrint(f\"Could not find {adm_level} for {lbl}\")\n",
    "            process = False\n",
    "        if process:\n",
    "            if cur_admin.crs != popR.crs:\n",
    "                cur_admin = cur_admin.to_crs(popR.crs)\n",
    "            tPrint(f\"Processing {lbl}\")\n",
    "            country_res = []\n",
    "            for idx, row in curF.iterrows():\n",
    "                city_res = calculate_admin_pop(row, cur_admin, popR)\n",
    "                country_res.append(city_res)\n",
    "            country_admin_res = pd.concat(country_res)\n",
    "            country_admin_res.to_csv(pop_out_file)\n",
    "            all_res.append(country_admin_res)\n",
    "    else:\n",
    "        tPrint(f\"Already processed {lbl}\")\n",
    "        country_admin_res = pd.read_csv(pop_out_file, index_col=0)\n",
    "        all_res.append(country_admin_res)"
   ]
  },
  {
   "cell_type": "code",
   "execution_count": null,
   "metadata": {},
   "outputs": [],
   "source": [
    "complete_results = pd.concat(all_res)\n",
    "complete_results.to_csv(os.path.join(pop_res_folder, \"complete_results.csv\"))"
   ]
  },
  {
   "cell_type": "code",
   "execution_count": null,
   "metadata": {},
   "outputs": [],
   "source": []
  }
 ],
 "metadata": {
  "language_info": {
   "name": "python"
  }
 },
 "nbformat": 4,
 "nbformat_minor": 2
}
