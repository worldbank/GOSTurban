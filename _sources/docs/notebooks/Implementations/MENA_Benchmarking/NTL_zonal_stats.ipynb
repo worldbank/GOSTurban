{
 "cells": [
  {
   "cell_type": "markdown",
   "metadata": {},
   "source": [
    "# Benchmarking cities in MENA\n",
    "\n",
    "In support of an upcoming Urban flagship report, the MENA team is looking for a series of zonal statistics:\n",
    "\n",
    "- Nighttime Lights, Population, and built-area:  \n",
    "  - Entire FUA  \n",
    "  - Its associated urban center / “core”  \n",
    "  - Associated “periphery”  \n",
    "\n",
    "The unit of analysis is the Functional Urban Areas (FUAs) from the [UCDB Database](https://human-settlement.emergency.copernicus.eu/ghs_stat_ucdb2015mt_r2019a.php). For each FUA, we need to grab the associated urban periphary (lower threshold urban areas)"
   ]
  },
  {
   "cell_type": "code",
   "execution_count": null,
   "metadata": {},
   "outputs": [],
   "source": [
    "import sys\n",
    "import os\n",
    "import itertools\n",
    "import rasterio\n",
    "\n",
    "import geopandas as gpd\n",
    "import pandas as pd\n",
    "import numpy as np\n",
    "\n",
    "from scipy.spatial import cKDTree\n",
    "from shapely.geometry import Point\n",
    "from operator import itemgetter\n",
    "\n",
    "sys.path.insert(0, \"C:/WBG/Work/Code/GOSTrocks/src\")\n",
    "\n",
    "import GOSTrocks.rasterMisc as rMisc"
   ]
  },
  {
   "cell_type": "code",
   "execution_count": null,
   "metadata": {},
   "outputs": [],
   "source": [
    "data_folder = r\"C:\\WBG\\Work\\data\\URBAN\"\n",
    "ucdb_file = os.path.join(data_folder, \"GHS_UCDB_GLOBE_R2024A.gpkg\")\n",
    "fua_file = os.path.join(data_folder, \"GHS_FUA_UCDB2015_GLOBE_R2019A_54009_1K_V1_0.gpkg\")\n",
    "fua_peripheries = os.path.join(data_folder, \"FUA_peripheries.gpkg\")\n",
    "oxford_extents = os.path.join(data_folder, \"OE_FUA_SHAPEFILE\", \"OE_FUA_SHAPEFILE.shp\")\n",
    "\n",
    "flaring_locations_file = \"https://thedocs.worldbank.org/en/doc/d01b4aebd8a10513c0e341de5e1f652e-0400072024/related/2012-2023-individual-flare-volume-estimates.xlsx?_gl=1*19fhic5*_gcl_au*MzM5MTcxNjUwLjE3MTg2NTk5ODU.\"\n",
    "\n",
    "out_folder = r\"C:\\WBG\\Work\\Projects\\MENA_Urban\\RESULTS\\ZONAL_RES\\NTL\""
   ]
  },
  {
   "cell_type": "code",
   "execution_count": null,
   "metadata": {},
   "outputs": [],
   "source": [
    "flaring_d = pd.read_excel(flaring_locations_file)\n",
    "flaring_d[\"ID\"] = flaring_d.index\n",
    "flaring_geoms = [Point(x) for x in zip(flaring_d[\"Longitude\"], flaring_d[\"Latitude\"])]\n",
    "flaring_d = gpd.GeoDataFrame(flaring_d, geometry=flaring_geoms, crs=4326)\n",
    "all_flares = flaring_d.unary_union\n",
    "flaring_d.head()"
   ]
  },
  {
   "cell_type": "code",
   "execution_count": null,
   "metadata": {},
   "outputs": [],
   "source": [
    "inU = gpd.read_file(ucdb_file)\n",
    "inF = gpd.read_file(fua_file)\n",
    "m_crs = inF.crs\n",
    "inF = inF.to_crs(inU.crs)\n",
    "inO = gpd.read_file(oxford_extents)\n",
    "inO = inO.to_crs(inU.crs)\n",
    "\n",
    "inU[\"geometry\"] = inU.buffer(0)\n",
    "inF[\"geometry\"] = inF.buffer(0)"
   ]
  },
  {
   "cell_type": "markdown",
   "metadata": {},
   "source": [
    "# Adjust for flaring\n",
    "\n",
    "Two steps to adjust the nighttime lights data for flaring:\n",
    "1. Mute the nighttime lights data within a buffer zone of each flaring location\n",
    "2. Determine distances between city extents (FUA) and nearest flaring location"
   ]
  },
  {
   "cell_type": "code",
   "execution_count": null,
   "metadata": {},
   "outputs": [],
   "source": [
    "# 2 Distance calculations\n",
    "def ckdnearest(gdfA, gdfB, gdfB_cols=[\"ID\"]):\n",
    "    A = np.concatenate([np.array(geom.coords) for geom in gdfA.geometry.to_list()])\n",
    "    B = [np.array(geom.coords) for geom in gdfB.geometry.to_list()]\n",
    "    B_ix = tuple(\n",
    "        itertools.chain.from_iterable(\n",
    "            [itertools.repeat(i, x) for i, x in enumerate(list(map(len, B)))]\n",
    "        )\n",
    "    )\n",
    "    B = np.concatenate(B)\n",
    "    ckd_tree = cKDTree(B)\n",
    "    dist, idx = ckd_tree.query(A, k=1)\n",
    "    idx = itemgetter(*idx)(B_ix)\n",
    "    gdf = pd.concat(\n",
    "        [\n",
    "            gdfA,\n",
    "            gdfB.loc[idx, gdfB_cols].reset_index(drop=True),\n",
    "            pd.Series(dist, name=\"dist\"),\n",
    "        ],\n",
    "        axis=1,\n",
    "    )\n",
    "    return gdf\n",
    "\n",
    "\n",
    "inF_centroid = inF.copy()\n",
    "inF_centroid[\"geometry\"] = inF_centroid[\"geometry\"].centroid\n",
    "inF_centroid = inF_centroid.to_crs(m_crs)\n",
    "flaring_d = flaring_d.to_crs(m_crs)\n",
    "\n",
    "nearest_calc = ckdnearest(inF_centroid, flaring_d)\n",
    "inF = pd.merge(inF, nearest_calc.loc[:, [\"eFUA_ID\", \"dist\"]], on=\"eFUA_ID\")"
   ]
  },
  {
   "cell_type": "code",
   "execution_count": null,
   "metadata": {},
   "outputs": [],
   "source": [
    "ntl_image = r\"C:\\WBG\\Work\\data\\NTL\\VNL_v21_npp_2019_global_vcmslcfg_c202205302300.average.dat.tif\"  # ntl_images[0]\n",
    "# 1 Mute nighttime lights data within a mask\n",
    "### Buffer the flare locations by the defined distance\n",
    "buffer_dist = 5000  # (metres)\n",
    "buffered_flare = flaring_d.copy()\n",
    "buffered_flare[\"geometry\"] = buffered_flare[\"geometry\"].apply(\n",
    "    lambda x: x.buffer(buffer_dist)\n",
    ")\n",
    "buffered_flare = buffered_flare.to_crs(4326)\n",
    "\n",
    "### create a mask raster using the buffered flare locations\n",
    "# ntl_images = ntlMisc.aws_search_ntl()\n",
    "flare_mask = rMisc.rasterizeDataFrame(\n",
    "    buffered_flare, None, templateRaster=ntl_image, nodata=0\n",
    ")\n",
    "flare_mask = (~flare_mask[\"vals\"].astype(bool)).astype(int)"
   ]
  },
  {
   "cell_type": "code",
   "execution_count": null,
   "metadata": {},
   "outputs": [],
   "source": [
    "### Use the mask in the zonal calculation\n",
    "finalF = inF.copy()  # inF.copy()\n",
    "prefix = \"FUA\"\n",
    "date = 2019  # os.path.basename(ntl_image).split(\"_\")[2][:6]\n",
    "raw_ntl = rMisc.zonalStats(finalF, ntl_image, minVal=0.1, reProj=True)\n",
    "raw_ntl = pd.DataFrame(raw_ntl, columns=[\"SUM\", \"MIN\", \"MAX\", \"MEAN\"])\n",
    "finalF[f\"raw_{date}\"] = raw_ntl[\"SUM\"]\n",
    "\n",
    "ntl_r = rasterio.open(ntl_image)\n",
    "ntl_data = ntl_r.read()\n",
    "masked_ntl_data = ntl_data * flare_mask\n",
    "with rMisc.create_rasterio_inmemory(\n",
    "    ntl_r.profile, masked_ntl_data\n",
    ") as masked_ntl_raster:\n",
    "    masked_ntl = rMisc.zonalStats(finalF, masked_ntl_raster, minVal=0.1, reProj=True)\n",
    "    masked_ntl = pd.DataFrame(masked_ntl, columns=[\"SUM\", \"MIN\", \"MAX\", \"MEAN\"])\n",
    "    finalF[f\"mask_{date}\"] = masked_ntl[\"SUM\"]\n",
    "\n",
    "finalF.to_file(\n",
    "    f\"{out_folder}/{prefix}_{date}_{buffer_dist}_zonal_ntl.gpkg\", driver=\"GPKG\"\n",
    ")\n",
    "pd.DataFrame(finalF.drop(columns=\"geometry\")).to_csv(\n",
    "    f\"{out_folder}/{prefix}_{date}_{buffer_dist}_zonal_ntl.csv\"\n",
    ")"
   ]
  },
  {
   "cell_type": "markdown",
   "metadata": {},
   "source": [
    "# Create mapping and debugging data"
   ]
  },
  {
   "cell_type": "code",
   "execution_count": null,
   "metadata": {},
   "outputs": [],
   "source": [
    "# Write flare mask to disk\n",
    "flare_mask_file = os.path.join(\"/home/wb411133/temp\", \"flare_mask.tif\")\n",
    "flare_profile = ntl_r.profile.copy()\n",
    "flare_mask = flare_mask.astype(\"int16\")\n",
    "flare_profile.update(dtype=flare_mask.dtype)\n",
    "\n",
    "with rasterio.open(flare_mask_file, \"w\", **flare_profile) as out_flare:\n",
    "    out_flare.write_band(1, flare_mask)"
   ]
  },
  {
   "cell_type": "code",
   "execution_count": null,
   "metadata": {},
   "outputs": [],
   "source": [
    "# Combine raw and masked ntl results with urban extents\n",
    "outF = nearest_calc.copy()\n",
    "outF[\"rawNTL\"] = raw_ntl_df[\"SUM\"]\n",
    "outF[\"maskedNTL\"] = masked_ntl_df[\"SUM\"]\n",
    "outF.to_file(\n",
    "    os.path.join(\"/home/wb411133/temp\", \"urban_extents_ntl_flaring.gpkg\"), driver=\"GPKG\"\n",
    ")"
   ]
  },
  {
   "cell_type": "code",
   "execution_count": null,
   "metadata": {},
   "outputs": [],
   "source": []
  },
  {
   "cell_type": "markdown",
   "metadata": {},
   "source": [
    "## Combine NTL results\n",
    "We have zonal results for the entire FUA and for the core as monthly results; there is a two step process to create the final results:\n",
    "1. Combine monthly results into annual results  \n",
    "2. Use FUA and cores to generate three stats: FUA SoL, Core SoL, and Periphery SoL"
   ]
  },
  {
   "cell_type": "code",
   "execution_count": null,
   "metadata": {},
   "outputs": [],
   "source": [
    "def combine_ntl_annual(curD):\n",
    "    \"\"\"curD is a data frame of ntl zonal results\"\"\"\n",
    "    for yr in range(2012, 2024):\n",
    "        cur_columns = [x for x in curD.columns if f\"ntl_{yr}\" in x]\n",
    "        sel_d = curD.loc[:, cur_columns]\n",
    "        curD[f\"ntl{yr}_SoL\"] = sel_d.sum(axis=1) / len(cur_columns)\n",
    "    return curD\n",
    "\n",
    "\n",
    "out_folder = \"s3://wbg-geography01/URBANIZATION/MENA/ZONAL_RES/NTL/\"\n",
    "combine_ntl_annual(fua_zonal).to_csv(os.path.join(out_folder, \"fua_VIIRS_SoL.csv\"))\n",
    "combine_ntl_annual(core_zonal).to_csv(os.path.join(out_folder, \"core_VIIRS_SoL.csv\"))"
   ]
  },
  {
   "cell_type": "code",
   "execution_count": null,
   "metadata": {},
   "outputs": [],
   "source": [
    "combine_ntl_annual(core_zonal)"
   ]
  },
  {
   "cell_type": "markdown",
   "metadata": {},
   "source": [
    "# DEBUGGING"
   ]
  },
  {
   "cell_type": "code",
   "execution_count": null,
   "metadata": {},
   "outputs": [],
   "source": [
    "tempF = inF.loc[inF[\"eFUA_ID\"] == 1281]\n",
    "tempF[\"geometry\"] = tempF[\"geometry\"].iloc[0].buffer(0.001)"
   ]
  },
  {
   "cell_type": "code",
   "execution_count": null,
   "metadata": {},
   "outputs": [],
   "source": [
    "rMisc.zonalStats(tempF, ntl_images[2], minVal=0.1, reProj=True, allTouched=True)"
   ]
  },
  {
   "cell_type": "code",
   "execution_count": null,
   "metadata": {},
   "outputs": [],
   "source": [
    "tempF[\"geometry\"].iloc[0].buffer(0.001)"
   ]
  },
  {
   "cell_type": "code",
   "execution_count": null,
   "metadata": {},
   "outputs": [],
   "source": [
    "tempF"
   ]
  },
  {
   "cell_type": "code",
   "execution_count": null,
   "metadata": {},
   "outputs": [],
   "source": []
  }
 ],
 "metadata": {
  "language_info": {
   "name": "python"
  }
 },
 "nbformat": 4,
 "nbformat_minor": 4
}
