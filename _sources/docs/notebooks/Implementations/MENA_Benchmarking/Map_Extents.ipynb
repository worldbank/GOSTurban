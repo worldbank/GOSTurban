{
 "cells": [
  {
   "cell_type": "markdown",
   "metadata": {},
   "source": [
    "# Mapping and comparing urban extents"
   ]
  },
  {
   "cell_type": "code",
   "execution_count": null,
   "metadata": {},
   "outputs": [],
   "source": [
    "import os\n",
    "\n",
    "import ipywidgets as widgets\n",
    "from IPython.display import display\n",
    "\n",
    "map_files = os.listdir(\"MAPS\")\n",
    "\n",
    "# Define the dropdown options\n",
    "options = [x.split(\"__\")[0] for x in map_files]\n",
    "\n",
    "# Create the dropdown widget\n",
    "dropdown = widgets.Dropdown(options=options, description=\"Select a city:\")\n",
    "# Create an empty image widget\n",
    "image_widget = widgets.Image()\n",
    "\n",
    "\n",
    "# Function to print the selected value\n",
    "def update_image(option):\n",
    "    sel_file = f\"MAPS/{option.new}__DB_vs_DoU.png\"\n",
    "    print(sel_file)\n",
    "    try:\n",
    "        with open(sel_file, \"rb\") as f:\n",
    "            image_data = f.read()\n",
    "            image_widget.value = image_data\n",
    "    except:\n",
    "        image_widget.value = b\"\"  # Clear image if file not found\n",
    "        print(f\"Error: Image file not found at {sel_file}\")\n",
    "\n",
    "\n",
    "# Observe the change in dropdown value\n",
    "dropdown.observe(update_image, names=\"value\")\n",
    "\n",
    "# Display the dropdown\n",
    "display(dropdown)\n",
    "display(image_widget)"
   ]
  },
  {
   "cell_type": "code",
   "execution_count": null,
   "metadata": {},
   "outputs": [],
   "source": [
    "sel_file = \"C:/WBG/Work/Code/GOSTurban/notebooks/Implementations/MENA_Benchmarking/MAPS/AGO_Luanda__DB_vs_DoU.png\"\n",
    "with open(sel_file, \"rb\") as f:\n",
    "    image_data = f.read()\n",
    "    image_widget.value = image_data"
   ]
  },
  {
   "cell_type": "code",
   "execution_count": null,
   "metadata": {},
   "outputs": [],
   "source": []
  }
 ],
 "metadata": {
  "language_info": {
   "name": "python"
  }
 },
 "nbformat": 4,
 "nbformat_minor": 2
}
