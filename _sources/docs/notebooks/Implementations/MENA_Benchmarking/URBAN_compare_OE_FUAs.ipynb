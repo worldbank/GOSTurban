{
 "cells": [
  {
   "cell_type": "code",
   "execution_count": null,
   "metadata": {},
   "outputs": [],
   "source": [
    "import sys\n",
    "import os\n",
    "\n",
    "import geopandas as gpd\n",
    "\n",
    "sys.path.append(r\"C:\\WBG\\Work\\Code\\GOSTrocks\\src\")\n",
    "\n",
    "%load_ext autoreload\n",
    "%autoreload 2"
   ]
  },
  {
   "cell_type": "code",
   "execution_count": null,
   "metadata": {},
   "outputs": [],
   "source": [
    "# Define source data\n",
    "FUA_file = r\"C:\\WBG\\Work\\data\\URBAN\\GHS_FUA_UCDB2015_GLOBE_R2019A_54009_1K_V1_0.gpkg\"\n",
    "OE_file = r\"C:\\WBG\\Work\\data\\URBAN\\OE_FUA_SHAPEFILE\\OE_FUA_SHAPEFILE.shp\"\n",
    "\n",
    "out_folder = r\"C:\\WBG\\Work\\MENA_Urban\\RESULTS\\EXTENT_JOIN\"\n",
    "if not os.path.exists(out_folder):\n",
    "    os.makedirs(out_folder)\n",
    "inFUA = gpd.read_file(FUA_file)\n",
    "inOE = gpd.read_file(OE_file)\n",
    "\n",
    "inOE = inOE.to_crs(inFUA.crs)"
   ]
  },
  {
   "cell_type": "code",
   "execution_count": null,
   "metadata": {},
   "outputs": [],
   "source": [
    "inFUA.head()"
   ]
  },
  {
   "cell_type": "code",
   "execution_count": null,
   "metadata": {},
   "outputs": [],
   "source": [
    "inOE.shape"
   ]
  },
  {
   "cell_type": "code",
   "execution_count": null,
   "metadata": {},
   "outputs": [],
   "source": [
    "# convert inFUA geometry to centroid\n",
    "inFUA[\"geometry\"] = inFUA.centroid\n",
    "\n",
    "# Spatial join inOE (centroids) to inFUA\n",
    "joined_extents = gpd.sjoin_nearest(\n",
    "    inOE.loc[:, [\"OE_FUAID\", \"geometry\"]],\n",
    "    inFUA.loc[:, [\"eFUA_ID\", \"geometry\"]],\n",
    "    how=\"inner\",\n",
    "    distance_col=\"dist_to_fua\",\n",
    ")\n",
    "# pd.DataFrame(joined_extents.drop(['geometry', 'index_right'], axis=1)).to_csv(os.path.join(out_folder, 'OE_FUA_join_raw.csv'))\n",
    "joined_extents.sort_values(by=\"dist_to_fua\", ascending=False)"
   ]
  },
  {
   "cell_type": "code",
   "execution_count": null,
   "metadata": {},
   "outputs": [],
   "source": [
    "joined_res = (\n",
    "    joined_extents.groupby(\"OE_FUAID\")\n",
    "    .agg(count=(\"eFUA_ID\", \"count\"), FUA_IDs=(\"eFUA_ID\", \"unique\"))\n",
    "    .reset_index()\n",
    "    .sort_values(\"count\", ascending=False)\n",
    ")\n",
    "joined_res.to_csv(os.path.join(out_folder, \"OE_GHSL_aggregated.csv\"), index=False)"
   ]
  }
 ],
 "metadata": {
  "language_info": {
   "name": "python"
  }
 },
 "nbformat": 4,
 "nbformat_minor": 2
}
